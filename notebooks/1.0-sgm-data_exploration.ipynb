{
 "cells": [
  {
   "cell_type": "code",
   "execution_count": 2,
   "metadata": {},
   "outputs": [],
   "source": [
    "import sys\n",
    "from pathlib import Path\n",
    "sys.path.append('..')\n",
    "\n",
    "import numpy as np\n",
    "import polars as pl\n",
    "import pandas as pd\n",
    "import matplotlib.pyplot as plt"
   ]
  },
  {
   "cell_type": "code",
   "execution_count": 20,
   "metadata": {},
   "outputs": [],
   "source": [
    "file_path  = Path('../data/20240812.gkg.csv')\n",
    "# pl.DataFrame()\n",
    "with open(file_path, 'rb') as f:\n",
    "    file_bytes = f.read()\n",
    "    pl_df = pl.read_csv(file_bytes, separator='\\t')"
   ]
  },
  {
   "cell_type": "code",
   "execution_count": 21,
   "metadata": {},
   "outputs": [
    {
     "data": {
      "text/html": [
       "<div><style>\n",
       ".dataframe > thead > tr,\n",
       ".dataframe > tbody > tr {\n",
       "  text-align: right;\n",
       "  white-space: pre-wrap;\n",
       "}\n",
       "</style>\n",
       "<small>shape: (9, 12)</small><table border=\"1\" class=\"dataframe\"><thead><tr><th>statistic</th><th>DATE</th><th>NUMARTS</th><th>COUNTS</th><th>THEMES</th><th>LOCATIONS</th><th>PERSONS</th><th>ORGANIZATIONS</th><th>TONE</th><th>CAMEOEVENTIDS</th><th>SOURCES</th><th>SOURCEURLS</th></tr><tr><td>str</td><td>f64</td><td>f64</td><td>str</td><td>str</td><td>str</td><td>str</td><td>str</td><td>str</td><td>str</td><td>str</td><td>str</td></tr></thead><tbody><tr><td>&quot;count&quot;</td><td>94152.0</td><td>94152.0</td><td>&quot;14423&quot;</td><td>&quot;81420&quot;</td><td>&quot;94152&quot;</td><td>&quot;78819&quot;</td><td>&quot;77554&quot;</td><td>&quot;94152&quot;</td><td>&quot;42496&quot;</td><td>&quot;94152&quot;</td><td>&quot;94152&quot;</td></tr><tr><td>&quot;null_count&quot;</td><td>0.0</td><td>0.0</td><td>&quot;79729&quot;</td><td>&quot;12732&quot;</td><td>&quot;0&quot;</td><td>&quot;15333&quot;</td><td>&quot;16598&quot;</td><td>&quot;0&quot;</td><td>&quot;51656&quot;</td><td>&quot;0&quot;</td><td>&quot;0&quot;</td></tr><tr><td>&quot;mean&quot;</td><td>2.0240812e7</td><td>1.11918</td><td>null</td><td>null</td><td>null</td><td>null</td><td>null</td><td>null</td><td>null</td><td>null</td><td>null</td></tr><tr><td>&quot;std&quot;</td><td>0.0</td><td>1.879114</td><td>null</td><td>null</td><td>null</td><td>null</td><td>null</td><td>null</td><td>null</td><td>null</td><td>null</td></tr><tr><td>&quot;min&quot;</td><td>2.0240812e7</td><td>1.0</td><td>&quot;AFFECT#052##1#Greece#GR#GR#39#…</td><td>&quot;ACT_FORCEPOSTURE;ARMEDCONFLICT…</td><td>&quot;0#Georgia, , Georgia#GG#GG#42#…</td><td>&quot;a carlos e gomez;ryan north&quot;</td><td>&quot;a b c securities commission&quot;</td><td>&quot;-0.0339328130302001,2.03596878…</td><td>&quot;1120554713,1120554713,11923114…</td><td>&quot;1009theeagle.com&quot;</td><td>&quot;http://africa.chinadaily.com.c…</td></tr><tr><td>&quot;25%&quot;</td><td>2.0240812e7</td><td>1.0</td><td>null</td><td>null</td><td>null</td><td>null</td><td>null</td><td>null</td><td>null</td><td>null</td><td>null</td></tr><tr><td>&quot;50%&quot;</td><td>2.0240812e7</td><td>1.0</td><td>null</td><td>null</td><td>null</td><td>null</td><td>null</td><td>null</td><td>null</td><td>null</td><td>null</td></tr><tr><td>&quot;75%&quot;</td><td>2.0240812e7</td><td>1.0</td><td>null</td><td>null</td><td>null</td><td>null</td><td>null</td><td>null</td><td>null</td><td>null</td><td>null</td></tr><tr><td>&quot;max&quot;</td><td>2.0240812e7</td><td>294.0</td><td>&quot;WOUND#97##3#Hunterbrook, New Y…</td><td>&quot;WOUND;UNGP_FORESTS_RIVERS_OCEA…</td><td>&quot;5#Zhejiang, Zhejiang, China#CH…</td><td>&quot;zyon braun;bijan djir-sarai&quot;</td><td>&quot;zurich premier wealth center;i…</td><td>&quot;9.98531571218796,10.5726872246…</td><td>&quot;1192318921&quot;</td><td>&quot;zrock103.com&quot;</td><td>&quot;https://zoutpansberger.co.za/a…</td></tr></tbody></table></div>"
      ],
      "text/plain": [
       "shape: (9, 12)\n",
       "┌───────────┬───────────┬──────────┬───────────┬───┬───────────┬───────────┬───────────┬───────────┐\n",
       "│ statistic ┆ DATE      ┆ NUMARTS  ┆ COUNTS    ┆ … ┆ TONE      ┆ CAMEOEVEN ┆ SOURCES   ┆ SOURCEURL │\n",
       "│ ---       ┆ ---       ┆ ---      ┆ ---       ┆   ┆ ---       ┆ TIDS      ┆ ---       ┆ S         │\n",
       "│ str       ┆ f64       ┆ f64      ┆ str       ┆   ┆ str       ┆ ---       ┆ str       ┆ ---       │\n",
       "│           ┆           ┆          ┆           ┆   ┆           ┆ str       ┆           ┆ str       │\n",
       "╞═══════════╪═══════════╪══════════╪═══════════╪═══╪═══════════╪═══════════╪═══════════╪═══════════╡\n",
       "│ count     ┆ 94152.0   ┆ 94152.0  ┆ 14423     ┆ … ┆ 94152     ┆ 42496     ┆ 94152     ┆ 94152     │\n",
       "│ null_coun ┆ 0.0       ┆ 0.0      ┆ 79729     ┆ … ┆ 0         ┆ 51656     ┆ 0         ┆ 0         │\n",
       "│ t         ┆           ┆          ┆           ┆   ┆           ┆           ┆           ┆           │\n",
       "│ mean      ┆ 2.0240812 ┆ 1.11918  ┆ null      ┆ … ┆ null      ┆ null      ┆ null      ┆ null      │\n",
       "│           ┆ e7        ┆          ┆           ┆   ┆           ┆           ┆           ┆           │\n",
       "│ std       ┆ 0.0       ┆ 1.879114 ┆ null      ┆ … ┆ null      ┆ null      ┆ null      ┆ null      │\n",
       "│ min       ┆ 2.0240812 ┆ 1.0      ┆ AFFECT#05 ┆ … ┆ -0.033932 ┆ 112055471 ┆ 1009theea ┆ http://af │\n",
       "│           ┆ e7        ┆          ┆ 2##1#Gree ┆   ┆ 813030200 ┆ 3,1120554 ┆ gle.com   ┆ rica.chin │\n",
       "│           ┆           ┆          ┆ ce#GR#GR# ┆   ┆ 1,2.03596 ┆ 713,11923 ┆           ┆ adaily.co │\n",
       "│           ┆           ┆          ┆ 39#…      ┆   ┆ 878…      ┆ 114…      ┆           ┆ m.c…      │\n",
       "│ 25%       ┆ 2.0240812 ┆ 1.0      ┆ null      ┆ … ┆ null      ┆ null      ┆ null      ┆ null      │\n",
       "│           ┆ e7        ┆          ┆           ┆   ┆           ┆           ┆           ┆           │\n",
       "│ 50%       ┆ 2.0240812 ┆ 1.0      ┆ null      ┆ … ┆ null      ┆ null      ┆ null      ┆ null      │\n",
       "│           ┆ e7        ┆          ┆           ┆   ┆           ┆           ┆           ┆           │\n",
       "│ 75%       ┆ 2.0240812 ┆ 1.0      ┆ null      ┆ … ┆ null      ┆ null      ┆ null      ┆ null      │\n",
       "│           ┆ e7        ┆          ┆           ┆   ┆           ┆           ┆           ┆           │\n",
       "│ max       ┆ 2.0240812 ┆ 294.0    ┆ WOUND#97# ┆ … ┆ 9.9853157 ┆ 119231892 ┆ zrock103. ┆ https://z │\n",
       "│           ┆ e7        ┆          ┆ #3#Hunter ┆   ┆ 1218796,1 ┆ 1         ┆ com       ┆ outpansbe │\n",
       "│           ┆           ┆          ┆ brook,    ┆   ┆ 0.5726872 ┆           ┆           ┆ rger.co.z │\n",
       "│           ┆           ┆          ┆ New Y…    ┆   ┆ 246…      ┆           ┆           ┆ a/a…      │\n",
       "└───────────┴───────────┴──────────┴───────────┴───┴───────────┴───────────┴───────────┴───────────┘"
      ]
     },
     "execution_count": 21,
     "metadata": {},
     "output_type": "execute_result"
    }
   ],
   "source": [
    "pl_df.describe()"
   ]
  },
  {
   "cell_type": "code",
   "execution_count": 37,
   "metadata": {},
   "outputs": [
    {
     "data": {
      "text/html": [
       "<div><style>\n",
       ".dataframe > thead > tr,\n",
       ".dataframe > tbody > tr {\n",
       "  text-align: right;\n",
       "  white-space: pre-wrap;\n",
       "}\n",
       "</style>\n",
       "<small>shape: (20_041, 5)</small><table border=\"1\" class=\"dataframe\"><thead><tr><th>DATE</th><th>THEMES</th><th>LOCATIONS</th><th>PERSONS</th><th>ORGANIZATIONS</th></tr><tr><td>i64</td><td>str</td><td>str</td><td>str</td><td>str</td></tr></thead><tbody><tr><td>20240812</td><td>&quot;TAX_DISEASE;TAX_DISEASE_PREGNA…</td><td>&quot;2#California, United States#US…</td><td>&quot;john seago;dara kass;kate arno…</td><td>&quot;centers for medicare;u s healt…</td></tr><tr><td>20240812</td><td>&quot;MANMADE_DISASTER_IMPLIED;TAX_F…</td><td>&quot;1#United Kingdom#UK#UK#54#-4#U…</td><td>&quot;jayson tatum;los angeles;snoop…</td><td>&quot;boston celtics;olympics;team g…</td></tr><tr><td>20240812</td><td>&quot;CRISISLEX_C07_SAFETY;MANMADE_D…</td><td>&quot;3#Cheyenne, Wyoming, United St…</td><td>&quot;lena bigelow;leo trenholm;los …</td><td>&quot;sioux falls security national …</td></tr><tr><td>20240812</td><td>&quot;SOC_POINTSOFINTEREST;SOC_POINT…</td><td>&quot;1#Canada#CA#CA#60#-96#CA;4#Ott…</td><td>&quot;duncan dee;john gradek;monette…</td><td>&quot;westjet;gander international a…</td></tr><tr><td>20240812</td><td>&quot;TAX_FNCACT;TAX_FNCACT_FATHER;K…</td><td>&quot;3#Willard Bay State Park, Utah…</td><td>null</td><td>&quot;utah division of state parks&quot;</td></tr><tr><td>&hellip;</td><td>&hellip;</td><td>&hellip;</td><td>&hellip;</td><td>&hellip;</td></tr><tr><td>20240812</td><td>&quot;CRISISLEX_C03_WELLBEING_HEALTH…</td><td>&quot;3#Coral Gables, Florida, Unite…</td><td>&quot;susan nielson;caitlin donovan;…</td><td>&quot;melbourne regional medical cen…</td></tr><tr><td>20240812</td><td>&quot;GENERAL_HEALTH;MEDICAL;CRISISL…</td><td>&quot;1#United Kingdom#UK#UK#54#-4#U…</td><td>&quot;mike dunne;jim liptrot&quot;</td><td>&quot;united states;howorth air tech…</td></tr><tr><td>20240812</td><td>&quot;KILL;CRISISLEX_T03_DEAD;CRISIS…</td><td>&quot;4#Prince Albert, Saskatchewan,…</td><td>null</td><td>null</td></tr><tr><td>20240812</td><td>&quot;TAX_ETHNICITY;TAX_ETHNICITY_AU…</td><td>&quot;4#Canberra, Australian Capital…</td><td>&quot;keegan carroll;dana daniel;bil…</td><td>&quot;optus;national press club on;p…</td></tr><tr><td>20240812</td><td>&quot;GENERAL_GOVERNMENT;EPU_POLICY;…</td><td>&quot;4#New Delhi, Delhi, India#IN#I…</td><td>&quot;sagar mitras;abhilaskh likhi;g…</td><td>&quot;space technology in fisheries;…</td></tr></tbody></table></div>"
      ],
      "text/plain": [
       "shape: (20_041, 5)\n",
       "┌──────────┬─────────────────────┬─────────────────────┬─────────────────────┬─────────────────────┐\n",
       "│ DATE     ┆ THEMES              ┆ LOCATIONS           ┆ PERSONS             ┆ ORGANIZATIONS       │\n",
       "│ ---      ┆ ---                 ┆ ---                 ┆ ---                 ┆ ---                 │\n",
       "│ i64      ┆ str                 ┆ str                 ┆ str                 ┆ str                 │\n",
       "╞══════════╪═════════════════════╪═════════════════════╪═════════════════════╪═════════════════════╡\n",
       "│ 20240812 ┆ TAX_DISEASE;TAX_DIS ┆ 2#California,       ┆ john seago;dara     ┆ centers for         │\n",
       "│          ┆ EASE_PREGNA…        ┆ United States#US…   ┆ kass;kate arno…     ┆ medicare;u s healt… │\n",
       "│ 20240812 ┆ MANMADE_DISASTER_IM ┆ 1#United Kingdom#UK ┆ jayson tatum;los    ┆ boston celtics;olym │\n",
       "│          ┆ PLIED;TAX_F…        ┆ #UK#54#-4#U…        ┆ angeles;snoop…      ┆ pics;team g…        │\n",
       "│ 20240812 ┆ CRISISLEX_C07_SAFET ┆ 3#Cheyenne,         ┆ lena bigelow;leo    ┆ sioux falls         │\n",
       "│          ┆ Y;MANMADE_D…        ┆ Wyoming, United St… ┆ trenholm;los …      ┆ security national … │\n",
       "│ 20240812 ┆ SOC_POINTSOFINTERES ┆ 1#Canada#CA#CA#60#- ┆ duncan dee;john     ┆ westjet;gander      │\n",
       "│          ┆ T;SOC_POINT…        ┆ 96#CA;4#Ott…        ┆ gradek;monette…     ┆ international a…    │\n",
       "│ 20240812 ┆ TAX_FNCACT;TAX_FNCA ┆ 3#Willard Bay State ┆ null                ┆ utah division of    │\n",
       "│          ┆ CT_FATHER;K…        ┆ Park, Utah…         ┆                     ┆ state parks         │\n",
       "│ …        ┆ …                   ┆ …                   ┆ …                   ┆ …                   │\n",
       "│ 20240812 ┆ CRISISLEX_C03_WELLB ┆ 3#Coral Gables,     ┆ susan               ┆ melbourne regional  │\n",
       "│          ┆ EING_HEALTH…        ┆ Florida, Unite…     ┆ nielson;caitlin     ┆ medical cen…        │\n",
       "│          ┆                     ┆                     ┆ donovan;…           ┆                     │\n",
       "│ 20240812 ┆ GENERAL_HEALTH;MEDI ┆ 1#United Kingdom#UK ┆ mike dunne;jim      ┆ united              │\n",
       "│          ┆ CAL;CRISISL…        ┆ #UK#54#-4#U…        ┆ liptrot             ┆ states;howorth air  │\n",
       "│          ┆                     ┆                     ┆                     ┆ tech…               │\n",
       "│ 20240812 ┆ KILL;CRISISLEX_T03_ ┆ 4#Prince Albert,    ┆ null                ┆ null                │\n",
       "│          ┆ DEAD;CRISIS…        ┆ Saskatchewan,…      ┆                     ┆                     │\n",
       "│ 20240812 ┆ TAX_ETHNICITY;TAX_E ┆ 4#Canberra,         ┆ keegan carroll;dana ┆ optus;national      │\n",
       "│          ┆ THNICITY_AU…        ┆ Australian Capital… ┆ daniel;bil…         ┆ press club on;p…    │\n",
       "│ 20240812 ┆ GENERAL_GOVERNMENT; ┆ 4#New Delhi, Delhi, ┆ sagar               ┆ space technology in │\n",
       "│          ┆ EPU_POLICY;…        ┆ India#IN#I…         ┆ mitras;abhilaskh    ┆ fisheries;…         │\n",
       "│          ┆                     ┆                     ┆ likhi;g…            ┆                     │\n",
       "└──────────┴─────────────────────┴─────────────────────┴─────────────────────┴─────────────────────┘"
      ]
     },
     "execution_count": 37,
     "metadata": {},
     "output_type": "execute_result"
    }
   ],
   "source": [
    "pl_df.filter(\n",
    "    pl.col('THEMES').str.contains(\"GENERAL_HEALTH\")\n",
    ").select(\n",
    "    pl.col(\"DATE\"),\n",
    "    pl.col(\"THEMES\"),\n",
    "    pl.col(\"LOCATIONS\"),\n",
    "    pl.col(\"PERSONS\"),\n",
    "    pl.col(\"ORGANIZATIONS\"),\n",
    ")"
   ]
  },
  {
   "cell_type": "code",
   "execution_count": null,
   "metadata": {},
   "outputs": [],
   "source": []
  }
 ],
 "metadata": {
  "kernelspec": {
   "display_name": "factored",
   "language": "python",
   "name": "python3"
  },
  "language_info": {
   "codemirror_mode": {
    "name": "ipython",
    "version": 3
   },
   "file_extension": ".py",
   "mimetype": "text/x-python",
   "name": "python",
   "nbconvert_exporter": "python",
   "pygments_lexer": "ipython3",
   "version": "3.10.14"
  }
 },
 "nbformat": 4,
 "nbformat_minor": 2
}
