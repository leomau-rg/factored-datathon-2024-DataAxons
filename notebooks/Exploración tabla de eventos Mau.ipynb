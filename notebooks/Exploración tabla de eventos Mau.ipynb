{
 "cells": [
  {
   "cell_type": "markdown",
   "id": "fb8bfff4-0904-4241-bbbd-122a95c0b636",
   "metadata": {},
   "source": [
    "# Exploración de la tabla de eventos\n",
    "\n",
    "En este notebook encontrarás un proceso de lectura apicable a los archivos CSV de la tabla de eventos de la base de datos GDELT 1.0, así como una pequeña exploración del archivo, que consiste en:\n",
    "\n",
    "1. Una visualización de la tabla\n",
    "2. Un resumen de los 10 valores más frecuentes de cada columna, por conteo de GLOBALEVENTID's\n",
    "3. Una lista con los 100 sitios con más noticias dentro de este archivo\n",
    "4. Una gráfica acumulativa del porcentaje de noticias cubiertas por los X portales con mayor cantidad de artículos, sobre el total de registros en el archivo."
   ]
  },
  {
   "cell_type": "code",
   "execution_count": 1,
   "id": "65c75783-88df-438e-8139-0752046bc6be",
   "metadata": {},
   "outputs": [],
   "source": [
    "import polars as pl\n",
    "import matplotlib.pyplot as plt"
   ]
  },
  {
   "cell_type": "markdown",
   "id": "a997a8a4-7cdc-4658-883a-7595b400dd4b",
   "metadata": {},
   "source": [
    "### Lectura de un archivo CSV añadiendo los nombres de las columnas"
   ]
  },
  {
   "cell_type": "code",
   "execution_count": 2,
   "id": "c3e956a7-9e8e-4ecd-906e-ac00ec913bbb",
   "metadata": {},
   "outputs": [
    {
     "data": {
      "text/html": [
       "<div><style>\n",
       ".dataframe > thead > tr,\n",
       ".dataframe > tbody > tr {\n",
       "  text-align: right;\n",
       "  white-space: pre-wrap;\n",
       "}\n",
       "</style>\n",
       "<small>shape: (116_950, 58)</small><table border=\"1\" class=\"dataframe\"><thead><tr><th>GLOBALEVENTID</th><th>SQLDATE</th><th>MonthYear</th><th>Year</th><th>FractionDate</th><th>Actor1Code</th><th>Actor1Name</th><th>Actor1CountryCode</th><th>Actor1KnownGroupCode</th><th>Actor1EthnicCode</th><th>Actor1Religion1Code</th><th>Actor1Religion2Code</th><th>Actor1Type1Code</th><th>Actor1Type2Code</th><th>Actor1Type3Code</th><th>Actor2Code</th><th>Actor2Name</th><th>Actor2CountryCode</th><th>Actor2KnownGroupCode</th><th>Actor2EthnicCode</th><th>Actor2Religion1Code</th><th>Actor2Religion2Code</th><th>Actor2Type1Code</th><th>Actor2Type2Code</th><th>Actor2Type3Code</th><th>IsRootEvent</th><th>EventCode</th><th>EventBaseCode</th><th>EventRootCode</th><th>QuadClass</th><th>GoldsteinScale</th><th>NumMentions</th><th>NumSources</th><th>NumArticles</th><th>AvgTone</th><th>Actor1Geo_Type</th><th>Actor1Geo_FullName</th><th>Actor1Geo_CountryCode</th><th>Actor1Geo_ADM1Code</th><th>Actor1Geo_Lat</th><th>Actor1Geo_Long</th><th>Actor1Geo_FeatureID</th><th>Actor2Geo_Type</th><th>Actor2Geo_FullName</th><th>Actor2Geo_CountryCode</th><th>Actor2Geo_ADM1Code</th><th>Actor2Geo_Lat</th><th>Actor2Geo_Long</th><th>Actor2Geo_FeatureID</th><th>ActionGeo_Type</th><th>ActionGeo_FullName</th><th>ActionGeo_CountryCode</th><th>ActionGeo_ADM1Code</th><th>ActionGeo_Lat</th><th>ActionGeo_Long</th><th>ActionGeo_FeatureID</th><th>DATEADDED</th><th>SOURCEURL</th></tr><tr><td>str</td><td>str</td><td>str</td><td>str</td><td>str</td><td>str</td><td>str</td><td>str</td><td>str</td><td>str</td><td>str</td><td>str</td><td>str</td><td>str</td><td>str</td><td>str</td><td>str</td><td>str</td><td>str</td><td>str</td><td>str</td><td>str</td><td>str</td><td>str</td><td>str</td><td>str</td><td>str</td><td>str</td><td>str</td><td>str</td><td>str</td><td>str</td><td>str</td><td>str</td><td>str</td><td>str</td><td>str</td><td>str</td><td>str</td><td>str</td><td>str</td><td>str</td><td>str</td><td>str</td><td>str</td><td>str</td><td>str</td><td>str</td><td>str</td><td>str</td><td>str</td><td>str</td><td>str</td><td>str</td><td>str</td><td>str</td><td>str</td><td>str</td></tr></thead><tbody><tr><td>&quot;1192141740&quot;</td><td>&quot;20230813&quot;</td><td>&quot;202308&quot;</td><td>&quot;2023&quot;</td><td>&quot;2023.6110&quot;</td><td>&quot;GBR&quot;</td><td>&quot;SCOTLAND&quot;</td><td>&quot;GBR&quot;</td><td>null</td><td>null</td><td>null</td><td>null</td><td>null</td><td>null</td><td>null</td><td>&quot;INDEDU&quot;</td><td>&quot;MADRAS&quot;</td><td>&quot;IND&quot;</td><td>null</td><td>null</td><td>null</td><td>null</td><td>&quot;EDU&quot;</td><td>null</td><td>null</td><td>&quot;0&quot;</td><td>&quot;051&quot;</td><td>&quot;051&quot;</td><td>&quot;05&quot;</td><td>&quot;1&quot;</td><td>&quot;3.4&quot;</td><td>&quot;4&quot;</td><td>&quot;2&quot;</td><td>&quot;4&quot;</td><td>&quot;-0.60030150210…</td><td>&quot;4&quot;</td><td>&quot;Northern Irela…</td><td>&quot;UK&quot;</td><td>&quot;UKR8&quot;</td><td>&quot;54.5&quot;</td><td>&quot;-6.5&quot;</td><td>&quot;-2604275&quot;</td><td>&quot;4&quot;</td><td>&quot;Northern Irela…</td><td>&quot;UK&quot;</td><td>&quot;UKR8&quot;</td><td>&quot;54.5&quot;</td><td>&quot;-6.5&quot;</td><td>&quot;-2604275&quot;</td><td>&quot;4&quot;</td><td>&quot;Northern Irela…</td><td>&quot;UK&quot;</td><td>&quot;UKR8&quot;</td><td>&quot;54.5&quot;</td><td>&quot;-6.5&quot;</td><td>&quot;-2604275&quot;</td><td>&quot;20240812&quot;</td><td>&quot;https://jersey…</td></tr><tr><td>&quot;1192141741&quot;</td><td>&quot;20230813&quot;</td><td>&quot;202308&quot;</td><td>&quot;2023&quot;</td><td>&quot;2023.6110&quot;</td><td>&quot;GBREDU&quot;</td><td>&quot;SCOTLAND&quot;</td><td>&quot;GBR&quot;</td><td>null</td><td>null</td><td>null</td><td>null</td><td>&quot;EDU&quot;</td><td>null</td><td>null</td><td>&quot;GBR&quot;</td><td>&quot;SCOTLAND&quot;</td><td>&quot;GBR&quot;</td><td>null</td><td>null</td><td>null</td><td>null</td><td>null</td><td>null</td><td>null</td><td>&quot;0&quot;</td><td>&quot;051&quot;</td><td>&quot;051&quot;</td><td>&quot;05&quot;</td><td>&quot;1&quot;</td><td>&quot;3.4&quot;</td><td>&quot;12&quot;</td><td>&quot;2&quot;</td><td>&quot;12&quot;</td><td>&quot;-0.60030150210…</td><td>&quot;4&quot;</td><td>&quot;Northern Irela…</td><td>&quot;UK&quot;</td><td>&quot;UKR8&quot;</td><td>&quot;54.5&quot;</td><td>&quot;-6.5&quot;</td><td>&quot;-2604275&quot;</td><td>&quot;4&quot;</td><td>&quot;Northern Irela…</td><td>&quot;UK&quot;</td><td>&quot;UKR8&quot;</td><td>&quot;54.5&quot;</td><td>&quot;-6.5&quot;</td><td>&quot;-2604275&quot;</td><td>&quot;4&quot;</td><td>&quot;Northern Irela…</td><td>&quot;UK&quot;</td><td>&quot;UKR8&quot;</td><td>&quot;54.5&quot;</td><td>&quot;-6.5&quot;</td><td>&quot;-2604275&quot;</td><td>&quot;20240812&quot;</td><td>&quot;https://jersey…</td></tr><tr><td>&quot;1192141742&quot;</td><td>&quot;20230813&quot;</td><td>&quot;202308&quot;</td><td>&quot;2023&quot;</td><td>&quot;2023.6110&quot;</td><td>&quot;GOV&quot;</td><td>&quot;MINISTRY&quot;</td><td>null</td><td>null</td><td>null</td><td>null</td><td>null</td><td>&quot;GOV&quot;</td><td>null</td><td>null</td><td>null</td><td>null</td><td>null</td><td>null</td><td>null</td><td>null</td><td>null</td><td>null</td><td>null</td><td>null</td><td>&quot;1&quot;</td><td>&quot;012&quot;</td><td>&quot;012&quot;</td><td>&quot;01&quot;</td><td>&quot;1&quot;</td><td>&quot;-0.4&quot;</td><td>&quot;20&quot;</td><td>&quot;1&quot;</td><td>&quot;20&quot;</td><td>&quot;-3.63819321839…</td><td>&quot;4&quot;</td><td>&quot;Phuket, Phuket…</td><td>&quot;TH&quot;</td><td>&quot;TH62&quot;</td><td>&quot;7.83333&quot;</td><td>&quot;98.3833&quot;</td><td>&quot;-3253342&quot;</td><td>&quot;0&quot;</td><td>null</td><td>null</td><td>null</td><td>null</td><td>null</td><td>null</td><td>&quot;4&quot;</td><td>&quot;Phuket, Phuket…</td><td>&quot;TH&quot;</td><td>&quot;TH62&quot;</td><td>&quot;7.83333&quot;</td><td>&quot;98.3833&quot;</td><td>&quot;-3253342&quot;</td><td>&quot;20240812&quot;</td><td>&quot;https://www.ba…</td></tr><tr><td>&quot;1192141743&quot;</td><td>&quot;20230813&quot;</td><td>&quot;202308&quot;</td><td>&quot;2023&quot;</td><td>&quot;2023.6110&quot;</td><td>&quot;NZLEDU&quot;</td><td>&quot;NEW ZEALAND&quot;</td><td>&quot;NZL&quot;</td><td>null</td><td>null</td><td>null</td><td>null</td><td>&quot;EDU&quot;</td><td>null</td><td>null</td><td>null</td><td>null</td><td>null</td><td>null</td><td>null</td><td>null</td><td>null</td><td>null</td><td>null</td><td>null</td><td>&quot;0&quot;</td><td>&quot;020&quot;</td><td>&quot;020&quot;</td><td>&quot;02&quot;</td><td>&quot;1&quot;</td><td>&quot;3.0&quot;</td><td>&quot;10&quot;</td><td>&quot;1&quot;</td><td>&quot;10&quot;</td><td>&quot;2.937062937062…</td><td>&quot;1&quot;</td><td>&quot;New Zealand&quot;</td><td>&quot;NZ&quot;</td><td>&quot;NZ&quot;</td><td>&quot;-42&quot;</td><td>&quot;174&quot;</td><td>&quot;NZ&quot;</td><td>&quot;0&quot;</td><td>null</td><td>null</td><td>null</td><td>null</td><td>null</td><td>null</td><td>&quot;1&quot;</td><td>&quot;New Zealand&quot;</td><td>&quot;NZ&quot;</td><td>&quot;NZ&quot;</td><td>&quot;-42&quot;</td><td>&quot;174&quot;</td><td>&quot;NZ&quot;</td><td>&quot;20240812&quot;</td><td>&quot;https://menafn…</td></tr><tr><td>&quot;1192141744&quot;</td><td>&quot;20240713&quot;</td><td>&quot;202407&quot;</td><td>&quot;2024&quot;</td><td>&quot;2024.5288&quot;</td><td>null</td><td>null</td><td>null</td><td>null</td><td>null</td><td>null</td><td>null</td><td>null</td><td>null</td><td>null</td><td>&quot;USA&quot;</td><td>&quot;CALIFORNIA&quot;</td><td>&quot;USA&quot;</td><td>null</td><td>null</td><td>null</td><td>null</td><td>null</td><td>null</td><td>null</td><td>&quot;1&quot;</td><td>&quot;0311&quot;</td><td>&quot;031&quot;</td><td>&quot;03&quot;</td><td>&quot;1&quot;</td><td>&quot;5.2&quot;</td><td>&quot;5&quot;</td><td>&quot;1&quot;</td><td>&quot;5&quot;</td><td>&quot;-2.65734265734…</td><td>&quot;0&quot;</td><td>null</td><td>null</td><td>null</td><td>null</td><td>null</td><td>null</td><td>&quot;2&quot;</td><td>&quot;California, Un…</td><td>&quot;US&quot;</td><td>&quot;USCA&quot;</td><td>&quot;36.17&quot;</td><td>&quot;-119.746&quot;</td><td>&quot;CA&quot;</td><td>&quot;2&quot;</td><td>&quot;California, Un…</td><td>&quot;US&quot;</td><td>&quot;USCA&quot;</td><td>&quot;36.17&quot;</td><td>&quot;-119.746&quot;</td><td>&quot;CA&quot;</td><td>&quot;20240812&quot;</td><td>&quot;https://www.ma…</td></tr><tr><td>&hellip;</td><td>&hellip;</td><td>&hellip;</td><td>&hellip;</td><td>&hellip;</td><td>&hellip;</td><td>&hellip;</td><td>&hellip;</td><td>&hellip;</td><td>&hellip;</td><td>&hellip;</td><td>&hellip;</td><td>&hellip;</td><td>&hellip;</td><td>&hellip;</td><td>&hellip;</td><td>&hellip;</td><td>&hellip;</td><td>&hellip;</td><td>&hellip;</td><td>&hellip;</td><td>&hellip;</td><td>&hellip;</td><td>&hellip;</td><td>&hellip;</td><td>&hellip;</td><td>&hellip;</td><td>&hellip;</td><td>&hellip;</td><td>&hellip;</td><td>&hellip;</td><td>&hellip;</td><td>&hellip;</td><td>&hellip;</td><td>&hellip;</td><td>&hellip;</td><td>&hellip;</td><td>&hellip;</td><td>&hellip;</td><td>&hellip;</td><td>&hellip;</td><td>&hellip;</td><td>&hellip;</td><td>&hellip;</td><td>&hellip;</td><td>&hellip;</td><td>&hellip;</td><td>&hellip;</td><td>&hellip;</td><td>&hellip;</td><td>&hellip;</td><td>&hellip;</td><td>&hellip;</td><td>&hellip;</td><td>&hellip;</td><td>&hellip;</td><td>&hellip;</td><td>&hellip;</td></tr><tr><td>&quot;1192318919&quot;</td><td>&quot;20240812&quot;</td><td>&quot;202408&quot;</td><td>&quot;2024&quot;</td><td>&quot;2024.6082&quot;</td><td>&quot;aar&quot;</td><td>&quot;AFAR&quot;</td><td>null</td><td>null</td><td>&quot;aar&quot;</td><td>null</td><td>null</td><td>null</td><td>null</td><td>null</td><td>&quot;MIL&quot;</td><td>&quot;STRATEGIC SERV…</td><td>null</td><td>null</td><td>null</td><td>null</td><td>null</td><td>&quot;MIL&quot;</td><td>null</td><td>null</td><td>&quot;0&quot;</td><td>&quot;020&quot;</td><td>&quot;020&quot;</td><td>&quot;02&quot;</td><td>&quot;1&quot;</td><td>&quot;3.0&quot;</td><td>&quot;6&quot;</td><td>&quot;1&quot;</td><td>&quot;6&quot;</td><td>&quot;-2.75735294117…</td><td>&quot;1&quot;</td><td>&quot;United States&quot;</td><td>&quot;US&quot;</td><td>&quot;US&quot;</td><td>&quot;39.828175&quot;</td><td>&quot;-98.5795&quot;</td><td>&quot;US&quot;</td><td>&quot;1&quot;</td><td>&quot;United States&quot;</td><td>&quot;US&quot;</td><td>&quot;US&quot;</td><td>&quot;39.828175&quot;</td><td>&quot;-98.5795&quot;</td><td>&quot;US&quot;</td><td>&quot;1&quot;</td><td>&quot;United States&quot;</td><td>&quot;US&quot;</td><td>&quot;US&quot;</td><td>&quot;39.828175&quot;</td><td>&quot;-98.5795&quot;</td><td>&quot;US&quot;</td><td>&quot;20240812&quot;</td><td>&quot;https://itemli…</td></tr><tr><td>&quot;1192318920&quot;</td><td>&quot;20240812&quot;</td><td>&quot;202408&quot;</td><td>&quot;2024&quot;</td><td>&quot;2024.6082&quot;</td><td>&quot;bre&quot;</td><td>&quot;BRETON&quot;</td><td>null</td><td>null</td><td>&quot;bre&quot;</td><td>null</td><td>null</td><td>null</td><td>null</td><td>null</td><td>null</td><td>null</td><td>null</td><td>null</td><td>null</td><td>null</td><td>null</td><td>null</td><td>null</td><td>null</td><td>&quot;1&quot;</td><td>&quot;020&quot;</td><td>&quot;020&quot;</td><td>&quot;02&quot;</td><td>&quot;1&quot;</td><td>&quot;3.0&quot;</td><td>&quot;6&quot;</td><td>&quot;1&quot;</td><td>&quot;6&quot;</td><td>&quot;-3.38983050847…</td><td>&quot;3&quot;</td><td>&quot;White House, D…</td><td>&quot;US&quot;</td><td>&quot;USDC&quot;</td><td>&quot;38.8951&quot;</td><td>&quot;-77.0364&quot;</td><td>&quot;531871&quot;</td><td>&quot;0&quot;</td><td>null</td><td>null</td><td>null</td><td>null</td><td>null</td><td>null</td><td>&quot;3&quot;</td><td>&quot;White House, D…</td><td>&quot;US&quot;</td><td>&quot;USDC&quot;</td><td>&quot;38.8951&quot;</td><td>&quot;-77.0364&quot;</td><td>&quot;531871&quot;</td><td>&quot;20240812&quot;</td><td>&quot;https://nypost…</td></tr><tr><td>&quot;1192318921&quot;</td><td>&quot;20240812&quot;</td><td>&quot;202408&quot;</td><td>&quot;2024&quot;</td><td>&quot;2024.6082&quot;</td><td>&quot;bre&quot;</td><td>&quot;BRETON&quot;</td><td>null</td><td>null</td><td>&quot;bre&quot;</td><td>null</td><td>null</td><td>null</td><td>null</td><td>null</td><td>&quot;COP&quot;</td><td>&quot;POLICE&quot;</td><td>null</td><td>null</td><td>null</td><td>null</td><td>null</td><td>&quot;COP&quot;</td><td>null</td><td>null</td><td>&quot;1&quot;</td><td>&quot;010&quot;</td><td>&quot;010&quot;</td><td>&quot;01&quot;</td><td>&quot;1&quot;</td><td>&quot;0.0&quot;</td><td>&quot;5&quot;</td><td>&quot;1&quot;</td><td>&quot;5&quot;</td><td>&quot;-7.69230769230…</td><td>&quot;0&quot;</td><td>null</td><td>null</td><td>null</td><td>null</td><td>null</td><td>null</td><td>&quot;0&quot;</td><td>null</td><td>null</td><td>null</td><td>null</td><td>null</td><td>null</td><td>&quot;0&quot;</td><td>null</td><td>null</td><td>null</td><td>null</td><td>null</td><td>null</td><td>&quot;20240812&quot;</td><td>&quot;https://www.co…</td></tr><tr><td>&quot;1192318922&quot;</td><td>&quot;20240812&quot;</td><td>&quot;202408&quot;</td><td>&quot;2024&quot;</td><td>&quot;2024.6082&quot;</td><td>&quot;bre&quot;</td><td>&quot;BRETON&quot;</td><td>null</td><td>null</td><td>&quot;bre&quot;</td><td>null</td><td>null</td><td>null</td><td>null</td><td>null</td><td>&quot;IGOEUREEC&quot;</td><td>&quot;THE EU&quot;</td><td>&quot;EUR&quot;</td><td>&quot;EEC&quot;</td><td>null</td><td>null</td><td>null</td><td>&quot;IGO&quot;</td><td>null</td><td>null</td><td>&quot;1&quot;</td><td>&quot;112&quot;</td><td>&quot;112&quot;</td><td>&quot;11&quot;</td><td>&quot;3&quot;</td><td>&quot;-2.0&quot;</td><td>&quot;6&quot;</td><td>&quot;1&quot;</td><td>&quot;6&quot;</td><td>&quot;-5.37459283387…</td><td>&quot;3&quot;</td><td>&quot;White House, D…</td><td>&quot;US&quot;</td><td>&quot;USDC&quot;</td><td>&quot;38.8951&quot;</td><td>&quot;-77.0364&quot;</td><td>&quot;531871&quot;</td><td>&quot;2&quot;</td><td>&quot;Florida, Unite…</td><td>&quot;US&quot;</td><td>&quot;USFL&quot;</td><td>&quot;27.8333&quot;</td><td>&quot;-81.717&quot;</td><td>&quot;FL&quot;</td><td>&quot;3&quot;</td><td>&quot;White House, D…</td><td>&quot;US&quot;</td><td>&quot;USDC&quot;</td><td>&quot;38.8951&quot;</td><td>&quot;-77.0364&quot;</td><td>&quot;531871&quot;</td><td>&quot;20240812&quot;</td><td>&quot;https://www.fo…</td></tr><tr><td>&quot;1192318923&quot;</td><td>&quot;20240812&quot;</td><td>&quot;202408&quot;</td><td>&quot;2024&quot;</td><td>&quot;2024.6082&quot;</td><td>&quot;bre&quot;</td><td>&quot;BRETON&quot;</td><td>null</td><td>null</td><td>&quot;bre&quot;</td><td>null</td><td>null</td><td>null</td><td>null</td><td>null</td><td>&quot;USA&quot;</td><td>&quot;UNITED STATES&quot;</td><td>&quot;USA&quot;</td><td>null</td><td>null</td><td>null</td><td>null</td><td>null</td><td>null</td><td>null</td><td>&quot;1&quot;</td><td>&quot;020&quot;</td><td>&quot;020&quot;</td><td>&quot;02&quot;</td><td>&quot;1&quot;</td><td>&quot;3.0&quot;</td><td>&quot;4&quot;</td><td>&quot;1&quot;</td><td>&quot;4&quot;</td><td>&quot;-3.38983050847…</td><td>&quot;3&quot;</td><td>&quot;White House, D…</td><td>&quot;US&quot;</td><td>&quot;USDC&quot;</td><td>&quot;38.8951&quot;</td><td>&quot;-77.0364&quot;</td><td>&quot;531871&quot;</td><td>&quot;3&quot;</td><td>&quot;White House, D…</td><td>&quot;US&quot;</td><td>&quot;USDC&quot;</td><td>&quot;38.8951&quot;</td><td>&quot;-77.0364&quot;</td><td>&quot;531871&quot;</td><td>&quot;3&quot;</td><td>&quot;White House, D…</td><td>&quot;US&quot;</td><td>&quot;USDC&quot;</td><td>&quot;38.8951&quot;</td><td>&quot;-77.0364&quot;</td><td>&quot;531871&quot;</td><td>&quot;20240812&quot;</td><td>&quot;https://nypost…</td></tr></tbody></table></div>"
      ],
      "text/plain": [
       "shape: (116_950, 58)\n",
       "┌───────────────┬──────────┬───────────┬──────┬───┬────────────────┬───────────────────┬───────────┬───────────────────┐\n",
       "│ GLOBALEVENTID ┆ SQLDATE  ┆ MonthYear ┆ Year ┆ … ┆ ActionGeo_Long ┆ ActionGeo_Feature ┆ DATEADDED ┆ SOURCEURL         │\n",
       "│ ---           ┆ ---      ┆ ---       ┆ ---  ┆   ┆ ---            ┆ ID                ┆ ---       ┆ ---               │\n",
       "│ str           ┆ str      ┆ str       ┆ str  ┆   ┆ str            ┆ ---               ┆ str       ┆ str               │\n",
       "│               ┆          ┆           ┆      ┆   ┆                ┆ str               ┆           ┆                   │\n",
       "╞═══════════════╪══════════╪═══════════╪══════╪═══╪════════════════╪═══════════════════╪═══════════╪═══════════════════╡\n",
       "│ 1192141740    ┆ 20230813 ┆ 202308    ┆ 2023 ┆ … ┆ -6.5           ┆ -2604275          ┆ 20240812  ┆ https://jerseyeve │\n",
       "│               ┆          ┆           ┆      ┆   ┆                ┆                   ┆           ┆ ningpost.com/mo…  │\n",
       "│ 1192141741    ┆ 20230813 ┆ 202308    ┆ 2023 ┆ … ┆ -6.5           ┆ -2604275          ┆ 20240812  ┆ https://jerseyeve │\n",
       "│               ┆          ┆           ┆      ┆   ┆                ┆                   ┆           ┆ ningpost.com/mo…  │\n",
       "│ 1192141742    ┆ 20230813 ┆ 202308    ┆ 2023 ┆ … ┆ 98.3833        ┆ -3253342          ┆ 20240812  ┆ https://www.bangk │\n",
       "│               ┆          ┆           ┆      ┆   ┆                ┆                   ┆           ┆ okpost.com/thai…  │\n",
       "│ 1192141743    ┆ 20230813 ┆ 202308    ┆ 2023 ┆ … ┆ 174            ┆ NZ                ┆ 20240812  ┆ https://menafn.co │\n",
       "│               ┆          ┆           ┆      ┆   ┆                ┆                   ┆           ┆ m/1108542423/Bi…  │\n",
       "│ 1192141744    ┆ 20240713 ┆ 202407    ┆ 2024 ┆ … ┆ -119.746       ┆ CA                ┆ 20240812  ┆ https://www.marin │\n",
       "│               ┆          ┆           ┆      ┆   ┆                ┆                   ┆           ┆ ij.com/2024/08/…  │\n",
       "│ …             ┆ …        ┆ …         ┆ …    ┆ … ┆ …              ┆ …                 ┆ …         ┆ …                 │\n",
       "│ 1192318919    ┆ 20240812 ┆ 202408    ┆ 2024 ┆ … ┆ -98.5795       ┆ US                ┆ 20240812  ┆ https://itemlive. │\n",
       "│               ┆          ┆           ┆      ┆   ┆                ┆                   ┆           ┆ com/2024/08/12/…  │\n",
       "│ 1192318920    ┆ 20240812 ┆ 202408    ┆ 2024 ┆ … ┆ -77.0364       ┆ 531871            ┆ 20240812  ┆ https://nypost.co │\n",
       "│               ┆          ┆           ┆      ┆   ┆                ┆                   ┆           ┆ m/2024/08/12/us…  │\n",
       "│ 1192318921    ┆ 20240812 ┆ 202408    ┆ 2024 ┆ … ┆ null           ┆ null              ┆ 20240812  ┆ https://www.colli │\n",
       "│               ┆          ┆           ┆      ┆   ┆                ┆                   ┆           ┆ sionrepairmag.c…  │\n",
       "│ 1192318922    ┆ 20240812 ┆ 202408    ┆ 2024 ┆ … ┆ -77.0364       ┆ 531871            ┆ 20240812  ┆ https://www.foxbu │\n",
       "│               ┆          ┆           ┆      ┆   ┆                ┆                   ┆           ┆ siness.com/poli…  │\n",
       "│ 1192318923    ┆ 20240812 ┆ 202408    ┆ 2024 ┆ … ┆ -77.0364       ┆ 531871            ┆ 20240812  ┆ https://nypost.co │\n",
       "│               ┆          ┆           ┆      ┆   ┆                ┆                   ┆           ┆ m/2024/08/12/us…  │\n",
       "└───────────────┴──────────┴───────────┴──────┴───┴────────────────┴───────────────────┴───────────┴───────────────────┘"
      ]
     },
     "execution_count": 2,
     "metadata": {},
     "output_type": "execute_result"
    }
   ],
   "source": [
    "df = pl.read_csv(\n",
    "    '20240812.export.CSV',\n",
    "    infer_schema_length = 0,\n",
    "    separator = '\\t',\n",
    "    has_header = False\n",
    ")\n",
    "\n",
    "df.columns = [\n",
    "    'GLOBALEVENTID',    'SQLDATE',    'MonthYear',    'Year',\n",
    "    'FractionDate',    'Actor1Code',    'Actor1Name',    'Actor1CountryCode',\n",
    "    'Actor1KnownGroupCode',   'Actor1EthnicCode',   'Actor1Religion1Code',   'Actor1Religion2Code',\n",
    "    'Actor1Type1Code',    'Actor1Type2Code',    'Actor1Type3Code',    'Actor2Code',\n",
    "    'Actor2Name',    'Actor2CountryCode',    'Actor2KnownGroupCode',    'Actor2EthnicCode',\n",
    "    'Actor2Religion1Code',    'Actor2Religion2Code',    'Actor2Type1Code',    'Actor2Type2Code',\n",
    "    'Actor2Type3Code',    'IsRootEvent',    'EventCode',    'EventBaseCode',\n",
    "    'EventRootCode',    'QuadClass',    'GoldsteinScale',    'NumMentions',\n",
    "    'NumSources',    'NumArticles',    'AvgTone',    'Actor1Geo_Type',\n",
    "    'Actor1Geo_FullName',    'Actor1Geo_CountryCode',    'Actor1Geo_ADM1Code',    'Actor1Geo_Lat',\n",
    "    'Actor1Geo_Long',    'Actor1Geo_FeatureID',    'Actor2Geo_Type',    'Actor2Geo_FullName',\n",
    "    'Actor2Geo_CountryCode',    'Actor2Geo_ADM1Code',    'Actor2Geo_Lat',    'Actor2Geo_Long',\n",
    "    'Actor2Geo_FeatureID',    'ActionGeo_Type',    'ActionGeo_FullName',    'ActionGeo_CountryCode',\n",
    "    'ActionGeo_ADM1Code',    'ActionGeo_Lat',    'ActionGeo_Long',    'ActionGeo_FeatureID',\n",
    "    'DATEADDED',    'SOURCEURL']\n",
    "\n",
    "df"
   ]
  },
  {
   "cell_type": "markdown",
   "id": "2a7b7b45-66bf-4911-a274-01812c75c580",
   "metadata": {},
   "source": [
    "### Exploración de los 10 valores más frecuentes de cada columna\n",
    "Se hace un conteo de los GLOBALEVENTID que coinciden con cada valor"
   ]
  },
  {
   "cell_type": "code",
   "execution_count": 3,
   "id": "96cb1599-539f-4259-a18d-1daa7608a35d",
   "metadata": {},
   "outputs": [
    {
     "data": {
      "text/html": [
       "<div><style>\n",
       ".dataframe > thead > tr,\n",
       ".dataframe > tbody > tr {\n",
       "  text-align: right;\n",
       "  white-space: pre-wrap;\n",
       "}\n",
       "</style>\n",
       "<small>shape: (6, 2)</small><table border=\"1\" class=\"dataframe\"><thead><tr><th>SQLDATE</th><th>GLOBALEVENTID</th></tr><tr><td>str</td><td>u32</td></tr></thead><tbody><tr><td>&quot;20240812&quot;</td><td>113637</td></tr><tr><td>&quot;20240805&quot;</td><td>1271</td></tr><tr><td>&quot;20240713&quot;</td><td>907</td></tr><tr><td>&quot;20230813&quot;</td><td>809</td></tr><tr><td>&quot;20240811&quot;</td><td>303</td></tr><tr><td>&quot;20140815&quot;</td><td>23</td></tr></tbody></table></div>"
      ],
      "text/plain": [
       "shape: (6, 2)\n",
       "┌──────────┬───────────────┐\n",
       "│ SQLDATE  ┆ GLOBALEVENTID │\n",
       "│ ---      ┆ ---           │\n",
       "│ str      ┆ u32           │\n",
       "╞══════════╪═══════════════╡\n",
       "│ 20240812 ┆ 113637        │\n",
       "│ 20240805 ┆ 1271          │\n",
       "│ 20240713 ┆ 907           │\n",
       "│ 20230813 ┆ 809           │\n",
       "│ 20240811 ┆ 303           │\n",
       "│ 20140815 ┆ 23            │\n",
       "└──────────┴───────────────┘"
      ]
     },
     "metadata": {},
     "output_type": "display_data"
    },
    {
     "data": {
      "text/html": [
       "<div><style>\n",
       ".dataframe > thead > tr,\n",
       ".dataframe > tbody > tr {\n",
       "  text-align: right;\n",
       "  white-space: pre-wrap;\n",
       "}\n",
       "</style>\n",
       "<small>shape: (4, 2)</small><table border=\"1\" class=\"dataframe\"><thead><tr><th>MonthYear</th><th>GLOBALEVENTID</th></tr><tr><td>str</td><td>u32</td></tr></thead><tbody><tr><td>&quot;202408&quot;</td><td>115211</td></tr><tr><td>&quot;202407&quot;</td><td>907</td></tr><tr><td>&quot;202308&quot;</td><td>809</td></tr><tr><td>&quot;201408&quot;</td><td>23</td></tr></tbody></table></div>"
      ],
      "text/plain": [
       "shape: (4, 2)\n",
       "┌───────────┬───────────────┐\n",
       "│ MonthYear ┆ GLOBALEVENTID │\n",
       "│ ---       ┆ ---           │\n",
       "│ str       ┆ u32           │\n",
       "╞═══════════╪═══════════════╡\n",
       "│ 202408    ┆ 115211        │\n",
       "│ 202407    ┆ 907           │\n",
       "│ 202308    ┆ 809           │\n",
       "│ 201408    ┆ 23            │\n",
       "└───────────┴───────────────┘"
      ]
     },
     "metadata": {},
     "output_type": "display_data"
    },
    {
     "data": {
      "text/html": [
       "<div><style>\n",
       ".dataframe > thead > tr,\n",
       ".dataframe > tbody > tr {\n",
       "  text-align: right;\n",
       "  white-space: pre-wrap;\n",
       "}\n",
       "</style>\n",
       "<small>shape: (3, 2)</small><table border=\"1\" class=\"dataframe\"><thead><tr><th>Year</th><th>GLOBALEVENTID</th></tr><tr><td>str</td><td>u32</td></tr></thead><tbody><tr><td>&quot;2024&quot;</td><td>116118</td></tr><tr><td>&quot;2023&quot;</td><td>809</td></tr><tr><td>&quot;2014&quot;</td><td>23</td></tr></tbody></table></div>"
      ],
      "text/plain": [
       "shape: (3, 2)\n",
       "┌──────┬───────────────┐\n",
       "│ Year ┆ GLOBALEVENTID │\n",
       "│ ---  ┆ ---           │\n",
       "│ str  ┆ u32           │\n",
       "╞══════╪═══════════════╡\n",
       "│ 2024 ┆ 116118        │\n",
       "│ 2023 ┆ 809           │\n",
       "│ 2014 ┆ 23            │\n",
       "└──────┴───────────────┘"
      ]
     },
     "metadata": {},
     "output_type": "display_data"
    },
    {
     "data": {
      "text/html": [
       "<div><style>\n",
       ".dataframe > thead > tr,\n",
       ".dataframe > tbody > tr {\n",
       "  text-align: right;\n",
       "  white-space: pre-wrap;\n",
       "}\n",
       "</style>\n",
       "<small>shape: (6, 2)</small><table border=\"1\" class=\"dataframe\"><thead><tr><th>FractionDate</th><th>GLOBALEVENTID</th></tr><tr><td>str</td><td>u32</td></tr></thead><tbody><tr><td>&quot;2024.6082&quot;</td><td>113637</td></tr><tr><td>&quot;2024.5890&quot;</td><td>1271</td></tr><tr><td>&quot;2024.5288&quot;</td><td>907</td></tr><tr><td>&quot;2023.6110&quot;</td><td>809</td></tr><tr><td>&quot;2024.6055&quot;</td><td>303</td></tr><tr><td>&quot;2014.6164&quot;</td><td>23</td></tr></tbody></table></div>"
      ],
      "text/plain": [
       "shape: (6, 2)\n",
       "┌──────────────┬───────────────┐\n",
       "│ FractionDate ┆ GLOBALEVENTID │\n",
       "│ ---          ┆ ---           │\n",
       "│ str          ┆ u32           │\n",
       "╞══════════════╪═══════════════╡\n",
       "│ 2024.6082    ┆ 113637        │\n",
       "│ 2024.5890    ┆ 1271          │\n",
       "│ 2024.5288    ┆ 907           │\n",
       "│ 2023.6110    ┆ 809           │\n",
       "│ 2024.6055    ┆ 303           │\n",
       "│ 2014.6164    ┆ 23            │\n",
       "└──────────────┴───────────────┘"
      ]
     },
     "metadata": {},
     "output_type": "display_data"
    },
    {
     "data": {
      "text/html": [
       "<div><style>\n",
       ".dataframe > thead > tr,\n",
       ".dataframe > tbody > tr {\n",
       "  text-align: right;\n",
       "  white-space: pre-wrap;\n",
       "}\n",
       "</style>\n",
       "<small>shape: (10, 2)</small><table border=\"1\" class=\"dataframe\"><thead><tr><th>Actor1Code</th><th>GLOBALEVENTID</th></tr><tr><td>str</td><td>u32</td></tr></thead><tbody><tr><td>&quot;USA&quot;</td><td>14288</td></tr><tr><td>null</td><td>11241</td></tr><tr><td>&quot;GOV&quot;</td><td>8057</td></tr><tr><td>&quot;COP&quot;</td><td>3626</td></tr><tr><td>&quot;BUS&quot;</td><td>3442</td></tr><tr><td>&quot;GBR&quot;</td><td>3253</td></tr><tr><td>&quot;CVL&quot;</td><td>3199</td></tr><tr><td>&quot;EDU&quot;</td><td>2928</td></tr><tr><td>&quot;JUD&quot;</td><td>2428</td></tr><tr><td>&quot;ISR&quot;</td><td>2404</td></tr></tbody></table></div>"
      ],
      "text/plain": [
       "shape: (10, 2)\n",
       "┌────────────┬───────────────┐\n",
       "│ Actor1Code ┆ GLOBALEVENTID │\n",
       "│ ---        ┆ ---           │\n",
       "│ str        ┆ u32           │\n",
       "╞════════════╪═══════════════╡\n",
       "│ USA        ┆ 14288         │\n",
       "│ null       ┆ 11241         │\n",
       "│ GOV        ┆ 8057          │\n",
       "│ COP        ┆ 3626          │\n",
       "│ BUS        ┆ 3442          │\n",
       "│ GBR        ┆ 3253          │\n",
       "│ CVL        ┆ 3199          │\n",
       "│ EDU        ┆ 2928          │\n",
       "│ JUD        ┆ 2428          │\n",
       "│ ISR        ┆ 2404          │\n",
       "└────────────┴───────────────┘"
      ]
     },
     "metadata": {},
     "output_type": "display_data"
    },
    {
     "data": {
      "text/html": [
       "<div><style>\n",
       ".dataframe > thead > tr,\n",
       ".dataframe > tbody > tr {\n",
       "  text-align: right;\n",
       "  white-space: pre-wrap;\n",
       "}\n",
       "</style>\n",
       "<small>shape: (10, 2)</small><table border=\"1\" class=\"dataframe\"><thead><tr><th>Actor1Name</th><th>GLOBALEVENTID</th></tr><tr><td>str</td><td>u32</td></tr></thead><tbody><tr><td>null</td><td>11241</td></tr><tr><td>&quot;UNITED STATES&quot;</td><td>10508</td></tr><tr><td>&quot;UNITED KINGDOM…</td><td>2706</td></tr><tr><td>&quot;ISRAEL&quot;</td><td>2288</td></tr><tr><td>&quot;POLICE&quot;</td><td>2254</td></tr><tr><td>&quot;PRESIDENT&quot;</td><td>1567</td></tr><tr><td>&quot;GOVERNMENT&quot;</td><td>1413</td></tr><tr><td>&quot;RUSSIA&quot;</td><td>1358</td></tr><tr><td>&quot;SCHOOL&quot;</td><td>1233</td></tr><tr><td>&quot;AUSTRALIA&quot;</td><td>1187</td></tr></tbody></table></div>"
      ],
      "text/plain": [
       "shape: (10, 2)\n",
       "┌────────────────┬───────────────┐\n",
       "│ Actor1Name     ┆ GLOBALEVENTID │\n",
       "│ ---            ┆ ---           │\n",
       "│ str            ┆ u32           │\n",
       "╞════════════════╪═══════════════╡\n",
       "│ null           ┆ 11241         │\n",
       "│ UNITED STATES  ┆ 10508         │\n",
       "│ UNITED KINGDOM ┆ 2706          │\n",
       "│ ISRAEL         ┆ 2288          │\n",
       "│ POLICE         ┆ 2254          │\n",
       "│ PRESIDENT      ┆ 1567          │\n",
       "│ GOVERNMENT     ┆ 1413          │\n",
       "│ RUSSIA         ┆ 1358          │\n",
       "│ SCHOOL         ┆ 1233          │\n",
       "│ AUSTRALIA      ┆ 1187          │\n",
       "└────────────────┴───────────────┘"
      ]
     },
     "metadata": {},
     "output_type": "display_data"
    },
    {
     "data": {
      "text/html": [
       "<div><style>\n",
       ".dataframe > thead > tr,\n",
       ".dataframe > tbody > tr {\n",
       "  text-align: right;\n",
       "  white-space: pre-wrap;\n",
       "}\n",
       "</style>\n",
       "<small>shape: (10, 2)</small><table border=\"1\" class=\"dataframe\"><thead><tr><th>Actor1CountryCode</th><th>GLOBALEVENTID</th></tr><tr><td>str</td><td>u32</td></tr></thead><tbody><tr><td>null</td><td>50862</td></tr><tr><td>&quot;USA&quot;</td><td>18726</td></tr><tr><td>&quot;GBR&quot;</td><td>3949</td></tr><tr><td>&quot;ISR&quot;</td><td>3141</td></tr><tr><td>&quot;RUS&quot;</td><td>2520</td></tr><tr><td>&quot;UKR&quot;</td><td>2027</td></tr><tr><td>&quot;AUS&quot;</td><td>1763</td></tr><tr><td>&quot;IND&quot;</td><td>1750</td></tr><tr><td>&quot;CHN&quot;</td><td>1662</td></tr><tr><td>&quot;CAN&quot;</td><td>1519</td></tr></tbody></table></div>"
      ],
      "text/plain": [
       "shape: (10, 2)\n",
       "┌───────────────────┬───────────────┐\n",
       "│ Actor1CountryCode ┆ GLOBALEVENTID │\n",
       "│ ---               ┆ ---           │\n",
       "│ str               ┆ u32           │\n",
       "╞═══════════════════╪═══════════════╡\n",
       "│ null              ┆ 50862         │\n",
       "│ USA               ┆ 18726         │\n",
       "│ GBR               ┆ 3949          │\n",
       "│ ISR               ┆ 3141          │\n",
       "│ RUS               ┆ 2520          │\n",
       "│ UKR               ┆ 2027          │\n",
       "│ AUS               ┆ 1763          │\n",
       "│ IND               ┆ 1750          │\n",
       "│ CHN               ┆ 1662          │\n",
       "│ CAN               ┆ 1519          │\n",
       "└───────────────────┴───────────────┘"
      ]
     },
     "metadata": {},
     "output_type": "display_data"
    },
    {
     "data": {
      "text/html": [
       "<div><style>\n",
       ".dataframe > thead > tr,\n",
       ".dataframe > tbody > tr {\n",
       "  text-align: right;\n",
       "  white-space: pre-wrap;\n",
       "}\n",
       "</style>\n",
       "<small>shape: (10, 2)</small><table border=\"1\" class=\"dataframe\"><thead><tr><th>Actor1KnownGroupCode</th><th>GLOBALEVENTID</th></tr><tr><td>str</td><td>u32</td></tr></thead><tbody><tr><td>null</td><td>115801</td></tr><tr><td>&quot;UNO&quot;</td><td>523</td></tr><tr><td>&quot;EEC&quot;</td><td>210</td></tr><tr><td>&quot;NAT&quot;</td><td>87</td></tr><tr><td>&quot;TAL&quot;</td><td>72</td></tr><tr><td>&quot;IRC&quot;</td><td>68</td></tr><tr><td>&quot;ASN&quot;</td><td>44</td></tr><tr><td>&quot;SAD&quot;</td><td>22</td></tr><tr><td>&quot;ICC&quot;</td><td>15</td></tr><tr><td>&quot;COE&quot;</td><td>13</td></tr></tbody></table></div>"
      ],
      "text/plain": [
       "shape: (10, 2)\n",
       "┌──────────────────────┬───────────────┐\n",
       "│ Actor1KnownGroupCode ┆ GLOBALEVENTID │\n",
       "│ ---                  ┆ ---           │\n",
       "│ str                  ┆ u32           │\n",
       "╞══════════════════════╪═══════════════╡\n",
       "│ null                 ┆ 115801        │\n",
       "│ UNO                  ┆ 523           │\n",
       "│ EEC                  ┆ 210           │\n",
       "│ NAT                  ┆ 87            │\n",
       "│ TAL                  ┆ 72            │\n",
       "│ IRC                  ┆ 68            │\n",
       "│ ASN                  ┆ 44            │\n",
       "│ SAD                  ┆ 22            │\n",
       "│ ICC                  ┆ 15            │\n",
       "│ COE                  ┆ 13            │\n",
       "└──────────────────────┴───────────────┘"
      ]
     },
     "metadata": {},
     "output_type": "display_data"
    },
    {
     "data": {
      "text/html": [
       "<div><style>\n",
       ".dataframe > thead > tr,\n",
       ".dataframe > tbody > tr {\n",
       "  text-align: right;\n",
       "  white-space: pre-wrap;\n",
       "}\n",
       "</style>\n",
       "<small>shape: (10, 2)</small><table border=\"1\" class=\"dataframe\"><thead><tr><th>Actor1EthnicCode</th><th>GLOBALEVENTID</th></tr><tr><td>str</td><td>u32</td></tr></thead><tbody><tr><td>null</td><td>116151</td></tr><tr><td>&quot;sco&quot;</td><td>91</td></tr><tr><td>&quot;idg&quot;</td><td>77</td></tr><tr><td>&quot;bre&quot;</td><td>47</td></tr><tr><td>&quot;bal&quot;</td><td>42</td></tr><tr><td>&quot;sen&quot;</td><td>38</td></tr><tr><td>&quot;div&quot;</td><td>35</td></tr><tr><td>&quot;kis&quot;</td><td>25</td></tr><tr><td>&quot;dak&quot;</td><td>22</td></tr><tr><td>&quot;ran&quot;</td><td>20</td></tr></tbody></table></div>"
      ],
      "text/plain": [
       "shape: (10, 2)\n",
       "┌──────────────────┬───────────────┐\n",
       "│ Actor1EthnicCode ┆ GLOBALEVENTID │\n",
       "│ ---              ┆ ---           │\n",
       "│ str              ┆ u32           │\n",
       "╞══════════════════╪═══════════════╡\n",
       "│ null             ┆ 116151        │\n",
       "│ sco              ┆ 91            │\n",
       "│ idg              ┆ 77            │\n",
       "│ bre              ┆ 47            │\n",
       "│ bal              ┆ 42            │\n",
       "│ sen              ┆ 38            │\n",
       "│ div              ┆ 35            │\n",
       "│ kis              ┆ 25            │\n",
       "│ dak              ┆ 22            │\n",
       "│ ran              ┆ 20            │\n",
       "└──────────────────┴───────────────┘"
      ]
     },
     "metadata": {},
     "output_type": "display_data"
    },
    {
     "data": {
      "text/html": [
       "<div><style>\n",
       ".dataframe > thead > tr,\n",
       ".dataframe > tbody > tr {\n",
       "  text-align: right;\n",
       "  white-space: pre-wrap;\n",
       "}\n",
       "</style>\n",
       "<small>shape: (10, 2)</small><table border=\"1\" class=\"dataframe\"><thead><tr><th>Actor1Religion1Code</th><th>GLOBALEVENTID</th></tr><tr><td>str</td><td>u32</td></tr></thead><tbody><tr><td>null</td><td>115377</td></tr><tr><td>&quot;CHR&quot;</td><td>502</td></tr><tr><td>&quot;MOS&quot;</td><td>448</td></tr><tr><td>&quot;JEW&quot;</td><td>290</td></tr><tr><td>&quot;HIN&quot;</td><td>242</td></tr><tr><td>&quot;NRM&quot;</td><td>34</td></tr><tr><td>&quot;BUD&quot;</td><td>29</td></tr><tr><td>&quot;SIK&quot;</td><td>17</td></tr><tr><td>&quot;JAN&quot;</td><td>5</td></tr><tr><td>&quot;ATH&quot;</td><td>2</td></tr></tbody></table></div>"
      ],
      "text/plain": [
       "shape: (10, 2)\n",
       "┌─────────────────────┬───────────────┐\n",
       "│ Actor1Religion1Code ┆ GLOBALEVENTID │\n",
       "│ ---                 ┆ ---           │\n",
       "│ str                 ┆ u32           │\n",
       "╞═════════════════════╪═══════════════╡\n",
       "│ null                ┆ 115377        │\n",
       "│ CHR                 ┆ 502           │\n",
       "│ MOS                 ┆ 448           │\n",
       "│ JEW                 ┆ 290           │\n",
       "│ HIN                 ┆ 242           │\n",
       "│ NRM                 ┆ 34            │\n",
       "│ BUD                 ┆ 29            │\n",
       "│ SIK                 ┆ 17            │\n",
       "│ JAN                 ┆ 5             │\n",
       "│ ATH                 ┆ 2             │\n",
       "└─────────────────────┴───────────────┘"
      ]
     },
     "metadata": {},
     "output_type": "display_data"
    },
    {
     "data": {
      "text/html": [
       "<div><style>\n",
       ".dataframe > thead > tr,\n",
       ".dataframe > tbody > tr {\n",
       "  text-align: right;\n",
       "  white-space: pre-wrap;\n",
       "}\n",
       "</style>\n",
       "<small>shape: (10, 2)</small><table border=\"1\" class=\"dataframe\"><thead><tr><th>Actor1Religion2Code</th><th>GLOBALEVENTID</th></tr><tr><td>str</td><td>u32</td></tr></thead><tbody><tr><td>null</td><td>116605</td></tr><tr><td>&quot;CTH&quot;</td><td>196</td></tr><tr><td>&quot;PRO&quot;</td><td>95</td></tr><tr><td>&quot;SHI&quot;</td><td>15</td></tr><tr><td>&quot;ALE&quot;</td><td>12</td></tr><tr><td>&quot;HSD&quot;</td><td>7</td></tr><tr><td>&quot;LDS&quot;</td><td>6</td></tr><tr><td>&quot;NRM&quot;</td><td>4</td></tr><tr><td>&quot;UDX&quot;</td><td>4</td></tr><tr><td>&quot;SUN&quot;</td><td>3</td></tr></tbody></table></div>"
      ],
      "text/plain": [
       "shape: (10, 2)\n",
       "┌─────────────────────┬───────────────┐\n",
       "│ Actor1Religion2Code ┆ GLOBALEVENTID │\n",
       "│ ---                 ┆ ---           │\n",
       "│ str                 ┆ u32           │\n",
       "╞═════════════════════╪═══════════════╡\n",
       "│ null                ┆ 116605        │\n",
       "│ CTH                 ┆ 196           │\n",
       "│ PRO                 ┆ 95            │\n",
       "│ SHI                 ┆ 15            │\n",
       "│ ALE                 ┆ 12            │\n",
       "│ HSD                 ┆ 7             │\n",
       "│ LDS                 ┆ 6             │\n",
       "│ NRM                 ┆ 4             │\n",
       "│ UDX                 ┆ 4             │\n",
       "│ SUN                 ┆ 3             │\n",
       "└─────────────────────┴───────────────┘"
      ]
     },
     "metadata": {},
     "output_type": "display_data"
    },
    {
     "data": {
      "text/html": [
       "<div><style>\n",
       ".dataframe > thead > tr,\n",
       ".dataframe > tbody > tr {\n",
       "  text-align: right;\n",
       "  white-space: pre-wrap;\n",
       "}\n",
       "</style>\n",
       "<small>shape: (10, 2)</small><table border=\"1\" class=\"dataframe\"><thead><tr><th>Actor1Type1Code</th><th>GLOBALEVENTID</th></tr><tr><td>str</td><td>u32</td></tr></thead><tbody><tr><td>null</td><td>66596</td></tr><tr><td>&quot;GOV&quot;</td><td>14114</td></tr><tr><td>&quot;COP&quot;</td><td>4726</td></tr><tr><td>&quot;BUS&quot;</td><td>3972</td></tr><tr><td>&quot;CVL&quot;</td><td>3970</td></tr><tr><td>&quot;EDU&quot;</td><td>3796</td></tr><tr><td>&quot;JUD&quot;</td><td>3224</td></tr><tr><td>&quot;MIL&quot;</td><td>2758</td></tr><tr><td>&quot;MED&quot;</td><td>2539</td></tr><tr><td>&quot;LEG&quot;</td><td>1924</td></tr></tbody></table></div>"
      ],
      "text/plain": [
       "shape: (10, 2)\n",
       "┌─────────────────┬───────────────┐\n",
       "│ Actor1Type1Code ┆ GLOBALEVENTID │\n",
       "│ ---             ┆ ---           │\n",
       "│ str             ┆ u32           │\n",
       "╞═════════════════╪═══════════════╡\n",
       "│ null            ┆ 66596         │\n",
       "│ GOV             ┆ 14114         │\n",
       "│ COP             ┆ 4726          │\n",
       "│ BUS             ┆ 3972          │\n",
       "│ CVL             ┆ 3970          │\n",
       "│ EDU             ┆ 3796          │\n",
       "│ JUD             ┆ 3224          │\n",
       "│ MIL             ┆ 2758          │\n",
       "│ MED             ┆ 2539          │\n",
       "│ LEG             ┆ 1924          │\n",
       "└─────────────────┴───────────────┘"
      ]
     },
     "metadata": {},
     "output_type": "display_data"
    },
    {
     "data": {
      "text/html": [
       "<div><style>\n",
       ".dataframe > thead > tr,\n",
       ".dataframe > tbody > tr {\n",
       "  text-align: right;\n",
       "  white-space: pre-wrap;\n",
       "}\n",
       "</style>\n",
       "<small>shape: (10, 2)</small><table border=\"1\" class=\"dataframe\"><thead><tr><th>Actor1Type2Code</th><th>GLOBALEVENTID</th></tr><tr><td>str</td><td>u32</td></tr></thead><tbody><tr><td>null</td><td>113603</td></tr><tr><td>&quot;MIL&quot;</td><td>659</td></tr><tr><td>&quot;MED&quot;</td><td>471</td></tr><tr><td>&quot;GOV&quot;</td><td>412</td></tr><tr><td>&quot;HLH&quot;</td><td>361</td></tr><tr><td>&quot;EDU&quot;</td><td>281</td></tr><tr><td>&quot;BUS&quot;</td><td>261</td></tr><tr><td>&quot;DEV&quot;</td><td>137</td></tr><tr><td>&quot;JUD&quot;</td><td>113</td></tr><tr><td>&quot;COP&quot;</td><td>92</td></tr></tbody></table></div>"
      ],
      "text/plain": [
       "shape: (10, 2)\n",
       "┌─────────────────┬───────────────┐\n",
       "│ Actor1Type2Code ┆ GLOBALEVENTID │\n",
       "│ ---             ┆ ---           │\n",
       "│ str             ┆ u32           │\n",
       "╞═════════════════╪═══════════════╡\n",
       "│ null            ┆ 113603        │\n",
       "│ MIL             ┆ 659           │\n",
       "│ MED             ┆ 471           │\n",
       "│ GOV             ┆ 412           │\n",
       "│ HLH             ┆ 361           │\n",
       "│ EDU             ┆ 281           │\n",
       "│ BUS             ┆ 261           │\n",
       "│ DEV             ┆ 137           │\n",
       "│ JUD             ┆ 113           │\n",
       "│ COP             ┆ 92            │\n",
       "└─────────────────┴───────────────┘"
      ]
     },
     "metadata": {},
     "output_type": "display_data"
    },
    {
     "data": {
      "text/html": [
       "<div><style>\n",
       ".dataframe > thead > tr,\n",
       ".dataframe > tbody > tr {\n",
       "  text-align: right;\n",
       "  white-space: pre-wrap;\n",
       "}\n",
       "</style>\n",
       "<small>shape: (10, 2)</small><table border=\"1\" class=\"dataframe\"><thead><tr><th>Actor1Type3Code</th><th>GLOBALEVENTID</th></tr><tr><td>str</td><td>u32</td></tr></thead><tbody><tr><td>null</td><td>116861</td></tr><tr><td>&quot;MED&quot;</td><td>23</td></tr><tr><td>&quot;BUS&quot;</td><td>12</td></tr><tr><td>&quot;LAB&quot;</td><td>11</td></tr><tr><td>&quot;MIL&quot;</td><td>9</td></tr><tr><td>&quot;GOV&quot;</td><td>8</td></tr><tr><td>&quot;EDU&quot;</td><td>5</td></tr><tr><td>&quot;ENV&quot;</td><td>4</td></tr><tr><td>&quot;HLH&quot;</td><td>4</td></tr><tr><td>&quot;ELI&quot;</td><td>3</td></tr></tbody></table></div>"
      ],
      "text/plain": [
       "shape: (10, 2)\n",
       "┌─────────────────┬───────────────┐\n",
       "│ Actor1Type3Code ┆ GLOBALEVENTID │\n",
       "│ ---             ┆ ---           │\n",
       "│ str             ┆ u32           │\n",
       "╞═════════════════╪═══════════════╡\n",
       "│ null            ┆ 116861        │\n",
       "│ MED             ┆ 23            │\n",
       "│ BUS             ┆ 12            │\n",
       "│ LAB             ┆ 11            │\n",
       "│ MIL             ┆ 9             │\n",
       "│ GOV             ┆ 8             │\n",
       "│ EDU             ┆ 5             │\n",
       "│ ENV             ┆ 4             │\n",
       "│ HLH             ┆ 4             │\n",
       "│ ELI             ┆ 3             │\n",
       "└─────────────────┴───────────────┘"
      ]
     },
     "metadata": {},
     "output_type": "display_data"
    },
    {
     "data": {
      "text/html": [
       "<div><style>\n",
       ".dataframe > thead > tr,\n",
       ".dataframe > tbody > tr {\n",
       "  text-align: right;\n",
       "  white-space: pre-wrap;\n",
       "}\n",
       "</style>\n",
       "<small>shape: (10, 2)</small><table border=\"1\" class=\"dataframe\"><thead><tr><th>Actor2Code</th><th>GLOBALEVENTID</th></tr><tr><td>str</td><td>u32</td></tr></thead><tbody><tr><td>null</td><td>33236</td></tr><tr><td>&quot;USA&quot;</td><td>9942</td></tr><tr><td>&quot;GOV&quot;</td><td>5805</td></tr><tr><td>&quot;CVL&quot;</td><td>3025</td></tr><tr><td>&quot;ISR&quot;</td><td>2729</td></tr><tr><td>&quot;BUS&quot;</td><td>2623</td></tr><tr><td>&quot;EDU&quot;</td><td>2611</td></tr><tr><td>&quot;COP&quot;</td><td>2511</td></tr><tr><td>&quot;GBR&quot;</td><td>2369</td></tr><tr><td>&quot;RUS&quot;</td><td>2052</td></tr></tbody></table></div>"
      ],
      "text/plain": [
       "shape: (10, 2)\n",
       "┌────────────┬───────────────┐\n",
       "│ Actor2Code ┆ GLOBALEVENTID │\n",
       "│ ---        ┆ ---           │\n",
       "│ str        ┆ u32           │\n",
       "╞════════════╪═══════════════╡\n",
       "│ null       ┆ 33236         │\n",
       "│ USA        ┆ 9942          │\n",
       "│ GOV        ┆ 5805          │\n",
       "│ CVL        ┆ 3025          │\n",
       "│ ISR        ┆ 2729          │\n",
       "│ BUS        ┆ 2623          │\n",
       "│ EDU        ┆ 2611          │\n",
       "│ COP        ┆ 2511          │\n",
       "│ GBR        ┆ 2369          │\n",
       "│ RUS        ┆ 2052          │\n",
       "└────────────┴───────────────┘"
      ]
     },
     "metadata": {},
     "output_type": "display_data"
    },
    {
     "data": {
      "text/html": [
       "<div><style>\n",
       ".dataframe > thead > tr,\n",
       ".dataframe > tbody > tr {\n",
       "  text-align: right;\n",
       "  white-space: pre-wrap;\n",
       "}\n",
       "</style>\n",
       "<small>shape: (10, 2)</small><table border=\"1\" class=\"dataframe\"><thead><tr><th>Actor2Name</th><th>GLOBALEVENTID</th></tr><tr><td>str</td><td>u32</td></tr></thead><tbody><tr><td>null</td><td>33236</td></tr><tr><td>&quot;UNITED STATES&quot;</td><td>7740</td></tr><tr><td>&quot;ISRAEL&quot;</td><td>2692</td></tr><tr><td>&quot;UNITED KINGDOM…</td><td>1988</td></tr><tr><td>&quot;POLICE&quot;</td><td>1457</td></tr><tr><td>&quot;GOVERNMENT&quot;</td><td>1410</td></tr><tr><td>&quot;RUSSIA&quot;</td><td>1350</td></tr><tr><td>&quot;UKRAINE&quot;</td><td>1255</td></tr><tr><td>&quot;SCHOOL&quot;</td><td>1234</td></tr><tr><td>&quot;PRESIDENT&quot;</td><td>1082</td></tr></tbody></table></div>"
      ],
      "text/plain": [
       "shape: (10, 2)\n",
       "┌────────────────┬───────────────┐\n",
       "│ Actor2Name     ┆ GLOBALEVENTID │\n",
       "│ ---            ┆ ---           │\n",
       "│ str            ┆ u32           │\n",
       "╞════════════════╪═══════════════╡\n",
       "│ null           ┆ 33236         │\n",
       "│ UNITED STATES  ┆ 7740          │\n",
       "│ ISRAEL         ┆ 2692          │\n",
       "│ UNITED KINGDOM ┆ 1988          │\n",
       "│ POLICE         ┆ 1457          │\n",
       "│ GOVERNMENT     ┆ 1410          │\n",
       "│ RUSSIA         ┆ 1350          │\n",
       "│ UKRAINE        ┆ 1255          │\n",
       "│ SCHOOL         ┆ 1234          │\n",
       "│ PRESIDENT      ┆ 1082          │\n",
       "└────────────────┴───────────────┘"
      ]
     },
     "metadata": {},
     "output_type": "display_data"
    },
    {
     "data": {
      "text/html": [
       "<div><style>\n",
       ".dataframe > thead > tr,\n",
       ".dataframe > tbody > tr {\n",
       "  text-align: right;\n",
       "  white-space: pre-wrap;\n",
       "}\n",
       "</style>\n",
       "<small>shape: (10, 2)</small><table border=\"1\" class=\"dataframe\"><thead><tr><th>Actor2CountryCode</th><th>GLOBALEVENTID</th></tr><tr><td>str</td><td>u32</td></tr></thead><tbody><tr><td>null</td><td>64425</td></tr><tr><td>&quot;USA&quot;</td><td>13219</td></tr><tr><td>&quot;ISR&quot;</td><td>3377</td></tr><tr><td>&quot;GBR&quot;</td><td>2907</td></tr><tr><td>&quot;RUS&quot;</td><td>2435</td></tr><tr><td>&quot;UKR&quot;</td><td>1888</td></tr><tr><td>&quot;PSE&quot;</td><td>1858</td></tr><tr><td>&quot;CHN&quot;</td><td>1392</td></tr><tr><td>&quot;IRN&quot;</td><td>1323</td></tr><tr><td>&quot;AUS&quot;</td><td>1210</td></tr></tbody></table></div>"
      ],
      "text/plain": [
       "shape: (10, 2)\n",
       "┌───────────────────┬───────────────┐\n",
       "│ Actor2CountryCode ┆ GLOBALEVENTID │\n",
       "│ ---               ┆ ---           │\n",
       "│ str               ┆ u32           │\n",
       "╞═══════════════════╪═══════════════╡\n",
       "│ null              ┆ 64425         │\n",
       "│ USA               ┆ 13219         │\n",
       "│ ISR               ┆ 3377          │\n",
       "│ GBR               ┆ 2907          │\n",
       "│ RUS               ┆ 2435          │\n",
       "│ UKR               ┆ 1888          │\n",
       "│ PSE               ┆ 1858          │\n",
       "│ CHN               ┆ 1392          │\n",
       "│ IRN               ┆ 1323          │\n",
       "│ AUS               ┆ 1210          │\n",
       "└───────────────────┴───────────────┘"
      ]
     },
     "metadata": {},
     "output_type": "display_data"
    },
    {
     "data": {
      "text/html": [
       "<div><style>\n",
       ".dataframe > thead > tr,\n",
       ".dataframe > tbody > tr {\n",
       "  text-align: right;\n",
       "  white-space: pre-wrap;\n",
       "}\n",
       "</style>\n",
       "<small>shape: (10, 2)</small><table border=\"1\" class=\"dataframe\"><thead><tr><th>Actor2KnownGroupCode</th><th>GLOBALEVENTID</th></tr><tr><td>str</td><td>u32</td></tr></thead><tbody><tr><td>null</td><td>116114</td></tr><tr><td>&quot;UNO&quot;</td><td>385</td></tr><tr><td>&quot;EEC&quot;</td><td>155</td></tr><tr><td>&quot;TAL&quot;</td><td>48</td></tr><tr><td>&quot;ASN&quot;</td><td>44</td></tr><tr><td>&quot;IRC&quot;</td><td>44</td></tr><tr><td>&quot;NAT&quot;</td><td>36</td></tr><tr><td>&quot;SAD&quot;</td><td>27</td></tr><tr><td>&quot;COE&quot;</td><td>12</td></tr><tr><td>&quot;ICC&quot;</td><td>10</td></tr></tbody></table></div>"
      ],
      "text/plain": [
       "shape: (10, 2)\n",
       "┌──────────────────────┬───────────────┐\n",
       "│ Actor2KnownGroupCode ┆ GLOBALEVENTID │\n",
       "│ ---                  ┆ ---           │\n",
       "│ str                  ┆ u32           │\n",
       "╞══════════════════════╪═══════════════╡\n",
       "│ null                 ┆ 116114        │\n",
       "│ UNO                  ┆ 385           │\n",
       "│ EEC                  ┆ 155           │\n",
       "│ TAL                  ┆ 48            │\n",
       "│ ASN                  ┆ 44            │\n",
       "│ IRC                  ┆ 44            │\n",
       "│ NAT                  ┆ 36            │\n",
       "│ SAD                  ┆ 27            │\n",
       "│ COE                  ┆ 12            │\n",
       "│ ICC                  ┆ 10            │\n",
       "└──────────────────────┴───────────────┘"
      ]
     },
     "metadata": {},
     "output_type": "display_data"
    },
    {
     "data": {
      "text/html": [
       "<div><style>\n",
       ".dataframe > thead > tr,\n",
       ".dataframe > tbody > tr {\n",
       "  text-align: right;\n",
       "  white-space: pre-wrap;\n",
       "}\n",
       "</style>\n",
       "<small>shape: (10, 2)</small><table border=\"1\" class=\"dataframe\"><thead><tr><th>Actor2EthnicCode</th><th>GLOBALEVENTID</th></tr><tr><td>str</td><td>u32</td></tr></thead><tbody><tr><td>null</td><td>116362</td></tr><tr><td>&quot;idg&quot;</td><td>71</td></tr><tr><td>&quot;sco&quot;</td><td>59</td></tr><tr><td>&quot;bal&quot;</td><td>27</td></tr><tr><td>&quot;kis&quot;</td><td>25</td></tr><tr><td>&quot;div&quot;</td><td>19</td></tr><tr><td>&quot;tam&quot;</td><td>19</td></tr><tr><td>&quot;ran&quot;</td><td>18</td></tr><tr><td>&quot;chy&quot;</td><td>18</td></tr><tr><td>&quot;nep&quot;</td><td>16</td></tr></tbody></table></div>"
      ],
      "text/plain": [
       "shape: (10, 2)\n",
       "┌──────────────────┬───────────────┐\n",
       "│ Actor2EthnicCode ┆ GLOBALEVENTID │\n",
       "│ ---              ┆ ---           │\n",
       "│ str              ┆ u32           │\n",
       "╞══════════════════╪═══════════════╡\n",
       "│ null             ┆ 116362        │\n",
       "│ idg              ┆ 71            │\n",
       "│ sco              ┆ 59            │\n",
       "│ bal              ┆ 27            │\n",
       "│ kis              ┆ 25            │\n",
       "│ div              ┆ 19            │\n",
       "│ tam              ┆ 19            │\n",
       "│ ran              ┆ 18            │\n",
       "│ chy              ┆ 18            │\n",
       "│ nep              ┆ 16            │\n",
       "└──────────────────┴───────────────┘"
      ]
     },
     "metadata": {},
     "output_type": "display_data"
    },
    {
     "data": {
      "text/html": [
       "<div><style>\n",
       ".dataframe > thead > tr,\n",
       ".dataframe > tbody > tr {\n",
       "  text-align: right;\n",
       "  white-space: pre-wrap;\n",
       "}\n",
       "</style>\n",
       "<small>shape: (10, 2)</small><table border=\"1\" class=\"dataframe\"><thead><tr><th>Actor2Religion1Code</th><th>GLOBALEVENTID</th></tr><tr><td>str</td><td>u32</td></tr></thead><tbody><tr><td>null</td><td>115522</td></tr><tr><td>&quot;CHR&quot;</td><td>437</td></tr><tr><td>&quot;MOS&quot;</td><td>373</td></tr><tr><td>&quot;JEW&quot;</td><td>272</td></tr><tr><td>&quot;HIN&quot;</td><td>261</td></tr><tr><td>&quot;NRM&quot;</td><td>32</td></tr><tr><td>&quot;BUD&quot;</td><td>22</td></tr><tr><td>&quot;SIK&quot;</td><td>20</td></tr><tr><td>&quot;JAN&quot;</td><td>3</td></tr><tr><td>&quot;SHN&quot;</td><td>2</td></tr></tbody></table></div>"
      ],
      "text/plain": [
       "shape: (10, 2)\n",
       "┌─────────────────────┬───────────────┐\n",
       "│ Actor2Religion1Code ┆ GLOBALEVENTID │\n",
       "│ ---                 ┆ ---           │\n",
       "│ str                 ┆ u32           │\n",
       "╞═════════════════════╪═══════════════╡\n",
       "│ null                ┆ 115522        │\n",
       "│ CHR                 ┆ 437           │\n",
       "│ MOS                 ┆ 373           │\n",
       "│ JEW                 ┆ 272           │\n",
       "│ HIN                 ┆ 261           │\n",
       "│ NRM                 ┆ 32            │\n",
       "│ BUD                 ┆ 22            │\n",
       "│ SIK                 ┆ 20            │\n",
       "│ JAN                 ┆ 3             │\n",
       "│ SHN                 ┆ 2             │\n",
       "└─────────────────────┴───────────────┘"
      ]
     },
     "metadata": {},
     "output_type": "display_data"
    },
    {
     "data": {
      "text/html": [
       "<div><style>\n",
       ".dataframe > thead > tr,\n",
       ".dataframe > tbody > tr {\n",
       "  text-align: right;\n",
       "  white-space: pre-wrap;\n",
       "}\n",
       "</style>\n",
       "<small>shape: (10, 2)</small><table border=\"1\" class=\"dataframe\"><thead><tr><th>Actor2Religion2Code</th><th>GLOBALEVENTID</th></tr><tr><td>str</td><td>u32</td></tr></thead><tbody><tr><td>null</td><td>116663</td></tr><tr><td>&quot;CTH&quot;</td><td>174</td></tr><tr><td>&quot;PRO&quot;</td><td>60</td></tr><tr><td>&quot;SHI&quot;</td><td>19</td></tr><tr><td>&quot;HSD&quot;</td><td>11</td></tr><tr><td>&quot;LDS&quot;</td><td>7</td></tr><tr><td>&quot;SUN&quot;</td><td>5</td></tr><tr><td>&quot;ALE&quot;</td><td>4</td></tr><tr><td>&quot;SFI&quot;</td><td>3</td></tr><tr><td>&quot;CHR&quot;</td><td>2</td></tr></tbody></table></div>"
      ],
      "text/plain": [
       "shape: (10, 2)\n",
       "┌─────────────────────┬───────────────┐\n",
       "│ Actor2Religion2Code ┆ GLOBALEVENTID │\n",
       "│ ---                 ┆ ---           │\n",
       "│ str                 ┆ u32           │\n",
       "╞═════════════════════╪═══════════════╡\n",
       "│ null                ┆ 116663        │\n",
       "│ CTH                 ┆ 174           │\n",
       "│ PRO                 ┆ 60            │\n",
       "│ SHI                 ┆ 19            │\n",
       "│ HSD                 ┆ 11            │\n",
       "│ LDS                 ┆ 7             │\n",
       "│ SUN                 ┆ 5             │\n",
       "│ ALE                 ┆ 4             │\n",
       "│ SFI                 ┆ 3             │\n",
       "│ CHR                 ┆ 2             │\n",
       "└─────────────────────┴───────────────┘"
      ]
     },
     "metadata": {},
     "output_type": "display_data"
    },
    {
     "data": {
      "text/html": [
       "<div><style>\n",
       ".dataframe > thead > tr,\n",
       ".dataframe > tbody > tr {\n",
       "  text-align: right;\n",
       "  white-space: pre-wrap;\n",
       "}\n",
       "</style>\n",
       "<small>shape: (10, 2)</small><table border=\"1\" class=\"dataframe\"><thead><tr><th>Actor2Type1Code</th><th>GLOBALEVENTID</th></tr><tr><td>str</td><td>u32</td></tr></thead><tbody><tr><td>null</td><td>77679</td></tr><tr><td>&quot;GOV&quot;</td><td>9944</td></tr><tr><td>&quot;CVL&quot;</td><td>3839</td></tr><tr><td>&quot;EDU&quot;</td><td>3339</td></tr><tr><td>&quot;COP&quot;</td><td>3315</td></tr><tr><td>&quot;BUS&quot;</td><td>3042</td></tr><tr><td>&quot;MED&quot;</td><td>2405</td></tr><tr><td>&quot;MIL&quot;</td><td>2360</td></tr><tr><td>&quot;JUD&quot;</td><td>1808</td></tr><tr><td>&quot;LEG&quot;</td><td>1409</td></tr></tbody></table></div>"
      ],
      "text/plain": [
       "shape: (10, 2)\n",
       "┌─────────────────┬───────────────┐\n",
       "│ Actor2Type1Code ┆ GLOBALEVENTID │\n",
       "│ ---             ┆ ---           │\n",
       "│ str             ┆ u32           │\n",
       "╞═════════════════╪═══════════════╡\n",
       "│ null            ┆ 77679         │\n",
       "│ GOV             ┆ 9944          │\n",
       "│ CVL             ┆ 3839          │\n",
       "│ EDU             ┆ 3339          │\n",
       "│ COP             ┆ 3315          │\n",
       "│ BUS             ┆ 3042          │\n",
       "│ MED             ┆ 2405          │\n",
       "│ MIL             ┆ 2360          │\n",
       "│ JUD             ┆ 1808          │\n",
       "│ LEG             ┆ 1409          │\n",
       "└─────────────────┴───────────────┘"
      ]
     },
     "metadata": {},
     "output_type": "display_data"
    },
    {
     "data": {
      "text/html": [
       "<div><style>\n",
       ".dataframe > thead > tr,\n",
       ".dataframe > tbody > tr {\n",
       "  text-align: right;\n",
       "  white-space: pre-wrap;\n",
       "}\n",
       "</style>\n",
       "<small>shape: (10, 2)</small><table border=\"1\" class=\"dataframe\"><thead><tr><th>Actor2Type2Code</th><th>GLOBALEVENTID</th></tr><tr><td>str</td><td>u32</td></tr></thead><tbody><tr><td>null</td><td>114645</td></tr><tr><td>&quot;MIL&quot;</td><td>396</td></tr><tr><td>&quot;GOV&quot;</td><td>313</td></tr><tr><td>&quot;HLH&quot;</td><td>230</td></tr><tr><td>&quot;MED&quot;</td><td>213</td></tr><tr><td>&quot;EDU&quot;</td><td>200</td></tr><tr><td>&quot;BUS&quot;</td><td>174</td></tr><tr><td>&quot;DEV&quot;</td><td>139</td></tr><tr><td>&quot;JUD&quot;</td><td>83</td></tr><tr><td>&quot;CVL&quot;</td><td>80</td></tr></tbody></table></div>"
      ],
      "text/plain": [
       "shape: (10, 2)\n",
       "┌─────────────────┬───────────────┐\n",
       "│ Actor2Type2Code ┆ GLOBALEVENTID │\n",
       "│ ---             ┆ ---           │\n",
       "│ str             ┆ u32           │\n",
       "╞═════════════════╪═══════════════╡\n",
       "│ null            ┆ 114645        │\n",
       "│ MIL             ┆ 396           │\n",
       "│ GOV             ┆ 313           │\n",
       "│ HLH             ┆ 230           │\n",
       "│ MED             ┆ 213           │\n",
       "│ EDU             ┆ 200           │\n",
       "│ BUS             ┆ 174           │\n",
       "│ DEV             ┆ 139           │\n",
       "│ JUD             ┆ 83            │\n",
       "│ CVL             ┆ 80            │\n",
       "└─────────────────┴───────────────┘"
      ]
     },
     "metadata": {},
     "output_type": "display_data"
    },
    {
     "data": {
      "text/html": [
       "<div><style>\n",
       ".dataframe > thead > tr,\n",
       ".dataframe > tbody > tr {\n",
       "  text-align: right;\n",
       "  white-space: pre-wrap;\n",
       "}\n",
       "</style>\n",
       "<small>shape: (10, 2)</small><table border=\"1\" class=\"dataframe\"><thead><tr><th>Actor2Type3Code</th><th>GLOBALEVENTID</th></tr><tr><td>str</td><td>u32</td></tr></thead><tbody><tr><td>null</td><td>116887</td></tr><tr><td>&quot;MED&quot;</td><td>20</td></tr><tr><td>&quot;COP&quot;</td><td>13</td></tr><tr><td>&quot;GOV&quot;</td><td>8</td></tr><tr><td>&quot;MIL&quot;</td><td>6</td></tr><tr><td>&quot;ELI&quot;</td><td>5</td></tr><tr><td>&quot;BUS&quot;</td><td>4</td></tr><tr><td>&quot;EDU&quot;</td><td>3</td></tr><tr><td>&quot;ENV&quot;</td><td>2</td></tr><tr><td>&quot;LEG&quot;</td><td>1</td></tr></tbody></table></div>"
      ],
      "text/plain": [
       "shape: (10, 2)\n",
       "┌─────────────────┬───────────────┐\n",
       "│ Actor2Type3Code ┆ GLOBALEVENTID │\n",
       "│ ---             ┆ ---           │\n",
       "│ str             ┆ u32           │\n",
       "╞═════════════════╪═══════════════╡\n",
       "│ null            ┆ 116887        │\n",
       "│ MED             ┆ 20            │\n",
       "│ COP             ┆ 13            │\n",
       "│ GOV             ┆ 8             │\n",
       "│ MIL             ┆ 6             │\n",
       "│ ELI             ┆ 5             │\n",
       "│ BUS             ┆ 4             │\n",
       "│ EDU             ┆ 3             │\n",
       "│ ENV             ┆ 2             │\n",
       "│ LEG             ┆ 1             │\n",
       "└─────────────────┴───────────────┘"
      ]
     },
     "metadata": {},
     "output_type": "display_data"
    },
    {
     "data": {
      "text/html": [
       "<div><style>\n",
       ".dataframe > thead > tr,\n",
       ".dataframe > tbody > tr {\n",
       "  text-align: right;\n",
       "  white-space: pre-wrap;\n",
       "}\n",
       "</style>\n",
       "<small>shape: (2, 2)</small><table border=\"1\" class=\"dataframe\"><thead><tr><th>IsRootEvent</th><th>GLOBALEVENTID</th></tr><tr><td>str</td><td>u32</td></tr></thead><tbody><tr><td>&quot;1&quot;</td><td>71220</td></tr><tr><td>&quot;0&quot;</td><td>45730</td></tr></tbody></table></div>"
      ],
      "text/plain": [
       "shape: (2, 2)\n",
       "┌─────────────┬───────────────┐\n",
       "│ IsRootEvent ┆ GLOBALEVENTID │\n",
       "│ ---         ┆ ---           │\n",
       "│ str         ┆ u32           │\n",
       "╞═════════════╪═══════════════╡\n",
       "│ 1           ┆ 71220         │\n",
       "│ 0           ┆ 45730         │\n",
       "└─────────────┴───────────────┘"
      ]
     },
     "metadata": {},
     "output_type": "display_data"
    },
    {
     "data": {
      "text/html": [
       "<div><style>\n",
       ".dataframe > thead > tr,\n",
       ".dataframe > tbody > tr {\n",
       "  text-align: right;\n",
       "  white-space: pre-wrap;\n",
       "}\n",
       "</style>\n",
       "<small>shape: (10, 2)</small><table border=\"1\" class=\"dataframe\"><thead><tr><th>EventCode</th><th>GLOBALEVENTID</th></tr><tr><td>str</td><td>u32</td></tr></thead><tbody><tr><td>&quot;010&quot;</td><td>9446</td></tr><tr><td>&quot;042&quot;</td><td>8846</td></tr><tr><td>&quot;043&quot;</td><td>8315</td></tr><tr><td>&quot;020&quot;</td><td>7063</td></tr><tr><td>&quot;051&quot;</td><td>6957</td></tr><tr><td>&quot;040&quot;</td><td>6809</td></tr><tr><td>&quot;190&quot;</td><td>5433</td></tr><tr><td>&quot;036&quot;</td><td>4064</td></tr><tr><td>&quot;173&quot;</td><td>3709</td></tr><tr><td>&quot;046&quot;</td><td>3576</td></tr></tbody></table></div>"
      ],
      "text/plain": [
       "shape: (10, 2)\n",
       "┌───────────┬───────────────┐\n",
       "│ EventCode ┆ GLOBALEVENTID │\n",
       "│ ---       ┆ ---           │\n",
       "│ str       ┆ u32           │\n",
       "╞═══════════╪═══════════════╡\n",
       "│ 010       ┆ 9446          │\n",
       "│ 042       ┆ 8846          │\n",
       "│ 043       ┆ 8315          │\n",
       "│ 020       ┆ 7063          │\n",
       "│ 051       ┆ 6957          │\n",
       "│ 040       ┆ 6809          │\n",
       "│ 190       ┆ 5433          │\n",
       "│ 036       ┆ 4064          │\n",
       "│ 173       ┆ 3709          │\n",
       "│ 046       ┆ 3576          │\n",
       "└───────────┴───────────────┘"
      ]
     },
     "metadata": {},
     "output_type": "display_data"
    },
    {
     "data": {
      "text/html": [
       "<div><style>\n",
       ".dataframe > thead > tr,\n",
       ".dataframe > tbody > tr {\n",
       "  text-align: right;\n",
       "  white-space: pre-wrap;\n",
       "}\n",
       "</style>\n",
       "<small>shape: (10, 2)</small><table border=\"1\" class=\"dataframe\"><thead><tr><th>EventBaseCode</th><th>GLOBALEVENTID</th></tr><tr><td>str</td><td>u32</td></tr></thead><tbody><tr><td>&quot;010&quot;</td><td>9446</td></tr><tr><td>&quot;042&quot;</td><td>8846</td></tr><tr><td>&quot;043&quot;</td><td>8315</td></tr><tr><td>&quot;020&quot;</td><td>7063</td></tr><tr><td>&quot;051&quot;</td><td>6957</td></tr><tr><td>&quot;040&quot;</td><td>6809</td></tr><tr><td>&quot;190&quot;</td><td>5433</td></tr><tr><td>&quot;036&quot;</td><td>4064</td></tr><tr><td>&quot;173&quot;</td><td>3709</td></tr><tr><td>&quot;046&quot;</td><td>3576</td></tr></tbody></table></div>"
      ],
      "text/plain": [
       "shape: (10, 2)\n",
       "┌───────────────┬───────────────┐\n",
       "│ EventBaseCode ┆ GLOBALEVENTID │\n",
       "│ ---           ┆ ---           │\n",
       "│ str           ┆ u32           │\n",
       "╞═══════════════╪═══════════════╡\n",
       "│ 010           ┆ 9446          │\n",
       "│ 042           ┆ 8846          │\n",
       "│ 043           ┆ 8315          │\n",
       "│ 020           ┆ 7063          │\n",
       "│ 051           ┆ 6957          │\n",
       "│ 040           ┆ 6809          │\n",
       "│ 190           ┆ 5433          │\n",
       "│ 036           ┆ 4064          │\n",
       "│ 173           ┆ 3709          │\n",
       "│ 046           ┆ 3576          │\n",
       "└───────────────┴───────────────┘"
      ]
     },
     "metadata": {},
     "output_type": "display_data"
    },
    {
     "data": {
      "text/html": [
       "<div><style>\n",
       ".dataframe > thead > tr,\n",
       ".dataframe > tbody > tr {\n",
       "  text-align: right;\n",
       "  white-space: pre-wrap;\n",
       "}\n",
       "</style>\n",
       "<small>shape: (10, 2)</small><table border=\"1\" class=\"dataframe\"><thead><tr><th>EventRootCode</th><th>GLOBALEVENTID</th></tr><tr><td>str</td><td>u32</td></tr></thead><tbody><tr><td>&quot;04&quot;</td><td>28080</td></tr><tr><td>&quot;01&quot;</td><td>16230</td></tr><tr><td>&quot;05&quot;</td><td>9679</td></tr><tr><td>&quot;02&quot;</td><td>8552</td></tr><tr><td>&quot;19&quot;</td><td>8399</td></tr><tr><td>&quot;11&quot;</td><td>7999</td></tr><tr><td>&quot;03&quot;</td><td>7007</td></tr><tr><td>&quot;17&quot;</td><td>5534</td></tr><tr><td>&quot;08&quot;</td><td>4241</td></tr><tr><td>&quot;07&quot;</td><td>4206</td></tr></tbody></table></div>"
      ],
      "text/plain": [
       "shape: (10, 2)\n",
       "┌───────────────┬───────────────┐\n",
       "│ EventRootCode ┆ GLOBALEVENTID │\n",
       "│ ---           ┆ ---           │\n",
       "│ str           ┆ u32           │\n",
       "╞═══════════════╪═══════════════╡\n",
       "│ 04            ┆ 28080         │\n",
       "│ 01            ┆ 16230         │\n",
       "│ 05            ┆ 9679          │\n",
       "│ 02            ┆ 8552          │\n",
       "│ 19            ┆ 8399          │\n",
       "│ 11            ┆ 7999          │\n",
       "│ 03            ┆ 7007          │\n",
       "│ 17            ┆ 5534          │\n",
       "│ 08            ┆ 4241          │\n",
       "│ 07            ┆ 4206          │\n",
       "└───────────────┴───────────────┘"
      ]
     },
     "metadata": {},
     "output_type": "display_data"
    },
    {
     "data": {
      "text/html": [
       "<div><style>\n",
       ".dataframe > thead > tr,\n",
       ".dataframe > tbody > tr {\n",
       "  text-align: right;\n",
       "  white-space: pre-wrap;\n",
       "}\n",
       "</style>\n",
       "<small>shape: (4, 2)</small><table border=\"1\" class=\"dataframe\"><thead><tr><th>QuadClass</th><th>GLOBALEVENTID</th></tr><tr><td>str</td><td>u32</td></tr></thead><tbody><tr><td>&quot;1&quot;</td><td>69548</td></tr><tr><td>&quot;4&quot;</td><td>18063</td></tr><tr><td>&quot;3&quot;</td><td>15654</td></tr><tr><td>&quot;2&quot;</td><td>13685</td></tr></tbody></table></div>"
      ],
      "text/plain": [
       "shape: (4, 2)\n",
       "┌───────────┬───────────────┐\n",
       "│ QuadClass ┆ GLOBALEVENTID │\n",
       "│ ---       ┆ ---           │\n",
       "│ str       ┆ u32           │\n",
       "╞═══════════╪═══════════════╡\n",
       "│ 1         ┆ 69548         │\n",
       "│ 4         ┆ 18063         │\n",
       "│ 3         ┆ 15654         │\n",
       "│ 2         ┆ 13685         │\n",
       "└───────────┴───────────────┘"
      ]
     },
     "metadata": {},
     "output_type": "display_data"
    },
    {
     "data": {
      "text/html": [
       "<div><style>\n",
       ".dataframe > thead > tr,\n",
       ".dataframe > tbody > tr {\n",
       "  text-align: right;\n",
       "  white-space: pre-wrap;\n",
       "}\n",
       "</style>\n",
       "<small>shape: (10, 2)</small><table border=\"1\" class=\"dataframe\"><thead><tr><th>GoldsteinScale</th><th>GLOBALEVENTID</th></tr><tr><td>str</td><td>u32</td></tr></thead><tbody><tr><td>&quot;0.0&quot;</td><td>11577</td></tr><tr><td>&quot;-2.0&quot;</td><td>10720</td></tr><tr><td>&quot;1.9&quot;</td><td>8846</td></tr><tr><td>&quot;2.8&quot;</td><td>8315</td></tr><tr><td>&quot;-10.0&quot;</td><td>8181</td></tr><tr><td>&quot;3.4&quot;</td><td>7787</td></tr><tr><td>&quot;7.0&quot;</td><td>7398</td></tr><tr><td>&quot;3.0&quot;</td><td>7063</td></tr><tr><td>&quot;-5.0&quot;</td><td>7043</td></tr><tr><td>&quot;1.0&quot;</td><td>7000</td></tr></tbody></table></div>"
      ],
      "text/plain": [
       "shape: (10, 2)\n",
       "┌────────────────┬───────────────┐\n",
       "│ GoldsteinScale ┆ GLOBALEVENTID │\n",
       "│ ---            ┆ ---           │\n",
       "│ str            ┆ u32           │\n",
       "╞════════════════╪═══════════════╡\n",
       "│ 0.0            ┆ 11577         │\n",
       "│ -2.0           ┆ 10720         │\n",
       "│ 1.9            ┆ 8846          │\n",
       "│ 2.8            ┆ 8315          │\n",
       "│ -10.0          ┆ 8181          │\n",
       "│ 3.4            ┆ 7787          │\n",
       "│ 7.0            ┆ 7398          │\n",
       "│ 3.0            ┆ 7063          │\n",
       "│ -5.0           ┆ 7043          │\n",
       "│ 1.0            ┆ 7000          │\n",
       "└────────────────┴───────────────┘"
      ]
     },
     "metadata": {},
     "output_type": "display_data"
    },
    {
     "data": {
      "text/html": [
       "<div><style>\n",
       ".dataframe > thead > tr,\n",
       ".dataframe > tbody > tr {\n",
       "  text-align: right;\n",
       "  white-space: pre-wrap;\n",
       "}\n",
       "</style>\n",
       "<small>shape: (10, 2)</small><table border=\"1\" class=\"dataframe\"><thead><tr><th>NumMentions</th><th>GLOBALEVENTID</th></tr><tr><td>str</td><td>u32</td></tr></thead><tbody><tr><td>&quot;2&quot;</td><td>25293</td></tr><tr><td>&quot;10&quot;</td><td>14366</td></tr><tr><td>&quot;4&quot;</td><td>14103</td></tr><tr><td>&quot;1&quot;</td><td>13541</td></tr><tr><td>&quot;6&quot;</td><td>10161</td></tr><tr><td>&quot;8&quot;</td><td>6844</td></tr><tr><td>&quot;3&quot;</td><td>6810</td></tr><tr><td>&quot;5&quot;</td><td>6752</td></tr><tr><td>&quot;20&quot;</td><td>2274</td></tr><tr><td>&quot;12&quot;</td><td>2113</td></tr></tbody></table></div>"
      ],
      "text/plain": [
       "shape: (10, 2)\n",
       "┌─────────────┬───────────────┐\n",
       "│ NumMentions ┆ GLOBALEVENTID │\n",
       "│ ---         ┆ ---           │\n",
       "│ str         ┆ u32           │\n",
       "╞═════════════╪═══════════════╡\n",
       "│ 2           ┆ 25293         │\n",
       "│ 10          ┆ 14366         │\n",
       "│ 4           ┆ 14103         │\n",
       "│ 1           ┆ 13541         │\n",
       "│ 6           ┆ 10161         │\n",
       "│ 8           ┆ 6844          │\n",
       "│ 3           ┆ 6810          │\n",
       "│ 5           ┆ 6752          │\n",
       "│ 20          ┆ 2274          │\n",
       "│ 12          ┆ 2113          │\n",
       "└─────────────┴───────────────┘"
      ]
     },
     "metadata": {},
     "output_type": "display_data"
    },
    {
     "data": {
      "text/html": [
       "<div><style>\n",
       ".dataframe > thead > tr,\n",
       ".dataframe > tbody > tr {\n",
       "  text-align: right;\n",
       "  white-space: pre-wrap;\n",
       "}\n",
       "</style>\n",
       "<small>shape: (10, 2)</small><table border=\"1\" class=\"dataframe\"><thead><tr><th>NumSources</th><th>GLOBALEVENTID</th></tr><tr><td>str</td><td>u32</td></tr></thead><tbody><tr><td>&quot;1&quot;</td><td>92194</td></tr><tr><td>&quot;2&quot;</td><td>11375</td></tr><tr><td>&quot;3&quot;</td><td>4029</td></tr><tr><td>&quot;4&quot;</td><td>2094</td></tr><tr><td>&quot;5&quot;</td><td>1331</td></tr><tr><td>&quot;6&quot;</td><td>885</td></tr><tr><td>&quot;7&quot;</td><td>600</td></tr><tr><td>&quot;8&quot;</td><td>536</td></tr><tr><td>&quot;10&quot;</td><td>426</td></tr><tr><td>&quot;9&quot;</td><td>330</td></tr></tbody></table></div>"
      ],
      "text/plain": [
       "shape: (10, 2)\n",
       "┌────────────┬───────────────┐\n",
       "│ NumSources ┆ GLOBALEVENTID │\n",
       "│ ---        ┆ ---           │\n",
       "│ str        ┆ u32           │\n",
       "╞════════════╪═══════════════╡\n",
       "│ 1          ┆ 92194         │\n",
       "│ 2          ┆ 11375         │\n",
       "│ 3          ┆ 4029          │\n",
       "│ 4          ┆ 2094          │\n",
       "│ 5          ┆ 1331          │\n",
       "│ 6          ┆ 885           │\n",
       "│ 7          ┆ 600           │\n",
       "│ 8          ┆ 536           │\n",
       "│ 10         ┆ 426           │\n",
       "│ 9          ┆ 330           │\n",
       "└────────────┴───────────────┘"
      ]
     },
     "metadata": {},
     "output_type": "display_data"
    },
    {
     "data": {
      "text/html": [
       "<div><style>\n",
       ".dataframe > thead > tr,\n",
       ".dataframe > tbody > tr {\n",
       "  text-align: right;\n",
       "  white-space: pre-wrap;\n",
       "}\n",
       "</style>\n",
       "<small>shape: (10, 2)</small><table border=\"1\" class=\"dataframe\"><thead><tr><th>NumArticles</th><th>GLOBALEVENTID</th></tr><tr><td>str</td><td>u32</td></tr></thead><tbody><tr><td>&quot;2&quot;</td><td>25497</td></tr><tr><td>&quot;10&quot;</td><td>14779</td></tr><tr><td>&quot;4&quot;</td><td>14216</td></tr><tr><td>&quot;1&quot;</td><td>13576</td></tr><tr><td>&quot;6&quot;</td><td>10178</td></tr><tr><td>&quot;8&quot;</td><td>6872</td></tr><tr><td>&quot;3&quot;</td><td>6816</td></tr><tr><td>&quot;5&quot;</td><td>6789</td></tr><tr><td>&quot;20&quot;</td><td>2154</td></tr><tr><td>&quot;12&quot;</td><td>1987</td></tr></tbody></table></div>"
      ],
      "text/plain": [
       "shape: (10, 2)\n",
       "┌─────────────┬───────────────┐\n",
       "│ NumArticles ┆ GLOBALEVENTID │\n",
       "│ ---         ┆ ---           │\n",
       "│ str         ┆ u32           │\n",
       "╞═════════════╪═══════════════╡\n",
       "│ 2           ┆ 25497         │\n",
       "│ 10          ┆ 14779         │\n",
       "│ 4           ┆ 14216         │\n",
       "│ 1           ┆ 13576         │\n",
       "│ 6           ┆ 10178         │\n",
       "│ 8           ┆ 6872          │\n",
       "│ 3           ┆ 6816          │\n",
       "│ 5           ┆ 6789          │\n",
       "│ 20          ┆ 2154          │\n",
       "│ 12          ┆ 1987          │\n",
       "└─────────────┴───────────────┘"
      ]
     },
     "metadata": {},
     "output_type": "display_data"
    },
    {
     "data": {
      "text/html": [
       "<div><style>\n",
       ".dataframe > thead > tr,\n",
       ".dataframe > tbody > tr {\n",
       "  text-align: right;\n",
       "  white-space: pre-wrap;\n",
       "}\n",
       "</style>\n",
       "<small>shape: (10, 2)</small><table border=\"1\" class=\"dataframe\"><thead><tr><th>AvgTone</th><th>GLOBALEVENTID</th></tr><tr><td>str</td><td>u32</td></tr></thead><tbody><tr><td>&quot;0&quot;</td><td>2236</td></tr><tr><td>&quot;-6.25&quot;</td><td>142</td></tr><tr><td>&quot;-5.88235294117…</td><td>119</td></tr><tr><td>&quot;-2.5&quot;</td><td>106</td></tr><tr><td>&quot;-7.10710710710…</td><td>100</td></tr><tr><td>&quot;-6.02836879432…</td><td>96</td></tr><tr><td>&quot;2.811244979919…</td><td>89</td></tr><tr><td>&quot;-3.44827586206…</td><td>89</td></tr><tr><td>&quot;-5&quot;</td><td>88</td></tr><tr><td>&quot;-2.43902439024…</td><td>86</td></tr></tbody></table></div>"
      ],
      "text/plain": [
       "shape: (10, 2)\n",
       "┌───────────────────┬───────────────┐\n",
       "│ AvgTone           ┆ GLOBALEVENTID │\n",
       "│ ---               ┆ ---           │\n",
       "│ str               ┆ u32           │\n",
       "╞═══════════════════╪═══════════════╡\n",
       "│ 0                 ┆ 2236          │\n",
       "│ -6.25             ┆ 142           │\n",
       "│ -5.88235294117647 ┆ 119           │\n",
       "│ -2.5              ┆ 106           │\n",
       "│ -7.1071071071071  ┆ 100           │\n",
       "│ -6.02836879432624 ┆ 96            │\n",
       "│ 2.81124497991968  ┆ 89            │\n",
       "│ -3.44827586206897 ┆ 89            │\n",
       "│ -5                ┆ 88            │\n",
       "│ -2.4390243902439  ┆ 86            │\n",
       "└───────────────────┴───────────────┘"
      ]
     },
     "metadata": {},
     "output_type": "display_data"
    },
    {
     "data": {
      "text/html": [
       "<div><style>\n",
       ".dataframe > thead > tr,\n",
       ".dataframe > tbody > tr {\n",
       "  text-align: right;\n",
       "  white-space: pre-wrap;\n",
       "}\n",
       "</style>\n",
       "<small>shape: (6, 2)</small><table border=\"1\" class=\"dataframe\"><thead><tr><th>Actor1Geo_Type</th><th>GLOBALEVENTID</th></tr><tr><td>str</td><td>u32</td></tr></thead><tbody><tr><td>&quot;4&quot;</td><td>48243</td></tr><tr><td>&quot;1&quot;</td><td>23393</td></tr><tr><td>&quot;3&quot;</td><td>15332</td></tr><tr><td>&quot;0&quot;</td><td>14243</td></tr><tr><td>&quot;2&quot;</td><td>13273</td></tr><tr><td>&quot;5&quot;</td><td>2466</td></tr></tbody></table></div>"
      ],
      "text/plain": [
       "shape: (6, 2)\n",
       "┌────────────────┬───────────────┐\n",
       "│ Actor1Geo_Type ┆ GLOBALEVENTID │\n",
       "│ ---            ┆ ---           │\n",
       "│ str            ┆ u32           │\n",
       "╞════════════════╪═══════════════╡\n",
       "│ 4              ┆ 48243         │\n",
       "│ 1              ┆ 23393         │\n",
       "│ 3              ┆ 15332         │\n",
       "│ 0              ┆ 14243         │\n",
       "│ 2              ┆ 13273         │\n",
       "│ 5              ┆ 2466          │\n",
       "└────────────────┴───────────────┘"
      ]
     },
     "metadata": {},
     "output_type": "display_data"
    },
    {
     "data": {
      "text/html": [
       "<div><style>\n",
       ".dataframe > thead > tr,\n",
       ".dataframe > tbody > tr {\n",
       "  text-align: right;\n",
       "  white-space: pre-wrap;\n",
       "}\n",
       "</style>\n",
       "<small>shape: (10, 2)</small><table border=\"1\" class=\"dataframe\"><thead><tr><th>Actor1Geo_FullName</th><th>GLOBALEVENTID</th></tr><tr><td>str</td><td>u32</td></tr></thead><tbody><tr><td>null</td><td>14256</td></tr><tr><td>&quot;Gaza, Israel (…</td><td>3886</td></tr><tr><td>&quot;United Kingdom…</td><td>1750</td></tr><tr><td>&quot;United States&quot;</td><td>1747</td></tr><tr><td>&quot;Tehran, Tehran…</td><td>1390</td></tr><tr><td>&quot;New York, Unit…</td><td>1390</td></tr><tr><td>&quot;Washington, Di…</td><td>1228</td></tr><tr><td>&quot;California, Un…</td><td>1046</td></tr><tr><td>&quot;Kyiv, Kyyiv, M…</td><td>1028</td></tr><tr><td>&quot;London, London…</td><td>995</td></tr></tbody></table></div>"
      ],
      "text/plain": [
       "shape: (10, 2)\n",
       "┌───────────────────────────────────┬───────────────┐\n",
       "│ Actor1Geo_FullName                ┆ GLOBALEVENTID │\n",
       "│ ---                               ┆ ---           │\n",
       "│ str                               ┆ u32           │\n",
       "╞═══════════════════════════════════╪═══════════════╡\n",
       "│ null                              ┆ 14256         │\n",
       "│ Gaza, Israel (general), Israel    ┆ 3886          │\n",
       "│ United Kingdom                    ┆ 1750          │\n",
       "│ United States                     ┆ 1747          │\n",
       "│ Tehran, Tehran, Iran              ┆ 1390          │\n",
       "│ New York, United States           ┆ 1390          │\n",
       "│ Washington, District of Columbia… ┆ 1228          │\n",
       "│ California, United States         ┆ 1046          │\n",
       "│ Kyiv, Kyyiv, Misto, Ukraine       ┆ 1028          │\n",
       "│ London, London, City of, United … ┆ 995           │\n",
       "└───────────────────────────────────┴───────────────┘"
      ]
     },
     "metadata": {},
     "output_type": "display_data"
    },
    {
     "data": {
      "text/html": [
       "<div><style>\n",
       ".dataframe > thead > tr,\n",
       ".dataframe > tbody > tr {\n",
       "  text-align: right;\n",
       "  white-space: pre-wrap;\n",
       "}\n",
       "</style>\n",
       "<small>shape: (10, 2)</small><table border=\"1\" class=\"dataframe\"><thead><tr><th>Actor1Geo_CountryCode</th><th>GLOBALEVENTID</th></tr><tr><td>str</td><td>u32</td></tr></thead><tbody><tr><td>&quot;US&quot;</td><td>30352</td></tr><tr><td>null</td><td>14230</td></tr><tr><td>&quot;UK&quot;</td><td>6341</td></tr><tr><td>&quot;IS&quot;</td><td>6075</td></tr><tr><td>&quot;IN&quot;</td><td>5515</td></tr><tr><td>&quot;RS&quot;</td><td>3423</td></tr><tr><td>&quot;NI&quot;</td><td>3051</td></tr><tr><td>&quot;AS&quot;</td><td>2778</td></tr><tr><td>&quot;UP&quot;</td><td>2604</td></tr><tr><td>&quot;CA&quot;</td><td>2419</td></tr></tbody></table></div>"
      ],
      "text/plain": [
       "shape: (10, 2)\n",
       "┌───────────────────────┬───────────────┐\n",
       "│ Actor1Geo_CountryCode ┆ GLOBALEVENTID │\n",
       "│ ---                   ┆ ---           │\n",
       "│ str                   ┆ u32           │\n",
       "╞═══════════════════════╪═══════════════╡\n",
       "│ US                    ┆ 30352         │\n",
       "│ null                  ┆ 14230         │\n",
       "│ UK                    ┆ 6341          │\n",
       "│ IS                    ┆ 6075          │\n",
       "│ IN                    ┆ 5515          │\n",
       "│ RS                    ┆ 3423          │\n",
       "│ NI                    ┆ 3051          │\n",
       "│ AS                    ┆ 2778          │\n",
       "│ UP                    ┆ 2604          │\n",
       "│ CA                    ┆ 2419          │\n",
       "└───────────────────────┴───────────────┘"
      ]
     },
     "metadata": {},
     "output_type": "display_data"
    },
    {
     "data": {
      "text/html": [
       "<div><style>\n",
       ".dataframe > thead > tr,\n",
       ".dataframe > tbody > tr {\n",
       "  text-align: right;\n",
       "  white-space: pre-wrap;\n",
       "}\n",
       "</style>\n",
       "<small>shape: (10, 2)</small><table border=\"1\" class=\"dataframe\"><thead><tr><th>Actor1Geo_ADM1Code</th><th>GLOBALEVENTID</th></tr><tr><td>str</td><td>u32</td></tr></thead><tbody><tr><td>null</td><td>14230</td></tr><tr><td>&quot;IS00&quot;</td><td>4586</td></tr><tr><td>&quot;USCA&quot;</td><td>2957</td></tr><tr><td>&quot;USNY&quot;</td><td>2303</td></tr><tr><td>&quot;USTX&quot;</td><td>2157</td></tr><tr><td>&quot;USDC&quot;</td><td>2026</td></tr><tr><td>&quot;UK&quot;</td><td>1750</td></tr><tr><td>&quot;US&quot;</td><td>1747</td></tr><tr><td>&quot;IR26&quot;</td><td>1399</td></tr><tr><td>&quot;USFL&quot;</td><td>1389</td></tr></tbody></table></div>"
      ],
      "text/plain": [
       "shape: (10, 2)\n",
       "┌────────────────────┬───────────────┐\n",
       "│ Actor1Geo_ADM1Code ┆ GLOBALEVENTID │\n",
       "│ ---                ┆ ---           │\n",
       "│ str                ┆ u32           │\n",
       "╞════════════════════╪═══════════════╡\n",
       "│ null               ┆ 14230         │\n",
       "│ IS00               ┆ 4586          │\n",
       "│ USCA               ┆ 2957          │\n",
       "│ USNY               ┆ 2303          │\n",
       "│ USTX               ┆ 2157          │\n",
       "│ USDC               ┆ 2026          │\n",
       "│ UK                 ┆ 1750          │\n",
       "│ US                 ┆ 1747          │\n",
       "│ IR26               ┆ 1399          │\n",
       "│ USFL               ┆ 1389          │\n",
       "└────────────────────┴───────────────┘"
      ]
     },
     "metadata": {},
     "output_type": "display_data"
    },
    {
     "data": {
      "text/html": [
       "<div><style>\n",
       ".dataframe > thead > tr,\n",
       ".dataframe > tbody > tr {\n",
       "  text-align: right;\n",
       "  white-space: pre-wrap;\n",
       "}\n",
       "</style>\n",
       "<small>shape: (10, 2)</small><table border=\"1\" class=\"dataframe\"><thead><tr><th>Actor1Geo_Lat</th><th>GLOBALEVENTID</th></tr><tr><td>str</td><td>u32</td></tr></thead><tbody><tr><td>null</td><td>14257</td></tr><tr><td>&quot;31.4167&quot;</td><td>4070</td></tr><tr><td>&quot;38.8951&quot;</td><td>1908</td></tr><tr><td>&quot;51.5&quot;</td><td>1860</td></tr><tr><td>&quot;54&quot;</td><td>1780</td></tr><tr><td>&quot;39.828175&quot;</td><td>1747</td></tr><tr><td>&quot;35.75&quot;</td><td>1392</td></tr><tr><td>&quot;42.1497&quot;</td><td>1390</td></tr><tr><td>&quot;50.4333&quot;</td><td>1146</td></tr><tr><td>&quot;60&quot;</td><td>1106</td></tr></tbody></table></div>"
      ],
      "text/plain": [
       "shape: (10, 2)\n",
       "┌───────────────┬───────────────┐\n",
       "│ Actor1Geo_Lat ┆ GLOBALEVENTID │\n",
       "│ ---           ┆ ---           │\n",
       "│ str           ┆ u32           │\n",
       "╞═══════════════╪═══════════════╡\n",
       "│ null          ┆ 14257         │\n",
       "│ 31.4167       ┆ 4070          │\n",
       "│ 38.8951       ┆ 1908          │\n",
       "│ 51.5          ┆ 1860          │\n",
       "│ 54            ┆ 1780          │\n",
       "│ 39.828175     ┆ 1747          │\n",
       "│ 35.75         ┆ 1392          │\n",
       "│ 42.1497       ┆ 1390          │\n",
       "│ 50.4333       ┆ 1146          │\n",
       "│ 60            ┆ 1106          │\n",
       "└───────────────┴───────────────┘"
      ]
     },
     "metadata": {},
     "output_type": "display_data"
    },
    {
     "data": {
      "text/html": [
       "<div><style>\n",
       ".dataframe > thead > tr,\n",
       ".dataframe > tbody > tr {\n",
       "  text-align: right;\n",
       "  white-space: pre-wrap;\n",
       "}\n",
       "</style>\n",
       "<small>shape: (10, 2)</small><table border=\"1\" class=\"dataframe\"><thead><tr><th>Actor1Geo_Long</th><th>GLOBALEVENTID</th></tr><tr><td>str</td><td>u32</td></tr></thead><tbody><tr><td>null</td><td>14244</td></tr><tr><td>&quot;34.3333&quot;</td><td>4070</td></tr><tr><td>&quot;-4&quot;</td><td>2049</td></tr><tr><td>&quot;-77.0364&quot;</td><td>1908</td></tr><tr><td>&quot;-98.5795&quot;</td><td>1747</td></tr><tr><td>&quot;51.5148&quot;</td><td>1390</td></tr><tr><td>&quot;-74.9384&quot;</td><td>1390</td></tr><tr><td>&quot;30.5167&quot;</td><td>1145</td></tr><tr><td>&quot;37.6156&quot;</td><td>1064</td></tr><tr><td>&quot;-119.746&quot;</td><td>1046</td></tr></tbody></table></div>"
      ],
      "text/plain": [
       "shape: (10, 2)\n",
       "┌────────────────┬───────────────┐\n",
       "│ Actor1Geo_Long ┆ GLOBALEVENTID │\n",
       "│ ---            ┆ ---           │\n",
       "│ str            ┆ u32           │\n",
       "╞════════════════╪═══════════════╡\n",
       "│ null           ┆ 14244         │\n",
       "│ 34.3333        ┆ 4070          │\n",
       "│ -4             ┆ 2049          │\n",
       "│ -77.0364       ┆ 1908          │\n",
       "│ -98.5795       ┆ 1747          │\n",
       "│ 51.5148        ┆ 1390          │\n",
       "│ -74.9384       ┆ 1390          │\n",
       "│ 30.5167        ┆ 1145          │\n",
       "│ 37.6156        ┆ 1064          │\n",
       "│ -119.746       ┆ 1046          │\n",
       "└────────────────┴───────────────┘"
      ]
     },
     "metadata": {},
     "output_type": "display_data"
    },
    {
     "data": {
      "text/html": [
       "<div><style>\n",
       ".dataframe > thead > tr,\n",
       ".dataframe > tbody > tr {\n",
       "  text-align: right;\n",
       "  white-space: pre-wrap;\n",
       "}\n",
       "</style>\n",
       "<small>shape: (10, 2)</small><table border=\"1\" class=\"dataframe\"><thead><tr><th>Actor1Geo_FeatureID</th><th>GLOBALEVENTID</th></tr><tr><td>str</td><td>u32</td></tr></thead><tbody><tr><td>null</td><td>14230</td></tr><tr><td>&quot;-797156&quot;</td><td>4070</td></tr><tr><td>&quot;531871&quot;</td><td>1908</td></tr><tr><td>&quot;UK&quot;</td><td>1750</td></tr><tr><td>&quot;US&quot;</td><td>1747</td></tr><tr><td>&quot;CA&quot;</td><td>1551</td></tr><tr><td>&quot;NY&quot;</td><td>1390</td></tr><tr><td>&quot;10074674&quot;</td><td>1390</td></tr><tr><td>&quot;-1044367&quot;</td><td>1145</td></tr><tr><td>&quot;-2960561&quot;</td><td>1064</td></tr></tbody></table></div>"
      ],
      "text/plain": [
       "shape: (10, 2)\n",
       "┌─────────────────────┬───────────────┐\n",
       "│ Actor1Geo_FeatureID ┆ GLOBALEVENTID │\n",
       "│ ---                 ┆ ---           │\n",
       "│ str                 ┆ u32           │\n",
       "╞═════════════════════╪═══════════════╡\n",
       "│ null                ┆ 14230         │\n",
       "│ -797156             ┆ 4070          │\n",
       "│ 531871              ┆ 1908          │\n",
       "│ UK                  ┆ 1750          │\n",
       "│ US                  ┆ 1747          │\n",
       "│ CA                  ┆ 1551          │\n",
       "│ NY                  ┆ 1390          │\n",
       "│ 10074674            ┆ 1390          │\n",
       "│ -1044367            ┆ 1145          │\n",
       "│ -2960561            ┆ 1064          │\n",
       "└─────────────────────┴───────────────┘"
      ]
     },
     "metadata": {},
     "output_type": "display_data"
    },
    {
     "data": {
      "text/html": [
       "<div><style>\n",
       ".dataframe > thead > tr,\n",
       ".dataframe > tbody > tr {\n",
       "  text-align: right;\n",
       "  white-space: pre-wrap;\n",
       "}\n",
       "</style>\n",
       "<small>shape: (6, 2)</small><table border=\"1\" class=\"dataframe\"><thead><tr><th>Actor2Geo_Type</th><th>GLOBALEVENTID</th></tr><tr><td>str</td><td>u32</td></tr></thead><tbody><tr><td>&quot;4&quot;</td><td>39324</td></tr><tr><td>&quot;0&quot;</td><td>35475</td></tr><tr><td>&quot;1&quot;</td><td>19410</td></tr><tr><td>&quot;3&quot;</td><td>11079</td></tr><tr><td>&quot;2&quot;</td><td>9813</td></tr><tr><td>&quot;5&quot;</td><td>1849</td></tr></tbody></table></div>"
      ],
      "text/plain": [
       "shape: (6, 2)\n",
       "┌────────────────┬───────────────┐\n",
       "│ Actor2Geo_Type ┆ GLOBALEVENTID │\n",
       "│ ---            ┆ ---           │\n",
       "│ str            ┆ u32           │\n",
       "╞════════════════╪═══════════════╡\n",
       "│ 4              ┆ 39324         │\n",
       "│ 0              ┆ 35475         │\n",
       "│ 1              ┆ 19410         │\n",
       "│ 3              ┆ 11079         │\n",
       "│ 2              ┆ 9813          │\n",
       "│ 5              ┆ 1849          │\n",
       "└────────────────┴───────────────┘"
      ]
     },
     "metadata": {},
     "output_type": "display_data"
    },
    {
     "data": {
      "text/html": [
       "<div><style>\n",
       ".dataframe > thead > tr,\n",
       ".dataframe > tbody > tr {\n",
       "  text-align: right;\n",
       "  white-space: pre-wrap;\n",
       "}\n",
       "</style>\n",
       "<small>shape: (10, 2)</small><table border=\"1\" class=\"dataframe\"><thead><tr><th>Actor2Geo_FullName</th><th>GLOBALEVENTID</th></tr><tr><td>str</td><td>u32</td></tr></thead><tbody><tr><td>null</td><td>35483</td></tr><tr><td>&quot;Gaza, Israel (…</td><td>3903</td></tr><tr><td>&quot;United States&quot;</td><td>1445</td></tr><tr><td>&quot;United Kingdom…</td><td>1423</td></tr><tr><td>&quot;Tehran, Tehran…</td><td>1272</td></tr><tr><td>&quot;New York, Unit…</td><td>1050</td></tr><tr><td>&quot;Washington, Di…</td><td>1027</td></tr><tr><td>&quot;Kyiv, Kyyiv, M…</td><td>1008</td></tr><tr><td>&quot;Israel&quot;</td><td>915</td></tr><tr><td>&quot;Kursk, Kurskay…</td><td>873</td></tr></tbody></table></div>"
      ],
      "text/plain": [
       "shape: (10, 2)\n",
       "┌───────────────────────────────────┬───────────────┐\n",
       "│ Actor2Geo_FullName                ┆ GLOBALEVENTID │\n",
       "│ ---                               ┆ ---           │\n",
       "│ str                               ┆ u32           │\n",
       "╞═══════════════════════════════════╪═══════════════╡\n",
       "│ null                              ┆ 35483         │\n",
       "│ Gaza, Israel (general), Israel    ┆ 3903          │\n",
       "│ United States                     ┆ 1445          │\n",
       "│ United Kingdom                    ┆ 1423          │\n",
       "│ Tehran, Tehran, Iran              ┆ 1272          │\n",
       "│ New York, United States           ┆ 1050          │\n",
       "│ Washington, District of Columbia… ┆ 1027          │\n",
       "│ Kyiv, Kyyiv, Misto, Ukraine       ┆ 1008          │\n",
       "│ Israel                            ┆ 915           │\n",
       "│ Kursk, Kurskaya Oblast', Russia   ┆ 873           │\n",
       "└───────────────────────────────────┴───────────────┘"
      ]
     },
     "metadata": {},
     "output_type": "display_data"
    },
    {
     "data": {
      "text/html": [
       "<div><style>\n",
       ".dataframe > thead > tr,\n",
       ".dataframe > tbody > tr {\n",
       "  text-align: right;\n",
       "  white-space: pre-wrap;\n",
       "}\n",
       "</style>\n",
       "<small>shape: (10, 2)</small><table border=\"1\" class=\"dataframe\"><thead><tr><th>Actor2Geo_CountryCode</th><th>GLOBALEVENTID</th></tr><tr><td>str</td><td>u32</td></tr></thead><tbody><tr><td>null</td><td>35459</td></tr><tr><td>&quot;US&quot;</td><td>22337</td></tr><tr><td>&quot;IS&quot;</td><td>5928</td></tr><tr><td>&quot;UK&quot;</td><td>4926</td></tr><tr><td>&quot;IN&quot;</td><td>3934</td></tr><tr><td>&quot;RS&quot;</td><td>3058</td></tr><tr><td>&quot;UP&quot;</td><td>2431</td></tr><tr><td>&quot;NI&quot;</td><td>2396</td></tr><tr><td>&quot;BG&quot;</td><td>2038</td></tr><tr><td>&quot;CH&quot;</td><td>1995</td></tr></tbody></table></div>"
      ],
      "text/plain": [
       "shape: (10, 2)\n",
       "┌───────────────────────┬───────────────┐\n",
       "│ Actor2Geo_CountryCode ┆ GLOBALEVENTID │\n",
       "│ ---                   ┆ ---           │\n",
       "│ str                   ┆ u32           │\n",
       "╞═══════════════════════╪═══════════════╡\n",
       "│ null                  ┆ 35459         │\n",
       "│ US                    ┆ 22337         │\n",
       "│ IS                    ┆ 5928          │\n",
       "│ UK                    ┆ 4926          │\n",
       "│ IN                    ┆ 3934          │\n",
       "│ RS                    ┆ 3058          │\n",
       "│ UP                    ┆ 2431          │\n",
       "│ NI                    ┆ 2396          │\n",
       "│ BG                    ┆ 2038          │\n",
       "│ CH                    ┆ 1995          │\n",
       "└───────────────────────┴───────────────┘"
      ]
     },
     "metadata": {},
     "output_type": "display_data"
    },
    {
     "data": {
      "text/html": [
       "<div><style>\n",
       ".dataframe > thead > tr,\n",
       ".dataframe > tbody > tr {\n",
       "  text-align: right;\n",
       "  white-space: pre-wrap;\n",
       "}\n",
       "</style>\n",
       "<small>shape: (10, 2)</small><table border=\"1\" class=\"dataframe\"><thead><tr><th>Actor2Geo_ADM1Code</th><th>GLOBALEVENTID</th></tr><tr><td>str</td><td>u32</td></tr></thead><tbody><tr><td>null</td><td>35459</td></tr><tr><td>&quot;IS00&quot;</td><td>4503</td></tr><tr><td>&quot;USCA&quot;</td><td>2200</td></tr><tr><td>&quot;USNY&quot;</td><td>1712</td></tr><tr><td>&quot;USDC&quot;</td><td>1612</td></tr><tr><td>&quot;USTX&quot;</td><td>1589</td></tr><tr><td>&quot;US&quot;</td><td>1445</td></tr><tr><td>&quot;UK&quot;</td><td>1423</td></tr><tr><td>&quot;IR26&quot;</td><td>1277</td></tr><tr><td>&quot;RS41&quot;</td><td>1064</td></tr></tbody></table></div>"
      ],
      "text/plain": [
       "shape: (10, 2)\n",
       "┌────────────────────┬───────────────┐\n",
       "│ Actor2Geo_ADM1Code ┆ GLOBALEVENTID │\n",
       "│ ---                ┆ ---           │\n",
       "│ str                ┆ u32           │\n",
       "╞════════════════════╪═══════════════╡\n",
       "│ null               ┆ 35459         │\n",
       "│ IS00               ┆ 4503          │\n",
       "│ USCA               ┆ 2200          │\n",
       "│ USNY               ┆ 1712          │\n",
       "│ USDC               ┆ 1612          │\n",
       "│ USTX               ┆ 1589          │\n",
       "│ US                 ┆ 1445          │\n",
       "│ UK                 ┆ 1423          │\n",
       "│ IR26               ┆ 1277          │\n",
       "│ RS41               ┆ 1064          │\n",
       "└────────────────────┴───────────────┘"
      ]
     },
     "metadata": {},
     "output_type": "display_data"
    },
    {
     "data": {
      "text/html": [
       "<div><style>\n",
       ".dataframe > thead > tr,\n",
       ".dataframe > tbody > tr {\n",
       "  text-align: right;\n",
       "  white-space: pre-wrap;\n",
       "}\n",
       "</style>\n",
       "<small>shape: (10, 2)</small><table border=\"1\" class=\"dataframe\"><thead><tr><th>Actor2Geo_Lat</th><th>GLOBALEVENTID</th></tr><tr><td>str</td><td>u32</td></tr></thead><tbody><tr><td>null</td><td>35486</td></tr><tr><td>&quot;31.4167&quot;</td><td>4085</td></tr><tr><td>&quot;38.8951&quot;</td><td>1531</td></tr><tr><td>&quot;51.5&quot;</td><td>1483</td></tr><tr><td>&quot;39.828175&quot;</td><td>1445</td></tr><tr><td>&quot;54&quot;</td><td>1441</td></tr><tr><td>&quot;35.75&quot;</td><td>1275</td></tr><tr><td>&quot;50.4333&quot;</td><td>1144</td></tr><tr><td>&quot;42.1497&quot;</td><td>1050</td></tr><tr><td>&quot;55.7522&quot;</td><td>985</td></tr></tbody></table></div>"
      ],
      "text/plain": [
       "shape: (10, 2)\n",
       "┌───────────────┬───────────────┐\n",
       "│ Actor2Geo_Lat ┆ GLOBALEVENTID │\n",
       "│ ---           ┆ ---           │\n",
       "│ str           ┆ u32           │\n",
       "╞═══════════════╪═══════════════╡\n",
       "│ null          ┆ 35486         │\n",
       "│ 31.4167       ┆ 4085          │\n",
       "│ 38.8951       ┆ 1531          │\n",
       "│ 51.5          ┆ 1483          │\n",
       "│ 39.828175     ┆ 1445          │\n",
       "│ 54            ┆ 1441          │\n",
       "│ 35.75         ┆ 1275          │\n",
       "│ 50.4333       ┆ 1144          │\n",
       "│ 42.1497       ┆ 1050          │\n",
       "│ 55.7522       ┆ 985           │\n",
       "└───────────────┴───────────────┘"
      ]
     },
     "metadata": {},
     "output_type": "display_data"
    },
    {
     "data": {
      "text/html": [
       "<div><style>\n",
       ".dataframe > thead > tr,\n",
       ".dataframe > tbody > tr {\n",
       "  text-align: right;\n",
       "  white-space: pre-wrap;\n",
       "}\n",
       "</style>\n",
       "<small>shape: (10, 2)</small><table border=\"1\" class=\"dataframe\"><thead><tr><th>Actor2Geo_Long</th><th>GLOBALEVENTID</th></tr><tr><td>str</td><td>u32</td></tr></thead><tbody><tr><td>null</td><td>35470</td></tr><tr><td>&quot;34.3333&quot;</td><td>4085</td></tr><tr><td>&quot;-4&quot;</td><td>1672</td></tr><tr><td>&quot;-77.0364&quot;</td><td>1531</td></tr><tr><td>&quot;-98.5795&quot;</td><td>1445</td></tr><tr><td>&quot;51.5148&quot;</td><td>1272</td></tr><tr><td>&quot;30.5167&quot;</td><td>1144</td></tr><tr><td>&quot;-74.9384&quot;</td><td>1050</td></tr><tr><td>&quot;37.6156&quot;</td><td>985</td></tr><tr><td>&quot;34.75&quot;</td><td>925</td></tr></tbody></table></div>"
      ],
      "text/plain": [
       "shape: (10, 2)\n",
       "┌────────────────┬───────────────┐\n",
       "│ Actor2Geo_Long ┆ GLOBALEVENTID │\n",
       "│ ---            ┆ ---           │\n",
       "│ str            ┆ u32           │\n",
       "╞════════════════╪═══════════════╡\n",
       "│ null           ┆ 35470         │\n",
       "│ 34.3333        ┆ 4085          │\n",
       "│ -4             ┆ 1672          │\n",
       "│ -77.0364       ┆ 1531          │\n",
       "│ -98.5795       ┆ 1445          │\n",
       "│ 51.5148        ┆ 1272          │\n",
       "│ 30.5167        ┆ 1144          │\n",
       "│ -74.9384       ┆ 1050          │\n",
       "│ 37.6156        ┆ 985           │\n",
       "│ 34.75          ┆ 925           │\n",
       "└────────────────┴───────────────┘"
      ]
     },
     "metadata": {},
     "output_type": "display_data"
    },
    {
     "data": {
      "text/html": [
       "<div><style>\n",
       ".dataframe > thead > tr,\n",
       ".dataframe > tbody > tr {\n",
       "  text-align: right;\n",
       "  white-space: pre-wrap;\n",
       "}\n",
       "</style>\n",
       "<small>shape: (10, 2)</small><table border=\"1\" class=\"dataframe\"><thead><tr><th>Actor2Geo_FeatureID</th><th>GLOBALEVENTID</th></tr><tr><td>str</td><td>u32</td></tr></thead><tbody><tr><td>null</td><td>35459</td></tr><tr><td>&quot;-797156&quot;</td><td>4085</td></tr><tr><td>&quot;531871&quot;</td><td>1531</td></tr><tr><td>&quot;US&quot;</td><td>1445</td></tr><tr><td>&quot;UK&quot;</td><td>1423</td></tr><tr><td>&quot;10074674&quot;</td><td>1272</td></tr><tr><td>&quot;CA&quot;</td><td>1227</td></tr><tr><td>&quot;-1044367&quot;</td><td>1144</td></tr><tr><td>&quot;NY&quot;</td><td>1050</td></tr><tr><td>&quot;-2960561&quot;</td><td>985</td></tr></tbody></table></div>"
      ],
      "text/plain": [
       "shape: (10, 2)\n",
       "┌─────────────────────┬───────────────┐\n",
       "│ Actor2Geo_FeatureID ┆ GLOBALEVENTID │\n",
       "│ ---                 ┆ ---           │\n",
       "│ str                 ┆ u32           │\n",
       "╞═════════════════════╪═══════════════╡\n",
       "│ null                ┆ 35459         │\n",
       "│ -797156             ┆ 4085          │\n",
       "│ 531871              ┆ 1531          │\n",
       "│ US                  ┆ 1445          │\n",
       "│ UK                  ┆ 1423          │\n",
       "│ 10074674            ┆ 1272          │\n",
       "│ CA                  ┆ 1227          │\n",
       "│ -1044367            ┆ 1144          │\n",
       "│ NY                  ┆ 1050          │\n",
       "│ -2960561            ┆ 985           │\n",
       "└─────────────────────┴───────────────┘"
      ]
     },
     "metadata": {},
     "output_type": "display_data"
    },
    {
     "data": {
      "text/html": [
       "<div><style>\n",
       ".dataframe > thead > tr,\n",
       ".dataframe > tbody > tr {\n",
       "  text-align: right;\n",
       "  white-space: pre-wrap;\n",
       "}\n",
       "</style>\n",
       "<small>shape: (6, 2)</small><table border=\"1\" class=\"dataframe\"><thead><tr><th>ActionGeo_Type</th><th>GLOBALEVENTID</th></tr><tr><td>str</td><td>u32</td></tr></thead><tbody><tr><td>&quot;4&quot;</td><td>53183</td></tr><tr><td>&quot;1&quot;</td><td>25270</td></tr><tr><td>&quot;3&quot;</td><td>17837</td></tr><tr><td>&quot;2&quot;</td><td>14585</td></tr><tr><td>&quot;0&quot;</td><td>3329</td></tr><tr><td>&quot;5&quot;</td><td>2746</td></tr></tbody></table></div>"
      ],
      "text/plain": [
       "shape: (6, 2)\n",
       "┌────────────────┬───────────────┐\n",
       "│ ActionGeo_Type ┆ GLOBALEVENTID │\n",
       "│ ---            ┆ ---           │\n",
       "│ str            ┆ u32           │\n",
       "╞════════════════╪═══════════════╡\n",
       "│ 4              ┆ 53183         │\n",
       "│ 1              ┆ 25270         │\n",
       "│ 3              ┆ 17837         │\n",
       "│ 2              ┆ 14585         │\n",
       "│ 0              ┆ 3329          │\n",
       "│ 5              ┆ 2746          │\n",
       "└────────────────┴───────────────┘"
      ]
     },
     "metadata": {},
     "output_type": "display_data"
    },
    {
     "data": {
      "text/html": [
       "<div><style>\n",
       ".dataframe > thead > tr,\n",
       ".dataframe > tbody > tr {\n",
       "  text-align: right;\n",
       "  white-space: pre-wrap;\n",
       "}\n",
       "</style>\n",
       "<small>shape: (10, 2)</small><table border=\"1\" class=\"dataframe\"><thead><tr><th>ActionGeo_FullName</th><th>GLOBALEVENTID</th></tr><tr><td>str</td><td>u32</td></tr></thead><tbody><tr><td>&quot;Gaza, Israel (…</td><td>4156</td></tr><tr><td>null</td><td>3348</td></tr><tr><td>&quot;United States&quot;</td><td>1940</td></tr><tr><td>&quot;United Kingdom…</td><td>1788</td></tr><tr><td>&quot;Tehran, Tehran…</td><td>1422</td></tr><tr><td>&quot;New York, Unit…</td><td>1398</td></tr><tr><td>&quot;Washington, Di…</td><td>1314</td></tr><tr><td>&quot;California, Un…</td><td>1163</td></tr><tr><td>&quot;Kyiv, Kyyiv, M…</td><td>1084</td></tr><tr><td>&quot;London, London…</td><td>1046</td></tr></tbody></table></div>"
      ],
      "text/plain": [
       "shape: (10, 2)\n",
       "┌───────────────────────────────────┬───────────────┐\n",
       "│ ActionGeo_FullName                ┆ GLOBALEVENTID │\n",
       "│ ---                               ┆ ---           │\n",
       "│ str                               ┆ u32           │\n",
       "╞═══════════════════════════════════╪═══════════════╡\n",
       "│ Gaza, Israel (general), Israel    ┆ 4156          │\n",
       "│ null                              ┆ 3348          │\n",
       "│ United States                     ┆ 1940          │\n",
       "│ United Kingdom                    ┆ 1788          │\n",
       "│ Tehran, Tehran, Iran              ┆ 1422          │\n",
       "│ New York, United States           ┆ 1398          │\n",
       "│ Washington, District of Columbia… ┆ 1314          │\n",
       "│ California, United States         ┆ 1163          │\n",
       "│ Kyiv, Kyyiv, Misto, Ukraine       ┆ 1084          │\n",
       "│ London, London, City of, United … ┆ 1046          │\n",
       "└───────────────────────────────────┴───────────────┘"
      ]
     },
     "metadata": {},
     "output_type": "display_data"
    },
    {
     "data": {
      "text/html": [
       "<div><style>\n",
       ".dataframe > thead > tr,\n",
       ".dataframe > tbody > tr {\n",
       "  text-align: right;\n",
       "  white-space: pre-wrap;\n",
       "}\n",
       "</style>\n",
       "<small>shape: (10, 2)</small><table border=\"1\" class=\"dataframe\"><thead><tr><th>ActionGeo_CountryCode</th><th>GLOBALEVENTID</th></tr><tr><td>str</td><td>u32</td></tr></thead><tbody><tr><td>&quot;US&quot;</td><td>34362</td></tr><tr><td>&quot;UK&quot;</td><td>7088</td></tr><tr><td>&quot;IS&quot;</td><td>6577</td></tr><tr><td>&quot;IN&quot;</td><td>6450</td></tr><tr><td>&quot;RS&quot;</td><td>3572</td></tr><tr><td>&quot;NI&quot;</td><td>3356</td></tr><tr><td>null</td><td>3302</td></tr><tr><td>&quot;AS&quot;</td><td>3052</td></tr><tr><td>&quot;UP&quot;</td><td>2734</td></tr><tr><td>&quot;CA&quot;</td><td>2732</td></tr></tbody></table></div>"
      ],
      "text/plain": [
       "shape: (10, 2)\n",
       "┌───────────────────────┬───────────────┐\n",
       "│ ActionGeo_CountryCode ┆ GLOBALEVENTID │\n",
       "│ ---                   ┆ ---           │\n",
       "│ str                   ┆ u32           │\n",
       "╞═══════════════════════╪═══════════════╡\n",
       "│ US                    ┆ 34362         │\n",
       "│ UK                    ┆ 7088          │\n",
       "│ IS                    ┆ 6577          │\n",
       "│ IN                    ┆ 6450          │\n",
       "│ RS                    ┆ 3572          │\n",
       "│ NI                    ┆ 3356          │\n",
       "│ null                  ┆ 3302          │\n",
       "│ AS                    ┆ 3052          │\n",
       "│ UP                    ┆ 2734          │\n",
       "│ CA                    ┆ 2732          │\n",
       "└───────────────────────┴───────────────┘"
      ]
     },
     "metadata": {},
     "output_type": "display_data"
    },
    {
     "data": {
      "text/html": [
       "<div><style>\n",
       ".dataframe > thead > tr,\n",
       ".dataframe > tbody > tr {\n",
       "  text-align: right;\n",
       "  white-space: pre-wrap;\n",
       "}\n",
       "</style>\n",
       "<small>shape: (10, 2)</small><table border=\"1\" class=\"dataframe\"><thead><tr><th>ActionGeo_ADM1Code</th><th>GLOBALEVENTID</th></tr><tr><td>str</td><td>u32</td></tr></thead><tbody><tr><td>&quot;IS00&quot;</td><td>4936</td></tr><tr><td>&quot;USCA&quot;</td><td>3342</td></tr><tr><td>null</td><td>3302</td></tr><tr><td>&quot;USNY&quot;</td><td>2453</td></tr><tr><td>&quot;USTX&quot;</td><td>2441</td></tr><tr><td>&quot;USDC&quot;</td><td>2185</td></tr><tr><td>&quot;US&quot;</td><td>1940</td></tr><tr><td>&quot;UK&quot;</td><td>1788</td></tr><tr><td>&quot;USFL&quot;</td><td>1559</td></tr><tr><td>&quot;IR26&quot;</td><td>1431</td></tr></tbody></table></div>"
      ],
      "text/plain": [
       "shape: (10, 2)\n",
       "┌────────────────────┬───────────────┐\n",
       "│ ActionGeo_ADM1Code ┆ GLOBALEVENTID │\n",
       "│ ---                ┆ ---           │\n",
       "│ str                ┆ u32           │\n",
       "╞════════════════════╪═══════════════╡\n",
       "│ IS00               ┆ 4936          │\n",
       "│ USCA               ┆ 3342          │\n",
       "│ null               ┆ 3302          │\n",
       "│ USNY               ┆ 2453          │\n",
       "│ USTX               ┆ 2441          │\n",
       "│ USDC               ┆ 2185          │\n",
       "│ US                 ┆ 1940          │\n",
       "│ UK                 ┆ 1788          │\n",
       "│ USFL               ┆ 1559          │\n",
       "│ IR26               ┆ 1431          │\n",
       "└────────────────────┴───────────────┘"
      ]
     },
     "metadata": {},
     "output_type": "display_data"
    },
    {
     "data": {
      "text/html": [
       "<div><style>\n",
       ".dataframe > thead > tr,\n",
       ".dataframe > tbody > tr {\n",
       "  text-align: right;\n",
       "  white-space: pre-wrap;\n",
       "}\n",
       "</style>\n",
       "<small>shape: (10, 2)</small><table border=\"1\" class=\"dataframe\"><thead><tr><th>ActionGeo_Lat</th><th>GLOBALEVENTID</th></tr><tr><td>str</td><td>u32</td></tr></thead><tbody><tr><td>&quot;31.4167&quot;</td><td>4363</td></tr><tr><td>null</td><td>3351</td></tr><tr><td>&quot;38.8951&quot;</td><td>2037</td></tr><tr><td>&quot;39.828175&quot;</td><td>1940</td></tr><tr><td>&quot;51.5&quot;</td><td>1936</td></tr><tr><td>&quot;54&quot;</td><td>1826</td></tr><tr><td>&quot;35.75&quot;</td><td>1426</td></tr><tr><td>&quot;42.1497&quot;</td><td>1398</td></tr><tr><td>&quot;50.4333&quot;</td><td>1211</td></tr><tr><td>&quot;60&quot;</td><td>1205</td></tr></tbody></table></div>"
      ],
      "text/plain": [
       "shape: (10, 2)\n",
       "┌───────────────┬───────────────┐\n",
       "│ ActionGeo_Lat ┆ GLOBALEVENTID │\n",
       "│ ---           ┆ ---           │\n",
       "│ str           ┆ u32           │\n",
       "╞═══════════════╪═══════════════╡\n",
       "│ 31.4167       ┆ 4363          │\n",
       "│ null          ┆ 3351          │\n",
       "│ 38.8951       ┆ 2037          │\n",
       "│ 39.828175     ┆ 1940          │\n",
       "│ 51.5          ┆ 1936          │\n",
       "│ 54            ┆ 1826          │\n",
       "│ 35.75         ┆ 1426          │\n",
       "│ 42.1497       ┆ 1398          │\n",
       "│ 50.4333       ┆ 1211          │\n",
       "│ 60            ┆ 1205          │\n",
       "└───────────────┴───────────────┘"
      ]
     },
     "metadata": {},
     "output_type": "display_data"
    },
    {
     "data": {
      "text/html": [
       "<div><style>\n",
       ".dataframe > thead > tr,\n",
       ".dataframe > tbody > tr {\n",
       "  text-align: right;\n",
       "  white-space: pre-wrap;\n",
       "}\n",
       "</style>\n",
       "<small>shape: (10, 2)</small><table border=\"1\" class=\"dataframe\"><thead><tr><th>ActionGeo_Long</th><th>GLOBALEVENTID</th></tr><tr><td>str</td><td>u32</td></tr></thead><tbody><tr><td>&quot;34.3333&quot;</td><td>4363</td></tr><tr><td>null</td><td>3324</td></tr><tr><td>&quot;-4&quot;</td><td>2094</td></tr><tr><td>&quot;-77.0364&quot;</td><td>2037</td></tr><tr><td>&quot;-98.5795&quot;</td><td>1940</td></tr><tr><td>&quot;51.5148&quot;</td><td>1422</td></tr><tr><td>&quot;-74.9384&quot;</td><td>1398</td></tr><tr><td>&quot;30.5167&quot;</td><td>1210</td></tr><tr><td>&quot;-119.746&quot;</td><td>1163</td></tr><tr><td>&quot;37.6156&quot;</td><td>1129</td></tr></tbody></table></div>"
      ],
      "text/plain": [
       "shape: (10, 2)\n",
       "┌────────────────┬───────────────┐\n",
       "│ ActionGeo_Long ┆ GLOBALEVENTID │\n",
       "│ ---            ┆ ---           │\n",
       "│ str            ┆ u32           │\n",
       "╞════════════════╪═══════════════╡\n",
       "│ 34.3333        ┆ 4363          │\n",
       "│ null           ┆ 3324          │\n",
       "│ -4             ┆ 2094          │\n",
       "│ -77.0364       ┆ 2037          │\n",
       "│ -98.5795       ┆ 1940          │\n",
       "│ 51.5148        ┆ 1422          │\n",
       "│ -74.9384       ┆ 1398          │\n",
       "│ 30.5167        ┆ 1210          │\n",
       "│ -119.746       ┆ 1163          │\n",
       "│ 37.6156        ┆ 1129          │\n",
       "└────────────────┴───────────────┘"
      ]
     },
     "metadata": {},
     "output_type": "display_data"
    },
    {
     "data": {
      "text/html": [
       "<div><style>\n",
       ".dataframe > thead > tr,\n",
       ".dataframe > tbody > tr {\n",
       "  text-align: right;\n",
       "  white-space: pre-wrap;\n",
       "}\n",
       "</style>\n",
       "<small>shape: (10, 2)</small><table border=\"1\" class=\"dataframe\"><thead><tr><th>ActionGeo_FeatureID</th><th>GLOBALEVENTID</th></tr><tr><td>str</td><td>u32</td></tr></thead><tbody><tr><td>&quot;-797156&quot;</td><td>4363</td></tr><tr><td>null</td><td>3302</td></tr><tr><td>&quot;531871&quot;</td><td>2037</td></tr><tr><td>&quot;US&quot;</td><td>1940</td></tr><tr><td>&quot;UK&quot;</td><td>1788</td></tr><tr><td>&quot;CA&quot;</td><td>1710</td></tr><tr><td>&quot;10074674&quot;</td><td>1422</td></tr><tr><td>&quot;NY&quot;</td><td>1398</td></tr><tr><td>&quot;-1044367&quot;</td><td>1210</td></tr><tr><td>&quot;-2960561&quot;</td><td>1129</td></tr></tbody></table></div>"
      ],
      "text/plain": [
       "shape: (10, 2)\n",
       "┌─────────────────────┬───────────────┐\n",
       "│ ActionGeo_FeatureID ┆ GLOBALEVENTID │\n",
       "│ ---                 ┆ ---           │\n",
       "│ str                 ┆ u32           │\n",
       "╞═════════════════════╪═══════════════╡\n",
       "│ -797156             ┆ 4363          │\n",
       "│ null                ┆ 3302          │\n",
       "│ 531871              ┆ 2037          │\n",
       "│ US                  ┆ 1940          │\n",
       "│ UK                  ┆ 1788          │\n",
       "│ CA                  ┆ 1710          │\n",
       "│ 10074674            ┆ 1422          │\n",
       "│ NY                  ┆ 1398          │\n",
       "│ -1044367            ┆ 1210          │\n",
       "│ -2960561            ┆ 1129          │\n",
       "└─────────────────────┴───────────────┘"
      ]
     },
     "metadata": {},
     "output_type": "display_data"
    },
    {
     "data": {
      "text/html": [
       "<div><style>\n",
       ".dataframe > thead > tr,\n",
       ".dataframe > tbody > tr {\n",
       "  text-align: right;\n",
       "  white-space: pre-wrap;\n",
       "}\n",
       "</style>\n",
       "<small>shape: (1, 2)</small><table border=\"1\" class=\"dataframe\"><thead><tr><th>DATEADDED</th><th>GLOBALEVENTID</th></tr><tr><td>str</td><td>u32</td></tr></thead><tbody><tr><td>&quot;20240812&quot;</td><td>116950</td></tr></tbody></table></div>"
      ],
      "text/plain": [
       "shape: (1, 2)\n",
       "┌───────────┬───────────────┐\n",
       "│ DATEADDED ┆ GLOBALEVENTID │\n",
       "│ ---       ┆ ---           │\n",
       "│ str       ┆ u32           │\n",
       "╞═══════════╪═══════════════╡\n",
       "│ 20240812  ┆ 116950        │\n",
       "└───────────┴───────────────┘"
      ]
     },
     "metadata": {},
     "output_type": "display_data"
    },
    {
     "data": {
      "text/html": [
       "<div><style>\n",
       ".dataframe > thead > tr,\n",
       ".dataframe > tbody > tr {\n",
       "  text-align: right;\n",
       "  white-space: pre-wrap;\n",
       "}\n",
       "</style>\n",
       "<small>shape: (10, 2)</small><table border=\"1\" class=\"dataframe\"><thead><tr><th>SOURCEURL</th><th>GLOBALEVENTID</th></tr><tr><td>str</td><td>u32</td></tr></thead><tbody><tr><td>&quot;https://dissid…</td><td>103</td></tr><tr><td>&quot;https://www.ha…</td><td>102</td></tr><tr><td>&quot;https://www.ju…</td><td>96</td></tr><tr><td>&quot;https://www.ch…</td><td>92</td></tr><tr><td>&quot;https://www.mi…</td><td>86</td></tr><tr><td>&quot;https://www.jo…</td><td>86</td></tr><tr><td>&quot;https://organi…</td><td>80</td></tr><tr><td>&quot;https://asiane…</td><td>79</td></tr><tr><td>&quot;https://thenat…</td><td>78</td></tr><tr><td>&quot;https://www.ya…</td><td>78</td></tr></tbody></table></div>"
      ],
      "text/plain": [
       "shape: (10, 2)\n",
       "┌───────────────────────────────────┬───────────────┐\n",
       "│ SOURCEURL                         ┆ GLOBALEVENTID │\n",
       "│ ---                               ┆ ---           │\n",
       "│ str                               ┆ u32           │\n",
       "╞═══════════════════════════════════╪═══════════════╡\n",
       "│ https://dissidentvoice.org/2024/… ┆ 103           │\n",
       "│ https://www.harwichandmanningtre… ┆ 102           │\n",
       "│ https://www.justsecurity.org/985… ┆ 96            │\n",
       "│ https://www.chronicle.co.zw/comm… ┆ 92            │\n",
       "│ https://www.middleeastmonitor.co… ┆ 86            │\n",
       "│ https://www.journal-news.net/jou… ┆ 86            │\n",
       "│ https://organiser.org/2024/08/12… ┆ 80            │\n",
       "│ https://asianews.network/interna… ┆ 79            │\n",
       "│ https://thenationonlineng.net/a-… ┆ 78            │\n",
       "│ https://www.yahoo.com/news/iran-… ┆ 78            │\n",
       "└───────────────────────────────────┴───────────────┘"
      ]
     },
     "metadata": {},
     "output_type": "display_data"
    }
   ],
   "source": [
    "for col in df.columns:\n",
    "    if col == 'GLOBALEVENTID': continue\n",
    "    display(df.group_by(col).agg(pl.col('GLOBALEVENTID').count()).sort(by = 'GLOBALEVENTID', descending = True).head(10))"
   ]
  },
  {
   "cell_type": "markdown",
   "id": "ca1c9c48-586f-4e86-87f4-880e0e3129b1",
   "metadata": {},
   "source": [
    "### Conteo de los 50 sitios web que aparecen con más frecuencia en el dataset\n",
    "Se utiliza una expresión regular para obtener el sitio web"
   ]
  },
  {
   "cell_type": "code",
   "execution_count": 4,
   "id": "b4c542a2-57b3-47fc-b3b2-952ab52a703a",
   "metadata": {},
   "outputs": [
    {
     "data": {
      "text/html": [
       "<div><style>\n",
       ".dataframe > thead > tr,\n",
       ".dataframe > tbody > tr {\n",
       "  text-align: right;\n",
       "  white-space: pre-wrap;\n",
       "}\n",
       "</style>\n",
       "<small>shape: (100, 2)</small><table border=\"1\" class=\"dataframe\"><thead><tr><th>extract</th><th>GLOBALEVENTID</th></tr><tr><td>str</td><td>u32</td></tr></thead><tbody><tr><td>&quot;https://www.yahoo.com/&quot;</td><td>5062</td></tr><tr><td>&quot;https://www.dailymail.co.uk/&quot;</td><td>1357</td></tr><tr><td>&quot;https://timesofindia.indiatimes.com/&quot;</td><td>1241</td></tr><tr><td>&quot;https://menafn.com/&quot;</td><td>1179</td></tr><tr><td>&quot;https://www.globalsecurity.org/&quot;</td><td>1054</td></tr><tr><td>&quot;https://allafrica.com/&quot;</td><td>856</td></tr><tr><td>&quot;https://www.newsweek.com/&quot;</td><td>785</td></tr><tr><td>&quot;https://www.marketscreener.com/&quot;</td><td>705</td></tr><tr><td>&quot;https://www.hindustantimes.com/&quot;</td><td>665</td></tr><tr><td>&quot;https://www.thetimes.com/&quot;</td><td>599</td></tr><tr><td>&quot;https://www.firstpost.com/&quot;</td><td>586</td></tr><tr><td>&quot;https://www.bignewsnetwork.com/&quot;</td><td>559</td></tr><tr><td>&quot;https://economictimes.indiatimes.com/&quot;</td><td>558</td></tr><tr><td>&quot;https://www.thehindu.com/&quot;</td><td>554</td></tr><tr><td>&quot;https://nypost.com/&quot;</td><td>543</td></tr><tr><td>&quot;https://www.jpost.com/&quot;</td><td>537</td></tr><tr><td>&quot;https://indianexpress.com/&quot;</td><td>528</td></tr><tr><td>&quot;https://www.iol.co.za/&quot;</td><td>471</td></tr><tr><td>&quot;https://www.foxnews.com/&quot;</td><td>465</td></tr><tr><td>&quot;https://www.theguardian.com/&quot;</td><td>465</td></tr><tr><td>&quot;https://www.independent.co.uk/&quot;</td><td>446</td></tr><tr><td>&quot;https://www.miragenews.com/&quot;</td><td>441</td></tr><tr><td>&quot;https://punchng.com/&quot;</td><td>413</td></tr><tr><td>&quot;https://www.mirror.co.uk/&quot;</td><td>407</td></tr><tr><td>&quot;https://www.winnipegfreepress.com/&quot;</td><td>399</td></tr><tr><td>&quot;https://www.scmp.com/&quot;</td><td>390</td></tr><tr><td>&quot;https://www.express.co.uk/&quot;</td><td>390</td></tr><tr><td>&quot;https://tribune.com.pk/&quot;</td><td>389</td></tr><tr><td>&quot;https://www.livemint.com/&quot;</td><td>357</td></tr><tr><td>&quot;https://www.cbc.ca/&quot;</td><td>345</td></tr><tr><td>&quot;https://www.thenews.com.pk/&quot;</td><td>339</td></tr><tr><td>&quot;https://thesun.ng/&quot;</td><td>338</td></tr><tr><td>&quot;https://news.webindia123.com/&quot;</td><td>321</td></tr><tr><td>&quot;https://www.middleeastmonitor.com/&quot;</td><td>321</td></tr><tr><td>&quot;https://www.aljazeera.com/&quot;</td><td>318</td></tr><tr><td>&quot;https://www.prokerala.com/&quot;</td><td>316</td></tr><tr><td>&quot;https://www.theepochtimes.com/&quot;</td><td>312</td></tr><tr><td>&quot;https://www.business-standard.com/&quot;</td><td>309</td></tr><tr><td>&quot;https://www.dailymaverick.co.za/&quot;</td><td>305</td></tr><tr><td>&quot;https://www.the-star.co.ke/&quot;</td><td>300</td></tr><tr><td>&quot;https://www.aol.co.uk/&quot;</td><td>296</td></tr><tr><td>&quot;https://www.moneycontrol.com/&quot;</td><td>294</td></tr><tr><td>&quot;https://dailypost.ng/&quot;</td><td>289</td></tr><tr><td>&quot;https://www.sott.net/&quot;</td><td>286</td></tr><tr><td>&quot;https://www.dawn.com/&quot;</td><td>274</td></tr><tr><td>&quot;https://www.clevelandjewishnews.com/&quot;</td><td>270</td></tr><tr><td>&quot;https://www.washingtonexaminer.com/&quot;</td><td>263</td></tr><tr><td>&quot;https://www.dw.com/&quot;</td><td>262</td></tr><tr><td>&quot;https://www.thestar.com.my/&quot;</td><td>260</td></tr><tr><td>&quot;https://organiser.org/&quot;</td><td>252</td></tr><tr><td>&quot;https://www.bbc.com/&quot;</td><td>248</td></tr><tr><td>&quot;https://www.presstv.ir/&quot;</td><td>243</td></tr><tr><td>&quot;https://www.news18.com/&quot;</td><td>240</td></tr><tr><td>&quot;https://www.devdiscourse.com/&quot;</td><td>239</td></tr><tr><td>&quot;https://www.thedailystar.net/&quot;</td><td>238</td></tr><tr><td>&quot;https://foreignpolicy.com/&quot;</td><td>238</td></tr><tr><td>&quot;https://www.sentinelassam.com/&quot;</td><td>233</td></tr><tr><td>&quot;https://www.ndtv.com/&quot;</td><td>231</td></tr><tr><td>&quot;https://aninews.in/&quot;</td><td>231</td></tr><tr><td>&quot;https://www.citizen.co.za/&quot;</td><td>226</td></tr><tr><td>&quot;https://thefrontierpost.com/&quot;</td><td>225</td></tr><tr><td>&quot;https://www.abc.net.au/&quot;</td><td>219</td></tr><tr><td>&quot;https://www.voanews.com/&quot;</td><td>219</td></tr><tr><td>&quot;https://www.aa.com.tr/&quot;</td><td>218</td></tr><tr><td>&quot;https://www.kyivpost.com/&quot;</td><td>217</td></tr><tr><td>&quot;https://www.rnz.co.nz/&quot;</td><td>211</td></tr><tr><td>&quot;https://saharareporters.com/&quot;</td><td>208</td></tr><tr><td>&quot;https://www.koreatimes.co.kr:443/&quot;</td><td>204</td></tr><tr><td>&quot;https://dunyanews.tv/&quot;</td><td>203</td></tr><tr><td>&quot;https://www.modernghana.com/&quot;</td><td>202</td></tr><tr><td>&quot;https://www.washingtontimes.com/&quot;</td><td>199</td></tr><tr><td>&quot;https://www.standardmedia.co.ke/&quot;</td><td>196</td></tr><tr><td>&quot;https://www.irishtimes.com/&quot;</td><td>193</td></tr><tr><td>&quot;https://www.myjoyonline.com/&quot;</td><td>191</td></tr><tr><td>&quot;https://gulfnews.com/&quot;</td><td>191</td></tr><tr><td>&quot;https://thenationonlineng.net/&quot;</td><td>189</td></tr><tr><td>&quot;https://www.theglobeandmail.com/&quot;</td><td>186</td></tr><tr><td>&quot;https://news.az/&quot;</td><td>186</td></tr><tr><td>&quot;https://www.forbes.com/&quot;</td><td>184</td></tr><tr><td>&quot;https://blueprint.ng/&quot;</td><td>183</td></tr><tr><td>&quot;https://asianews.network/&quot;</td><td>182</td></tr><tr><td>&quot;https://www.philstar.com/&quot;</td><td>180</td></tr><tr><td>&quot;https://www.freepressjournal.in/&quot;</td><td>178</td></tr><tr><td>&quot;https://www.ghanaweb.com/&quot;</td><td>176</td></tr><tr><td>&quot;https://www.thisdaylive.com/&quot;</td><td>176</td></tr><tr><td>&quot;https://www.israelnationalnews.com/&quot;</td><td>174</td></tr><tr><td>&quot;https://biztoc.com/&quot;</td><td>174</td></tr><tr><td>&quot;https://tribuneonlineng.com/&quot;</td><td>173</td></tr><tr><td>&quot;https://leadership.ng/&quot;</td><td>172</td></tr><tr><td>&quot;https://cyprus-mail.com/&quot;</td><td>171</td></tr><tr><td>&quot;https://www.9news.com.au/&quot;</td><td>170</td></tr><tr><td>&quot;https://tass.com/&quot;</td><td>170</td></tr><tr><td>&quot;https://www.premiumtimesng.com/&quot;</td><td>169</td></tr><tr><td>&quot;https://athens-times.com/&quot;</td><td>168</td></tr><tr><td>&quot;https://businessmirror.com.ph/&quot;</td><td>168</td></tr><tr><td>&quot;https://cpa.org.au/&quot;</td><td>167</td></tr><tr><td>&quot;https://nationalinterest.org/&quot;</td><td>166</td></tr><tr><td>&quot;https://www.dailysabah.com/&quot;</td><td>165</td></tr><tr><td>&quot;https://www.livelaw.in/&quot;</td><td>162</td></tr><tr><td>&quot;https://www.dailyrecord.co.uk/&quot;</td><td>158</td></tr></tbody></table></div>"
      ],
      "text/plain": [
       "shape: (100, 2)\n",
       "┌───────────────────────────────────────┬───────────────┐\n",
       "│ extract                               ┆ GLOBALEVENTID │\n",
       "│ ---                                   ┆ ---           │\n",
       "│ str                                   ┆ u32           │\n",
       "╞═══════════════════════════════════════╪═══════════════╡\n",
       "│ https://www.yahoo.com/                ┆ 5062          │\n",
       "│ https://www.dailymail.co.uk/          ┆ 1357          │\n",
       "│ https://timesofindia.indiatimes.com/  ┆ 1241          │\n",
       "│ https://menafn.com/                   ┆ 1179          │\n",
       "│ https://www.globalsecurity.org/       ┆ 1054          │\n",
       "│ https://allafrica.com/                ┆ 856           │\n",
       "│ https://www.newsweek.com/             ┆ 785           │\n",
       "│ https://www.marketscreener.com/       ┆ 705           │\n",
       "│ https://www.hindustantimes.com/       ┆ 665           │\n",
       "│ https://www.thetimes.com/             ┆ 599           │\n",
       "│ https://www.firstpost.com/            ┆ 586           │\n",
       "│ https://www.bignewsnetwork.com/       ┆ 559           │\n",
       "│ https://economictimes.indiatimes.com/ ┆ 558           │\n",
       "│ https://www.thehindu.com/             ┆ 554           │\n",
       "│ https://nypost.com/                   ┆ 543           │\n",
       "│ https://www.jpost.com/                ┆ 537           │\n",
       "│ https://indianexpress.com/            ┆ 528           │\n",
       "│ https://www.iol.co.za/                ┆ 471           │\n",
       "│ https://www.foxnews.com/              ┆ 465           │\n",
       "│ https://www.theguardian.com/          ┆ 465           │\n",
       "│ https://www.independent.co.uk/        ┆ 446           │\n",
       "│ https://www.miragenews.com/           ┆ 441           │\n",
       "│ https://punchng.com/                  ┆ 413           │\n",
       "│ https://www.mirror.co.uk/             ┆ 407           │\n",
       "│ https://www.winnipegfreepress.com/    ┆ 399           │\n",
       "│ https://www.scmp.com/                 ┆ 390           │\n",
       "│ https://www.express.co.uk/            ┆ 390           │\n",
       "│ https://tribune.com.pk/               ┆ 389           │\n",
       "│ https://www.livemint.com/             ┆ 357           │\n",
       "│ https://www.cbc.ca/                   ┆ 345           │\n",
       "│ https://www.thenews.com.pk/           ┆ 339           │\n",
       "│ https://thesun.ng/                    ┆ 338           │\n",
       "│ https://news.webindia123.com/         ┆ 321           │\n",
       "│ https://www.middleeastmonitor.com/    ┆ 321           │\n",
       "│ https://www.aljazeera.com/            ┆ 318           │\n",
       "│ https://www.prokerala.com/            ┆ 316           │\n",
       "│ https://www.theepochtimes.com/        ┆ 312           │\n",
       "│ https://www.business-standard.com/    ┆ 309           │\n",
       "│ https://www.dailymaverick.co.za/      ┆ 305           │\n",
       "│ https://www.the-star.co.ke/           ┆ 300           │\n",
       "│ https://www.aol.co.uk/                ┆ 296           │\n",
       "│ https://www.moneycontrol.com/         ┆ 294           │\n",
       "│ https://dailypost.ng/                 ┆ 289           │\n",
       "│ https://www.sott.net/                 ┆ 286           │\n",
       "│ https://www.dawn.com/                 ┆ 274           │\n",
       "│ https://www.clevelandjewishnews.com/  ┆ 270           │\n",
       "│ https://www.washingtonexaminer.com/   ┆ 263           │\n",
       "│ https://www.dw.com/                   ┆ 262           │\n",
       "│ https://www.thestar.com.my/           ┆ 260           │\n",
       "│ https://organiser.org/                ┆ 252           │\n",
       "│ https://www.bbc.com/                  ┆ 248           │\n",
       "│ https://www.presstv.ir/               ┆ 243           │\n",
       "│ https://www.news18.com/               ┆ 240           │\n",
       "│ https://www.devdiscourse.com/         ┆ 239           │\n",
       "│ https://www.thedailystar.net/         ┆ 238           │\n",
       "│ https://foreignpolicy.com/            ┆ 238           │\n",
       "│ https://www.sentinelassam.com/        ┆ 233           │\n",
       "│ https://www.ndtv.com/                 ┆ 231           │\n",
       "│ https://aninews.in/                   ┆ 231           │\n",
       "│ https://www.citizen.co.za/            ┆ 226           │\n",
       "│ https://thefrontierpost.com/          ┆ 225           │\n",
       "│ https://www.abc.net.au/               ┆ 219           │\n",
       "│ https://www.voanews.com/              ┆ 219           │\n",
       "│ https://www.aa.com.tr/                ┆ 218           │\n",
       "│ https://www.kyivpost.com/             ┆ 217           │\n",
       "│ https://www.rnz.co.nz/                ┆ 211           │\n",
       "│ https://saharareporters.com/          ┆ 208           │\n",
       "│ https://www.koreatimes.co.kr:443/     ┆ 204           │\n",
       "│ https://dunyanews.tv/                 ┆ 203           │\n",
       "│ https://www.modernghana.com/          ┆ 202           │\n",
       "│ https://www.washingtontimes.com/      ┆ 199           │\n",
       "│ https://www.standardmedia.co.ke/      ┆ 196           │\n",
       "│ https://www.irishtimes.com/           ┆ 193           │\n",
       "│ https://www.myjoyonline.com/          ┆ 191           │\n",
       "│ https://gulfnews.com/                 ┆ 191           │\n",
       "│ https://thenationonlineng.net/        ┆ 189           │\n",
       "│ https://www.theglobeandmail.com/      ┆ 186           │\n",
       "│ https://news.az/                      ┆ 186           │\n",
       "│ https://www.forbes.com/               ┆ 184           │\n",
       "│ https://blueprint.ng/                 ┆ 183           │\n",
       "│ https://asianews.network/             ┆ 182           │\n",
       "│ https://www.philstar.com/             ┆ 180           │\n",
       "│ https://www.freepressjournal.in/      ┆ 178           │\n",
       "│ https://www.ghanaweb.com/             ┆ 176           │\n",
       "│ https://www.thisdaylive.com/          ┆ 176           │\n",
       "│ https://www.israelnationalnews.com/   ┆ 174           │\n",
       "│ https://biztoc.com/                   ┆ 174           │\n",
       "│ https://tribuneonlineng.com/          ┆ 173           │\n",
       "│ https://leadership.ng/                ┆ 172           │\n",
       "│ https://cyprus-mail.com/              ┆ 171           │\n",
       "│ https://www.9news.com.au/             ┆ 170           │\n",
       "│ https://tass.com/                     ┆ 170           │\n",
       "│ https://www.premiumtimesng.com/       ┆ 169           │\n",
       "│ https://athens-times.com/             ┆ 168           │\n",
       "│ https://businessmirror.com.ph/        ┆ 168           │\n",
       "│ https://cpa.org.au/                   ┆ 167           │\n",
       "│ https://nationalinterest.org/         ┆ 166           │\n",
       "│ https://www.dailysabah.com/           ┆ 165           │\n",
       "│ https://www.livelaw.in/               ┆ 162           │\n",
       "│ https://www.dailyrecord.co.uk/        ┆ 158           │\n",
       "└───────────────────────────────────────┴───────────────┘"
      ]
     },
     "execution_count": 4,
     "metadata": {},
     "output_type": "execute_result"
    }
   ],
   "source": [
    "pl.Config.set_fmt_str_lengths(100)\n",
    "pl.Config.set_tbl_rows(100)\n",
    "\n",
    "df.with_columns(\n",
    "    pl.col('SOURCEURL').str.extract(r\"http(s?):\\/\\/(www\\.)?(.+?\\.).+?\\/\",0).alias('extract')\n",
    ").group_by(\n",
    "    'extract'\n",
    ").agg(\n",
    "    pl.col('GLOBALEVENTID').count()\n",
    ").sort(\n",
    "    by = 'GLOBALEVENTID',\n",
    "    descending = True\n",
    ").head(100)"
   ]
  },
  {
   "cell_type": "code",
   "execution_count": 5,
   "id": "01cade7b-9c8e-432a-a2c6-632719bc573a",
   "metadata": {},
   "outputs": [
    {
     "data": {
      "text/plain": [
       "Text(0.5, 1.0, 'Registros acumulados')"
      ]
     },
     "execution_count": 5,
     "metadata": {},
     "output_type": "execute_result"
    },
    {
     "data": {
      "image/png": "[encoded data removed]",
      "text/plain": [
       "<Figure size 640x480 with 1 Axes>"
      ]
     },
     "metadata": {},
     "output_type": "display_data"
    }
   ],
   "source": [
    "x = []\n",
    "y = []\n",
    "\n",
    "df_ = df.with_columns(\n",
    "    pl.col('SOURCEURL').str.extract(r\"https:\\/\\/(www\\.)?(.+?\\.).+?\\/\",0).alias('extract')\n",
    ").group_by(\n",
    "    'extract'\n",
    ").agg(\n",
    "    pl.col('GLOBALEVENTID').count()\n",
    ").sort(\n",
    "    by = 'GLOBALEVENTID',\n",
    "    descending = True\n",
    ")\n",
    "\n",
    "for i in range(50):\n",
    "    fulfillment = df_.head(i)['GLOBALEVENTID'].sum()/df.height\n",
    "    x.append(i+1)\n",
    "    y.append(fulfillment)\n",
    "\n",
    "plt.plot(x,y)\n",
    "plt.xlabel('Número de sitios web (top)')\n",
    "plt.ylabel('Porcentaje')\n",
    "plt.title('Registros acumulados')"
   ]
  }
 ],
 "metadata": {
  "kernelspec": {
   "display_name": "Python 3 (ipykernel)",
   "language": "python",
   "name": "python3"
  },
  "language_info": {
   "codemirror_mode": {
    "name": "ipython",
    "version": 3
   },
   "file_extension": ".py",
   "mimetype": "text/x-python",
   "name": "python",
   "nbconvert_exporter": "python",
   "pygments_lexer": "ipython3",
   "version": "3.11.6"
  }
 },
 "nbformat": 4,
 "nbformat_minor": 5
}
