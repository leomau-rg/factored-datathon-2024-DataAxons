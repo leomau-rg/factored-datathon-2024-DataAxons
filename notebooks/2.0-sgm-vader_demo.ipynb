{
 "cells": [
  {
   "cell_type": "code",
   "execution_count": 1,
   "metadata": {},
   "outputs": [
    {
     "name": "stdout",
     "output_type": "stream",
     "text": [
      "Requirement already satisfied: vaderSentiment in /home/sgm1191/miniconda3/envs/factored/lib/python3.10/site-packages (3.3.2)\n",
      "Requirement already satisfied: requests in /home/sgm1191/miniconda3/envs/factored/lib/python3.10/site-packages (from vaderSentiment) (2.32.3)\n",
      "Requirement already satisfied: charset-normalizer<4,>=2 in /home/sgm1191/miniconda3/envs/factored/lib/python3.10/site-packages (from requests->vaderSentiment) (3.3.2)\n",
      "Requirement already satisfied: idna<4,>=2.5 in /home/sgm1191/miniconda3/envs/factored/lib/python3.10/site-packages (from requests->vaderSentiment) (3.7)\n",
      "Requirement already satisfied: urllib3<3,>=1.21.1 in /home/sgm1191/miniconda3/envs/factored/lib/python3.10/site-packages (from requests->vaderSentiment) (2.2.2)\n",
      "Requirement already satisfied: certifi>=2017.4.17 in /home/sgm1191/miniconda3/envs/factored/lib/python3.10/site-packages (from requests->vaderSentiment) (2024.7.4)\n"
     ]
    }
   ],
   "source": [
    "! pip install vaderSentiment"
   ]
  },
  {
   "cell_type": "code",
   "execution_count": 2,
   "metadata": {},
   "outputs": [],
   "source": [
    "import sys\n",
    "sys.path.append('..')\n",
    "from pathlib import Path\n",
    "\n",
    "import polars as pl\n",
    "\n",
    "from vaderSentiment.vaderSentiment import SentimentIntensityAnalyzer"
   ]
  },
  {
   "cell_type": "code",
   "execution_count": 3,
   "metadata": {},
   "outputs": [
    {
     "data": {
      "text/html": [
       "<div><style>\n",
       ".dataframe > thead > tr,\n",
       ".dataframe > tbody > tr {\n",
       "  text-align: right;\n",
       "  white-space: pre-wrap;\n",
       "}\n",
       "</style>\n",
       "<small>shape: (427_445, 5)</small><table border=\"1\" class=\"dataframe\"><thead><tr><th>SOURCEURLS</th><th>general_tone</th><th>positive_score</th><th>negative_score</th><th>polarity</th></tr><tr><td>str</td><td>str</td><td>str</td><td>str</td><td>str</td></tr></thead><tbody><tr><td>&quot;https://localnews8.com/news/20…</td><td>&quot;-8.82562277580071&quot;</td><td>&quot;1.56583629893238&quot;</td><td>&quot;10.3914590747331&quot;</td><td>&quot;11.9572953736655&quot;</td></tr><tr><td>&quot;https://www.thisiswiltshire.co…</td><td>&quot;-8.83333333333333&quot;</td><td>&quot;0.666666666666667&quot;</td><td>&quot;9.5&quot;</td><td>&quot;10.1666666666667&quot;</td></tr><tr><td>&quot;https://www.dailypolitical.com…</td><td>&quot;1.14942528735632&quot;</td><td>&quot;1.14942528735632&quot;</td><td>&quot;0&quot;</td><td>&quot;1.14942528735632&quot;</td></tr><tr><td>&quot;https://mix1065.iheart.com/fea…</td><td>&quot;1.91082802547771&quot;</td><td>&quot;2.54777070063694&quot;</td><td>&quot;0.636942675159236&quot;</td><td>&quot;3.18471337579618&quot;</td></tr><tr><td>&quot;https://www.theguardian.com/au…</td><td>&quot;-7.34177215189874&quot;</td><td>&quot;0.759493670886076&quot;</td><td>&quot;8.10126582278481&quot;</td><td>&quot;8.86075949367089&quot;</td></tr><tr><td>&hellip;</td><td>&hellip;</td><td>&hellip;</td><td>&hellip;</td><td>&hellip;</td></tr><tr><td>&quot;https://www.wvua23.com/tuesday…</td><td>&quot;-9.09090909090909&quot;</td><td>&quot;0&quot;</td><td>&quot;9.09090909090909&quot;</td><td>&quot;9.09090909090909&quot;</td></tr><tr><td>&quot;https://www.teamtalk.com/totte…</td><td>&quot;1.72413793103448&quot;</td><td>&quot;3.44827586206897&quot;</td><td>&quot;1.72413793103448&quot;</td><td>&quot;5.17241379310345&quot;</td></tr><tr><td>&quot;https://www.business-standard.…</td><td>&quot;0.0995024875621895&quot;</td><td>&quot;3.08457711442786&quot;</td><td>&quot;2.98507462686567&quot;</td><td>&quot;6.06965174129353&quot;</td></tr><tr><td>&quot;https://www.yahoo.com/news/arm…</td><td>&quot;-1.41592920353982&quot;</td><td>&quot;1.23893805309735&quot;</td><td>&quot;2.65486725663717&quot;</td><td>&quot;3.89380530973451&quot;</td></tr><tr><td>&quot;https://www.postandcourier.com…</td><td>&quot;3.27102803738318&quot;</td><td>&quot;4.20560747663551&quot;</td><td>&quot;0.934579439252336&quot;</td><td>&quot;5.14018691588785&quot;</td></tr></tbody></table></div>"
      ],
      "text/plain": [
       "shape: (427_445, 5)\n",
       "┌───────────────────┬───────────────────┬───────────────────┬───────────────────┬──────────────────┐\n",
       "│ SOURCEURLS        ┆ general_tone      ┆ positive_score    ┆ negative_score    ┆ polarity         │\n",
       "│ ---               ┆ ---               ┆ ---               ┆ ---               ┆ ---              │\n",
       "│ str               ┆ str               ┆ str               ┆ str               ┆ str              │\n",
       "╞═══════════════════╪═══════════════════╪═══════════════════╪═══════════════════╪══════════════════╡\n",
       "│ https://localnews ┆ -8.82562277580071 ┆ 1.56583629893238  ┆ 10.3914590747331  ┆ 11.9572953736655 │\n",
       "│ 8.com/news/20…    ┆                   ┆                   ┆                   ┆                  │\n",
       "│ https://www.thisi ┆ -8.83333333333333 ┆ 0.666666666666667 ┆ 9.5               ┆ 10.1666666666667 │\n",
       "│ swiltshire.co…    ┆                   ┆                   ┆                   ┆                  │\n",
       "│ https://www.daily ┆ 1.14942528735632  ┆ 1.14942528735632  ┆ 0                 ┆ 1.14942528735632 │\n",
       "│ political.com…    ┆                   ┆                   ┆                   ┆                  │\n",
       "│ https://mix1065.i ┆ 1.91082802547771  ┆ 2.54777070063694  ┆ 0.636942675159236 ┆ 3.18471337579618 │\n",
       "│ heart.com/fea…    ┆                   ┆                   ┆                   ┆                  │\n",
       "│ https://www.thegu ┆ -7.34177215189874 ┆ 0.759493670886076 ┆ 8.10126582278481  ┆ 8.86075949367089 │\n",
       "│ ardian.com/au…    ┆                   ┆                   ┆                   ┆                  │\n",
       "│ …                 ┆ …                 ┆ …                 ┆ …                 ┆ …                │\n",
       "│ https://www.wvua2 ┆ -9.09090909090909 ┆ 0                 ┆ 9.09090909090909  ┆ 9.09090909090909 │\n",
       "│ 3.com/tuesday…    ┆                   ┆                   ┆                   ┆                  │\n",
       "│ https://www.teamt ┆ 1.72413793103448  ┆ 3.44827586206897  ┆ 1.72413793103448  ┆ 5.17241379310345 │\n",
       "│ alk.com/totte…    ┆                   ┆                   ┆                   ┆                  │\n",
       "│ https://www.busin ┆ 0.099502487562189 ┆ 3.08457711442786  ┆ 2.98507462686567  ┆ 6.06965174129353 │\n",
       "│ ess-standard.…    ┆ 5                 ┆                   ┆                   ┆                  │\n",
       "│ https://www.yahoo ┆ -1.41592920353982 ┆ 1.23893805309735  ┆ 2.65486725663717  ┆ 3.89380530973451 │\n",
       "│ .com/news/arm…    ┆                   ┆                   ┆                   ┆                  │\n",
       "│ https://www.posta ┆ 3.27102803738318  ┆ 4.20560747663551  ┆ 0.934579439252336 ┆ 5.14018691588785 │\n",
       "│ ndcourier.com…    ┆                   ┆                   ┆                   ┆                  │\n",
       "└───────────────────┴───────────────────┴───────────────────┴───────────────────┴──────────────────┘"
      ]
     },
     "execution_count": 3,
     "metadata": {},
     "output_type": "execute_result"
    }
   ],
   "source": [
    "# archivo generado con comando\n",
    "# python main.py collect_tone data/all_gdelt_gkg_files.csv data/parquets/tones\n",
    "file_path  = Path('../data/parquets/tones/get_tones_and_urls-240820_1226.parquet')\n",
    "df = pl.read_parquet(file_path)\n",
    "df"
   ]
  },
  {
   "cell_type": "code",
   "execution_count": 4,
   "metadata": {},
   "outputs": [
    {
     "name": "stdout",
     "output_type": "stream",
     "text": [
      "Three remanded in custody charged with offences connected with recent disorder. Three men have been remanded in custody after appearing in courts in Northern Ireland charged with offences connected with recent disorder. Jason Galbraith, 26, of no fixed address, was charged with ten offences on the first day of serious disorder in south Belfast on August 3, after an anti-immigration protest in the city centre. The charges include setting fire to a car, rioting, criminal damage to an electronic gate belonging to Holiday Inn and three counts of an offensive weapon with intent – masonry bricks, a wooden plank and a metal pole. He indicated he understood the charges when he appeared at Belfast Magistrates’ Court on Monday. No application for bail was made and Galbraith was remanded in custody. At Downpatrick Magistrates’ Court, John Edward Robinson, 30, of Rathgill Park and Corey McNabb, 28, of Balmoral Avenue, both in Bangor, were refused bail after being charged with online offences between August 3 and 4. Meanwhile, Glen Kane, 58, of Riga Street in Belfast, was granted bail after appearing at Belfast Magistrates’ Court charged with possessing written material intended or likely to stir up hatred or arouse fear. PSNI Assistant Chief Constable Melanie Jones said more than 30 people have been arrested and dozens have been charged to appear before court since the disorder began earlier this month. Police are also investigating a report of intimidation at a park near Manse Road, Castlereagh, on Sunday. A man was walking in the park at about 7.15pm when he was approached by six young people who shouted abuse and intimidated him. As he walked away, the group threw stones at him. The man was not injured and the PSNI said it was being treated as a racially motivated hate crime. A 42-year-old man arrested on suspicion of a number of offences in connection with an attack on a mosque in Greenwell Street, Newtownards, in the early hours of Saturday was released on bail on Monday to allow for further inquiries. And a 26-year-old man was arrested in the Belfast area on riot charges. He remained in police custody on Monday evening while police inquiries continued. Ms Jones said: “On Sunday, we released another five images of individuals whom we would like to speak to in connection with our ongoing investigation into disorder and attacks on police officers since Saturday August 3. You can view the images at url.  \n",
      "{'neg': 0.233, 'neu': 0.735, 'pos': 0.032, 'compound': -0.998}\n"
     ]
    }
   ],
   "source": [
    "sentence = \"Three remanded in custody charged with offences connected with recent disorder. Three men have been remanded in custody after appearing in courts in Northern Ireland charged with offences connected with recent disorder. Jason Galbraith, 26, of no fixed address, was charged with ten offences on the first day of serious disorder in south Belfast on August 3, after an anti-immigration protest in the city centre. The charges include setting fire to a car, rioting, criminal damage to an electronic gate belonging to Holiday Inn and three counts of an offensive weapon with intent – masonry bricks, a wooden plank and a metal pole. He indicated he understood the charges when he appeared at Belfast Magistrates’ Court on Monday. No application for bail was made and Galbraith was remanded in custody. At Downpatrick Magistrates’ Court, John Edward Robinson, 30, of Rathgill Park and Corey McNabb, 28, of Balmoral Avenue, both in Bangor, were refused bail after being charged with online offences between August 3 and 4. Meanwhile, Glen Kane, 58, of Riga Street in Belfast, was granted bail after appearing at Belfast Magistrates’ Court charged with possessing written material intended or likely to stir up hatred or arouse fear. PSNI Assistant Chief Constable Melanie Jones said more than 30 people have been arrested and dozens have been charged to appear before court since the disorder began earlier this month. Police are also investigating a report of intimidation at a park near Manse Road, Castlereagh, on Sunday. A man was walking in the park at about 7.15pm when he was approached by six young people who shouted abuse and intimidated him. As he walked away, the group threw stones at him. The man was not injured and the PSNI said it was being treated as a racially motivated hate crime. A 42-year-old man arrested on suspicion of a number of offences in connection with an attack on a mosque in Greenwell Street, Newtownards, in the early hours of Saturday was released on bail on Monday to allow for further inquiries. And a 26-year-old man was arrested in the Belfast area on riot charges. He remained in police custody on Monday evening while police inquiries continued. Ms Jones said: “On Sunday, we released another five images of individuals whom we would like to speak to in connection with our ongoing investigation into disorder and attacks on police officers since Saturday August 3. You can view the images at url. \"\n",
    "\n",
    "analyzer = SentimentIntensityAnalyzer()\n",
    "\n",
    "vs = analyzer.polarity_scores(sentence)\n",
    "print(\"{:-<65} \\n{}\".format(sentence, str(vs)))\n"
   ]
  },
  {
   "cell_type": "code",
   "execution_count": 5,
   "metadata": {},
   "outputs": [],
   "source": [
    "import scrapy \n",
    "from scrapy.crawler import CrawlerProcess\n",
    "from scrapy.utils.project import get_project_settings\n",
    "from scrapy.settings import Settings \n",
    "from scrapy.linkextractors import LinkExtractor \n",
    "\n",
    "\n",
    "from src.data.text_utils import remove_special_characters"
   ]
  },
  {
   "cell_type": "code",
   "execution_count": 6,
   "metadata": {},
   "outputs": [
    {
     "data": {
      "text/plain": [
       "['https://localnews8.com/news/2024/08/12/dozens-of-pregnant-women-some-bleeding-or-in-labor-being-turned-away-from-ers-despite-federal-law/',\n",
       " 'https://www.thisiswiltshire.co.uk/news/national/24512304.three-remanded-custody-charged-offences-connected-recent-disorder/',\n",
       " 'https://www.dailypolitical.com/2024/08/12/cohen-steers-infrastructure-fund-inc-to-issue-monthly-dividend-of-0-16-nyseutf.html',\n",
       " 'https://mix1065.iheart.com/featured/denise-plante/content/2024-08-12-hollywood-ending-to-the-paris-olympics/',\n",
       " 'https://www.theguardian.com/australia-news/article/2024/aug/12/queensland-teacher-child-sex-abuse-charges-ntwnfb',\n",
       " 'https://www.livelaw.in/high-court/chattisgarh-high-court/chhattisgarh-high-court-affirms-single-judge-order-upholding-dismissal-judicial-officer-criminal-case-266465',\n",
       " 'https://www.breakingnews.ie/entertainment/dermot-kennedy-warns-fans-about-ai-voice-note-scam-1660236.html',\n",
       " 'https://www.kisswtlz.com/syndicated-article/?id=1578706',\n",
       " 'https://www.newsweek.com/entertainment/celebrity-news/heidi-klum-husband-tom-kaulitz-pda-beach-photos-1938096',\n",
       " 'https://www.aceshowbiz.com/news/view/00230755.html',\n",
       " 'https://b1057.com/266070/seans-tough-trivia-8-12-24/',\n",
       " 'https://menafn.com/1108542889/Investment-Scam-Victims-Find-Hope-And-Relief-Through-Natisa-Securities-LLCS-Expert-Services',\n",
       " 'https://www.wrur.org/from-npr-music/2024-08-11/photos-see-what-happened-at-the-olympic-closing-ceremony',\n",
       " 'https://zeenews.india.com/people/shah-rukh-khan-confirms-his-next-film-is-king-along-with-suhana-khan-reveals-interesting-deets-2776919.html',\n",
       " 'https://www.bunburymail.com.au/story/8727374/hawks-racism-report-author-accused-of-stealing-779k/',\n",
       " 'https://cowboystatedaily.com/2024/08/11/wyoming-history-the-tough-luck-teen-gangster-who-ran-into-a-tougher-sheriff/',\n",
       " 'https://timesofindia.indiatimes.com/city/varanasi/illegal-church-demolished-on-forest-land/articleshow/112452967.cms',\n",
       " 'https://www.irishexaminer.com/news/arid-41454562.html',\n",
       " 'https://economictimes.indiatimes.com/news/politics-and-nation/priyanka-gandhi-urges-interim-bangladesh-govt-to-ensure-safety-of-hindus-christians-buddhists/articleshow/112469974.cms',\n",
       " 'https://www.mirror.co.uk/money/indian-business-giant-bharti-global-33443330']"
      ]
     },
     "execution_count": 6,
     "metadata": {},
     "output_type": "execute_result"
    }
   ],
   "source": [
    "source_urls = list(df[\"SOURCEURLS\"][:20])\n",
    "source_urls"
   ]
  },
  {
   "cell_type": "code",
   "execution_count": 7,
   "metadata": {},
   "outputs": [],
   "source": [
    "from typing import Any\n",
    "\n",
    "\n",
    "class MultiSiteSpider(scrapy.Spider):\n",
    "    name = \"quotes\"\n",
    "    start_urls = source_urls\n",
    "    custom_settings = {\n",
    "        'USER_AGENT': 'Mozilla/5.0 (Windows NT 10.0; WOW64) AppleWebKit/537.36 (KHTML, like Gecko) Chrome/109.0.0.0 Safari/537.36',\n",
    "    }\n",
    "\n",
    "    def __init__(self, name: str | None = None, **kwargs: Any):\n",
    "        self.analyzer = SentimentIntensityAnalyzer()\n",
    "        super().__init__(name, **kwargs)\n",
    "\n",
    "    def parse(self, response):\n",
    "        matches = response.css('p::text').getall()\n",
    "        matches = '\\n'.join(matches)\n",
    "        full_text = remove_special_characters(matches)\n",
    "\n",
    "        vs = self.analyzer.polarity_scores(full_text)\n",
    "        print(f\"\\n{response.request.url} \\n\\t{vs}\")\n",
    "\n",
    "        yield {\n",
    "            \"url\":response.request.url,\n",
    "            \"text\": full_text[:100],\n",
    "            \"result\": vs\n",
    "        }\n",
    "\n",
    "        "
   ]
  },
  {
   "cell_type": "code",
   "execution_count": 8,
   "metadata": {},
   "outputs": [
    {
     "name": "stderr",
     "output_type": "stream",
     "text": [
      "2024-08-20 13:22:39 [scrapy.utils.log] INFO: Scrapy 2.11.2 started (bot: scrapybot)\n",
      "2024-08-20 13:22:39 [scrapy.utils.log] INFO: Versions: lxml 5.3.0.0, libxml2 2.12.9, cssselect 1.2.0, parsel 1.9.1, w3lib 2.2.1, Twisted 24.7.0, Python 3.10.14 (main, May  6 2024, 19:42:50) [GCC 11.2.0], pyOpenSSL 24.2.1 (OpenSSL 3.3.1 4 Jun 2024), cryptography 43.0.0, Platform Linux-6.8.0-40-generic-x86_64-with-glibc2.35\n",
      "2024-08-20 13:22:39 [scrapy.addons] INFO: Enabled addons:\n",
      "[]\n",
      "2024-08-20 13:22:39 [py.warnings] WARNING: /home/sgm1191/miniconda3/envs/factored/lib/python3.10/site-packages/scrapy/utils/request.py:254: ScrapyDeprecationWarning: '2.6' is a deprecated value for the 'REQUEST_FINGERPRINTER_IMPLEMENTATION' setting.\n",
      "\n",
      "It is also the default value. In other words, it is normal to get this warning if you have not defined a value for the 'REQUEST_FINGERPRINTER_IMPLEMENTATION' setting. This is so for backward compatibility reasons, but it will change in a future version of Scrapy.\n",
      "\n",
      "See the documentation of the 'REQUEST_FINGERPRINTER_IMPLEMENTATION' setting for information on how to handle this deprecation.\n",
      "  return cls(crawler)\n",
      "\n",
      "2024-08-20 13:22:39 [scrapy.utils.log] DEBUG: Using reactor: twisted.internet.epollreactor.EPollReactor\n",
      "2024-08-20 13:22:39 [scrapy.extensions.telnet] INFO: Telnet Password: 11fb0a31c7305e74\n",
      "2024-08-20 13:22:39 [scrapy.middleware] INFO: Enabled extensions:\n",
      "['scrapy.extensions.corestats.CoreStats',\n",
      " 'scrapy.extensions.telnet.TelnetConsole',\n",
      " 'scrapy.extensions.memusage.MemoryUsage',\n",
      " 'scrapy.extensions.feedexport.FeedExporter',\n",
      " 'scrapy.extensions.logstats.LogStats']\n",
      "2024-08-20 13:22:39 [scrapy.crawler] INFO: Overridden settings:\n",
      "{'USER_AGENT': 'Mozilla/5.0 (Windows NT 10.0; WOW64) AppleWebKit/537.36 '\n",
      "               '(KHTML, like Gecko) Chrome/109.0.0.0 Safari/537.36'}\n",
      "2024-08-20 13:22:39 [scrapy.middleware] INFO: Enabled downloader middlewares:\n",
      "['scrapy.downloadermiddlewares.offsite.OffsiteMiddleware',\n",
      " 'scrapy.downloadermiddlewares.httpauth.HttpAuthMiddleware',\n",
      " 'scrapy.downloadermiddlewares.downloadtimeout.DownloadTimeoutMiddleware',\n",
      " 'scrapy.downloadermiddlewares.defaultheaders.DefaultHeadersMiddleware',\n",
      " 'scrapy.downloadermiddlewares.useragent.UserAgentMiddleware',\n",
      " 'scrapy.downloadermiddlewares.retry.RetryMiddleware',\n",
      " 'scrapy.downloadermiddlewares.redirect.MetaRefreshMiddleware',\n",
      " 'scrapy.downloadermiddlewares.httpcompression.HttpCompressionMiddleware',\n",
      " 'scrapy.downloadermiddlewares.redirect.RedirectMiddleware',\n",
      " 'scrapy.downloadermiddlewares.cookies.CookiesMiddleware',\n",
      " 'scrapy.downloadermiddlewares.httpproxy.HttpProxyMiddleware',\n",
      " 'scrapy.downloadermiddlewares.stats.DownloaderStats']\n",
      "2024-08-20 13:22:39 [scrapy.middleware] INFO: Enabled spider middlewares:\n",
      "['scrapy.spidermiddlewares.httperror.HttpErrorMiddleware',\n",
      " 'scrapy.spidermiddlewares.referer.RefererMiddleware',\n",
      " 'scrapy.spidermiddlewares.urllength.UrlLengthMiddleware',\n",
      " 'scrapy.spidermiddlewares.depth.DepthMiddleware']\n",
      "2024-08-20 13:22:39 [scrapy.middleware] INFO: Enabled item pipelines:\n",
      "[]\n",
      "2024-08-20 13:22:39 [scrapy.core.engine] INFO: Spider opened\n",
      "2024-08-20 13:22:39 [scrapy.extensions.logstats] INFO: Crawled 0 pages (at 0 pages/min), scraped 0 items (at 0 items/min)\n",
      "2024-08-20 13:22:39 [scrapy.extensions.telnet] INFO: Telnet console listening on 127.0.0.1:6024\n",
      "2024-08-20 13:22:39 [scrapy.core.engine] DEBUG: Crawled (200) <GET https://www.dailypolitical.com/2024/08/12/cohen-steers-infrastructure-fund-inc-to-issue-monthly-dividend-of-0-16-nyseutf.html> (referer: None)\n",
      "2024-08-20 13:22:39 [scrapy.core.engine] DEBUG: Crawled (403) <GET https://www.aceshowbiz.com/news/view/00230755.html> (referer: None)\n",
      "2024-08-20 13:22:39 [scrapy.core.engine] DEBUG: Crawled (200) <GET https://mix1065.iheart.com/featured/denise-plante/content/2024-08-12-hollywood-ending-to-the-paris-olympics/> (referer: None)\n",
      "2024-08-20 13:22:39 [scrapy.core.engine] DEBUG: Crawled (406) <GET https://www.theguardian.com/australia-news/article/2024/aug/12/queensland-teacher-child-sex-abuse-charges-ntwnfb> (referer: None)\n",
      "2024-08-20 13:22:39 [scrapy.core.scraper] DEBUG: Scraped from <200 https://www.dailypolitical.com/2024/08/12/cohen-steers-infrastructure-fund-inc-to-issue-monthly-dividend-of-0-16-nyseutf.html>\n",
      "{'url': 'https://www.dailypolitical.com/2024/08/12/cohen-steers-infrastructure-fund-inc-to-issue-monthly-dividend-of-0-16-nyseutf.html', 'text': 'Posted by on ( ) announced a monthly dividend on Wednesday, June 26th, reports. Shareholders of reco', 'result': {'neg': 0.025, 'neu': 0.925, 'pos': 0.05, 'compound': 0.6705}}\n",
      "2024-08-20 13:22:39 [scrapy.spidermiddlewares.httperror] INFO: Ignoring response <403 https://www.aceshowbiz.com/news/view/00230755.html>: HTTP status code is not handled or not allowed\n",
      "2024-08-20 13:22:39 [scrapy.core.scraper] DEBUG: Scraped from <200 https://mix1065.iheart.com/featured/denise-plante/content/2024-08-12-hollywood-ending-to-the-paris-olympics/>\n",
      "{'url': 'https://mix1065.iheart.com/featured/denise-plante/content/2024-08-12-hollywood-ending-to-the-paris-olympics/', 'text': 'With the 2028 Summer Olympics being hosted by Los Angeles, the flag handover at the Paris Olympics c', 'result': {'neg': 0.017, 'neu': 0.93, 'pos': 0.053, 'compound': 0.4767}}\n",
      "2024-08-20 13:22:39 [scrapy.spidermiddlewares.httperror] INFO: Ignoring response <406 https://www.theguardian.com/australia-news/article/2024/aug/12/queensland-teacher-child-sex-abuse-charges-ntwnfb>: HTTP status code is not handled or not allowed\n",
      "2024-08-20 13:22:39 [scrapy.core.engine] DEBUG: Crawled (200) <GET https://www.livelaw.in/high-court/chattisgarh-high-court/chhattisgarh-high-court-affirms-single-judge-order-upholding-dismissal-judicial-officer-criminal-case-266465> (referer: None)\n",
      "2024-08-20 13:22:39 [scrapy.core.engine] DEBUG: Crawled (200) <GET https://www.newsweek.com/entertainment/celebrity-news/heidi-klum-husband-tom-kaulitz-pda-beach-photos-1938096> (referer: None)\n",
      "2024-08-20 13:22:39 [scrapy.core.engine] DEBUG: Crawled (200) <GET https://menafn.com/1108542889/Investment-Scam-Victims-Find-Hope-And-Relief-Through-Natisa-Securities-LLCS-Expert-Services> (referer: None)\n"
     ]
    },
    {
     "name": "stdout",
     "output_type": "stream",
     "text": [
      "\n",
      "https://www.dailypolitical.com/2024/08/12/cohen-steers-infrastructure-fund-inc-to-issue-monthly-dividend-of-0-16-nyseutf.html \n",
      "\t{'neg': 0.025, 'neu': 0.925, 'pos': 0.05, 'compound': 0.6705}\n",
      "\n",
      "https://mix1065.iheart.com/featured/denise-plante/content/2024-08-12-hollywood-ending-to-the-paris-olympics/ \n",
      "\t{'neg': 0.017, 'neu': 0.93, 'pos': 0.053, 'compound': 0.4767}\n"
     ]
    },
    {
     "name": "stderr",
     "output_type": "stream",
     "text": [
      "2024-08-20 13:22:39 [scrapy.core.scraper] DEBUG: Scraped from <200 https://www.livelaw.in/high-court/chattisgarh-high-court/chhattisgarh-high-court-affirms-single-judge-order-upholding-dismissal-judicial-officer-criminal-case-266465>\n",
      "{'url': 'https://www.livelaw.in/high-court/chattisgarh-high-court/chhattisgarh-high-court-affirms-single-judge-order-upholding-dismissal-judicial-officer-criminal-case-266465', 'text': '12 Aug 2024 739 AM GMTA Division bench of the Chhattisgarh High Court recently confirmed the 2020 or', 'result': {'neg': 0.059, 'neu': 0.878, 'pos': 0.063, 'compound': 0.5106}}\n",
      "2024-08-20 13:22:39 [scrapy.core.engine] DEBUG: Crawled (404) <GET https://b1057.com/266070/seans-tough-trivia-8-12-24/> (referer: None)\n",
      "2024-08-20 13:22:39 [scrapy.core.scraper] DEBUG: Scraped from <200 https://www.newsweek.com/entertainment/celebrity-news/heidi-klum-husband-tom-kaulitz-pda-beach-photos-1938096>\n",
      "{'url': 'https://www.newsweek.com/entertainment/celebrity-news/heidi-klum-husband-tom-kaulitz-pda-beach-photos-1938096', 'text': 'Heidi Klum and Tom Kaulitz are clearly enjoying their extremely steamy vacation in St. Barts.On Frid', 'result': {'neg': 0.006, 'neu': 0.885, 'pos': 0.109, 'compound': 0.9899}}\n",
      "2024-08-20 13:22:39 [scrapy.core.scraper] DEBUG: Scraped from <200 https://menafn.com/1108542889/Investment-Scam-Victims-Find-Hope-And-Relief-Through-Natisa-Securities-LLCS-Expert-Services>\n",
      "{'url': 'https://menafn.com/1108542889/Investment-Scam-Victims-Find-Hope-And-Relief-Through-Natisa-Securities-LLCS-Expert-Services', 'text': 'Forgot or ( GlobeNewsWire Nasdaq) WESTCHESTER, N.Y., Aug. 12, 2024 (GLOBE NEWSWIRE) In recent years,', 'result': {'neg': 0.186, 'neu': 0.629, 'pos': 0.185, 'compound': -0.6892}}\n",
      "2024-08-20 13:22:39 [scrapy.core.engine] DEBUG: Crawled (200) <GET https://localnews8.com/news/2024/08/12/dozens-of-pregnant-women-some-bleeding-or-in-labor-being-turned-away-from-ers-despite-federal-law/> (referer: None)\n",
      "2024-08-20 13:22:39 [scrapy.core.engine] DEBUG: Crawled (200) <GET https://timesofindia.indiatimes.com/city/varanasi/illegal-church-demolished-on-forest-land/articleshow/112452967.cms> (referer: None)\n",
      "2024-08-20 13:22:39 [scrapy.core.engine] DEBUG: Crawled (200) <GET https://www.wrur.org/from-npr-music/2024-08-11/photos-see-what-happened-at-the-olympic-closing-ceremony> (referer: None)\n",
      "2024-08-20 13:22:40 [scrapy.spidermiddlewares.httperror] INFO: Ignoring response <404 https://b1057.com/266070/seans-tough-trivia-8-12-24/>: HTTP status code is not handled or not allowed\n",
      "2024-08-20 13:22:40 [scrapy.core.engine] DEBUG: Crawled (200) <GET https://cowboystatedaily.com/2024/08/11/wyoming-history-the-tough-luck-teen-gangster-who-ran-into-a-tougher-sheriff/> (referer: None)\n",
      "2024-08-20 13:22:40 [scrapy.core.engine] DEBUG: Crawled (200) <GET https://zeenews.india.com/people/shah-rukh-khan-confirms-his-next-film-is-king-along-with-suhana-khan-reveals-interesting-deets-2776919.html> (referer: None)\n",
      "2024-08-20 13:22:40 [scrapy.core.scraper] DEBUG: Scraped from <200 https://localnews8.com/news/2024/08/12/dozens-of-pregnant-women-some-bleeding-or-in-labor-being-turned-away-from-ers-despite-federal-law/>\n",
      "{'url': 'https://localnews8.com/news/2024/08/12/dozens-of-pregnant-women-some-bleeding-or-in-labor-being-turned-away-from-ers-despite-federal-law/', 'text': 'Associated PressWASHINGTON (AP) — More than 100 pregnant women in medical distress who sought help f', 'result': {'neg': 0.128, 'neu': 0.745, 'pos': 0.127, 'compound': -0.2607}}\n",
      "2024-08-20 13:22:40 [scrapy.core.engine] DEBUG: Crawled (200) <GET https://economictimes.indiatimes.com/news/politics-and-nation/priyanka-gandhi-urges-interim-bangladesh-govt-to-ensure-safety-of-hindus-christians-buddhists/articleshow/112469974.cms> (referer: None)\n",
      "2024-08-20 13:22:40 [scrapy.core.scraper] DEBUG: Scraped from <200 https://timesofindia.indiatimes.com/city/varanasi/illegal-church-demolished-on-forest-land/articleshow/112452967.cms>\n",
      "{'url': 'https://timesofindia.indiatimes.com/city/varanasi/illegal-church-demolished-on-forest-land/articleshow/112452967.cms', 'text': 'In pictures 10 national parks in North India to see the Big Cats’10 animals using electric fields fo', 'result': {'neg': 0.0, 'neu': 0.909, 'pos': 0.091, 'compound': 0.802}}\n"
     ]
    },
    {
     "name": "stdout",
     "output_type": "stream",
     "text": [
      "\n",
      "https://www.livelaw.in/high-court/chattisgarh-high-court/chhattisgarh-high-court-affirms-single-judge-order-upholding-dismissal-judicial-officer-criminal-case-266465 \n",
      "\t{'neg': 0.059, 'neu': 0.878, 'pos': 0.063, 'compound': 0.5106}\n",
      "\n",
      "https://www.newsweek.com/entertainment/celebrity-news/heidi-klum-husband-tom-kaulitz-pda-beach-photos-1938096 \n",
      "\t{'neg': 0.006, 'neu': 0.885, 'pos': 0.109, 'compound': 0.9899}\n",
      "\n",
      "https://menafn.com/1108542889/Investment-Scam-Victims-Find-Hope-And-Relief-Through-Natisa-Securities-LLCS-Expert-Services \n",
      "\t{'neg': 0.186, 'neu': 0.629, 'pos': 0.185, 'compound': -0.6892}\n",
      "\n",
      "https://localnews8.com/news/2024/08/12/dozens-of-pregnant-women-some-bleeding-or-in-labor-being-turned-away-from-ers-despite-federal-law/ \n",
      "\t{'neg': 0.128, 'neu': 0.745, 'pos': 0.127, 'compound': -0.2607}\n",
      "\n",
      "https://timesofindia.indiatimes.com/city/varanasi/illegal-church-demolished-on-forest-land/articleshow/112452967.cms \n",
      "\t{'neg': 0.0, 'neu': 0.909, 'pos': 0.091, 'compound': 0.802}\n"
     ]
    },
    {
     "name": "stderr",
     "output_type": "stream",
     "text": [
      "2024-08-20 13:22:40 [scrapy.core.scraper] DEBUG: Scraped from <200 https://www.wrur.org/from-npr-music/2024-08-11/photos-see-what-happened-at-the-olympic-closing-ceremony>\n",
      "{'url': 'https://www.wrur.org/from-npr-music/2024-08-11/photos-see-what-happened-at-the-olympic-closing-ceremony', 'text': 'The Paris Olympics wrapped up Sunday with a lavish . It marked the end of a remarkable 2 12 weeks of', 'result': {'neg': 0.0, 'neu': 0.899, 'pos': 0.101, 'compound': 0.5574}}\n",
      "2024-08-20 13:22:40 [scrapy.core.scraper] DEBUG: Scraped from <200 https://cowboystatedaily.com/2024/08/11/wyoming-history-the-tough-luck-teen-gangster-who-ran-into-a-tougher-sheriff/>\n",
      "{'url': 'https://cowboystatedaily.com/2024/08/11/wyoming-history-the-tough-luck-teen-gangster-who-ran-into-a-tougher-sheriff/', 'text': 'A wild South Dakota 16yearold tough luck gangster in a stolen car killed a Douglas man in a crash an', 'result': {'neg': 0.129, 'neu': 0.822, 'pos': 0.049, 'compound': -0.9991}}\n",
      "2024-08-20 13:22:40 [scrapy.core.engine] DEBUG: Crawled (200) <GET https://www.breakingnews.ie/entertainment/dermot-kennedy-warns-fans-about-ai-voice-note-scam-1660236.html> (referer: None)\n",
      "2024-08-20 13:22:40 [scrapy.core.scraper] DEBUG: Scraped from <200 https://zeenews.india.com/people/shah-rukh-khan-confirms-his-next-film-is-king-along-with-suhana-khan-reveals-interesting-deets-2776919.html>\n",
      "{'url': 'https://zeenews.india.com/people/shah-rukh-khan-confirms-his-next-film-is-king-along-with-suhana-khan-reveals-interesting-deets-2776919.html', 'text': 'Trending PhotosMumbai Shah Rukh Khan has confirmed he is doing King next helmed by Sujoy Ghosh. The ', 'result': {'neg': 0.037, 'neu': 0.897, 'pos': 0.065, 'compound': 0.6815}}\n",
      "2024-08-20 13:22:40 [scrapy.core.scraper] DEBUG: Scraped from <200 https://economictimes.indiatimes.com/news/politics-and-nation/priyanka-gandhi-urges-interim-bangladesh-govt-to-ensure-safety-of-hindus-christians-buddhists/articleshow/112469974.cms>\n",
      "{'url': 'https://economictimes.indiatimes.com/news/politics-and-nation/priyanka-gandhi-urges-interim-bangladesh-govt-to-ensure-safety-of-hindus-christians-buddhists/articleshow/112469974.cms', 'text': '(Catch all the , , Events and Updates on .)Subscribe to and read the online.(Catch all the , , Event', 'result': {'neg': 0.11, 'neu': 0.829, 'pos': 0.061, 'compound': -0.9118}}\n",
      "2024-08-20 13:22:40 [scrapy.core.engine] DEBUG: Crawled (200) <GET https://www.bunburymail.com.au/story/8727374/hawks-racism-report-author-accused-of-stealing-779k/> (referer: None)\n"
     ]
    },
    {
     "name": "stdout",
     "output_type": "stream",
     "text": [
      "\n",
      "https://www.wrur.org/from-npr-music/2024-08-11/photos-see-what-happened-at-the-olympic-closing-ceremony \n",
      "\t{'neg': 0.0, 'neu': 0.899, 'pos': 0.101, 'compound': 0.5574}\n",
      "\n",
      "https://cowboystatedaily.com/2024/08/11/wyoming-history-the-tough-luck-teen-gangster-who-ran-into-a-tougher-sheriff/ \n",
      "\t{'neg': 0.129, 'neu': 0.822, 'pos': 0.049, 'compound': -0.9991}\n",
      "\n",
      "https://zeenews.india.com/people/shah-rukh-khan-confirms-his-next-film-is-king-along-with-suhana-khan-reveals-interesting-deets-2776919.html \n",
      "\t{'neg': 0.037, 'neu': 0.897, 'pos': 0.065, 'compound': 0.6815}\n",
      "\n",
      "https://economictimes.indiatimes.com/news/politics-and-nation/priyanka-gandhi-urges-interim-bangladesh-govt-to-ensure-safety-of-hindus-christians-buddhists/articleshow/112469974.cms \n",
      "\t{'neg': 0.11, 'neu': 0.829, 'pos': 0.061, 'compound': -0.9118}\n"
     ]
    },
    {
     "name": "stderr",
     "output_type": "stream",
     "text": [
      "2024-08-20 13:22:40 [scrapy.core.scraper] DEBUG: Scraped from <200 https://www.breakingnews.ie/entertainment/dermot-kennedy-warns-fans-about-ai-voice-note-scam-1660236.html>\n",
      "{'url': 'https://www.breakingnews.ie/entertainment/dermot-kennedy-warns-fans-about-ai-voice-note-scam-1660236.html', 'text': 'Sarah SlaterIrish singer Dermot Kennedy is warning fans to be careful about another scam which is us', 'result': {'neg': 0.102, 'neu': 0.817, 'pos': 0.081, 'compound': -0.9023}}\n",
      "2024-08-20 13:22:40 [scrapy.core.scraper] DEBUG: Scraped from <200 https://www.bunburymail.com.au/story/8727374/hawks-racism-report-author-accused-of-stealing-779k/>\n",
      "{'url': 'https://www.bunburymail.com.au/story/8727374/hawks-racism-report-author-accused-of-stealing-779k/', 'text': 'A former AFL player who wrote Hawthorns dramatic racism report is accused of stealing almost 800,000', 'result': {'neg': 0.109, 'neu': 0.836, 'pos': 0.055, 'compound': -0.9749}}\n"
     ]
    },
    {
     "name": "stdout",
     "output_type": "stream",
     "text": [
      "\n",
      "https://www.breakingnews.ie/entertainment/dermot-kennedy-warns-fans-about-ai-voice-note-scam-1660236.html \n",
      "\t{'neg': 0.102, 'neu': 0.817, 'pos': 0.081, 'compound': -0.9023}\n",
      "\n",
      "https://www.bunburymail.com.au/story/8727374/hawks-racism-report-author-accused-of-stealing-779k/ \n",
      "\t{'neg': 0.109, 'neu': 0.836, 'pos': 0.055, 'compound': -0.9749}\n"
     ]
    },
    {
     "name": "stderr",
     "output_type": "stream",
     "text": [
      "2024-08-20 13:22:40 [scrapy.core.engine] DEBUG: Crawled (200) <GET https://www.mirror.co.uk/money/indian-business-giant-bharti-global-33443330> (referer: None)\n",
      "2024-08-20 13:22:40 [scrapy.core.engine] DEBUG: Crawled (200) <GET https://www.thisiswiltshire.co.uk/news/national/24512304.three-remanded-custody-charged-offences-connected-recent-disorder/> (referer: None)\n",
      "2024-08-20 13:22:40 [scrapy.core.scraper] DEBUG: Scraped from <200 https://www.mirror.co.uk/money/indian-business-giant-bharti-global-33443330>\n",
      "{'url': 'https://www.mirror.co.uk/money/indian-business-giant-bharti-global-33443330', 'text': 'Bharti Global said it has entered into a binding agreement with Altice to buy a 9.99 stake in BT, wi', 'result': {'neg': 0.004, 'neu': 0.803, 'pos': 0.193, 'compound': 0.9982}}\n",
      "2024-08-20 13:22:40 [scrapy.core.scraper] DEBUG: Scraped from <200 https://www.thisiswiltshire.co.uk/news/national/24512304.three-remanded-custody-charged-offences-connected-recent-disorder/>\n",
      "{'url': 'https://www.thisiswiltshire.co.uk/news/national/24512304.three-remanded-custody-charged-offences-connected-recent-disorder/', 'text': 'Three men have been remanded in custody after appearing in courts in Northern Ireland charged with o', 'result': {'neg': 0.149, 'neu': 0.784, 'pos': 0.068, 'compound': -0.9968}}\n"
     ]
    },
    {
     "name": "stdout",
     "output_type": "stream",
     "text": [
      "\n",
      "https://www.mirror.co.uk/money/indian-business-giant-bharti-global-33443330 \n",
      "\t{'neg': 0.004, 'neu': 0.803, 'pos': 0.193, 'compound': 0.9982}\n",
      "\n",
      "https://www.thisiswiltshire.co.uk/news/national/24512304.three-remanded-custody-charged-offences-connected-recent-disorder/ \n",
      "\t{'neg': 0.149, 'neu': 0.784, 'pos': 0.068, 'compound': -0.9968}\n"
     ]
    },
    {
     "name": "stderr",
     "output_type": "stream",
     "text": [
      "2024-08-20 13:22:40 [scrapy.core.engine] DEBUG: Crawled (200) <GET https://www.irishexaminer.com/news/arid-41454562.html> (referer: None)\n",
      "2024-08-20 13:22:41 [scrapy.core.scraper] DEBUG: Scraped from <200 https://www.irishexaminer.com/news/arid-41454562.html>\n",
      "{'url': 'https://www.irishexaminer.com/news/arid-41454562.html', 'text': 'Ireland’s Rhys McClenaghan receives his gold medal during the ceremony for the men’s pommel horse fi', 'result': {'neg': 0.014, 'neu': 0.794, 'pos': 0.192, 'compound': 0.9993}}\n"
     ]
    },
    {
     "name": "stdout",
     "output_type": "stream",
     "text": [
      "\n",
      "https://www.irishexaminer.com/news/arid-41454562.html \n",
      "\t{'neg': 0.014, 'neu': 0.794, 'pos': 0.192, 'compound': 0.9993}\n"
     ]
    },
    {
     "name": "stderr",
     "output_type": "stream",
     "text": [
      "2024-08-20 13:22:42 [scrapy.core.engine] DEBUG: Crawled (200) <GET https://www.kisswtlz.com/syndicated-article/?id=1578706> (referer: None)\n",
      "2024-08-20 13:22:42 [scrapy.core.scraper] DEBUG: Scraped from <200 https://www.kisswtlz.com/syndicated-article/?id=1578706>\n",
      "{'url': 'https://www.kisswtlz.com/syndicated-article/?id=1578706', 'text': '— appeared in the congratulatory message and his wife,,sent to Team Great Britain, dressed in a USAt', 'result': {'neg': 0.027, 'neu': 0.861, 'pos': 0.111, 'compound': 0.9714}}\n",
      "2024-08-20 13:22:42 [scrapy.core.engine] INFO: Closing spider (finished)\n",
      "2024-08-20 13:22:42 [scrapy.extensions.feedexport] INFO: Stored json feed (17 items) in: items.json\n",
      "2024-08-20 13:22:42 [scrapy.statscollectors] INFO: Dumping Scrapy stats:\n",
      "{'downloader/request_bytes': 7483,\n",
      " 'downloader/request_count': 20,\n",
      " 'downloader/request_method_count/GET': 20,\n",
      " 'downloader/response_bytes': 1116162,\n",
      " 'downloader/response_count': 20,\n",
      " 'downloader/response_status_count/200': 17,\n",
      " 'downloader/response_status_count/403': 1,\n",
      " 'downloader/response_status_count/404': 1,\n",
      " 'downloader/response_status_count/406': 1,\n",
      " 'elapsed_time_seconds': 3.205445,\n",
      " 'feedexport/success_count/FileFeedStorage': 1,\n",
      " 'finish_reason': 'finished',\n",
      " 'finish_time': datetime.datetime(2024, 8, 20, 19, 22, 42, 517377, tzinfo=datetime.timezone.utc),\n",
      " 'httpcompression/response_bytes': 5066973,\n",
      " 'httpcompression/response_count': 18,\n",
      " 'httperror/response_ignored_count': 3,\n",
      " 'httperror/response_ignored_status_count/403': 1,\n",
      " 'httperror/response_ignored_status_count/404': 1,\n",
      " 'httperror/response_ignored_status_count/406': 1,\n",
      " 'item_scraped_count': 17,\n",
      " 'log_count/DEBUG': 38,\n",
      " 'log_count/INFO': 14,\n",
      " 'log_count/WARNING': 1,\n",
      " 'memusage/max': 242089984,\n",
      " 'memusage/startup': 242089984,\n",
      " 'response_received_count': 20,\n",
      " 'scheduler/dequeued': 20,\n",
      " 'scheduler/dequeued/memory': 20,\n",
      " 'scheduler/enqueued': 20,\n",
      " 'scheduler/enqueued/memory': 20,\n",
      " 'start_time': datetime.datetime(2024, 8, 20, 19, 22, 39, 311932, tzinfo=datetime.timezone.utc)}\n",
      "2024-08-20 13:22:42 [scrapy.core.engine] INFO: Spider closed (finished)\n"
     ]
    },
    {
     "name": "stdout",
     "output_type": "stream",
     "text": [
      "\n",
      "https://www.kisswtlz.com/syndicated-article/?id=1578706 \n",
      "\t{'neg': 0.027, 'neu': 0.861, 'pos': 0.111, 'compound': 0.9714}\n"
     ]
    }
   ],
   "source": [
    " # Create a settings object if not using a project\n",
    "\n",
    "process = CrawlerProcess(settings={\n",
    "        \"FEEDS\": {\n",
    "            \"items.json\": {\"format\": \"json\"},\n",
    "        },\n",
    "    })\n",
    "process.crawl(MultiSiteSpider)\n",
    "process.start()"
   ]
  },
  {
   "cell_type": "code",
   "execution_count": 9,
   "metadata": {},
   "outputs": [],
   "source": [
    "# rotación de user agent por si se necesita\n",
    "import random\n",
    "\n",
    "USER_AGENTS = [\n",
    "    'Mozilla/5.0 (Windows NT 10.0; Win64; x64) AppleWebKit/537.36 (KHTML, like Gecko) Chrome/108.0.0.0 Safari/537.36',\n",
    "    'Mozilla/5.0 (Macintosh; Intel Mac OS X 10_15_7) AppleWebKit/537.36 (KHTML, like Gecko) Chrome/108.0.0.0 Safari/537.36',\n",
    "    'Mozilla/5.0 (X11; Linux x86_64) AppleWebKit/537.36 (KHTML, like Gecko) Chrome/108.0.0.0 Safari/537.36',\n",
    "    'Mozilla/5.0 (Macintosh; Intel Mac OS X 10_15_7) AppleWebKit/605.1.15 (KHTML, like Gecko) Version/16.1 Safari/605.1.15',\n",
    "    'Mozilla/5.0 (Macintosh; Intel Mac OS X 13_1) AppleWebKit/605.1.15 (KHTML, like Gecko) Version/16.1 Safari/605.1.15'\n",
    "]\n",
    "\n",
    "class UARotatorMiddleware:\n",
    "    def __init__(self, user_agents):\n",
    "        self.user_agents = user_agents\n",
    "\n",
    "    @classmethod\n",
    "    def from_crawler(cls, crawler):\n",
    "        user_agents = crawler.settings.get('USER_AGENTS', USER_AGENTS)\n",
    "        return cls(user_agents)\n",
    "\n",
    "    def process_request(self, request, spider):\n",
    "        user_agent = random.choice(self.user_agents)\n",
    "        request.headers['User-Agent'] = user_agent"
   ]
  }
 ],
 "metadata": {
  "kernelspec": {
   "display_name": "factored",
   "language": "python",
   "name": "python3"
  },
  "language_info": {
   "codemirror_mode": {
    "name": "ipython",
    "version": 3
   },
   "file_extension": ".py",
   "mimetype": "text/x-python",
   "name": "python",
   "nbconvert_exporter": "python",
   "pygments_lexer": "ipython3",
   "version": "3.10.14"
  }
 },
 "nbformat": 4,
 "nbformat_minor": 2
}
