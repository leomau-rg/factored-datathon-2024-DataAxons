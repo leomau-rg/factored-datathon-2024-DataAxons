{
 "cells": [
  {
   "cell_type": "code",
   "execution_count": 1,
   "metadata": {},
   "outputs": [
    {
     "name": "stdout",
     "output_type": "stream",
     "text": [
      "Collecting vaderSentiment\n",
      "  Downloading vaderSentiment-3.3.2-py2.py3-none-any.whl.metadata (572 bytes)\n",
      "Requirement already satisfied: requests in /home/sgm1191/miniconda3/envs/factored/lib/python3.10/site-packages (from vaderSentiment) (2.32.3)\n",
      "Requirement already satisfied: charset-normalizer<4,>=2 in /home/sgm1191/miniconda3/envs/factored/lib/python3.10/site-packages (from requests->vaderSentiment) (3.3.2)\n",
      "Requirement already satisfied: idna<4,>=2.5 in /home/sgm1191/miniconda3/envs/factored/lib/python3.10/site-packages (from requests->vaderSentiment) (3.7)\n",
      "Requirement already satisfied: urllib3<3,>=1.21.1 in /home/sgm1191/miniconda3/envs/factored/lib/python3.10/site-packages (from requests->vaderSentiment) (2.2.2)\n",
      "Requirement already satisfied: certifi>=2017.4.17 in /home/sgm1191/miniconda3/envs/factored/lib/python3.10/site-packages (from requests->vaderSentiment) (2024.7.4)\n",
      "Downloading vaderSentiment-3.3.2-py2.py3-none-any.whl (125 kB)\n",
      "Installing collected packages: vaderSentiment\n",
      "Successfully installed vaderSentiment-3.3.2\n"
     ]
    }
   ],
   "source": [
    "! pip install vaderSentiment"
   ]
  },
  {
   "cell_type": "code",
   "execution_count": 3,
   "metadata": {},
   "outputs": [],
   "source": [
    "from pathlib import Path\n",
    "from vaderSentiment.vaderSentiment import SentimentIntensityAnalyzer"
   ]
  },
  {
   "cell_type": "code",
   "execution_count": 4,
   "metadata": {},
   "outputs": [
    {
     "name": "stdout",
     "output_type": "stream",
     "text": [
      "Three remanded in custody charged with offences connected with recent disorder. Three men have been remanded in custody after appearing in courts in Northern Ireland charged with offences connected wi\n"
     ]
    }
   ],
   "source": [
    "file_path = Path('../data/pages/index.html')\n",
    "\n",
    "with open(file_path, 'r') as f:\n",
    "    sentence = ' '.join([line.strip() for line in f.readlines()])\n",
    "\n",
    "print(sentence[:200])"
   ]
  },
  {
   "cell_type": "code",
   "execution_count": 5,
   "metadata": {},
   "outputs": [
    {
     "name": "stdout",
     "output_type": "stream",
     "text": [
      "Three remanded in custody charged with offences connected with recent disorder. Three men have been remanded in custody after appearing in courts in Northern Ireland charged with offences connected with recent disorder. Jason Galbraith, 26, of no fixed address, was charged with ten offences on the first day of serious disorder in south Belfast on August 3, after an anti-immigration protest in the city centre. The charges include setting fire to a car, rioting, criminal damage to an electronic gate belonging to Holiday Inn and three counts of an offensive weapon with intent – masonry bricks, a wooden plank and a metal pole. He indicated he understood the charges when he appeared at Belfast Magistrates’ Court on Monday. No application for bail was made and Galbraith was remanded in custody. At Downpatrick Magistrates’ Court, John Edward Robinson, 30, of Rathgill Park and Corey McNabb, 28, of Balmoral Avenue, both in Bangor, were refused bail after being charged with online offences between August 3 and 4. Meanwhile, Glen Kane, 58, of Riga Street in Belfast, was granted bail after appearing at Belfast Magistrates’ Court charged with possessing written material intended or likely to stir up hatred or arouse fear. PSNI Assistant Chief Constable Melanie Jones said more than 30 people have been arrested and dozens have been charged to appear before court since the disorder began earlier this month. Police are also investigating a report of intimidation at a park near Manse Road, Castlereagh, on Sunday. A man was walking in the park at about 7.15pm when he was approached by six young people who shouted abuse and intimidated him. As he walked away, the group threw stones at him. The man was not injured and the PSNI said it was being treated as a racially motivated hate crime. A 42-year-old man arrested on suspicion of a number of offences in connection with an attack on a mosque in Greenwell Street, Newtownards, in the early hours of Saturday was released on bail on Monday to allow for further inquiries. And a 26-year-old man was arrested in the Belfast area on riot charges. He remained in police custody on Monday evening while police inquiries continued. Ms Jones said: “On Sunday, we released another five images of individuals whom we would like to speak to in connection with our ongoing investigation into disorder and attacks on police officers since Saturday August 3. You can view the images at url. {'neg': 0.233, 'neu': 0.735, 'pos': 0.032, 'compound': -0.998}\n"
     ]
    }
   ],
   "source": [
    "analyzer = SentimentIntensityAnalyzer()\n",
    "\n",
    "vs = analyzer.polarity_scores(sentence)\n",
    "print(\"{:-<65} \\n{}\".format(sentence, str(vs)))\n"
   ]
  },
  {
   "cell_type": "code",
   "execution_count": null,
   "metadata": {},
   "outputs": [],
   "source": []
  }
 ],
 "metadata": {
  "kernelspec": {
   "display_name": "factored",
   "language": "python",
   "name": "python3"
  },
  "language_info": {
   "codemirror_mode": {
    "name": "ipython",
    "version": 3
   },
   "file_extension": ".py",
   "mimetype": "text/x-python",
   "name": "python",
   "nbconvert_exporter": "python",
   "pygments_lexer": "ipython3",
   "version": "3.10.14"
  }
 },
 "nbformat": 4,
 "nbformat_minor": 2
}
