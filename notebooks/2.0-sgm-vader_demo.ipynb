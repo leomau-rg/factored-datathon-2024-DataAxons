{
 "cells": [
  {
   "cell_type": "code",
   "execution_count": 1,
   "metadata": {},
   "outputs": [
    {
     "name": "stdout",
     "output_type": "stream",
     "text": [
      "Collecting vaderSentiment\n",
      "  Downloading vaderSentiment-3.3.2-py2.py3-none-any.whl.metadata (572 bytes)\n",
      "Requirement already satisfied: requests in /home/sgm1191/miniconda3/envs/factored/lib/python3.10/site-packages (from vaderSentiment) (2.32.3)\n",
      "Requirement already satisfied: charset-normalizer<4,>=2 in /home/sgm1191/miniconda3/envs/factored/lib/python3.10/site-packages (from requests->vaderSentiment) (3.3.2)\n",
      "Requirement already satisfied: idna<4,>=2.5 in /home/sgm1191/miniconda3/envs/factored/lib/python3.10/site-packages (from requests->vaderSentiment) (3.7)\n",
      "Requirement already satisfied: urllib3<3,>=1.21.1 in /home/sgm1191/miniconda3/envs/factored/lib/python3.10/site-packages (from requests->vaderSentiment) (2.2.2)\n",
      "Requirement already satisfied: certifi>=2017.4.17 in /home/sgm1191/miniconda3/envs/factored/lib/python3.10/site-packages (from requests->vaderSentiment) (2024.7.4)\n",
      "Downloading vaderSentiment-3.3.2-py2.py3-none-any.whl (125 kB)\n",
      "Installing collected packages: vaderSentiment\n",
      "Successfully installed vaderSentiment-3.3.2\n"
     ]
    }
   ],
   "source": [
    "! pip install vaderSentiment"
   ]
  },
  {
   "cell_type": "code",
   "execution_count": 1,
   "metadata": {},
   "outputs": [],
   "source": [
    "import sys\n",
    "sys.path.append('..')\n",
    "from pathlib import Path\n",
    "\n",
    "import polars as pl\n",
    "\n",
    "from vaderSentiment.vaderSentiment import SentimentIntensityAnalyzer"
   ]
  },
  {
   "cell_type": "code",
   "execution_count": 2,
   "metadata": {},
   "outputs": [
    {
     "data": {
      "text/html": [
       "<div><style>\n",
       ".dataframe > thead > tr,\n",
       ".dataframe > tbody > tr {\n",
       "  text-align: right;\n",
       "  white-space: pre-wrap;\n",
       "}\n",
       "</style>\n",
       "<small>shape: (427_445, 5)</small><table border=\"1\" class=\"dataframe\"><thead><tr><th>SOURCEURLS</th><th>general_tone</th><th>positive_score</th><th>negative_score</th><th>polarity</th></tr><tr><td>str</td><td>str</td><td>str</td><td>str</td><td>str</td></tr></thead><tbody><tr><td>&quot;https://localnews8.com/news/20…</td><td>&quot;-8.82562277580071&quot;</td><td>&quot;1.56583629893238&quot;</td><td>&quot;10.3914590747331&quot;</td><td>&quot;11.9572953736655&quot;</td></tr><tr><td>&quot;https://www.thisiswiltshire.co…</td><td>&quot;-8.83333333333333&quot;</td><td>&quot;0.666666666666667&quot;</td><td>&quot;9.5&quot;</td><td>&quot;10.1666666666667&quot;</td></tr><tr><td>&quot;https://www.dailypolitical.com…</td><td>&quot;1.14942528735632&quot;</td><td>&quot;1.14942528735632&quot;</td><td>&quot;0&quot;</td><td>&quot;1.14942528735632&quot;</td></tr><tr><td>&quot;https://mix1065.iheart.com/fea…</td><td>&quot;1.91082802547771&quot;</td><td>&quot;2.54777070063694&quot;</td><td>&quot;0.636942675159236&quot;</td><td>&quot;3.18471337579618&quot;</td></tr><tr><td>&quot;https://www.theguardian.com/au…</td><td>&quot;-7.34177215189874&quot;</td><td>&quot;0.759493670886076&quot;</td><td>&quot;8.10126582278481&quot;</td><td>&quot;8.86075949367089&quot;</td></tr><tr><td>&hellip;</td><td>&hellip;</td><td>&hellip;</td><td>&hellip;</td><td>&hellip;</td></tr><tr><td>&quot;https://www.wvua23.com/tuesday…</td><td>&quot;-9.09090909090909&quot;</td><td>&quot;0&quot;</td><td>&quot;9.09090909090909&quot;</td><td>&quot;9.09090909090909&quot;</td></tr><tr><td>&quot;https://www.teamtalk.com/totte…</td><td>&quot;1.72413793103448&quot;</td><td>&quot;3.44827586206897&quot;</td><td>&quot;1.72413793103448&quot;</td><td>&quot;5.17241379310345&quot;</td></tr><tr><td>&quot;https://www.business-standard.…</td><td>&quot;0.0995024875621895&quot;</td><td>&quot;3.08457711442786&quot;</td><td>&quot;2.98507462686567&quot;</td><td>&quot;6.06965174129353&quot;</td></tr><tr><td>&quot;https://www.yahoo.com/news/arm…</td><td>&quot;-1.41592920353982&quot;</td><td>&quot;1.23893805309735&quot;</td><td>&quot;2.65486725663717&quot;</td><td>&quot;3.89380530973451&quot;</td></tr><tr><td>&quot;https://www.postandcourier.com…</td><td>&quot;3.27102803738318&quot;</td><td>&quot;4.20560747663551&quot;</td><td>&quot;0.934579439252336&quot;</td><td>&quot;5.14018691588785&quot;</td></tr></tbody></table></div>"
      ],
      "text/plain": [
       "shape: (427_445, 5)\n",
       "┌───────────────────┬───────────────────┬───────────────────┬───────────────────┬──────────────────┐\n",
       "│ SOURCEURLS        ┆ general_tone      ┆ positive_score    ┆ negative_score    ┆ polarity         │\n",
       "│ ---               ┆ ---               ┆ ---               ┆ ---               ┆ ---              │\n",
       "│ str               ┆ str               ┆ str               ┆ str               ┆ str              │\n",
       "╞═══════════════════╪═══════════════════╪═══════════════════╪═══════════════════╪══════════════════╡\n",
       "│ https://localnews ┆ -8.82562277580071 ┆ 1.56583629893238  ┆ 10.3914590747331  ┆ 11.9572953736655 │\n",
       "│ 8.com/news/20…    ┆                   ┆                   ┆                   ┆                  │\n",
       "│ https://www.thisi ┆ -8.83333333333333 ┆ 0.666666666666667 ┆ 9.5               ┆ 10.1666666666667 │\n",
       "│ swiltshire.co…    ┆                   ┆                   ┆                   ┆                  │\n",
       "│ https://www.daily ┆ 1.14942528735632  ┆ 1.14942528735632  ┆ 0                 ┆ 1.14942528735632 │\n",
       "│ political.com…    ┆                   ┆                   ┆                   ┆                  │\n",
       "│ https://mix1065.i ┆ 1.91082802547771  ┆ 2.54777070063694  ┆ 0.636942675159236 ┆ 3.18471337579618 │\n",
       "│ heart.com/fea…    ┆                   ┆                   ┆                   ┆                  │\n",
       "│ https://www.thegu ┆ -7.34177215189874 ┆ 0.759493670886076 ┆ 8.10126582278481  ┆ 8.86075949367089 │\n",
       "│ ardian.com/au…    ┆                   ┆                   ┆                   ┆                  │\n",
       "│ …                 ┆ …                 ┆ …                 ┆ …                 ┆ …                │\n",
       "│ https://www.wvua2 ┆ -9.09090909090909 ┆ 0                 ┆ 9.09090909090909  ┆ 9.09090909090909 │\n",
       "│ 3.com/tuesday…    ┆                   ┆                   ┆                   ┆                  │\n",
       "│ https://www.teamt ┆ 1.72413793103448  ┆ 3.44827586206897  ┆ 1.72413793103448  ┆ 5.17241379310345 │\n",
       "│ alk.com/totte…    ┆                   ┆                   ┆                   ┆                  │\n",
       "│ https://www.busin ┆ 0.099502487562189 ┆ 3.08457711442786  ┆ 2.98507462686567  ┆ 6.06965174129353 │\n",
       "│ ess-standard.…    ┆ 5                 ┆                   ┆                   ┆                  │\n",
       "│ https://www.yahoo ┆ -1.41592920353982 ┆ 1.23893805309735  ┆ 2.65486725663717  ┆ 3.89380530973451 │\n",
       "│ .com/news/arm…    ┆                   ┆                   ┆                   ┆                  │\n",
       "│ https://www.posta ┆ 3.27102803738318  ┆ 4.20560747663551  ┆ 0.934579439252336 ┆ 5.14018691588785 │\n",
       "│ ndcourier.com…    ┆                   ┆                   ┆                   ┆                  │\n",
       "└───────────────────┴───────────────────┴───────────────────┴───────────────────┴──────────────────┘"
      ]
     },
     "execution_count": 2,
     "metadata": {},
     "output_type": "execute_result"
    }
   ],
   "source": [
    "# archivo generado con comando\n",
    "# python main.py collect_tone data/all_gdelt_gkg_files.csv data/parquets/tones\n",
    "file_path  = Path('../data/parquets/tones/get_tones_and_urls-240820_1226.parquet')\n",
    "df = pl.read_parquet(file_path)\n",
    "df"
   ]
  },
  {
   "cell_type": "code",
   "execution_count": 3,
   "metadata": {},
   "outputs": [
    {
     "name": "stdout",
     "output_type": "stream",
     "text": [
      "Three remanded in custody charged with offences connected with recent disorder. Three men have been remanded in custody after appearing in courts in Northern Ireland charged with offences connected with recent disorder. Jason Galbraith, 26, of no fixed address, was charged with ten offences on the first day of serious disorder in south Belfast on August 3, after an anti-immigration protest in the city centre. The charges include setting fire to a car, rioting, criminal damage to an electronic gate belonging to Holiday Inn and three counts of an offensive weapon with intent – masonry bricks, a wooden plank and a metal pole. He indicated he understood the charges when he appeared at Belfast Magistrates’ Court on Monday. No application for bail was made and Galbraith was remanded in custody. At Downpatrick Magistrates’ Court, John Edward Robinson, 30, of Rathgill Park and Corey McNabb, 28, of Balmoral Avenue, both in Bangor, were refused bail after being charged with online offences between August 3 and 4. Meanwhile, Glen Kane, 58, of Riga Street in Belfast, was granted bail after appearing at Belfast Magistrates’ Court charged with possessing written material intended or likely to stir up hatred or arouse fear. PSNI Assistant Chief Constable Melanie Jones said more than 30 people have been arrested and dozens have been charged to appear before court since the disorder began earlier this month. Police are also investigating a report of intimidation at a park near Manse Road, Castlereagh, on Sunday. A man was walking in the park at about 7.15pm when he was approached by six young people who shouted abuse and intimidated him. As he walked away, the group threw stones at him. The man was not injured and the PSNI said it was being treated as a racially motivated hate crime. A 42-year-old man arrested on suspicion of a number of offences in connection with an attack on a mosque in Greenwell Street, Newtownards, in the early hours of Saturday was released on bail on Monday to allow for further inquiries. And a 26-year-old man was arrested in the Belfast area on riot charges. He remained in police custody on Monday evening while police inquiries continued. Ms Jones said: “On Sunday, we released another five images of individuals whom we would like to speak to in connection with our ongoing investigation into disorder and attacks on police officers since Saturday August 3. You can view the images at url.  \n",
      "{'neg': 0.233, 'neu': 0.735, 'pos': 0.032, 'compound': -0.998}\n"
     ]
    }
   ],
   "source": [
    "sentence = \"Three remanded in custody charged with offences connected with recent disorder. Three men have been remanded in custody after appearing in courts in Northern Ireland charged with offences connected with recent disorder. Jason Galbraith, 26, of no fixed address, was charged with ten offences on the first day of serious disorder in south Belfast on August 3, after an anti-immigration protest in the city centre. The charges include setting fire to a car, rioting, criminal damage to an electronic gate belonging to Holiday Inn and three counts of an offensive weapon with intent – masonry bricks, a wooden plank and a metal pole. He indicated he understood the charges when he appeared at Belfast Magistrates’ Court on Monday. No application for bail was made and Galbraith was remanded in custody. At Downpatrick Magistrates’ Court, John Edward Robinson, 30, of Rathgill Park and Corey McNabb, 28, of Balmoral Avenue, both in Bangor, were refused bail after being charged with online offences between August 3 and 4. Meanwhile, Glen Kane, 58, of Riga Street in Belfast, was granted bail after appearing at Belfast Magistrates’ Court charged with possessing written material intended or likely to stir up hatred or arouse fear. PSNI Assistant Chief Constable Melanie Jones said more than 30 people have been arrested and dozens have been charged to appear before court since the disorder began earlier this month. Police are also investigating a report of intimidation at a park near Manse Road, Castlereagh, on Sunday. A man was walking in the park at about 7.15pm when he was approached by six young people who shouted abuse and intimidated him. As he walked away, the group threw stones at him. The man was not injured and the PSNI said it was being treated as a racially motivated hate crime. A 42-year-old man arrested on suspicion of a number of offences in connection with an attack on a mosque in Greenwell Street, Newtownards, in the early hours of Saturday was released on bail on Monday to allow for further inquiries. And a 26-year-old man was arrested in the Belfast area on riot charges. He remained in police custody on Monday evening while police inquiries continued. Ms Jones said: “On Sunday, we released another five images of individuals whom we would like to speak to in connection with our ongoing investigation into disorder and attacks on police officers since Saturday August 3. You can view the images at url. \"\n",
    "\n",
    "analyzer = SentimentIntensityAnalyzer()\n",
    "\n",
    "vs = analyzer.polarity_scores(sentence)\n",
    "print(\"{:-<65} \\n{}\".format(sentence, str(vs)))\n"
   ]
  },
  {
   "cell_type": "code",
   "execution_count": 1,
   "metadata": {},
   "outputs": [],
   "source": [
    "import scrapy \n",
    "from scrapy.crawler import CrawlerProcess\n",
    "from scrapy.utils.project import get_project_settings\n",
    "from scrapy.settings import Settings \n",
    "from scrapy.linkextractors import LinkExtractor \n",
    "\n",
    "\n",
    "from src.data.text_utils import remove_special_characters"
   ]
  },
  {
   "cell_type": "code",
   "execution_count": 8,
   "metadata": {},
   "outputs": [
    {
     "data": {
      "text/plain": [
       "['https://localnews8.com/news/2024/08/12/dozens-of-pregnant-women-some-bleeding-or-in-labor-being-turned-away-from-ers-despite-federal-law/',\n",
       " 'https://www.thisiswiltshire.co.uk/news/national/24512304.three-remanded-custody-charged-offences-connected-recent-disorder/',\n",
       " 'https://www.dailypolitical.com/2024/08/12/cohen-steers-infrastructure-fund-inc-to-issue-monthly-dividend-of-0-16-nyseutf.html',\n",
       " 'https://mix1065.iheart.com/featured/denise-plante/content/2024-08-12-hollywood-ending-to-the-paris-olympics/',\n",
       " 'https://www.theguardian.com/australia-news/article/2024/aug/12/queensland-teacher-child-sex-abuse-charges-ntwnfb']"
      ]
     },
     "execution_count": 8,
     "metadata": {},
     "output_type": "execute_result"
    }
   ],
   "source": [
    "source_urls = list(df[\"SOURCEURLS\"][:5])\n",
    "source_urls"
   ]
  },
  {
   "cell_type": "code",
   "execution_count": null,
   "metadata": {},
   "outputs": [],
   "source": [
    "class QuotesSpider(scrapy.Spider):\n",
    "    name = \"quotes\"\n",
    "\n",
    "    def start_requests(self):\n",
    "        user_agent = 'Mozilla/5.0 (Windows NT 6.3; WOW64) AppleWebKit/537.36 (KHTML, like Gecko) Chrome/44.0.2403.157 Safari/537.36'\n",
    "        start_urls = source_urls\n",
    "\n",
    "    def parse(self, response):\n",
    "        matches = response.css('p::text').getall()\n",
    "        matches = '\\n'.join(matches)\n",
    "        full_text = remove_special_characters(matches)"
   ]
  }
 ],
 "metadata": {
  "kernelspec": {
   "display_name": "factored",
   "language": "python",
   "name": "python3"
  },
  "language_info": {
   "codemirror_mode": {
    "name": "ipython",
    "version": 3
   },
   "file_extension": ".py",
   "mimetype": "text/x-python",
   "name": "python",
   "nbconvert_exporter": "python",
   "pygments_lexer": "ipython3",
   "version": "3.10.14"
  }
 },
 "nbformat": 4,
 "nbformat_minor": 2
}
