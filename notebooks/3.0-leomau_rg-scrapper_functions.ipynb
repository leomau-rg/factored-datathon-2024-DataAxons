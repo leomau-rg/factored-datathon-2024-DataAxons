{
 "cells": [
  {
   "cell_type": "code",
   "execution_count": 1,
   "id": "aa91241f-7b48-453b-984f-8e685dd3e8c3",
   "metadata": {},
   "outputs": [],
   "source": [
    "import re\n",
    "import requests\n",
    "from bs4 import BeautifulSoup"
   ]
  },
  {
   "cell_type": "markdown",
   "id": "6504cc0d-7bb9-47ba-8477-f80076453247",
   "metadata": {},
   "source": [
    "Nota para Max:\n",
    "\n",
    "La función get_summary(url,class_name) es equivalente a llamar a la función multi_reader(url,method='div',class_name='nombre_de_la_clase')."
   ]
  },
  {
   "cell_type": "code",
   "execution_count": 2,
   "id": "1cd178f9-d1e9-4b99-9d59-e25905e149d1",
   "metadata": {},
   "outputs": [],
   "source": [
    "def multi_reader(url:str, with_headers:bool=False, method:str='p', class_name:str=None) -> str:\n",
    "    \"\"\"Dado un url, obtiene el contenido de la noticia.\n",
    "\n",
    "    Args\n",
    "    ==========\n",
    "    url (str): dirección web del sitio que contiene la noticia\n",
    "    with_headers (bool): indica si llamar a la función requests.get()\n",
    "    con alguna configuración de los headers.\n",
    "    method (str): indica si buscar mediante las etiquetas 'p' o \n",
    "    'div'. \n",
    "    class_name (str): Name of the class which contains the text of the\n",
    "    news in the url. Used when method == 'div'.\n",
    "\n",
    "    Returns\n",
    "    ==========\n",
    "    output (str): Texto de la noticia.\n",
    "    \"\"\"\n",
    "\n",
    "    try:\n",
    "        \n",
    "        if with_headers == True:\n",
    "            headers = {'User-Agent': 'Mozilla/5.0 (Windows NT 10.0; Win64; x64) AppleWebKit/537.36 (KHTML, like Gecko) Chrome/58.0.3029.110 Safari/537.3'}\n",
    "            page = requests.get(url,headers=headers)\n",
    "        else:\n",
    "            page = requests.get(url)\n",
    "\n",
    "        if method == 'p':\n",
    "            soup = BeautifulSoup(page.text,'html')\n",
    "            output = ''\n",
    "            for z in soup.find_all('p'):\n",
    "                output += str(z.text)\n",
    "            return output if output else None\n",
    "        elif method == 'div':\n",
    "            soup = BeautifulSoup(page.content, 'html.parser')\n",
    "            output = soup.find('div', class_=class_name)\n",
    "            return output.text if output else print('nimais')\n",
    "        else:\n",
    "            print(f'{method} not recognized.\\nEnter either \\'p\\' or \\'div\\'')\n",
    "            return None\n",
    "            \n",
    "    except Exception as e:\n",
    "        print(f'An error ocurred: {e}')\n",
    "        return None"
   ]
  },
  {
   "cell_type": "code",
   "execution_count": 3,
   "id": "5a2e1ba1-a04b-487b-acf2-ea25a0102c7e",
   "metadata": {},
   "outputs": [],
   "source": [
    "def news_extractor(url:str) -> str:\n",
    "    \"\"\"Devuelve el texto de la noticia limpio de algunos sitios web.\n",
    "\n",
    "    Args\n",
    "    ==========\n",
    "    url (str): Dirección web de la noticia.\n",
    "    \n",
    "    Returns\n",
    "    ==========\n",
    "    output (str): Texto de la noticia limpio.\n",
    "    \"\"\"\n",
    "    parenturl = list(re.finditer(r\"http(s?):\\/\\/(www\\.)?(.+?\\.).+?\\/\",url))[0].group()\n",
    "\n",
    "    if parenturl == 'https://www.yahoo.com/':\n",
    "        output = multi_reader(url, method='div', class_name='caas-body')\n",
    "    elif parenturl == 'https://www.themarketsdaily.com/':\n",
    "        output = re.sub('(\\s){2,}',' ',re.sub('Get Aflac alerts:','',re.sub('(\\\\n){2,}','\\\\n',multi_reader(url,method ='div',class_name='entry').split('Recommended Stories')[0])))\n",
    "    elif parenturl == 'https://businessmirror.com.ph/':\n",
    "        output = multi_reader(url,with_headers=True,method='p').split('Be the First to #KnowMoreInput your search keywords and press Enter')[0]\n",
    "    elif parenturl == 'https://www.dailypolitical.com/':\n",
    "        output = re.sub('\\\\n(\\\\t){1,}','\\n',multi_reader(url,method='p')).split('Receive News & Ratings')[0]\n",
    "\n",
    "    return output"
   ]
  },
  {
   "cell_type": "markdown",
   "id": "4fbd8637-205b-495e-bbce-16c2f9b0bcab",
   "metadata": {},
   "source": [
    "Podemos probar las funciones con artículos de 4 páginas diferentes:"
   ]
  },
  {
   "cell_type": "code",
   "execution_count": 4,
   "id": "c16b8c79-b8cc-42a3-b3cf-65a0f7b03441",
   "metadata": {},
   "outputs": [
    {
     "name": "stdout",
     "output_type": "stream",
     "text": [
      "\n",
      "Posted by Tyrone Williams on Aug 11th, 2024\n",
      "Eli Lilly and Company (NYSE:LLY – Get Free Report) had its price objective hoisted by stock analysts at Bank of America  from $1,000.00 to $1,125.00 in a report issued on Friday, Benzinga reports. The firm currently has a “buy” rating on the stock. Bank of America‘s target price points to a potential upside of 26.17% from the company’s current price.LLY has been the topic of several other reports. The Goldman Sachs Group upped their price target on Eli Lilly and Company from $650.00 to $723.00 and gave the company a “neutral” rating in a research report on Thursday, April 11th. Barclays upped their price objective on Eli Lilly and Company from $913.00 to $1,025.00 and gave the stock an “overweight” rating in a research note on Wednesday, July 10th. Berenberg Bank upped their price objective on Eli Lilly and Company from $850.00 to $1,000.00 and gave the stock a “buy” rating in a research note on Thursday, July 11th. Argus upped their price objective on Eli Lilly and Company from $770.00 to $840.00 and gave the stock a “buy” rating in a research note on Tuesday, May 14th. Finally, Jefferies Financial Group upped their price objective on Eli Lilly and Company from $994.00 to $1,015.00 and gave the stock a “buy” rating in a research note on Monday, June 24th. Three equities research analysts have rated the stock with a hold rating and sixteen have issued  a buy rating to the stock. Based on data from MarketBeat, the company currently has a consensus rating of “Moderate Buy” and an average price target of $916.53.Get Our Latest Analysis on Eli Lilly and Company\n",
      "In related news, major shareholder Lilly Endowment Inc sold 2,052 shares of the firm’s stock in a transaction dated Tuesday, May 28th. The stock was sold at an average price of $809.00, for a total transaction of $1,660,068.00. Following the completion of the transaction, the insider now owns 98,554,195 shares of the company’s stock, valued at $79,730,343,755. The sale was disclosed in a document filed with the Securities & Exchange Commission, which is available at this link. In other news, CAO Donald A. Zakrowski sold 750 shares of the company’s stock in a transaction on Monday, June 3rd. The stock was sold at an average price of $819.47, for a total transaction of $614,602.50. Following the completion of the sale, the chief accounting officer now directly owns 7,130 shares of the company’s stock, valued at $5,842,821.10. The sale was disclosed in a document filed with the SEC, which is available at the SEC website. Also, major shareholder Lilly Endowment Inc sold 2,052 shares of the company’s stock in a transaction on Tuesday, May 28th. The shares were sold at an average price of $809.00, for a total value of $1,660,068.00. Following the sale, the insider now directly owns 98,554,195 shares of the company’s stock, valued at $79,730,343,755. The disclosure for this sale can be found here. Insiders sold 1,214,704 shares of company stock valued at $1,066,841,316 over the last 90 days. 0.13% of the stock is currently owned by corporate insiders. Several hedge funds have recently modified their holdings of LLY. Lipe & Dalton acquired a new position in  Eli Lilly and Company in the 4th quarter worth about $26,000.  Tidemark LLC acquired a new position in  Eli Lilly and Company in the 4th quarter worth about $29,000.  Core Wealth Advisors Inc. increased its position in  Eli Lilly and Company by 188.2% in the 4th quarter. Core Wealth Advisors Inc. now owns 49 shares of the company’s stock worth $29,000 after purchasing an additional 32 shares during the last quarter.  Lynx Investment Advisory acquired a new position in  Eli Lilly and Company in the 2nd quarter worth about $32,000.  Finally, LGT Financial Advisors LLC acquired a new position in  Eli Lilly and Company in the 2nd quarter worth about $36,000. 82.53% of the stock is owned by hedge funds and other institutional investors.  (Get Free Report)Eli Lilly and Company discovers, develops, and markets human pharmaceuticals worldwide. The company offers Basaglar, Humalog, Humalog Mix 75/25, Humalog U-100, Humalog U-200, Humalog Mix 50/50, insulin lispro, insulin lispro protamine, insulin lispro mix 75/25, Humulin, Humulin 70/30, Humulin N, Humulin R, and Humulin U-500 for diabetes; Jardiance, Mounjaro, and Trulicity for type 2 diabetes; and Zepbound for obesity.\n"
     ]
    }
   ],
   "source": [
    "# url='https://www.yahoo.com/news/israeli-defence-minister-warns-iran-001132797.html'\n",
    "# url='https://www.themarketsdaily.com/2024/08/11/forthright-wealth-management-llc-raises-holdings-in-aflac-incorporated-nyseafl.html'\n",
    "# url = 'https://businessmirror.com.ph/2024/08/12/generika-drugstore-salutes-uniformed-and-non-uniformed-heroes-with-exclusive-program/'\n",
    "url='https://www.dailypolitical.com/2024/08/11/bank-of-america-increases-eli-lilly-and-company-nyselly-price-target-to-1125-00.html'\n",
    "text=news_extractor(url)\n",
    "print(text)"
   ]
  }
 ],
 "metadata": {
  "kernelspec": {
   "display_name": "Python 3 (ipykernel)",
   "language": "python",
   "name": "python3"
  },
  "language_info": {
   "codemirror_mode": {
    "name": "ipython",
    "version": 3
   },
   "file_extension": ".py",
   "mimetype": "text/x-python",
   "name": "python",
   "nbconvert_exporter": "python",
   "pygments_lexer": "ipython3",
   "version": "3.11.6"
  }
 },
 "nbformat": 4,
 "nbformat_minor": 5
}
