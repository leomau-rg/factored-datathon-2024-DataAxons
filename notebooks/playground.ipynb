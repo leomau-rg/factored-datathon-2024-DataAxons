{
 "cells": [
  {
   "cell_type": "code",
   "execution_count": 1,
   "metadata": {},
   "outputs": [],
   "source": [
    "def get_summary(url):\n",
    "    try:\n",
    "        response = requests.get(url)\n",
    "        soup = BeautifulSoup(response.content, 'html.parser')\n",
    "        div_class = 'caas-body'  \n",
    "        div_element = soup.find('div', class_=div_class)\n",
    "        return div_element.text if div_element else None\n",
    "    except Exception as e:\n",
    "        print(f\"An error occurred: {e}\")\n",
    "        return None"
   ]
  },
  {
   "cell_type": "code",
   "execution_count": 9,
   "metadata": {},
   "outputs": [],
   "source": [
    "import polars as pl\n",
    "import matplotlib.pyplot as plt\n",
    "import sys\n",
    "from typing import Any\n",
    "\n",
    "\n",
    "def read_csv(file_path: str, separator: str = '\\t') -> pl.DataFrame:\n",
    "    \"\"\"Read a CSV file into a Polars DataFrame.\n",
    "    \n",
    "    Args:\n",
    "        file_path (str): The path to the CSV file.\n",
    "        separator (str): The separator used in the CSV file.\n",
    "    \n",
    "    Returns:\n",
    "        pl.DataFrame: The DataFrame containing the CSV data.\n",
    "    \"\"\"\n",
    "    return pl.read_csv(file_path, separator=separator)\n",
    "\n",
    "def filter_health_data(df: pl.DataFrame) -> pl.DataFrame:\n",
    "    \"\"\"Filter the DataFrame for rows containing 'HEALTH' in the 'THEMES' column.\n",
    "    \n",
    "    Args:\n",
    "        df (pl.DataFrame): The original DataFrame.\n",
    "    \n",
    "    Returns:\n",
    "        pl.DataFrame: The filtered DataFrame.\n",
    "    \"\"\"\n",
    "    return df.filter(pl.col(\"THEMES\").str.contains(\"HEALTH\"))\n",
    "\n",
    "def get_source_shape_counts(df: pl.DataFrame) -> pl.DataFrame:\n",
    "    \"\"\"Group by 'SOURCES' and count the occurrences.\n",
    "    \n",
    "    Args:\n",
    "        df (pl.DataFrame): The filtered DataFrame.\n",
    "    \n",
    "    Returns:\n",
    "        pl.DataFrame: The DataFrame with source shape counts.\n",
    "    \"\"\"\n",
    "    return (\n",
    "        df.group_by(\"SOURCES\")\n",
    "        .agg(pl.count(\"SOURCES\").alias(\"count\"))\n",
    "        .sort(\"count\", descending=True)\n",
    "    )\n",
    "\n",
    "def save_to_csv(df: pl.DataFrame, file_path: str, separator: str = '\\t') -> None:\n",
    "    \"\"\"Save the DataFrame to a CSV file.\n",
    "    \n",
    "    Args:\n",
    "        df (pl.DataFrame): The DataFrame to save.\n",
    "        file_path (str): The path to the CSV file.\n",
    "        separator (str): The separator to use in the CSV file.\n",
    "    \"\"\"\n",
    "    df.write_csv(file_path, separator=separator)\n"
   ]
  },
  {
   "cell_type": "code",
   "execution_count": 11,
   "metadata": {},
   "outputs": [],
   "source": [
    "df = read_csv(\"20240816.gkg.csv\")"
   ]
  },
  {
   "cell_type": "code",
   "execution_count": 15,
   "metadata": {},
   "outputs": [
    {
     "data": {
      "text/plain": [
       "'https://www.yahoo.com/news/two-florida-congressional-dems-warn-171323616.html'"
      ]
     },
     "execution_count": 15,
     "metadata": {},
     "output_type": "execute_result"
    }
   ],
   "source": [
    "df[\"SOURCEURLS\"][2]"
   ]
  },
  {
   "cell_type": "code",
   "execution_count": 29,
   "metadata": {},
   "outputs": [
    {
     "data": {
      "text/html": [
       "<div><style>\n",
       ".dataframe > thead > tr,\n",
       ".dataframe > tbody > tr {\n",
       "  text-align: right;\n",
       "  white-space: pre-wrap;\n",
       "}\n",
       "</style>\n",
       "<small>shape: (2_927, 11)</small><table border=\"1\" class=\"dataframe\"><thead><tr><th>DATE</th><th>NUMARTS</th><th>COUNTS</th><th>THEMES</th><th>LOCATIONS</th><th>PERSONS</th><th>ORGANIZATIONS</th><th>TONE</th><th>CAMEOEVENTIDS</th><th>SOURCES</th><th>SOURCEURLS</th></tr><tr><td>i64</td><td>i64</td><td>str</td><td>str</td><td>str</td><td>str</td><td>str</td><td>str</td><td>str</td><td>str</td><td>str</td></tr></thead><tbody><tr><td>20240816</td><td>1</td><td>null</td><td>&quot;EPU_CATS_HEALTHCARE;EPU_CATS_E…</td><td>&quot;2#North Carolina, United State…</td><td>&quot;kamala harris;wasserman schult…</td><td>&quot;white house;heritage foundatio…</td><td>&quot;2.33100233100233,3.49650349650…</td><td>null</td><td>&quot;yahoo.com&quot;</td><td>&quot;https://www.yahoo.com/news/two…</td></tr><tr><td>20240816</td><td>1</td><td>null</td><td>&quot;LEADER;TAX_FNCACT;TAX_FNCACT_P…</td><td>&quot;2#North Carolina, United State…</td><td>&quot;tim miller;jeb bush&quot;</td><td>&quot;university of arkansas victori…</td><td>&quot;-1.53846153846154,0,1.53846153…</td><td>&quot;1192930971&quot;</td><td>&quot;yahoo.com&quot;</td><td>&quot;https://www.yahoo.com/news/tru…</td></tr><tr><td>20240816</td><td>1</td><td>null</td><td>&quot;TAX_MILITARY_TITLE;TAX_MILITAR…</td><td>&quot;3#-Atoka, Oklahoma, United Sta…</td><td>&quot;charles mccall;ryan walters;cy…</td><td>&quot;oklahoma state department of e…</td><td>&quot;-4.05405405405405,1.6891891891…</td><td>&quot;1193095036,1193095037,11930846…</td><td>&quot;yahoo.com&quot;</td><td>&quot;https://www.yahoo.com/news/rya…</td></tr><tr><td>20240816</td><td>1</td><td>&quot;SEIZE#12#power#1#Thailand#TH#T…</td><td>&quot;TAX_RELIGION;TAX_RELIGION_BUDD…</td><td>&quot;4#Funan, Liaoning, China#CH#CH…</td><td>&quot;maha vajiralongkorn;paetongtar…</td><td>&quot;pheu thai party;southeast asia…</td><td>&quot;-1.77664974619289,2.7072758037…</td><td>&quot;1193033509,1193033510,11930335…</td><td>&quot;yahoo.com&quot;</td><td>&quot;https://nz.news.yahoo.com/thai…</td></tr><tr><td>20240816</td><td>1</td><td>null</td><td>&quot;USPEC_POLICY1;EPU_POLICY;EPU_P…</td><td>&quot;2#Michigan, United States#US#U…</td><td>&quot;joe biden;donald trump;kamala …</td><td>&quot;university of michigan;white h…</td><td>&quot;-0.298507462686567,3.432835820…</td><td>null</td><td>&quot;yahoo.com&quot;</td><td>&quot;https://www.yahoo.com/news/har…</td></tr><tr><td>&hellip;</td><td>&hellip;</td><td>&hellip;</td><td>&hellip;</td><td>&hellip;</td><td>&hellip;</td><td>&hellip;</td><td>&hellip;</td><td>&hellip;</td><td>&hellip;</td><td>&hellip;</td></tr><tr><td>20240816</td><td>1</td><td>null</td><td>&quot;TAX_ECON_PRICE;EPU_ECONOMY_HIS…</td><td>&quot;1#Qatar#QA#QA#25.5#51.25#QA;4#…</td><td>&quot;christian vernet&quot;</td><td>&quot;airbus;boeing;delta air lines;…</td><td>&quot;0.955223880597015,3.1044776119…</td><td>null</td><td>&quot;yahoo.com&quot;</td><td>&quot;https://news.yahoo.com/news/iv…</td></tr><tr><td>20240816</td><td>1</td><td>null</td><td>&quot;ELECTION;AGRICULTURE;UNGP_FORE…</td><td>&quot;1#Switzerland#SZ#SZ#47#8#SZ&quot;</td><td>&quot;bloomberg businessweek&quot;</td><td>&quot;bloomberg&quot;</td><td>&quot;0.99009900990099,3.96039603960…</td><td>&quot;1192969547,1192969549,11929697…</td><td>&quot;yahoo.com&quot;</td><td>&quot;https://www.yahoo.com/news/swi…</td></tr><tr><td>20240816</td><td>1</td><td>null</td><td>null</td><td>&quot;3#Chicago, Illinois, United St…</td><td>&quot;matt eberflus;charles cui;rich…</td><td>&quot;kaplan law firm;democratic nat…</td><td>&quot;-3.08056872037915,1.4218009478…</td><td>null</td><td>&quot;yahoo.com&quot;</td><td>&quot;https://www.yahoo.com/news/aft…</td></tr><tr><td>20240816</td><td>1</td><td>null</td><td>&quot;TAX_FNCACT;TAX_FNCACT_FATHER;T…</td><td>&quot;3#Placer County, California, U…</td><td>&quot;kimberly blakley;barry zimmerm…</td><td>&quot;child protective services;uc d…</td><td>&quot;-7.00296735905045,1.0089020771…</td><td>&quot;1193017381,1193014187,11930173…</td><td>&quot;yahoo.com&quot;</td><td>&quot;https://www.yahoo.com/news/ros…</td></tr><tr><td>20240816</td><td>1</td><td>null</td><td>null</td><td>&quot;4#Berea, ?Alab, Syria#SY#SY09#…</td><td>&quot;jameis winston;dorian thompson…</td><td>null</td><td>&quot;1.45985401459854,2.18978102189…</td><td>null</td><td>&quot;yahoo.com&quot;</td><td>&quot;https://www.yahoo.com/news/bro…</td></tr></tbody></table></div>"
      ],
      "text/plain": [
       "shape: (2_927, 11)\n",
       "┌──────────┬─────────┬────────────┬────────────┬───┬───────────┬───────────┬───────────┬───────────┐\n",
       "│ DATE     ┆ NUMARTS ┆ COUNTS     ┆ THEMES     ┆ … ┆ TONE      ┆ CAMEOEVEN ┆ SOURCES   ┆ SOURCEURL │\n",
       "│ ---      ┆ ---     ┆ ---        ┆ ---        ┆   ┆ ---       ┆ TIDS      ┆ ---       ┆ S         │\n",
       "│ i64      ┆ i64     ┆ str        ┆ str        ┆   ┆ str       ┆ ---       ┆ str       ┆ ---       │\n",
       "│          ┆         ┆            ┆            ┆   ┆           ┆ str       ┆           ┆ str       │\n",
       "╞══════════╪═════════╪════════════╪════════════╪═══╪═══════════╪═══════════╪═══════════╪═══════════╡\n",
       "│ 20240816 ┆ 1       ┆ null       ┆ EPU_CATS_H ┆ … ┆ 2.3310023 ┆ null      ┆ yahoo.com ┆ https://w │\n",
       "│          ┆         ┆            ┆ EALTHCARE; ┆   ┆ 3100233,3 ┆           ┆           ┆ ww.yahoo. │\n",
       "│          ┆         ┆            ┆ EPU_CATS_E ┆   ┆ .49650349 ┆           ┆           ┆ com/news/ │\n",
       "│          ┆         ┆            ┆ …          ┆   ┆ 650…      ┆           ┆           ┆ two…      │\n",
       "│ 20240816 ┆ 1       ┆ null       ┆ LEADER;TAX ┆ … ┆ -1.538461 ┆ 119293097 ┆ yahoo.com ┆ https://w │\n",
       "│          ┆         ┆            ┆ _FNCACT;TA ┆   ┆ 53846154, ┆ 1         ┆           ┆ ww.yahoo. │\n",
       "│          ┆         ┆            ┆ X_FNCACT_P ┆   ┆ 0,1.53846 ┆           ┆           ┆ com/news/ │\n",
       "│          ┆         ┆            ┆ …          ┆   ┆ 153…      ┆           ┆           ┆ tru…      │\n",
       "│ 20240816 ┆ 1       ┆ null       ┆ TAX_MILITA ┆ … ┆ -4.054054 ┆ 119309503 ┆ yahoo.com ┆ https://w │\n",
       "│          ┆         ┆            ┆ RY_TITLE;T ┆   ┆ 05405405, ┆ 6,1193095 ┆           ┆ ww.yahoo. │\n",
       "│          ┆         ┆            ┆ AX_MILITAR ┆   ┆ 1.6891891 ┆ 037,11930 ┆           ┆ com/news/ │\n",
       "│          ┆         ┆            ┆ …          ┆   ┆ 891…      ┆ 846…      ┆           ┆ rya…      │\n",
       "│ 20240816 ┆ 1       ┆ SEIZE#12#p ┆ TAX_RELIGI ┆ … ┆ -1.776649 ┆ 119303350 ┆ yahoo.com ┆ https://n │\n",
       "│          ┆         ┆ ower#1#Tha ┆ ON;TAX_REL ┆   ┆ 74619289, ┆ 9,1193033 ┆           ┆ z.news.ya │\n",
       "│          ┆         ┆ iland#TH#T ┆ IGION_BUDD ┆   ┆ 2.7072758 ┆ 510,11930 ┆           ┆ hoo.com/t │\n",
       "│          ┆         ┆ …          ┆ …          ┆   ┆ 037…      ┆ 335…      ┆           ┆ hai…      │\n",
       "│ 20240816 ┆ 1       ┆ null       ┆ USPEC_POLI ┆ … ┆ -0.298507 ┆ null      ┆ yahoo.com ┆ https://w │\n",
       "│          ┆         ┆            ┆ CY1;EPU_PO ┆   ┆ 462686567 ┆           ┆           ┆ ww.yahoo. │\n",
       "│          ┆         ┆            ┆ LICY;EPU_P ┆   ┆ ,3.432835 ┆           ┆           ┆ com/news/ │\n",
       "│          ┆         ┆            ┆ …          ┆   ┆ 820…      ┆           ┆           ┆ har…      │\n",
       "│ …        ┆ …       ┆ …          ┆ …          ┆ … ┆ …         ┆ …         ┆ …         ┆ …         │\n",
       "│ 20240816 ┆ 1       ┆ null       ┆ TAX_ECON_P ┆ … ┆ 0.9552238 ┆ null      ┆ yahoo.com ┆ https://n │\n",
       "│          ┆         ┆            ┆ RICE;EPU_E ┆   ┆ 80597015, ┆           ┆           ┆ ews.yahoo │\n",
       "│          ┆         ┆            ┆ CONOMY_HIS ┆   ┆ 3.1044776 ┆           ┆           ┆ .com/news │\n",
       "│          ┆         ┆            ┆ …          ┆   ┆ 119…      ┆           ┆           ┆ /iv…      │\n",
       "│ 20240816 ┆ 1       ┆ null       ┆ ELECTION;A ┆ … ┆ 0.9900990 ┆ 119296954 ┆ yahoo.com ┆ https://w │\n",
       "│          ┆         ┆            ┆ GRICULTURE ┆   ┆ 0990099,3 ┆ 7,1192969 ┆           ┆ ww.yahoo. │\n",
       "│          ┆         ┆            ┆ ;UNGP_FORE ┆   ┆ .96039603 ┆ 549,11929 ┆           ┆ com/news/ │\n",
       "│          ┆         ┆            ┆ …          ┆   ┆ 960…      ┆ 697…      ┆           ┆ swi…      │\n",
       "│ 20240816 ┆ 1       ┆ null       ┆ null       ┆ … ┆ -3.080568 ┆ null      ┆ yahoo.com ┆ https://w │\n",
       "│          ┆         ┆            ┆            ┆   ┆ 72037915, ┆           ┆           ┆ ww.yahoo. │\n",
       "│          ┆         ┆            ┆            ┆   ┆ 1.4218009 ┆           ┆           ┆ com/news/ │\n",
       "│          ┆         ┆            ┆            ┆   ┆ 478…      ┆           ┆           ┆ aft…      │\n",
       "│ 20240816 ┆ 1       ┆ null       ┆ TAX_FNCACT ┆ … ┆ -7.002967 ┆ 119301738 ┆ yahoo.com ┆ https://w │\n",
       "│          ┆         ┆            ┆ ;TAX_FNCAC ┆   ┆ 35905045, ┆ 1,1193014 ┆           ┆ ww.yahoo. │\n",
       "│          ┆         ┆            ┆ T_FATHER;T ┆   ┆ 1.0089020 ┆ 187,11930 ┆           ┆ com/news/ │\n",
       "│          ┆         ┆            ┆ …          ┆   ┆ 771…      ┆ 173…      ┆           ┆ ros…      │\n",
       "│ 20240816 ┆ 1       ┆ null       ┆ null       ┆ … ┆ 1.4598540 ┆ null      ┆ yahoo.com ┆ https://w │\n",
       "│          ┆         ┆            ┆            ┆   ┆ 1459854,2 ┆           ┆           ┆ ww.yahoo. │\n",
       "│          ┆         ┆            ┆            ┆   ┆ .18978102 ┆           ┆           ┆ com/news/ │\n",
       "│          ┆         ┆            ┆            ┆   ┆ 189…      ┆           ┆           ┆ bro…      │\n",
       "└──────────┴─────────┴────────────┴────────────┴───┴───────────┴───────────┴───────────┴───────────┘"
      ]
     },
     "execution_count": 29,
     "metadata": {},
     "output_type": "execute_result"
    }
   ],
   "source": [
    "yahoo_df = df.filter(pl.col(\"SOURCEURLS\").str.contains(\"yahoo\"))\n",
    "yahoo_df"
   ]
  },
  {
   "cell_type": "code",
   "execution_count": 30,
   "metadata": {},
   "outputs": [
    {
     "name": "stderr",
     "output_type": "stream",
     "text": [
      "/tmp/ipykernel_5244/513885510.py:1: MapWithoutReturnDtypeWarning: Calling `map_elements` without specifying `return_dtype` can lead to unpredictable results. Specify `return_dtype` to silence this warning.\n",
      "  yahoo_df[\"SOURCEURLS\"].head().map_elements(get_summary)\n"
     ]
    },
    {
     "data": {
      "text/html": [
       "<div><style>\n",
       ".dataframe > thead > tr,\n",
       ".dataframe > tbody > tr {\n",
       "  text-align: right;\n",
       "  white-space: pre-wrap;\n",
       "}\n",
       "</style>\n",
       "<small>shape: (10,)</small><table border=\"1\" class=\"dataframe\"><thead><tr><th>SOURCEURLS</th></tr><tr><td>str</td></tr></thead><tbody><tr><td>&quot;Medicare recipients who take i…</td></tr><tr><td>&quot;Vice President Harris will unv…</td></tr><tr><td>&quot;State Superintendent Ryan Walt…</td></tr><tr><td>&quot;Thailand is the only country i…</td></tr><tr><td>&quot;Kamala Harris unveiled a new s…</td></tr><tr><td>&quot;A North Texas woman was given …</td></tr><tr><td>&quot;SIOUX FALLS, S.D. (KELO) — A n…</td></tr><tr><td>&quot;The Ukrainian Foreign Ministry…</td></tr><tr><td>&quot;The Justice Department on Frid…</td></tr><tr><td>&quot;US Secretary of State Antony B…</td></tr></tbody></table></div>"
      ],
      "text/plain": [
       "shape: (10,)\n",
       "Series: 'SOURCEURLS' [str]\n",
       "[\n",
       "\t\"Medicare recipients who take i…\n",
       "\t\"Vice President Harris will unv…\n",
       "\t\"State Superintendent Ryan Walt…\n",
       "\t\"Thailand is the only country i…\n",
       "\t\"Kamala Harris unveiled a new s…\n",
       "\t\"A North Texas woman was given …\n",
       "\t\"SIOUX FALLS, S.D. (KELO) — A n…\n",
       "\t\"The Ukrainian Foreign Ministry…\n",
       "\t\"The Justice Department on Frid…\n",
       "\t\"US Secretary of State Antony B…\n",
       "]"
      ]
     },
     "execution_count": 30,
     "metadata": {},
     "output_type": "execute_result"
    }
   ],
   "source": [
    "yahoo_df[\"SOURCEURLS\"].head().map_elements(get_summary)"
   ]
  },
  {
   "cell_type": "code",
   "execution_count": 32,
   "metadata": {},
   "outputs": [
    {
     "data": {
      "text/html": [
       "<div><style>\n",
       ".dataframe > thead > tr,\n",
       ".dataframe > tbody > tr {\n",
       "  text-align: right;\n",
       "  white-space: pre-wrap;\n",
       "}\n",
       "</style>\n",
       "<small>shape: (877, 11)</small><table border=\"1\" class=\"dataframe\"><thead><tr><th>DATE</th><th>NUMARTS</th><th>COUNTS</th><th>THEMES</th><th>LOCATIONS</th><th>PERSONS</th><th>ORGANIZATIONS</th><th>TONE</th><th>CAMEOEVENTIDS</th><th>SOURCES</th><th>SOURCEURLS</th></tr><tr><td>i64</td><td>i64</td><td>str</td><td>str</td><td>str</td><td>str</td><td>str</td><td>str</td><td>str</td><td>str</td><td>str</td></tr></thead><tbody><tr><td>20240816</td><td>1</td><td>null</td><td>&quot;ELECTION;TAX_FNCACT;TAX_FNCACT…</td><td>&quot;4#Jammu, Jammu And Kashmir, In…</td><td>&quot;lok sabha;narendra modi;rajiv …</td><td>&quot;kashmir police;supreme court;u…</td><td>&quot;0.449775112443778,2.2488755622…</td><td>&quot;1192999619,1192999620,11929996…</td><td>&quot;indiatimes.com&quot;</td><td>&quot;https://economictimes.indiatim…</td></tr><tr><td>20240816</td><td>1</td><td>null</td><td>&quot;TAX_POLITICAL_PARTY;TAX_POLITI…</td><td>&quot;1#Israel#IS#IS#31.5#34.75#IS;1…</td><td>&quot;nate silver;joe biden;kamala h…</td><td>&quot;international breaking news ev…</td><td>&quot;-1.29659643435981,3.4035656401…</td><td>&quot;1192929450,1193076984,11930769…</td><td>&quot;indiatimes.com&quot;</td><td>&quot;https://economictimes.indiatim…</td></tr><tr><td>20240816</td><td>1</td><td>null</td><td>&quot;RURAL;ELECTION;TAX_ETHNICITY;T…</td><td>&quot;1#Thailand#TH#TH#15#100#TH;4#B…</td><td>&quot;srettha thavisin;thaksin shina…</td><td>&quot;reuters;chulalongkorn universi…</td><td>&quot;-1.0752688172043,2.82258064516…</td><td>null</td><td>&quot;indiatimes.com&quot;</td><td>&quot;https://economictimes.indiatim…</td></tr><tr><td>20240816</td><td>1</td><td>null</td><td>&quot;LEADER;TAX_FNCACT;TAX_FNCACT_P…</td><td>&quot;1#United States#US#US#39.82817…</td><td>&quot;ajay bhutoria;harris indian;ka…</td><td>&quot;democratic national convention&quot;</td><td>&quot;5.31400966183575,5.31400966183…</td><td>&quot;1192952551,1192952555,11929526…</td><td>&quot;indiatimes.com&quot;</td><td>&quot;https://timesofindia.indiatime…</td></tr><tr><td>20240816</td><td>1</td><td>null</td><td>&quot;TAX_FNCACT;TAX_FNCACT_REPRESEN…</td><td>&quot;1#Vietnam, Republic Of#VM#VM#1…</td><td>null</td><td>null</td><td>&quot;0.390625,0.78125,0.390625,1.17…</td><td>&quot;1193045697,1193045698&quot;</td><td>&quot;indiatimes.com&quot;</td><td>&quot;https://realty.economictimes.i…</td></tr><tr><td>&hellip;</td><td>&hellip;</td><td>&hellip;</td><td>&hellip;</td><td>&hellip;</td><td>&hellip;</td><td>&hellip;</td><td>&hellip;</td><td>&hellip;</td><td>&hellip;</td><td>&hellip;</td></tr><tr><td>20240816</td><td>1</td><td>null</td><td>&quot;WB_1150_VOLATILITY;WB_1104_MAC…</td><td>&quot;4#Hindustan, India (General), …</td><td>&quot;george thomas;ajay thakur;sona…</td><td>&quot;dabur;procter gamble&quot;</td><td>&quot;0.306748466257669,4.2944785276…</td><td>&quot;1192919417&quot;</td><td>&quot;indiatimes.com&quot;</td><td>&quot;https://economictimes.indiatim…</td></tr><tr><td>20240816</td><td>1</td><td>null</td><td>&quot;TAX_FNCACT;TAX_FNCACT_ASSISTAN…</td><td>&quot;3#North Hollywood, California,…</td><td>&quot;kenneth iwamasa;jasveen sangha…</td><td>&quot;us postal inspection service&quot;</td><td>&quot;-8.95140664961637,0.5115089514…</td><td>&quot;1192928152,1192944978,11929578…</td><td>&quot;indiatimes.com&quot;</td><td>&quot;https://timesofindia.indiatime…</td></tr><tr><td>20240816</td><td>1</td><td>null</td><td>&quot;TAX_FNCACT;TAX_FNCACT_NOMINEE;…</td><td>&quot;2#New Jersey, United States#US…</td><td>&quot;benjamin netanyahu;kamala harr…</td><td>&quot;white house;university of mich…</td><td>&quot;-1.09140518417463,3.9563437926…</td><td>null</td><td>&quot;indiatimes.com&quot;</td><td>&quot;https://economictimes.indiatim…</td></tr><tr><td>20240816</td><td>1</td><td>null</td><td>&quot;LEADER;TAX_FNCACT;TAX_FNCACT_P…</td><td>&quot;1#United States#US#US#39.82817…</td><td>&quot;kamala harris&quot;</td><td>&quot;united states&quot;</td><td>&quot;7.14285714285714,7.14285714285…</td><td>null</td><td>&quot;indiatimes.com&quot;</td><td>&quot;https://timesofindia.indiatime…</td></tr><tr><td>20240816</td><td>1</td><td>null</td><td>&quot;TAX_ETHNICITY;TAX_ETHNICITY_IN…</td><td>&quot;1#India#IN#IN#20#77#IN&quot;</td><td>&quot;miyan chote miyan;khelkhelmein…</td><td>null</td><td>&quot;3.09859154929577,5.35211267605…</td><td>null</td><td>&quot;indiatimes.com&quot;</td><td>&quot;https://www.indiatimes.com/ent…</td></tr></tbody></table></div>"
      ],
      "text/plain": [
       "shape: (877, 11)\n",
       "┌──────────┬─────────┬────────┬────────────┬───┬────────────┬────────────┬────────────┬────────────┐\n",
       "│ DATE     ┆ NUMARTS ┆ COUNTS ┆ THEMES     ┆ … ┆ TONE       ┆ CAMEOEVENT ┆ SOURCES    ┆ SOURCEURLS │\n",
       "│ ---      ┆ ---     ┆ ---    ┆ ---        ┆   ┆ ---        ┆ IDS        ┆ ---        ┆ ---        │\n",
       "│ i64      ┆ i64     ┆ str    ┆ str        ┆   ┆ str        ┆ ---        ┆ str        ┆ str        │\n",
       "│          ┆         ┆        ┆            ┆   ┆            ┆ str        ┆            ┆            │\n",
       "╞══════════╪═════════╪════════╪════════════╪═══╪════════════╪════════════╪════════════╪════════════╡\n",
       "│ 20240816 ┆ 1       ┆ null   ┆ ELECTION;T ┆ … ┆ 0.44977511 ┆ 1192999619 ┆ indiatimes ┆ https://ec │\n",
       "│          ┆         ┆        ┆ AX_FNCACT; ┆   ┆ 2443778,2. ┆ ,119299962 ┆ .com       ┆ onomictime │\n",
       "│          ┆         ┆        ┆ TAX_FNCACT ┆   ┆ 2488755622 ┆ 0,11929996 ┆            ┆ s.indiatim │\n",
       "│          ┆         ┆        ┆ …          ┆   ┆ …          ┆ …          ┆            ┆ …          │\n",
       "│ 20240816 ┆ 1       ┆ null   ┆ TAX_POLITI ┆ … ┆ -1.2965964 ┆ 1192929450 ┆ indiatimes ┆ https://ec │\n",
       "│          ┆         ┆        ┆ CAL_PARTY; ┆   ┆ 3435981,3. ┆ ,119307698 ┆ .com       ┆ onomictime │\n",
       "│          ┆         ┆        ┆ TAX_POLITI ┆   ┆ 4035656401 ┆ 4,11930769 ┆            ┆ s.indiatim │\n",
       "│          ┆         ┆        ┆ …          ┆   ┆ …          ┆ …          ┆            ┆ …          │\n",
       "│ 20240816 ┆ 1       ┆ null   ┆ RURAL;ELEC ┆ … ┆ -1.0752688 ┆ null       ┆ indiatimes ┆ https://ec │\n",
       "│          ┆         ┆        ┆ TION;TAX_E ┆   ┆ 172043,2.8 ┆            ┆ .com       ┆ onomictime │\n",
       "│          ┆         ┆        ┆ THNICITY;T ┆   ┆ 2258064516 ┆            ┆            ┆ s.indiatim │\n",
       "│          ┆         ┆        ┆ …          ┆   ┆ …          ┆            ┆            ┆ …          │\n",
       "│ 20240816 ┆ 1       ┆ null   ┆ LEADER;TAX ┆ … ┆ 5.31400966 ┆ 1192952551 ┆ indiatimes ┆ https://ti │\n",
       "│          ┆         ┆        ┆ _FNCACT;TA ┆   ┆ 183575,5.3 ┆ ,119295255 ┆ .com       ┆ mesofindia │\n",
       "│          ┆         ┆        ┆ X_FNCACT_P ┆   ┆ 1400966183 ┆ 5,11929526 ┆            ┆ .indiatime │\n",
       "│          ┆         ┆        ┆ …          ┆   ┆ …          ┆ …          ┆            ┆ …          │\n",
       "│ 20240816 ┆ 1       ┆ null   ┆ TAX_FNCACT ┆ … ┆ 0.390625,0 ┆ 1193045697 ┆ indiatimes ┆ https://re │\n",
       "│          ┆         ┆        ┆ ;TAX_FNCAC ┆   ┆ .78125,0.3 ┆ ,119304569 ┆ .com       ┆ alty.econo │\n",
       "│          ┆         ┆        ┆ T_REPRESEN ┆   ┆ 90625,1.17 ┆ 8          ┆            ┆ mictimes.i │\n",
       "│          ┆         ┆        ┆ …          ┆   ┆ …          ┆            ┆            ┆ …          │\n",
       "│ …        ┆ …       ┆ …      ┆ …          ┆ … ┆ …          ┆ …          ┆ …          ┆ …          │\n",
       "│ 20240816 ┆ 1       ┆ null   ┆ WB_1150_VO ┆ … ┆ 0.30674846 ┆ 1192919417 ┆ indiatimes ┆ https://ec │\n",
       "│          ┆         ┆        ┆ LATILITY;W ┆   ┆ 6257669,4. ┆            ┆ .com       ┆ onomictime │\n",
       "│          ┆         ┆        ┆ B_1104_MAC ┆   ┆ 2944785276 ┆            ┆            ┆ s.indiatim │\n",
       "│          ┆         ┆        ┆ …          ┆   ┆ …          ┆            ┆            ┆ …          │\n",
       "│ 20240816 ┆ 1       ┆ null   ┆ TAX_FNCACT ┆ … ┆ -8.9514066 ┆ 1192928152 ┆ indiatimes ┆ https://ti │\n",
       "│          ┆         ┆        ┆ ;TAX_FNCAC ┆   ┆ 4961637,0. ┆ ,119294497 ┆ .com       ┆ mesofindia │\n",
       "│          ┆         ┆        ┆ T_ASSISTAN ┆   ┆ 5115089514 ┆ 8,11929578 ┆            ┆ .indiatime │\n",
       "│          ┆         ┆        ┆ …          ┆   ┆ …          ┆ …          ┆            ┆ …          │\n",
       "│ 20240816 ┆ 1       ┆ null   ┆ TAX_FNCACT ┆ … ┆ -1.0914051 ┆ null       ┆ indiatimes ┆ https://ec │\n",
       "│          ┆         ┆        ┆ ;TAX_FNCAC ┆   ┆ 8417463,3. ┆            ┆ .com       ┆ onomictime │\n",
       "│          ┆         ┆        ┆ T_NOMINEE; ┆   ┆ 9563437926 ┆            ┆            ┆ s.indiatim │\n",
       "│          ┆         ┆        ┆ …          ┆   ┆ …          ┆            ┆            ┆ …          │\n",
       "│ 20240816 ┆ 1       ┆ null   ┆ LEADER;TAX ┆ … ┆ 7.14285714 ┆ null       ┆ indiatimes ┆ https://ti │\n",
       "│          ┆         ┆        ┆ _FNCACT;TA ┆   ┆ 285714,7.1 ┆            ┆ .com       ┆ mesofindia │\n",
       "│          ┆         ┆        ┆ X_FNCACT_P ┆   ┆ 4285714285 ┆            ┆            ┆ .indiatime │\n",
       "│          ┆         ┆        ┆ …          ┆   ┆ …          ┆            ┆            ┆ …          │\n",
       "│ 20240816 ┆ 1       ┆ null   ┆ TAX_ETHNIC ┆ … ┆ 3.09859154 ┆ null       ┆ indiatimes ┆ https://ww │\n",
       "│          ┆         ┆        ┆ ITY;TAX_ET ┆   ┆ 929577,5.3 ┆            ┆ .com       ┆ w.indiatim │\n",
       "│          ┆         ┆        ┆ HNICITY_IN ┆   ┆ 5211267605 ┆            ┆            ┆ es.com/ent │\n",
       "│          ┆         ┆        ┆ …          ┆   ┆ …          ┆            ┆            ┆ …          │\n",
       "└──────────┴─────────┴────────┴────────────┴───┴────────────┴────────────┴────────────┴────────────┘"
      ]
     },
     "execution_count": 32,
     "metadata": {},
     "output_type": "execute_result"
    }
   ],
   "source": [
    "indiatimes_filtered = df.filter(pl.col(\"SOURCEURLS\").str.contains(\"indiatimes\"))\n",
    "indiatimes_filtered"
   ]
  },
  {
   "cell_type": "code",
   "execution_count": null,
   "metadata": {},
   "outputs": [],
   "source": []
  },
  {
   "cell_type": "code",
   "execution_count": 59,
   "metadata": {},
   "outputs": [],
   "source": [
    "def get_summary_it(url):\n",
    "    try:\n",
    "        response = requests.get(url)\n",
    "        soup = BeautifulSoup(response.content, 'html.parser')\n",
    "        div_class = 'summary'  \n",
    "        div_element = soup.find('h2', class_=div_class)\n",
    "        return div_element.text if div_element else None\n",
    "    except Exception as e:\n",
    "        print(f\"An error occurred: {e}\")\n",
    "        return None"
   ]
  },
  {
   "cell_type": "code",
   "execution_count": 63,
   "metadata": {},
   "outputs": [
    {
     "name": "stderr",
     "output_type": "stream",
     "text": [
      "/tmp/ipykernel_5244/1946921994.py:1: MapWithoutReturnDtypeWarning: Calling `map_elements` without specifying `return_dtype` can lead to unpredictable results. Specify `return_dtype` to silence this warning.\n",
      "  text_it = indiatimes_filtered[\"SOURCEURLS\"].head(40).map_elements(get_summary_it)\n"
     ]
    }
   ],
   "source": [
    "text_it = indiatimes_filtered[\"SOURCEURLS\"].head(40).map_elements(get_summary_it)"
   ]
  },
  {
   "cell_type": "code",
   "execution_count": 65,
   "metadata": {},
   "outputs": [
    {
     "name": "stdout",
     "output_type": "stream",
     "text": [
      "14\n"
     ]
    }
   ],
   "source": [
    "print(text_it.drop_nulls().len())"
   ]
  },
  {
   "cell_type": "code",
   "execution_count": 62,
   "metadata": {},
   "outputs": [
    {
     "data": {
      "text/plain": [
       "'https://economictimes.indiatimes.com/news/elections/assembly-elections/jammu-kashmir/jammu-kashmir-assembly-election-dates-when-it-will-be-held-all-you-need-to-know-ec-rajiv-kumar-article-370-delimitation/articleshow/112565368.cms'"
      ]
     },
     "execution_count": 62,
     "metadata": {},
     "output_type": "execute_result"
    }
   ],
   "source": [
    "indiatimes_filtered[\"SOURCEURLS\"][0]"
   ]
  },
  {
   "cell_type": "code",
   "execution_count": 66,
   "metadata": {},
   "outputs": [
    {
     "data": {
      "text/html": [
       "<div><style>\n",
       ".dataframe > thead > tr,\n",
       ".dataframe > tbody > tr {\n",
       "  text-align: right;\n",
       "  white-space: pre-wrap;\n",
       "}\n",
       "</style>\n",
       "<small>shape: (724, 11)</small><table border=\"1\" class=\"dataframe\"><thead><tr><th>DATE</th><th>NUMARTS</th><th>COUNTS</th><th>THEMES</th><th>LOCATIONS</th><th>PERSONS</th><th>ORGANIZATIONS</th><th>TONE</th><th>CAMEOEVENTIDS</th><th>SOURCES</th><th>SOURCEURLS</th></tr><tr><td>i64</td><td>i64</td><td>str</td><td>str</td><td>str</td><td>str</td><td>str</td><td>str</td><td>str</td><td>str</td><td>str</td></tr></thead><tbody><tr><td>20240816</td><td>1</td><td>null</td><td>&quot;ECON_STOCKMARKET;WB_698_TRADE;…</td><td>&quot;1#United States#US#US#39.82817…</td><td>null</td><td>&quot;holdings channel;pineridge adv…</td><td>&quot;0.681818181818182,0.9090909090…</td><td>null</td><td>&quot;theenterpriseleader.com&quot;</td><td>&quot;https://theenterpriseleader.co…</td></tr><tr><td>20240816</td><td>1</td><td>null</td><td>&quot;EPU_CATS_REGULATION;EPU_CATS_F…</td><td>&quot;2#Arizona, United States#US#US…</td><td>null</td><td>&quot;unitil co;mendota financial gr…</td><td>&quot;2.4024024024024,2.552552552552…</td><td>null</td><td>&quot;theenterpriseleader.com&quot;</td><td>&quot;https://theenterpriseleader.co…</td></tr><tr><td>20240816</td><td>1</td><td>null</td><td>&quot;ECON_STOCKMARKET;TAX_FNCACT;TA…</td><td>&quot;1#United States#US#US#39.82817…</td><td>null</td><td>&quot;commerce bank;royal bank;frees…</td><td>&quot;2.04301075268817,2.36559139784…</td><td>null</td><td>&quot;theenterpriseleader.com&quot;</td><td>&quot;https://theenterpriseleader.co…</td></tr><tr><td>20240816</td><td>1</td><td>null</td><td>&quot;TAX_ECON_PRICE;ECON_STOCKMARKE…</td><td>&quot;1#Canada#CA#CA#60#-96#CA;1#Uni…</td><td>null</td><td>&quot;principal securities inc;wells…</td><td>&quot;1.11386138613861,1.60891089108…</td><td>null</td><td>&quot;theenterpriseleader.com&quot;</td><td>&quot;https://theenterpriseleader.co…</td></tr><tr><td>20240816</td><td>1</td><td>null</td><td>&quot;TAX_FNCACT;TAX_FNCACT_COUNSELO…</td><td>&quot;1#Canada#CA#CA#60#-96#CA&quot;</td><td>null</td><td>&quot;associates corp;clearbridge in…</td><td>&quot;1.64609053497942,2.26337448559…</td><td>null</td><td>&quot;theenterpriseleader.com&quot;</td><td>&quot;https://theenterpriseleader.co…</td></tr><tr><td>&hellip;</td><td>&hellip;</td><td>&hellip;</td><td>&hellip;</td><td>&hellip;</td><td>&hellip;</td><td>&hellip;</td><td>&hellip;</td><td>&hellip;</td><td>&hellip;</td><td>&hellip;</td></tr><tr><td>20240816</td><td>1</td><td>null</td><td>&quot;EPU_CATS_REGULATION;EPU_CATS_F…</td><td>&quot;1#Canada#CA#CA#60#-96#CA&quot;</td><td>&quot;sheryl sandberg;robert w baird…</td><td>&quot;facebook;deutsche bank aktieng…</td><td>&quot;1.72413793103448,1.80250783699…</td><td>null</td><td>&quot;theenterpriseleader.com&quot;</td><td>&quot;https://theenterpriseleader.co…</td></tr><tr><td>20240816</td><td>1</td><td>null</td><td>&quot;TAX_FNCACT;TAX_FNCACT_INVESTOR…</td><td>&quot;1#United States#US#US#39.82817…</td><td>&quot;gerald a ducey jr;james redgie…</td><td>&quot;valeo financial advisors;excha…</td><td>&quot;1.6246953696182,1.705930138099…</td><td>null</td><td>&quot;theenterpriseleader.com&quot;</td><td>&quot;https://theenterpriseleader.co…</td></tr><tr><td>20240816</td><td>1</td><td>&quot;AFFECT#1#analyst consensus est…</td><td>&quot;TAX_FNCACT;TAX_FNCACT_HUNTER;T…</td><td>&quot;1#United States#US#US#39.82817…</td><td>&quot;spiceworks ziff davis&quot;</td><td>&quot;united kingdom ltd;ziff davis;…</td><td>&quot;0.969827586206896,1.5086206896…</td><td>null</td><td>&quot;theenterpriseleader.com&quot;</td><td>&quot;https://theenterpriseleader.co…</td></tr><tr><td>20240816</td><td>1</td><td>null</td><td>&quot;TAX_ECON_PRICE;TAX_FNCACT;TAX_…</td><td>&quot;2#New Mexico, United States#US…</td><td>&quot;franklin myers;piper sandler&quot;</td><td>&quot;wolfe research;pingora partner…</td><td>&quot;1.11731843575419,1.78770949720…</td><td>null</td><td>&quot;theenterpriseleader.com&quot;</td><td>&quot;https://theenterpriseleader.co…</td></tr><tr><td>20240816</td><td>1</td><td>null</td><td>&quot;ECON_STOCKMARKET;TAX_ECON_PRIC…</td><td>&quot;1#United States#US#US#39.82817…</td><td>null</td><td>&quot;united states;grizzlyrock capi…</td><td>&quot;0.985915492957747,1.4084507042…</td><td>null</td><td>&quot;theenterpriseleader.com&quot;</td><td>&quot;https://theenterpriseleader.co…</td></tr></tbody></table></div>"
      ],
      "text/plain": [
       "shape: (724, 11)\n",
       "┌──────────┬─────────┬────────────┬────────────┬───┬───────────┬───────────┬───────────┬───────────┐\n",
       "│ DATE     ┆ NUMARTS ┆ COUNTS     ┆ THEMES     ┆ … ┆ TONE      ┆ CAMEOEVEN ┆ SOURCES   ┆ SOURCEURL │\n",
       "│ ---      ┆ ---     ┆ ---        ┆ ---        ┆   ┆ ---       ┆ TIDS      ┆ ---       ┆ S         │\n",
       "│ i64      ┆ i64     ┆ str        ┆ str        ┆   ┆ str       ┆ ---       ┆ str       ┆ ---       │\n",
       "│          ┆         ┆            ┆            ┆   ┆           ┆ str       ┆           ┆ str       │\n",
       "╞══════════╪═════════╪════════════╪════════════╪═══╪═══════════╪═══════════╪═══════════╪═══════════╡\n",
       "│ 20240816 ┆ 1       ┆ null       ┆ ECON_STOCK ┆ … ┆ 0.6818181 ┆ null      ┆ theenterp ┆ https://t │\n",
       "│          ┆         ┆            ┆ MARKET;WB_ ┆   ┆ 81818182, ┆           ┆ riseleade ┆ heenterpr │\n",
       "│          ┆         ┆            ┆ 698_TRADE; ┆   ┆ 0.9090909 ┆           ┆ r.com     ┆ iseleader │\n",
       "│          ┆         ┆            ┆ …          ┆   ┆ 090…      ┆           ┆           ┆ .co…      │\n",
       "│ 20240816 ┆ 1       ┆ null       ┆ EPU_CATS_R ┆ … ┆ 2.4024024 ┆ null      ┆ theenterp ┆ https://t │\n",
       "│          ┆         ┆            ┆ EGULATION; ┆   ┆ 024024,2. ┆           ┆ riseleade ┆ heenterpr │\n",
       "│          ┆         ┆            ┆ EPU_CATS_F ┆   ┆ 552552552 ┆           ┆ r.com     ┆ iseleader │\n",
       "│          ┆         ┆            ┆ …          ┆   ┆ 552…      ┆           ┆           ┆ .co…      │\n",
       "│ 20240816 ┆ 1       ┆ null       ┆ ECON_STOCK ┆ … ┆ 2.0430107 ┆ null      ┆ theenterp ┆ https://t │\n",
       "│          ┆         ┆            ┆ MARKET;TAX ┆   ┆ 5268817,2 ┆           ┆ riseleade ┆ heenterpr │\n",
       "│          ┆         ┆            ┆ _FNCACT;TA ┆   ┆ .36559139 ┆           ┆ r.com     ┆ iseleader │\n",
       "│          ┆         ┆            ┆ …          ┆   ┆ 784…      ┆           ┆           ┆ .co…      │\n",
       "│ 20240816 ┆ 1       ┆ null       ┆ TAX_ECON_P ┆ … ┆ 1.1138613 ┆ null      ┆ theenterp ┆ https://t │\n",
       "│          ┆         ┆            ┆ RICE;ECON_ ┆   ┆ 8613861,1 ┆           ┆ riseleade ┆ heenterpr │\n",
       "│          ┆         ┆            ┆ STOCKMARKE ┆   ┆ .60891089 ┆           ┆ r.com     ┆ iseleader │\n",
       "│          ┆         ┆            ┆ …          ┆   ┆ 108…      ┆           ┆           ┆ .co…      │\n",
       "│ 20240816 ┆ 1       ┆ null       ┆ TAX_FNCACT ┆ … ┆ 1.6460905 ┆ null      ┆ theenterp ┆ https://t │\n",
       "│          ┆         ┆            ┆ ;TAX_FNCAC ┆   ┆ 3497942,2 ┆           ┆ riseleade ┆ heenterpr │\n",
       "│          ┆         ┆            ┆ T_COUNSELO ┆   ┆ .26337448 ┆           ┆ r.com     ┆ iseleader │\n",
       "│          ┆         ┆            ┆ …          ┆   ┆ 559…      ┆           ┆           ┆ .co…      │\n",
       "│ …        ┆ …       ┆ …          ┆ …          ┆ … ┆ …         ┆ …         ┆ …         ┆ …         │\n",
       "│ 20240816 ┆ 1       ┆ null       ┆ EPU_CATS_R ┆ … ┆ 1.7241379 ┆ null      ┆ theenterp ┆ https://t │\n",
       "│          ┆         ┆            ┆ EGULATION; ┆   ┆ 3103448,1 ┆           ┆ riseleade ┆ heenterpr │\n",
       "│          ┆         ┆            ┆ EPU_CATS_F ┆   ┆ .80250783 ┆           ┆ r.com     ┆ iseleader │\n",
       "│          ┆         ┆            ┆ …          ┆   ┆ 699…      ┆           ┆           ┆ .co…      │\n",
       "│ 20240816 ┆ 1       ┆ null       ┆ TAX_FNCACT ┆ … ┆ 1.6246953 ┆ null      ┆ theenterp ┆ https://t │\n",
       "│          ┆         ┆            ┆ ;TAX_FNCAC ┆   ┆ 696182,1. ┆           ┆ riseleade ┆ heenterpr │\n",
       "│          ┆         ┆            ┆ T_INVESTOR ┆   ┆ 705930138 ┆           ┆ r.com     ┆ iseleader │\n",
       "│          ┆         ┆            ┆ …          ┆   ┆ 099…      ┆           ┆           ┆ .co…      │\n",
       "│ 20240816 ┆ 1       ┆ AFFECT#1#a ┆ TAX_FNCACT ┆ … ┆ 0.9698275 ┆ null      ┆ theenterp ┆ https://t │\n",
       "│          ┆         ┆ nalyst     ┆ ;TAX_FNCAC ┆   ┆ 86206896, ┆           ┆ riseleade ┆ heenterpr │\n",
       "│          ┆         ┆ consensus  ┆ T_HUNTER;T ┆   ┆ 1.5086206 ┆           ┆ r.com     ┆ iseleader │\n",
       "│          ┆         ┆ est…       ┆ …          ┆   ┆ 896…      ┆           ┆           ┆ .co…      │\n",
       "│ 20240816 ┆ 1       ┆ null       ┆ TAX_ECON_P ┆ … ┆ 1.1173184 ┆ null      ┆ theenterp ┆ https://t │\n",
       "│          ┆         ┆            ┆ RICE;TAX_F ┆   ┆ 3575419,1 ┆           ┆ riseleade ┆ heenterpr │\n",
       "│          ┆         ┆            ┆ NCACT;TAX_ ┆   ┆ .78770949 ┆           ┆ r.com     ┆ iseleader │\n",
       "│          ┆         ┆            ┆ …          ┆   ┆ 720…      ┆           ┆           ┆ .co…      │\n",
       "│ 20240816 ┆ 1       ┆ null       ┆ ECON_STOCK ┆ … ┆ 0.9859154 ┆ null      ┆ theenterp ┆ https://t │\n",
       "│          ┆         ┆            ┆ MARKET;TAX ┆   ┆ 92957747, ┆           ┆ riseleade ┆ heenterpr │\n",
       "│          ┆         ┆            ┆ _ECON_PRIC ┆   ┆ 1.4084507 ┆           ┆ r.com     ┆ iseleader │\n",
       "│          ┆         ┆            ┆ …          ┆   ┆ 042…      ┆           ┆           ┆ .co…      │\n",
       "└──────────┴─────────┴────────────┴────────────┴───┴───────────┴───────────┴───────────┴───────────┘"
      ]
     },
     "execution_count": 66,
     "metadata": {},
     "output_type": "execute_result"
    }
   ],
   "source": [
    "eleader_df = df.filter(pl.col(\"SOURCEURLS\").str.contains(\"enterpriseleader\"))\n",
    "eleader_df"
   ]
  },
  {
   "cell_type": "code",
   "execution_count": 71,
   "metadata": {},
   "outputs": [
    {
     "data": {
      "text/plain": [
       "'https://theenterpriseleader.com/2024/08/16/skyline-champion-co-nysesky-director-sells-287860-64-in-stock.html'"
      ]
     },
     "execution_count": 71,
     "metadata": {},
     "output_type": "execute_result"
    }
   ],
   "source": [
    "eleader_df[45][\"SOURCEURLS\"][0]"
   ]
  },
  {
   "cell_type": "code",
   "execution_count": 74,
   "metadata": {},
   "outputs": [],
   "source": [
    "import re\n",
    "def multi_reader(url,skip_start=None,skip_end=None):\n",
    "    page = requests.get(url)\n",
    "    soup = BeautifulSoup(page.text,'html')\n",
    "    p_str = ''\n",
    "    for text in soup.find_all('p'):\n",
    "        p_str += str(text)\n",
    "    pattern = '<p>(<strong>)?[^<](.*?)(<\\/strong>)?<\\/p>'\n",
    "    matches = list(re.finditer(pattern,p_str))\n",
    "    ptext = ''\n",
    "    for match in matches[skip_start:skip_end]:\n",
    "        ptext += match.group().replace('<p>','').replace('</p>','\\n').replace('<strong>','').replace('</strong>','')\n",
    "    \n",
    "    return(ptext)"
   ]
  },
  {
   "cell_type": "code",
   "execution_count": 76,
   "metadata": {},
   "outputs": [
    {
     "name": "stderr",
     "output_type": "stream",
     "text": [
      "/tmp/ipykernel_5244/2231906895.py:1: MapWithoutReturnDtypeWarning: Calling `map_elements` without specifying `return_dtype` can lead to unpredictable results. Specify `return_dtype` to silence this warning.\n",
      "  text_eleader = eleader_df[\"SOURCEURLS\"].head(20).map_elements(multi_reader)\n"
     ]
    }
   ],
   "source": [
    "text_eleader = eleader_df[\"SOURCEURLS\"].head(20).map_elements(multi_reader)"
   ]
  },
  {
   "cell_type": "code",
   "execution_count": 79,
   "metadata": {},
   "outputs": [
    {
     "data": {
      "text/plain": [
       "'Several equities research analysts have issued reports on AVGO shares. Mizuho raised their price objective on shares of Broadcom from $162.50 to $190.00 and gave the stock a “buy” rating in a research report on Thursday, June 13th. Evercore ISI boosted their price target on Broadcom from $162.00 to $201.00 and gave the company an “outperform” rating in a research note on Thursday, June 13th. Cantor Fitzgerald increased their price objective on Broadcom from $1,875.00 to $2,000.00 and gave the stock an “overweight” rating in a research report on Tuesday, July 16th. <a href=\"https://report.stocknews.com/sign-up/ticker/?ticker=AVGO&amp;lead_source=marketbeat_snra&amp;utm_source=marketbeat_snra&amp;utm_medium=article&amp;utm_campaign=ticker&amp;utm_term=AVGO&amp;utm_content=text_link\" style=\"font-weight:bold\">StockNews.com</a> cut shares of Broadcom from a “buy” rating to a “hold” rating in a research report on Tuesday, July 23rd. Finally, The Goldman Sachs Group upped their price target on shares of Broadcom from $155.00 to $185.00 and gave the company a “buy” rating in a research note on Thursday, June 13th. Two equities research analysts have rated the stock with a hold rating and twenty-six have assigned  a buy rating to the stock. According to data from MarketBeat, the company presently has an average rating of “Moderate Buy” and a consensus target price of $240.08.\\nBroadcom (<a href=\"https://www.marketbeat.com/stocks/NASDAQ/AVGO/\">NASDAQ:AVGO</a> – <a href=\"https://www.marketbeat.com/arnreports/ReportTickerOptin.aspx?RegistrationCode=TickerHyperlink&amp;Prefix=NASDAQ&amp;Symbol=AVGO\" style=\"font-weight:normal;text-decoration:italic;color:green\">Get Free Report</a>) last announced its quarterly earnings results on Wednesday, June 12th. The semiconductor manufacturer reported $1.10 earnings per share (EPS) for the quarter, topping the consensus estimate of $1.08 by $0.02. Broadcom had a net margin of 24.10% and a return on equity of 35.82%. The company had revenue of $12.49 billion during the quarter, compared to the consensus estimate of $12.06 billion. During the same period in the prior year, the business earned $0.95 earnings per share. The company’s revenue for the quarter was up 43.0% compared to the same quarter last year.  On average, analysts predict that  Broadcom Inc. will post 3.74 EPS for the current fiscal year. \\nThe company also recently declared a quarterly dividend, which was paid on Friday, June 28th. Stockholders of record on Monday, June 24th were paid a dividend of $0.525 per share. This represents a $2.10 dividend on an annualized basis and a dividend yield of 1.27%. The ex-dividend date  was Monday, June 24th. Broadcom’s payout ratio is 9.03%. \\nIn related news, Director <a href=\"https://www.insidertrades.com/broadcom-inc-stock/justine-page/\" rel=\"noopener\" target=\"_blank\">Justine Page</a> sold 2,540 shares of Broadcom stock in a transaction that occurred on Thursday, June 20th. The shares were sold at an average price of $175.03, for a total transaction of $444,566.04. Following the sale, the director now directly owns 27,480 shares in the company, valued at approximately $4,809,714.48. The transaction was disclosed in a filing with the SEC, which can be accessed through <a href=\"https://www.sec.gov/Archives/edgar/data/1359561/000173016824000086/xslF345X05/wk-form4_1719263688.xml\" rel=\"noopener\" target=\"_blank\">this link</a>. In other news, CEO <a href=\"https://www.insidertrades.com/broadcom-inc-stock/hock-e-tan/\" rel=\"noopener\" target=\"_blank\">Hock E. Tan</a> sold 7,502 shares of the firm’s stock in a transaction dated Thursday, July 11th. The stock was sold at an average price of $1,705.95, for a total transaction of $12,798,036.90. Following the completion of the transaction, the chief executive officer now directly owns 138,191 shares in the company, valued at $235,746,936.45. The sale was disclosed in a filing with the Securities &amp; Exchange Commission, which is available through <a href=\"https://www.sec.gov/Archives/edgar/data/1211588/000173016824000092/xslF345X05/wk-form4_1721079004.xml\" rel=\"noopener\" target=\"_blank\">this hyperlink</a>. Also, Director <a href=\"https://www.insidertrades.com/broadcom-inc-stock/justine-page/\" rel=\"noopener\" target=\"_blank\">Justine Page</a> sold 2,540 shares of the company’s stock in a transaction that occurred on Thursday, June 20th. The shares were sold at an average price of $175.03, for a total value of $444,566.04. Following the completion of the sale, the director now owns 27,480 shares in the company, valued at $4,809,714.48. The disclosure for this sale can be found <a href=\"https://www.sec.gov/Archives/edgar/data/1359561/000173016824000086/xslF345X05/wk-form4_1719263688.xml\" rel=\"noopener\" target=\"_blank\">here</a>. 2.00% of the stock is currently owned by insiders. \\nA number of institutional investors have recently modified their holdings of AVGO. Quarry LP acquired a new position in  Broadcom in the second quarter valued at $342,000.  Covington Investment Advisors Inc. bought a new stake in shares of  Broadcom during the 2nd quarter valued at about $23,510,000.  Second Line Capital LLC grew its stake in  Broadcom by 4.5% during the second quarter. Second Line Capital LLC now owns 2,198 shares of the semiconductor manufacturer’s stock worth $3,529,000 after purchasing an additional 94 shares during the period.  Wellington Wealth Strategies LLC. acquired a new position in  Broadcom in the second quarter valued at approximately $602,000.  Finally, Sunbelt Securities Inc. lifted its stake in  Broadcom by 1.9% in the second quarter. Sunbelt Securities Inc. now owns 7,058 shares of the semiconductor manufacturer’s stock valued at $11,333,000 after buying an additional 129 shares during the period. 76.43% of the stock is owned by institutional investors. \\n (<a href=\"https://www.marketbeat.com/arnreports/ReportTickerOptin.aspx?RegistrationCode=TickerHyperlink&amp;Prefix=NASDAQ&amp;Symbol=AVGO\" style=\"font-weight:normal;text-decoration:italic;color:green\">Get Free Report</a>)\\nBroadcom Inc designs, develops, and supplies various semiconductor devices with a focus on complex digital and mixed signal complementary metal oxide semiconductor based devices and analog III-V based products worldwide. The company operates in two segments, Semiconductor Solutions and Infrastructure Software.\\nLiveWire Group (NYSE:LVWR) Stock Price Down 3%\\n'"
      ]
     },
     "execution_count": 79,
     "metadata": {},
     "output_type": "execute_result"
    }
   ],
   "source": [
    "text_eleader[11]"
   ]
  },
  {
   "cell_type": "code",
   "execution_count": 80,
   "metadata": {},
   "outputs": [
    {
     "data": {
      "text/html": [
       "<div><style>\n",
       ".dataframe > thead > tr,\n",
       ".dataframe > tbody > tr {\n",
       "  text-align: right;\n",
       "  white-space: pre-wrap;\n",
       "}\n",
       "</style>\n",
       "<small>shape: (484, 11)</small><table border=\"1\" class=\"dataframe\"><thead><tr><th>DATE</th><th>NUMARTS</th><th>COUNTS</th><th>THEMES</th><th>LOCATIONS</th><th>PERSONS</th><th>ORGANIZATIONS</th><th>TONE</th><th>CAMEOEVENTIDS</th><th>SOURCES</th><th>SOURCEURLS</th></tr><tr><td>i64</td><td>i64</td><td>str</td><td>str</td><td>str</td><td>str</td><td>str</td><td>str</td><td>str</td><td>str</td><td>str</td></tr></thead><tbody><tr><td>20240816</td><td>1</td><td>&quot;KILL#2014##1#Greece#GR#GR#39#2…</td><td>&quot;TAX_FNCACT;TAX_FNCACT_WOMAN;TA…</td><td>&quot;1#Greece#GR#GR#39#22#GR;3#Holl…</td><td>&quot;katy perry;kamala harris;rose …</td><td>&quot;national geographic;deutsche b…</td><td>&quot;-1.08043217286915,4.0216086434…</td><td>null</td><td>&quot;dailymail.co.uk&quot;</td><td>&quot;https://www.dailymail.co.uk/fe…</td></tr><tr><td>20240816</td><td>1</td><td>&quot;KILL#6##5#Cumbria, United King…</td><td>&quot;SOC_POINTSOFINTEREST;SOC_POINT…</td><td>&quot;4#Wandsworth, Wandsworth, Unit…</td><td>&quot;patrick downey;robert leslie s…</td><td>&quot;yougov;national archives&quot;</td><td>&quot;-7.12309820193638,1.4522821576…</td><td>&quot;1192943105,1192943106,11929431…</td><td>&quot;dailymail.co.uk&quot;</td><td>&quot;https://www.dailymail.co.uk/ne…</td></tr><tr><td>20240816</td><td>1</td><td>&quot;AFFECT#200##1#United States#US…</td><td>&quot;TAX_DISEASE;TAX_DISEASE_CANCER…</td><td>&quot;2#Florida, United States#US#US…</td><td>&quot;karen everstine&quot;</td><td>&quot;el chilar&quot;</td><td>&quot;-4.55341506129597,0.8756567425…</td><td>&quot;1192970290&quot;</td><td>&quot;dailymail.co.uk&quot;</td><td>&quot;https://www.dailymail.co.uk/he…</td></tr><tr><td>20240816</td><td>1</td><td>null</td><td>null</td><td>&quot;4#Victorian Island, Victoria, …</td><td>null</td><td>&quot;blue team jesse;disney;yellow …</td><td>&quot;3.93258426966292,7.72471910112…</td><td>null</td><td>&quot;dailymail.co.uk&quot;</td><td>&quot;https://www.dailymail.co.uk/tv…</td></tr><tr><td>20240816</td><td>1</td><td>null</td><td>&quot;TAX_FNCACT;TAX_FNCACT_WOMAN;WB…</td><td>&quot;4#Canberra, Australian Capital…</td><td>&quot;philip lowe;warwick mckibbin&quot;</td><td>&quot;european union;australian nati…</td><td>&quot;-2.19512195121951,0.7317073170…</td><td>null</td><td>&quot;dailymail.co.uk&quot;</td><td>&quot;https://www.dailymail.co.uk/ne…</td></tr><tr><td>&hellip;</td><td>&hellip;</td><td>&hellip;</td><td>&hellip;</td><td>&hellip;</td><td>&hellip;</td><td>&hellip;</td><td>&hellip;</td><td>&hellip;</td><td>&hellip;</td><td>&hellip;</td></tr><tr><td>20240816</td><td>1</td><td>null</td><td>&quot;TAX_FNCACT;TAX_FNCACT_ADMIRALT…</td><td>&quot;2#New York, United States#US#U…</td><td>&quot;pat mcfadden;david neal;rachel…</td><td>&quot;foreign office;british civil s…</td><td>&quot;-1.61127895266868,2.1148036253…</td><td>null</td><td>&quot;dailymail.co.uk&quot;</td><td>&quot;https://www.dailymail.co.uk/ne…</td></tr><tr><td>20240816</td><td>1</td><td>&quot;KILL#22#inside#1#Indonesia#ID#…</td><td>&quot;WB_1979_NATURAL_RESOURCE_MANAG…</td><td>&quot;4#Jambi, Jambi, Indonesia#ID#I…</td><td>&quot;terjun gajah;pitu riawa&quot;</td><td>&quot;telluwanua police;national his…</td><td>&quot;-4.31818181818182,0.4545454545…</td><td>null</td><td>&quot;dailymail.co.uk&quot;</td><td>&quot;https://www.dailymail.co.uk/ne…</td></tr><tr><td>20240816</td><td>1</td><td>null</td><td>&quot;TAX_FNCACT;TAX_FNCACT_SINGER;T…</td><td>&quot;2#Hawaii, United States#US#USH…</td><td>&quot;tesla cybertruck;justin bieber…</td><td>&quot;peninsula hotel in los angeles&quot;</td><td>&quot;0.443458980044346,2.8824833702…</td><td>null</td><td>&quot;dailymail.co.uk&quot;</td><td>&quot;https://www.dailymail.co.uk/tv…</td></tr><tr><td>20240816</td><td>1</td><td>null</td><td>&quot;TAX_FNCACT;TAX_FNCACT_VICTIMS;…</td><td>&quot;3#San Francisco, California, U…</td><td>&quot;anne-christine massulo;prithik…</td><td>&quot;court order;san francisco supe…</td><td>&quot;-6.720741599073,3.128621089223…</td><td>&quot;1193030888,1193031076,11930310…</td><td>&quot;dailymail.co.uk&quot;</td><td>&quot;https://www.dailymail.co.uk/ne…</td></tr><tr><td>20240816</td><td>1</td><td>null</td><td>&quot;TAX_FNCACT;TAX_FNCACT_AUTHORIT…</td><td>&quot;1#Mexico#MX#MX#23#-102#MX;3#Da…</td><td>&quot;jake zara;kaylie pitze;stephan…</td><td>&quot;united states;facebook&quot;</td><td>&quot;-3.30935251798561,2.8776978417…</td><td>&quot;1193071658,1193071659,11930717…</td><td>&quot;dailymail.co.uk&quot;</td><td>&quot;https://www.dailymail.co.uk/ne…</td></tr></tbody></table></div>"
      ],
      "text/plain": [
       "shape: (484, 11)\n",
       "┌──────────┬─────────┬────────────┬────────────┬───┬───────────┬───────────┬───────────┬───────────┐\n",
       "│ DATE     ┆ NUMARTS ┆ COUNTS     ┆ THEMES     ┆ … ┆ TONE      ┆ CAMEOEVEN ┆ SOURCES   ┆ SOURCEURL │\n",
       "│ ---      ┆ ---     ┆ ---        ┆ ---        ┆   ┆ ---       ┆ TIDS      ┆ ---       ┆ S         │\n",
       "│ i64      ┆ i64     ┆ str        ┆ str        ┆   ┆ str       ┆ ---       ┆ str       ┆ ---       │\n",
       "│          ┆         ┆            ┆            ┆   ┆           ┆ str       ┆           ┆ str       │\n",
       "╞══════════╪═════════╪════════════╪════════════╪═══╪═══════════╪═══════════╪═══════════╪═══════════╡\n",
       "│ 20240816 ┆ 1       ┆ KILL#2014# ┆ TAX_FNCACT ┆ … ┆ -1.080432 ┆ null      ┆ dailymail ┆ https://w │\n",
       "│          ┆         ┆ #1#Greece# ┆ ;TAX_FNCAC ┆   ┆ 17286915, ┆           ┆ .co.uk    ┆ ww.dailym │\n",
       "│          ┆         ┆ GR#GR#39#2 ┆ T_WOMAN;TA ┆   ┆ 4.0216086 ┆           ┆           ┆ ail.co.uk │\n",
       "│          ┆         ┆ …          ┆ …          ┆   ┆ 434…      ┆           ┆           ┆ /fe…      │\n",
       "│ 20240816 ┆ 1       ┆ KILL#6##5# ┆ SOC_POINTS ┆ … ┆ -7.123098 ┆ 119294310 ┆ dailymail ┆ https://w │\n",
       "│          ┆         ┆ Cumbria,   ┆ OFINTEREST ┆   ┆ 20193638, ┆ 5,1192943 ┆ .co.uk    ┆ ww.dailym │\n",
       "│          ┆         ┆ United     ┆ ;SOC_POINT ┆   ┆ 1.4522821 ┆ 106,11929 ┆           ┆ ail.co.uk │\n",
       "│          ┆         ┆ King…      ┆ …          ┆   ┆ 576…      ┆ 431…      ┆           ┆ /ne…      │\n",
       "│ 20240816 ┆ 1       ┆ AFFECT#200 ┆ TAX_DISEAS ┆ … ┆ -4.553415 ┆ 119297029 ┆ dailymail ┆ https://w │\n",
       "│          ┆         ┆ ##1#United ┆ E;TAX_DISE ┆   ┆ 06129597, ┆ 0         ┆ .co.uk    ┆ ww.dailym │\n",
       "│          ┆         ┆ States#US… ┆ ASE_CANCER ┆   ┆ 0.8756567 ┆           ┆           ┆ ail.co.uk │\n",
       "│          ┆         ┆            ┆ …          ┆   ┆ 425…      ┆           ┆           ┆ /he…      │\n",
       "│ 20240816 ┆ 1       ┆ null       ┆ null       ┆ … ┆ 3.9325842 ┆ null      ┆ dailymail ┆ https://w │\n",
       "│          ┆         ┆            ┆            ┆   ┆ 6966292,7 ┆           ┆ .co.uk    ┆ ww.dailym │\n",
       "│          ┆         ┆            ┆            ┆   ┆ .72471910 ┆           ┆           ┆ ail.co.uk │\n",
       "│          ┆         ┆            ┆            ┆   ┆ 112…      ┆           ┆           ┆ /tv…      │\n",
       "│ 20240816 ┆ 1       ┆ null       ┆ TAX_FNCACT ┆ … ┆ -2.195121 ┆ null      ┆ dailymail ┆ https://w │\n",
       "│          ┆         ┆            ┆ ;TAX_FNCAC ┆   ┆ 95121951, ┆           ┆ .co.uk    ┆ ww.dailym │\n",
       "│          ┆         ┆            ┆ T_WOMAN;WB ┆   ┆ 0.7317073 ┆           ┆           ┆ ail.co.uk │\n",
       "│          ┆         ┆            ┆ …          ┆   ┆ 170…      ┆           ┆           ┆ /ne…      │\n",
       "│ …        ┆ …       ┆ …          ┆ …          ┆ … ┆ …         ┆ …         ┆ …         ┆ …         │\n",
       "│ 20240816 ┆ 1       ┆ null       ┆ TAX_FNCACT ┆ … ┆ -1.611278 ┆ null      ┆ dailymail ┆ https://w │\n",
       "│          ┆         ┆            ┆ ;TAX_FNCAC ┆   ┆ 95266868, ┆           ┆ .co.uk    ┆ ww.dailym │\n",
       "│          ┆         ┆            ┆ T_ADMIRALT ┆   ┆ 2.1148036 ┆           ┆           ┆ ail.co.uk │\n",
       "│          ┆         ┆            ┆ …          ┆   ┆ 253…      ┆           ┆           ┆ /ne…      │\n",
       "│ 20240816 ┆ 1       ┆ KILL#22#in ┆ WB_1979_NA ┆ … ┆ -4.318181 ┆ null      ┆ dailymail ┆ https://w │\n",
       "│          ┆         ┆ side#1#Ind ┆ TURAL_RESO ┆   ┆ 81818182, ┆           ┆ .co.uk    ┆ ww.dailym │\n",
       "│          ┆         ┆ onesia#ID# ┆ URCE_MANAG ┆   ┆ 0.4545454 ┆           ┆           ┆ ail.co.uk │\n",
       "│          ┆         ┆ …          ┆ …          ┆   ┆ 545…      ┆           ┆           ┆ /ne…      │\n",
       "│ 20240816 ┆ 1       ┆ null       ┆ TAX_FNCACT ┆ … ┆ 0.4434589 ┆ null      ┆ dailymail ┆ https://w │\n",
       "│          ┆         ┆            ┆ ;TAX_FNCAC ┆   ┆ 80044346, ┆           ┆ .co.uk    ┆ ww.dailym │\n",
       "│          ┆         ┆            ┆ T_SINGER;T ┆   ┆ 2.8824833 ┆           ┆           ┆ ail.co.uk │\n",
       "│          ┆         ┆            ┆ …          ┆   ┆ 702…      ┆           ┆           ┆ /tv…      │\n",
       "│ 20240816 ┆ 1       ┆ null       ┆ TAX_FNCACT ┆ … ┆ -6.720741 ┆ 119303088 ┆ dailymail ┆ https://w │\n",
       "│          ┆         ┆            ┆ ;TAX_FNCAC ┆   ┆ 599073,3. ┆ 8,1193031 ┆ .co.uk    ┆ ww.dailym │\n",
       "│          ┆         ┆            ┆ T_VICTIMS; ┆   ┆ 128621089 ┆ 076,11930 ┆           ┆ ail.co.uk │\n",
       "│          ┆         ┆            ┆ …          ┆   ┆ 223…      ┆ 310…      ┆           ┆ /ne…      │\n",
       "│ 20240816 ┆ 1       ┆ null       ┆ TAX_FNCACT ┆ … ┆ -3.309352 ┆ 119307165 ┆ dailymail ┆ https://w │\n",
       "│          ┆         ┆            ┆ ;TAX_FNCAC ┆   ┆ 51798561, ┆ 8,1193071 ┆ .co.uk    ┆ ww.dailym │\n",
       "│          ┆         ┆            ┆ T_AUTHORIT ┆   ┆ 2.8776978 ┆ 659,11930 ┆           ┆ ail.co.uk │\n",
       "│          ┆         ┆            ┆ …          ┆   ┆ 417…      ┆ 717…      ┆           ┆ /ne…      │\n",
       "└──────────┴─────────┴────────────┴────────────┴───┴───────────┴───────────┴───────────┴───────────┘"
      ]
     },
     "execution_count": 80,
     "metadata": {},
     "output_type": "execute_result"
    }
   ],
   "source": [
    "daily_mail_df= df.filter(pl.col(\"SOURCEURLS\").str.contains(\"dailymail\"))\n",
    "daily_mail_df"
   ]
  },
  {
   "cell_type": "code",
   "execution_count": 81,
   "metadata": {},
   "outputs": [
    {
     "name": "stderr",
     "output_type": "stream",
     "text": [
      "/tmp/ipykernel_5244/419345620.py:1: MapWithoutReturnDtypeWarning: Calling `map_elements` without specifying `return_dtype` can lead to unpredictable results. Specify `return_dtype` to silence this warning.\n",
      "  text_daily_mail = daily_mail_df[\"SOURCEURLS\"].head(20).map_elements(multi_reader)\n"
     ]
    }
   ],
   "source": [
    "text_daily_mail = daily_mail_df[\"SOURCEURLS\"].head(20).map_elements(multi_reader)"
   ]
  },
  {
   "cell_type": "code",
   "execution_count": 86,
   "metadata": {},
   "outputs": [
    {
     "data": {
      "text/html": [
       "<div><style>\n",
       ".dataframe > thead > tr,\n",
       ".dataframe > tbody > tr {\n",
       "  text-align: right;\n",
       "  white-space: pre-wrap;\n",
       "}\n",
       "</style>\n",
       "<small>shape: (20,)</small><table border=\"1\" class=\"dataframe\"><thead><tr><th>SOURCEURLS</th></tr><tr><td>str</td></tr></thead><tbody><tr><td>&quot;Published by Associated Newspa…</td></tr><tr><td>&quot;Published by Associated Newspa…</td></tr><tr><td>&quot;Published by Associated Newspa…</td></tr><tr><td>&quot;Published by Associated Newspa…</td></tr><tr><td>&quot;Published by Associated Newspa…</td></tr><tr><td>&hellip;</td></tr><tr><td>&quot;Published by Associated Newspa…</td></tr><tr><td>&quot;Published by Associated Newspa…</td></tr><tr><td>&quot;Published by Associated Newspa…</td></tr><tr><td>&quot;Sign up to the Hull Live newsl…</td></tr><tr><td>&quot;Published by Associated Newspa…</td></tr></tbody></table></div>"
      ],
      "text/plain": [
       "shape: (20,)\n",
       "Series: 'SOURCEURLS' [str]\n",
       "[\n",
       "\t\"Published by Associated Newspa…\n",
       "\t\"Published by Associated Newspa…\n",
       "\t\"Published by Associated Newspa…\n",
       "\t\"Published by Associated Newspa…\n",
       "\t\"Published by Associated Newspa…\n",
       "\t…\n",
       "\t\"Published by Associated Newspa…\n",
       "\t\"Published by Associated Newspa…\n",
       "\t\"Published by Associated Newspa…\n",
       "\t\"Sign up to the Hull Live newsl…\n",
       "\t\"Published by Associated Newspa…\n",
       "]"
      ]
     },
     "execution_count": 86,
     "metadata": {},
     "output_type": "execute_result"
    }
   ],
   "source": [
    "text_daily_mail"
   ]
  },
  {
   "cell_type": "code",
   "execution_count": 89,
   "metadata": {},
   "outputs": [
    {
     "data": {
      "text/plain": [
       "'https://www.dailymail.co.uk/tvshowbiz/article-13749129/Lindsay-Lohan-Jamie-Lee-Curtis-Freaky-Friday-sequel.html'"
      ]
     },
     "execution_count": 89,
     "metadata": {},
     "output_type": "execute_result"
    }
   ],
   "source": [
    "daily_mail_df[\"SOURCEURLS\"][6]"
   ]
  },
  {
   "cell_type": "code",
   "execution_count": 106,
   "metadata": {},
   "outputs": [],
   "source": [
    "def get_summary_dm(url):\n",
    "    try:\n",
    "        response = requests.get(url)\n",
    "        soup = BeautifulSoup(response.content, 'html.parser')\n",
    "        div_class = 'mol-para-with-font'  \n",
    "        div_element = soup.find_all('p', class_=div_class)\n",
    "        text = \"\"\n",
    "        for z in div_element:\n",
    "            text += z.text\n",
    "        return text if div_element else None\n",
    "    except Exception as e:\n",
    "        print(f\"An error occurred: {e}\")\n",
    "        return None"
   ]
  },
  {
   "cell_type": "code",
   "execution_count": 107,
   "metadata": {},
   "outputs": [
    {
     "name": "stderr",
     "output_type": "stream",
     "text": [
      "/tmp/ipykernel_5244/1442089961.py:1: MapWithoutReturnDtypeWarning: Calling `map_elements` without specifying `return_dtype` can lead to unpredictable results. Specify `return_dtype` to silence this warning.\n",
      "  text_daily_mail = daily_mail_df[\"SOURCEURLS\"].head(20).map_elements(get_summary_dm)\n"
     ]
    }
   ],
   "source": [
    "text_daily_mail = daily_mail_df[\"SOURCEURLS\"].head(20).map_elements(get_summary_dm)"
   ]
  },
  {
   "cell_type": "code",
   "execution_count": 110,
   "metadata": {},
   "outputs": [
    {
     "data": {
      "text/plain": [
       "'Comedian Reginald D Hunter has compared an\\xa0Israeli couple \\'hounded\\' out of his Edinburgh\\xa0Fringe gig to Star Wars villains the \\'Siths\\'.The terrified Jewish couple revealed they were left \\'in fear of violence\\' after allegedly being called \\'baby killers\\' and told to \\'f*** off\\'.Hunter jested about the couple just a day after he was cleared by police of any\\xa0\\'hate crime\\' being committed during his controversial show.Police Scotland confirmed \\'no crime was established\\' following claims that the\\xa0American comic, 55, was\\xa0\\'encouraging a baying mob\\' to harass the pair.Hunter had been performing his new stand-up show \\'Fluffy Fluffy Beavers\\' at the Edinburgh Fringe when he made a joke about how a\\xa0Channel 5 documentary about domestic abuse had made him think of Israel.But when two Israeli audience members objected, they were reportedly sworn at, called \\'genocidal\\' and told \\'you\\'re not welcome\\' by fellow spectators shouting \\'Free Palestine\\'.Hunter earlier released an apology on X claiming it is part of his job as a comedian to \\'push boundaries\\'.\\xa0More recently, he joked about the incident again when criticised for his alleged actions against the couple.\\xa0Responding to the critique he wrote: \\'The Sith travel in pairs\\'.His latest jest comes as advocacy group Campaign Against Antisemitism posted a detailed statement on Friday night revealing that they had spoken to the couple\\xa0at the centre of the storm, as well as additional witnesses and the events are \\'worse than initially reported.\\'A spokesperson added that the victims told them \\'they were left in fear of violence\\' and have urged Edinburgh Fringe to cancel his upcoming performance.They said no one in the audience came to their aid and they believed they might be physically attacked.The statement read: \\'The entire incident made the victims \"feel sick\" and understandably so.\\xa0\\'The victims noted how, throughout this shocking ordeal, nobody in the audience came to their aid.\\xa0\\'One of them told us: \\'I thought someone was going to hit me.\\'\\'A Jewish couple being hounded out of a venue whilst being called \\'baby killers\\' and told to \\'f*** off\\' can not be excused as \\'pushing boundaries\\', much as Mr Hunter has tried to in his statement.\\xa0\\'Comedians are rightly given broad latitude, but they also have a responsibility to their audience.\\'The CAA said it was writing to venues currently scheduled to host Mr Hunter \\'to ensure that they are fully aware of his conduct at the Edinburgh Fringe.\\'This comes shortly after the comedian was due to perform at a council-owned hall in Scottish town Giffnock, but a local authority has axed the show.They said: \\'We have a commitment to our community, and to our values of diversity and inclusion, which we take seriously.\\'Hunter took to X to apologise for his part in the incident.The comedian from Albany in the US state of Georgia, who has lived in the UK since 1997, insisted that he is \\'staunchly anti-war and anti-bully\\' after the backlash he received following the\\xa0show.Hunter was set to perform in Giffnock on September\\xa0 28, but East Renfrewshire Council said it had taken the decision \\'to cancel Eastwood Park Theatre\\'s show featuring Reginald D Hunter\\'.They added: \\'We have a commitment to our community, and to our values of diversity and inclusion, which we take seriously.\\'Local Conservative councillor Paul Edlin told the Jewish Telegraph: \\'He encouraged a baying mob in the audience to hound out a Jewish couple, one of whom was in a wheelchair.\\'The Scottish Council of Jewish Communities and the Glasgow Jewish Representative Council (GJRC) had both complained about the incident to East Renfrewshire Council.Dominic Cavendish, chief theatre critic at The Telegraph who was at Sunday\\'s Fringe show, said it was the \\'most unpleasant comedy gig I\\'ve ever attended\\'.In a post on X Hunter wrote: \\'There was an unfortunate incident in my new show \\'Fluffy Fluffy Beavers\\'.\\'As a comedian I do push boundaries in creating humour, it is part of my job. This inevitably creates divided opinions but I am staunchly anti-war and anti-bullying.\\'I regret any stress caused to the audience and venue staff members.\\'In further comments on social media, he has suggested he could be let go from more scheduled gigs ahead - telling one commenter who suggesting meeting up for a drink: \\'I may become extremely unbusy real soon.\\'\\xa0Anti-semitism campaigners called the incident \\'a sickening low that cannot be disguised as comedy\\' - as organisers maintained they were \\'committed to upholding the principles of creative freedom of expression.\\'The pressure group Campaign Against Antisemitisim have asked their own lawyers to review footage to see whether any action can be taken.In a statement the group said: \\'Reginald D Hunter has laughed off his Holocaust jokes and another supposed joke about \\'typical f***ing Jews\\' in the past, but watching on and cracking jokes as Jews are hounded out of your show is a sickening low that cannot be disguised as comedy.\\'We have seen this before in recent months, and venues must stand extremely firm against this kind of behaviour.\\'Assembly George Square Studios today confirmed there were no plans to cancel his gigs at its venue, which are set to run until August 25.A spokeswoman for the venue said: \\'We are aware of two members of the audience choosing to leave Reginald D Hunter\\'s performance on Sunday August 11.\\'The venue front of house team attended and supported them upon exiting.\\'The US-born entertainer was half-way through the packed gig at the Edinburgh Festival on Sunday night - described by one theatre critic as the \\'ugliest Edinburgh Fringe moment ever\\' - when the commotion began.As a woman told her story of how she was ill-treated by her husband, the comedian revealed that he thought to himself: \\'My God, it\\'s like being married to Israel.\\'While the joke evoked laughter from the audience, a couple on the front row were prompted to shout out \\'not funny\\', before revealing they were Israeli.Dominic Cavendish, chief theatre critic for The Telegraph, was in the audience when the furore erupted.Writing a review of the show, which he awarded one star to, Cavendish said: \\'The pair, who said they were from Israel, then endured their fellow audience members shouting expletives (\\'f--- off\\' among them), and telling them to go – with slow-hand claps, boos and cries of \\'genocidal maniac\\', \\'you\\'re not welcome\\' and \\'free Palestine\\' part of the toxic mix.\\'Rather than pulling the audience up for their animosity towards the unwitting hecklers, Hunter apparently instead said to them: \\'You can say it\\'s not funny to you, but if you say it to a room full of people who laughed, you look foolish.\\'The couple, one of whom was disabled, are then said to have exited from the show as Hunter apparently \\'openly laughed\\' at them and as fellow audience members continued to jeer.Hunter then related a story about how his partner had complained about not being able to access the Jewish Chronicle\\'s website, as it is behind a paywall.He is reported as saying: \\'\\'Typical f***ing Jews, they won\\'t tell you anything unless you subscribe.\\'\\'It\\'s just a joke,\\' he added.The incident has provoked outrage among some social media users, who describe it as \\'awful\\' and \\'anti-semitic\\'.One wrote: \\'His behaviour was abhorrent - but what was the audience thinking by abusing two strangers who happened to be Israeli? Hateful, toxic, repellent stuff.\\'Another posted: \\'So disappointing that someone who is from a minority doesn\\'t empathise with (in fact encourages) racism towards another minority.\\'A third said: \\'If your gags are at the expense of [a] bullied minority, you\\'re not a comedian - you\\'re a bully.\\''"
      ]
     },
     "execution_count": 110,
     "metadata": {},
     "output_type": "execute_result"
    }
   ],
   "source": [
    "text_daily_mail[19]"
   ]
  },
  {
   "cell_type": "code",
   "execution_count": 112,
   "metadata": {},
   "outputs": [
    {
     "data": {
      "text/html": [
       "<div><style>\n",
       ".dataframe > thead > tr,\n",
       ".dataframe > tbody > tr {\n",
       "  text-align: right;\n",
       "  white-space: pre-wrap;\n",
       "}\n",
       "</style>\n",
       "<small>shape: (659,)</small><table border=\"1\" class=\"dataframe\"><thead><tr><th>THEMES</th></tr><tr><td>str</td></tr></thead><tbody><tr><td>&quot;EPU_CATS_REGULATION;EPU_CATS_F…</td></tr><tr><td>&quot;TAX_FNCACT;TAX_FNCACT_INSIDER;…</td></tr><tr><td>&quot;EPU_CATS_REGULATION;EPU_CATS_F…</td></tr><tr><td>&quot;WB_439_MACROECONOMIC_AND_STRUC…</td></tr><tr><td>&quot;WB_439_MACROECONOMIC_AND_STRUC…</td></tr><tr><td>&hellip;</td></tr><tr><td>&quot;ECON_STOCKMARKET;TAX_FNCACT;TA…</td></tr><tr><td>&quot;ECON_STOCKMARKET;TAX_FNCACT;TA…</td></tr><tr><td>&quot;TAX_FNCACT;TAX_FNCACT_ANALYST;&quot;</td></tr><tr><td>&quot;ECON_STOCKMARKET;TAX_FNCACT;TA…</td></tr><tr><td>&quot;TAX_ECON_PRICE;TAX_FNCACT;TAX_…</td></tr></tbody></table></div>"
      ],
      "text/plain": [
       "shape: (659,)\n",
       "Series: 'THEMES' [str]\n",
       "[\n",
       "\t\"EPU_CATS_REGULATION;EPU_CATS_F…\n",
       "\t\"TAX_FNCACT;TAX_FNCACT_INSIDER;…\n",
       "\t\"EPU_CATS_REGULATION;EPU_CATS_F…\n",
       "\t\"WB_439_MACROECONOMIC_AND_STRUC…\n",
       "\t\"WB_439_MACROECONOMIC_AND_STRUC…\n",
       "\t…\n",
       "\t\"ECON_STOCKMARKET;TAX_FNCACT;TA…\n",
       "\t\"ECON_STOCKMARKET;TAX_FNCACT;TA…\n",
       "\t\"TAX_FNCACT;TAX_FNCACT_ANALYST;\"\n",
       "\t\"ECON_STOCKMARKET;TAX_FNCACT;TA…\n",
       "\t\"TAX_ECON_PRICE;TAX_FNCACT;TAX_…\n",
       "]"
      ]
     },
     "execution_count": 112,
     "metadata": {},
     "output_type": "execute_result"
    }
   ],
   "source": [
    "wkrb13_df= df.filter(pl.col(\"SOURCEURLS\").str.contains(\"wkrb13\"))\n",
    "wkrb13_df[\"THEMES\"]"
   ]
  },
  {
   "cell_type": "code",
   "execution_count": 120,
   "metadata": {},
   "outputs": [
    {
     "data": {
      "text/plain": [
       "'https://www.wkrb13.com/2024/08/16/insmed-nasdaqinsm-stock-rating-reaffirmed-by-hc-wainwright.html'"
      ]
     },
     "execution_count": 120,
     "metadata": {},
     "output_type": "execute_result"
    }
   ],
   "source": [
    "filter_health_data(wkrb13_df)[34][\"SOURCEURLS\"][0]"
   ]
  },
  {
   "cell_type": "code",
   "execution_count": 123,
   "metadata": {},
   "outputs": [
    {
     "name": "stderr",
     "output_type": "stream",
     "text": [
      "/tmp/ipykernel_5244/1216287218.py:1: MapWithoutReturnDtypeWarning: Calling `map_elements` without specifying `return_dtype` can lead to unpredictable results. Specify `return_dtype` to silence this warning.\n",
      "  text_wkrb13= wkrb13_df[\"SOURCEURLS\"].head(20).map_elements(multi_reader)\n"
     ]
    }
   ],
   "source": [
    "text_wkrb13= wkrb13_df[\"SOURCEURLS\"].head(20).map_elements(multi_reader)"
   ]
  },
  {
   "cell_type": "code",
   "execution_count": 128,
   "metadata": {},
   "outputs": [
    {
     "data": {
      "text/plain": [
       "'Several other hedge funds and other institutional investors also recently made changes to their positions in the company. Envestnet Portfolio Solutions Inc. boosted its position in shares of  Exelon by 20.1% in the 2nd quarter. Envestnet Portfolio Solutions Inc. now owns 29,783 shares of the company’s stock worth $1,031,000 after purchasing an additional 4,991 shares during the last quarter.  ORG Partners LLC bought a new position in  Exelon during the second quarter worth about $99,000.  V Square Quantitative Management LLC lifted its holdings in  Exelon by 6.2% during the second quarter. V Square Quantitative Management LLC now owns 21,346 shares of the company’s stock worth $739,000 after acquiring an additional 1,249 shares in the last quarter.  Great Valley Advisor Group Inc. lifted its holdings in  Exelon by 56.6% during the second quarter. Great Valley Advisor Group Inc. now owns 22,800 shares of the company’s stock worth $789,000 after acquiring an additional 8,238 shares in the last quarter.  Finally, Wealth Enhancement Advisory Services LLC raised its stake in shares of  Exelon by 5.8% in the 2nd quarter. Wealth Enhancement Advisory Services LLC now owns 116,631 shares of the company’s stock valued at $4,037,000 after purchasing an additional 6,404 shares during the period. 80.92% of the stock is owned by institutional investors and hedge funds. \\nSeveral analysts have issued reports on the company. Scotiabank dropped their price target on Exelon from $39.00 to $37.00 and set a “sector perform” rating on the stock in a research note on Monday, April 22nd. Wells Fargo &amp; Company lifted their target price on Exelon from $40.00 to $42.00 and gave the company an “equal weight” rating in a research report on Friday, August 2nd. Morgan Stanley lowered their target price on Exelon from $41.00 to $39.00 and set an “equal weight” rating on the stock in a research report on Monday, June 24th. BMO Capital Markets lifted their target price on Exelon from $40.00 to $42.00 and gave the company an “outperform” rating in a research report on Friday, May 3rd. Finally, Barclays lifted their target price on Exelon from $39.00 to $41.00 and gave the company an “overweight” rating in a research report on Monday, July 22nd. Eleven research analysts have rated the stock with a hold rating and three have issued  a buy rating to the company. According to MarketBeat, the stock presently has a consensus rating of “Hold” and a consensus price target of $39.27.\\nShares of <a href=\"https://www.marketbeat.com/stocks/NASDAQ/EXC/\" rel=\"noopener\" target=\"_blank\">EXC stock</a> traded up $0.47 during trading on Thursday, hitting $37.50. The company had a trading volume of 8,598,621 shares, compared to its average volume of 6,867,143. The company has a debt-to-equity ratio of 1.66, a quick ratio of 0.93 and a current ratio of 1.03. The firm has a market capitalization of $37.52 billion, a P/E ratio of 16.16, a price-to-earnings-growth ratio of 2.72 and a beta of 0.52. The stock’s 50-day moving average price is $35.93 and its 200 day moving average price is $36.39. Exelon Co. has a one year low of $33.35 and a one year high of $42.15. \\nExelon (<a href=\"https://www.marketbeat.com/stocks/NASDAQ/EXC/\">NASDAQ:EXC</a> – <a href=\"https://www.marketbeat.com/arnreports/ReportTickerOptin.aspx?RegistrationCode=TickerHyperlink&amp;Prefix=NASDAQ&amp;Symbol=EXC\" style=\"font-weight:normal;text-decoration:italic;color:green\">Get Free Report</a>) last announced its quarterly earnings results on Thursday, August 1st. The company reported $0.47 earnings per share (EPS) for the quarter, topping the consensus estimate of $0.40 by $0.07. The company had revenue of $5.36 billion during the quarter, compared to the consensus estimate of $4.98 billion. Exelon had a net margin of 10.65% and a return on equity of 9.40%. During the same period in the prior year, the business earned $0.41 earnings per share.  Equities analysts expect that  Exelon Co. will post 2.43 EPS for the current fiscal year. \\nThe business also recently disclosed a quarterly dividend, which will be paid on Friday, September 13th. Stockholders of record on Monday, August 12th will be given a dividend of $0.38 per share. The ex-dividend date is Monday, August 12th. This represents a $1.52 dividend on an annualized basis and a dividend yield of 4.05%. Exelon’s dividend payout ratio (DPR) is presently 65.52%. \\n (<a class=\"c-green\" href=\"https://www.marketbeat.com/arnreports/ReportTickerOptin.aspx?RegistrationCode=TickerHyperlink&amp;Prefix=NASDAQ&amp;Symbol=EXC\" style=\"font-weight:normal;text-decoration:italic;color:green\">Free Report</a>)\\nExelon Corporation, a utility services holding company, engages in the energy distribution and transmission businesses in the United States and Canada. The company is involved in the purchase and regulated retail sale of electricity and natural gas, transmission and distribution of electricity, and distribution of natural gas to retail customers.\\nWant to see what other hedge funds are holding EXC? <a href=\"https://www.holdingschannel.com/hedge-funds/holding-exc/\">Visit HoldingsChannel.com</a> to get the latest 13F filings and insider trades for Exelon Co. (<a href=\"https://www.marketbeat.com/stocks/NASDAQ/EXC/\">NASDAQ:EXC</a> – <a href=\"https://www.marketbeat.com/arnreports/ReportTickerOptin.aspx?RegistrationCode=TickerHyperlink&amp;Prefix=NASDAQ&amp;Symbol=EXC\" style=\"font-weight:normal;text-decoration:italic;color:green\">Free Report</a>).\\nAlphaMark Advisors LLC Increases Holdings in SPDR Portfolio S&amp;P 500 ETF (NYSEARCA:SPLG)\\nCigna Investments Inc. New Sells 379 Shares of Visa Inc. (NYSE:V)\\n'"
      ]
     },
     "execution_count": 128,
     "metadata": {},
     "output_type": "execute_result"
    }
   ],
   "source": [
    "text_wkrb13[9]"
   ]
  },
  {
   "cell_type": "code",
   "execution_count": 132,
   "metadata": {},
   "outputs": [
    {
     "data": {
      "text/html": [
       "<div><style>\n",
       ".dataframe > thead > tr,\n",
       ".dataframe > tbody > tr {\n",
       "  text-align: right;\n",
       "  white-space: pre-wrap;\n",
       "}\n",
       "</style>\n",
       "<small>shape: (52, 11)</small><table border=\"1\" class=\"dataframe\"><thead><tr><th>DATE</th><th>NUMARTS</th><th>COUNTS</th><th>THEMES</th><th>LOCATIONS</th><th>PERSONS</th><th>ORGANIZATIONS</th><th>TONE</th><th>CAMEOEVENTIDS</th><th>SOURCES</th><th>SOURCEURLS</th></tr><tr><td>i64</td><td>i64</td><td>str</td><td>str</td><td>str</td><td>str</td><td>str</td><td>str</td><td>str</td><td>str</td><td>str</td></tr></thead><tbody><tr><td>20240816</td><td>1</td><td>null</td><td>&quot;TAX_WORLDMAMMALS;TAX_WORLDMAMM…</td><td>&quot;1#Canada#CA#CA#60#-96#CA&quot;</td><td>null</td><td>&quot;national bank;envestnet portfo…</td><td>&quot;1.55038759689922,1.55038759689…</td><td>null</td><td>&quot;tickerreport.com&quot;</td><td>&quot;https://www.tickerreport.com/b…</td></tr><tr><td>20240816</td><td>1</td><td>null</td><td>&quot;GENERAL_HEALTH;MEDICAL;TAX_FNC…</td><td>&quot;1#United States#US#US#39.82817…</td><td>&quot;leerink partnrs&quot;</td><td>&quot;international assets investmen…</td><td>&quot;4.95258166491043,5.37407797681…</td><td>null</td><td>&quot;tickerreport.com&quot;</td><td>&quot;https://www.tickerreport.com/b…</td></tr><tr><td>20240816</td><td>1</td><td>null</td><td>&quot;ECON_STOCKMARKET;TAX_ECON_PRIC…</td><td>&quot;1#Japan#JA#JA#36#138#JA;1#Chin…</td><td>&quot;kate spade;manesh dadlani;stua…</td><td>&quot;wells fargo company;united sta…</td><td>&quot;2.22929936305733,2.54777070063…</td><td>null</td><td>&quot;tickerreport.com&quot;</td><td>&quot;https://www.tickerreport.com/b…</td></tr><tr><td>20240816</td><td>1</td><td>null</td><td>&quot;WB_135_TRANSPORT;WB_1174_WAREH…</td><td>&quot;1#United States#US#US#39.82817…</td><td>null</td><td>&quot;united states;data storage cor…</td><td>&quot;2.40963855421687,3.21285140562…</td><td>null</td><td>&quot;tickerreport.com&quot;</td><td>&quot;https://www.tickerreport.com/b…</td></tr><tr><td>20240816</td><td>1</td><td>null</td><td>&quot;EDUCATION;RETIREMENT;WB_2690_C…</td><td>&quot;1#United States#US#US#39.82817…</td><td>&quot;roth mkm&quot;</td><td>&quot;international assets investmen…</td><td>&quot;1.13065326633166,1.63316582914…</td><td>null</td><td>&quot;tickerreport.com&quot;</td><td>&quot;https://www.tickerreport.com/b…</td></tr><tr><td>&hellip;</td><td>&hellip;</td><td>&hellip;</td><td>&hellip;</td><td>&hellip;</td><td>&hellip;</td><td>&hellip;</td><td>&hellip;</td><td>&hellip;</td><td>&hellip;</td><td>&hellip;</td></tr><tr><td>20240816</td><td>1</td><td>null</td><td>&quot;EDUCATION;RETIREMENT;WB_2690_C…</td><td>&quot;2#California, United States#US…</td><td>&quot;rainer h bosselmann;dekabank d…</td><td>&quot;securities exchange commission…</td><td>&quot;1.33882595262616,1.54479917610…</td><td>null</td><td>&quot;tickerreport.com&quot;</td><td>&quot;https://www.tickerreport.com/b…</td></tr><tr><td>20240816</td><td>1</td><td>null</td><td>&quot;TAX_FNCACT;TAX_FNCACT_ANALYST;…</td><td>&quot;1#United States#US#US#39.82817…</td><td>&quot;elizabeth rozek;sagimet biosci…</td><td>&quot;sagimet biosciences company pr…</td><td>&quot;0.168067226890756,1.6806722689…</td><td>null</td><td>&quot;tickerreport.com&quot;</td><td>&quot;https://www.tickerreport.com/b…</td></tr><tr><td>20240816</td><td>1</td><td>null</td><td>&quot;GENERAL_HEALTH;MEDICAL;CRISISL…</td><td>&quot;1#United States#US#US#39.82817…</td><td>null</td><td>&quot;aethlon medical inc;united sta…</td><td>&quot;0.673400673400673,3.0303030303…</td><td>null</td><td>&quot;tickerreport.com&quot;</td><td>&quot;https://www.tickerreport.com/b…</td></tr><tr><td>20240816</td><td>1</td><td>null</td><td>&quot;EPU_CATS_REGULATION;EPU_CATS_F…</td><td>&quot;1#Canada#CA#CA#60#-96#CA&quot;</td><td>&quot;livforsakringsbolaget skandia …</td><td>&quot;veralto co;first command advis…</td><td>&quot;1.53291253381425,1.80342651036…</td><td>&quot;1192937938,1192950028&quot;</td><td>&quot;tickerreport.com&quot;</td><td>&quot;https://www.tickerreport.com/b…</td></tr><tr><td>20240816</td><td>1</td><td>null</td><td>&quot;TAX_ECON_PRICE;TAX_FNCACT;TAX_…</td><td>&quot;1#Japan#JA#JA#36#138#JA;1#Chin…</td><td>&quot;piper sandler;asia pacific;cha…</td><td>&quot;wells fargo company;jpmorgan c…</td><td>&quot;1.71543895055499,2.01816347124…</td><td>null</td><td>&quot;tickerreport.com&quot;</td><td>&quot;https://www.tickerreport.com/b…</td></tr></tbody></table></div>"
      ],
      "text/plain": [
       "shape: (52, 11)\n",
       "┌──────────┬─────────┬────────┬────────────┬───┬────────────┬────────────┬────────────┬────────────┐\n",
       "│ DATE     ┆ NUMARTS ┆ COUNTS ┆ THEMES     ┆ … ┆ TONE       ┆ CAMEOEVENT ┆ SOURCES    ┆ SOURCEURLS │\n",
       "│ ---      ┆ ---     ┆ ---    ┆ ---        ┆   ┆ ---        ┆ IDS        ┆ ---        ┆ ---        │\n",
       "│ i64      ┆ i64     ┆ str    ┆ str        ┆   ┆ str        ┆ ---        ┆ str        ┆ str        │\n",
       "│          ┆         ┆        ┆            ┆   ┆            ┆ str        ┆            ┆            │\n",
       "╞══════════╪═════════╪════════╪════════════╪═══╪════════════╪════════════╪════════════╪════════════╡\n",
       "│ 20240816 ┆ 1       ┆ null   ┆ TAX_WORLDM ┆ … ┆ 1.55038759 ┆ null       ┆ tickerrepo ┆ https://ww │\n",
       "│          ┆         ┆        ┆ AMMALS;TAX ┆   ┆ 689922,1.5 ┆            ┆ rt.com     ┆ w.tickerre │\n",
       "│          ┆         ┆        ┆ _WORLDMAMM ┆   ┆ 5038759689 ┆            ┆            ┆ port.com/b │\n",
       "│          ┆         ┆        ┆ …          ┆   ┆ …          ┆            ┆            ┆ …          │\n",
       "│ 20240816 ┆ 1       ┆ null   ┆ GENERAL_HE ┆ … ┆ 4.95258166 ┆ null       ┆ tickerrepo ┆ https://ww │\n",
       "│          ┆         ┆        ┆ ALTH;MEDIC ┆   ┆ 491043,5.3 ┆            ┆ rt.com     ┆ w.tickerre │\n",
       "│          ┆         ┆        ┆ AL;TAX_FNC ┆   ┆ 7407797681 ┆            ┆            ┆ port.com/b │\n",
       "│          ┆         ┆        ┆ …          ┆   ┆ …          ┆            ┆            ┆ …          │\n",
       "│ 20240816 ┆ 1       ┆ null   ┆ ECON_STOCK ┆ … ┆ 2.22929936 ┆ null       ┆ tickerrepo ┆ https://ww │\n",
       "│          ┆         ┆        ┆ MARKET;TAX ┆   ┆ 305733,2.5 ┆            ┆ rt.com     ┆ w.tickerre │\n",
       "│          ┆         ┆        ┆ _ECON_PRIC ┆   ┆ 4777070063 ┆            ┆            ┆ port.com/b │\n",
       "│          ┆         ┆        ┆ …          ┆   ┆ …          ┆            ┆            ┆ …          │\n",
       "│ 20240816 ┆ 1       ┆ null   ┆ WB_135_TRA ┆ … ┆ 2.40963855 ┆ null       ┆ tickerrepo ┆ https://ww │\n",
       "│          ┆         ┆        ┆ NSPORT;WB_ ┆   ┆ 421687,3.2 ┆            ┆ rt.com     ┆ w.tickerre │\n",
       "│          ┆         ┆        ┆ 1174_WAREH ┆   ┆ 1285140562 ┆            ┆            ┆ port.com/b │\n",
       "│          ┆         ┆        ┆ …          ┆   ┆ …          ┆            ┆            ┆ …          │\n",
       "│ 20240816 ┆ 1       ┆ null   ┆ EDUCATION; ┆ … ┆ 1.13065326 ┆ null       ┆ tickerrepo ┆ https://ww │\n",
       "│          ┆         ┆        ┆ RETIREMENT ┆   ┆ 633166,1.6 ┆            ┆ rt.com     ┆ w.tickerre │\n",
       "│          ┆         ┆        ┆ ;WB_2690_C ┆   ┆ 3316582914 ┆            ┆            ┆ port.com/b │\n",
       "│          ┆         ┆        ┆ …          ┆   ┆ …          ┆            ┆            ┆ …          │\n",
       "│ …        ┆ …       ┆ …      ┆ …          ┆ … ┆ …          ┆ …          ┆ …          ┆ …          │\n",
       "│ 20240816 ┆ 1       ┆ null   ┆ EDUCATION; ┆ … ┆ 1.33882595 ┆ null       ┆ tickerrepo ┆ https://ww │\n",
       "│          ┆         ┆        ┆ RETIREMENT ┆   ┆ 262616,1.5 ┆            ┆ rt.com     ┆ w.tickerre │\n",
       "│          ┆         ┆        ┆ ;WB_2690_C ┆   ┆ 4479917610 ┆            ┆            ┆ port.com/b │\n",
       "│          ┆         ┆        ┆ …          ┆   ┆ …          ┆            ┆            ┆ …          │\n",
       "│ 20240816 ┆ 1       ┆ null   ┆ TAX_FNCACT ┆ … ┆ 0.16806722 ┆ null       ┆ tickerrepo ┆ https://ww │\n",
       "│          ┆         ┆        ┆ ;TAX_FNCAC ┆   ┆ 6890756,1. ┆            ┆ rt.com     ┆ w.tickerre │\n",
       "│          ┆         ┆        ┆ T_ANALYST; ┆   ┆ 6806722689 ┆            ┆            ┆ port.com/b │\n",
       "│          ┆         ┆        ┆ …          ┆   ┆ …          ┆            ┆            ┆ …          │\n",
       "│ 20240816 ┆ 1       ┆ null   ┆ GENERAL_HE ┆ … ┆ 0.67340067 ┆ null       ┆ tickerrepo ┆ https://ww │\n",
       "│          ┆         ┆        ┆ ALTH;MEDIC ┆   ┆ 3400673,3. ┆            ┆ rt.com     ┆ w.tickerre │\n",
       "│          ┆         ┆        ┆ AL;CRISISL ┆   ┆ 0303030303 ┆            ┆            ┆ port.com/b │\n",
       "│          ┆         ┆        ┆ …          ┆   ┆ …          ┆            ┆            ┆ …          │\n",
       "│ 20240816 ┆ 1       ┆ null   ┆ EPU_CATS_R ┆ … ┆ 1.53291253 ┆ 1192937938 ┆ tickerrepo ┆ https://ww │\n",
       "│          ┆         ┆        ┆ EGULATION; ┆   ┆ 381425,1.8 ┆ ,119295002 ┆ rt.com     ┆ w.tickerre │\n",
       "│          ┆         ┆        ┆ EPU_CATS_F ┆   ┆ 0342651036 ┆ 8          ┆            ┆ port.com/b │\n",
       "│          ┆         ┆        ┆ …          ┆   ┆ …          ┆            ┆            ┆ …          │\n",
       "│ 20240816 ┆ 1       ┆ null   ┆ TAX_ECON_P ┆ … ┆ 1.71543895 ┆ null       ┆ tickerrepo ┆ https://ww │\n",
       "│          ┆         ┆        ┆ RICE;TAX_F ┆   ┆ 055499,2.0 ┆            ┆ rt.com     ┆ w.tickerre │\n",
       "│          ┆         ┆        ┆ NCACT;TAX_ ┆   ┆ 1816347124 ┆            ┆            ┆ port.com/b │\n",
       "│          ┆         ┆        ┆ …          ┆   ┆ …          ┆            ┆            ┆ …          │\n",
       "└──────────┴─────────┴────────┴────────────┴───┴────────────┴────────────┴────────────┴────────────┘"
      ]
     },
     "execution_count": 132,
     "metadata": {},
     "output_type": "execute_result"
    }
   ],
   "source": [
    "ticker_report_df= df.filter(pl.col(\"SOURCEURLS\").str.contains(\"tickerreport\"))\n",
    "ticker_report_df"
   ]
  },
  {
   "cell_type": "code",
   "execution_count": 135,
   "metadata": {},
   "outputs": [
    {
     "data": {
      "text/plain": [
       "'https://www.tickerreport.com/banking-finance/12391611/envestnet-portfolio-solutions-inc-has-2-63-million-stake-in-ishares-cohen-steers-reit-etf-batsicf.html'"
      ]
     },
     "execution_count": 135,
     "metadata": {},
     "output_type": "execute_result"
    }
   ],
   "source": [
    "ticker_report_df[0][\"SOURCEURLS\"][0]"
   ]
  },
  {
   "cell_type": "code",
   "execution_count": 136,
   "metadata": {},
   "outputs": [
    {
     "name": "stderr",
     "output_type": "stream",
     "text": [
      "/tmp/ipykernel_5244/1584579424.py:1: MapWithoutReturnDtypeWarning: Calling `map_elements` without specifying `return_dtype` can lead to unpredictable results. Specify `return_dtype` to silence this warning.\n",
      "  text_ticker= ticket_report_df[\"SOURCEURLS\"].head(20).map_elements(multi_reader)\n"
     ]
    }
   ],
   "source": [
    "text_ticker= ticket_report_df[\"SOURCEURLS\"].head(20).map_elements(multi_reader)"
   ]
  },
  {
   "cell_type": "code",
   "execution_count": 138,
   "metadata": {},
   "outputs": [
    {
     "data": {
      "text/plain": [
       "'A number of other hedge funds have also recently added to or reduced their stakes in ICF. National Bank of Canada FI grew its position in  iShares Cohen &amp; Steers REIT ETF by 17,774.7% in the fourth quarter. National Bank of Canada FI now owns 227,902 shares of the company’s stock worth $13,520,000 after acquiring an additional 226,627 shares in the last quarter.  William Howard &amp; Co Financial Advisors Inc bought a new position in shares of  iShares Cohen &amp; Steers REIT ETF in the first quarter valued at approximately $8,991,000.  KFG Wealth Management LLC acquired a new stake in shares of  iShares Cohen &amp; Steers REIT ETF in the fourth quarter worth $5,741,000.  Garde Capital Inc. lifted its stake in shares of  iShares Cohen &amp; Steers REIT ETF by 83.7% in the fourth quarter. Garde Capital Inc. now owns 164,218 shares of the company’s stock worth $9,645,000 after buying an additional 74,801 shares during the last quarter.  Finally, Transcendent Capital Group LLC acquired a new position in  iShares Cohen &amp; Steers REIT ETF in the 4th quarter valued at $4,206,000. \\nShares of <a href=\"https://www.marketbeat.com/stocks/BATS/ICF/\" rel=\"noopener\" target=\"_blank\">ICF</a> opened at $62.02 on Friday. The company has a market capitalization of $2.25 billion, a PE ratio of 30.19 and a beta of 0.94. iShares Cohen &amp; Steers REIT ETF has a one year low of $88.40 and a one year high of $104.37. The company’s fifty day moving average price is $58.73 and its 200 day moving average price is $56.91. \\niShares Cohen &amp; Steers REIT ETF (the Fund), formerly iShares Cohen &amp; Steers Realty Majors Index Fund, is an exchange-traded fund (ETF). The Fund seeks investment results that correspond generally to the price and yield performance of the Cohen &amp; Steers Realty Majors Index (the Index). The Index consists of selected real estate investment trusts (REITs).\\nWant to see what other hedge funds are holding ICF? <a href=\"https://www.holdingschannel.com/hedge-funds/holding-icf/\">Visit HoldingsChannel.com</a> to get the latest 13F filings and insider trades for iShares Cohen &amp; Steers REIT ETF (<a href=\"https://www.marketbeat.com/stocks/BATS/ICF/\">BATS:ICF</a> – <a href=\"https://www.marketbeat.com/arnreports/ReportTickerOptin.aspx?RegistrationCode=TickerHyperlink&amp;Prefix=BATS&amp;Symbol=ICF\" style=\"font-weight:normal;text-decoration:italic;color:green\">Free Report</a>).\\nEnvestnet Portfolio Solutions Inc. Boosts Stock Holdings in iShares Short Treasury Bond ETF (NASDAQ:SHV)\\nD.R. Horton, Inc. (NYSE:DHI) Shares Bought by Envestnet Portfolio Solutions Inc.\\n'"
      ]
     },
     "execution_count": 138,
     "metadata": {},
     "output_type": "execute_result"
    }
   ],
   "source": [
    "text_ticker[0]"
   ]
  },
  {
   "cell_type": "code",
   "execution_count": 139,
   "metadata": {},
   "outputs": [
    {
     "data": {
      "text/html": [
       "<div><style>\n",
       ".dataframe > thead > tr,\n",
       ".dataframe > tbody > tr {\n",
       "  text-align: right;\n",
       "  white-space: pre-wrap;\n",
       "}\n",
       "</style>\n",
       "<small>shape: (92, 11)</small><table border=\"1\" class=\"dataframe\"><thead><tr><th>DATE</th><th>NUMARTS</th><th>COUNTS</th><th>THEMES</th><th>LOCATIONS</th><th>PERSONS</th><th>ORGANIZATIONS</th><th>TONE</th><th>CAMEOEVENTIDS</th><th>SOURCES</th><th>SOURCEURLS</th></tr><tr><td>i64</td><td>i64</td><td>str</td><td>str</td><td>str</td><td>str</td><td>str</td><td>str</td><td>str</td><td>str</td><td>str</td></tr></thead><tbody><tr><td>20240816</td><td>1</td><td>null</td><td>&quot;EDUCATION;WB_470_EDUCATION;WB_…</td><td>&quot;1#Philippines#RP#RP#13#122#RP;…</td><td>null</td><td>&quot;manila southcoast development …</td><td>&quot;9.47867298578199,9.95260663507…</td><td>null</td><td>&quot;businessmirror.com.ph&quot;</td><td>&quot;https://businessmirror.com.ph/…</td></tr><tr><td>20240816</td><td>1</td><td>null</td><td>null</td><td>&quot;4#Philippine, Benguet, Philipp…</td><td>&quot;manuel v pangilinan;jane jimen…</td><td>&quot;metro pacific investments corp…</td><td>&quot;5.97014925373134,6.46766169154…</td><td>null</td><td>&quot;businessmirror.com.ph&quot;</td><td>&quot;https://businessmirror.com.ph/…</td></tr><tr><td>20240816</td><td>1</td><td>null</td><td>&quot;EDUCATION;SOC_POINTSOFINTEREST…</td><td>&quot;4#Pasig, City Of Pasig, Philip…</td><td>&quot;victor ma;bahay bulilit;joseph…</td><td>&quot;mcdonald;ronald mcdonald house…</td><td>&quot;1.78748758689176,3.37636544190…</td><td>&quot;1193069233,1193069234,11930699…</td><td>&quot;businessmirror.com.ph&quot;</td><td>&quot;https://businessmirror.com.ph/…</td></tr><tr><td>20240816</td><td>1</td><td>null</td><td>&quot;EPU_ECONOMY;EPU_ECONOMY_HISTOR…</td><td>&quot;1#Ukraine#UP#UP#49#32#UP;5#Mak…</td><td>&quot;abby joseph cohen;ken moelis;j…</td><td>&quot;columbia university;ayala muse…</td><td>&quot;-1.52542372881356,2.2033898305…</td><td>null</td><td>&quot;businessmirror.com.ph&quot;</td><td>&quot;https://businessmirror.com.ph/…</td></tr><tr><td>20240816</td><td>1</td><td>null</td><td>null</td><td>&quot;1#Philippines#RP#RP#13#122#RP&quot;</td><td>&quot;arsenio nick j lizaso&quot;</td><td>&quot;roman senate;creative marketin…</td><td>&quot;-1.21703853955375,4.5977011494…</td><td>null</td><td>&quot;businessmirror.com.ph&quot;</td><td>&quot;https://businessmirror.com.ph/…</td></tr><tr><td>&hellip;</td><td>&hellip;</td><td>&hellip;</td><td>&hellip;</td><td>&hellip;</td><td>&hellip;</td><td>&hellip;</td><td>&hellip;</td><td>&hellip;</td><td>&hellip;</td><td>&hellip;</td></tr><tr><td>20240816</td><td>1</td><td>null</td><td>&quot;EPU_ECONOMY;EPU_ECONOMY_HISTOR…</td><td>&quot;1#Ukraine#UP#UP#49#32#UP;4#Phi…</td><td>&quot;abby joseph cohen;sam bankman;…</td><td>&quot;columbia university;philippine…</td><td>&quot;-1.52542372881356,2.2033898305…</td><td>null</td><td>&quot;businessmirror.com.ph&quot;</td><td>&quot;https://businessmirror.com.ph/…</td></tr><tr><td>20240816</td><td>1</td><td>&quot;WOUND#7##1#Thailand#TH#TH#15#1…</td><td>&quot;TAX_ETHNICITY;TAX_ETHNICITY_AS…</td><td>&quot;1#Philippines#RP#RP#13#122#RP;…</td><td>&quot;putrama fahri septian;bhinijde…</td><td>&quot;southeast asian volleyball lea…</td><td>&quot;-2.30769230769231,1.5384615384…</td><td>&quot;1193053013,1193053014,11930534…</td><td>&quot;businessmirror.com.ph&quot;</td><td>&quot;https://businessmirror.com.ph/…</td></tr><tr><td>20240816</td><td>1</td><td>null</td><td>&quot;EPU_ECONOMY;EPU_ECONOMY_HISTOR…</td><td>&quot;4#Philippine, Benguet, Philipp…</td><td>&quot;abby joseph cohen;ken moelis;j…</td><td>&quot;columbia university;ayala muse…</td><td>&quot;-1.52542372881356,2.2033898305…</td><td>null</td><td>&quot;businessmirror.com.ph&quot;</td><td>&quot;https://businessmirror.com.ph/…</td></tr><tr><td>20240816</td><td>1</td><td>null</td><td>&quot;TOURISM;TAX_FNCACT;TAX_FNCACT_…</td><td>&quot;4#Dhaka, Dhaka, Bangladesh#BG#…</td><td>&quot;ferdinand r marcos jr&quot;</td><td>&quot;department of tourism;facebook&quot;</td><td>&quot;4.21052631578947,5.86466165413…</td><td>&quot;1193069185,1193070501&quot;</td><td>&quot;businessmirror.com.ph&quot;</td><td>&quot;https://businessmirror.com.ph/…</td></tr><tr><td>20240816</td><td>1</td><td>null</td><td>&quot;EPU_ECONOMY;EPU_ECONOMY_HISTOR…</td><td>&quot;1#Ukraine#UP#UP#49#32#UP;4#Phi…</td><td>&quot;jose ferdinand m rojas;ken moe…</td><td>&quot;university of massachusetts;go…</td><td>&quot;-1.52542372881356,2.2033898305…</td><td>null</td><td>&quot;businessmirror.com.ph&quot;</td><td>&quot;https://businessmirror.com.ph/…</td></tr></tbody></table></div>"
      ],
      "text/plain": [
       "shape: (92, 11)\n",
       "┌──────────┬─────────┬────────────┬────────────┬───┬───────────┬───────────┬───────────┬───────────┐\n",
       "│ DATE     ┆ NUMARTS ┆ COUNTS     ┆ THEMES     ┆ … ┆ TONE      ┆ CAMEOEVEN ┆ SOURCES   ┆ SOURCEURL │\n",
       "│ ---      ┆ ---     ┆ ---        ┆ ---        ┆   ┆ ---       ┆ TIDS      ┆ ---       ┆ S         │\n",
       "│ i64      ┆ i64     ┆ str        ┆ str        ┆   ┆ str       ┆ ---       ┆ str       ┆ ---       │\n",
       "│          ┆         ┆            ┆            ┆   ┆           ┆ str       ┆           ┆ str       │\n",
       "╞══════════╪═════════╪════════════╪════════════╪═══╪═══════════╪═══════════╪═══════════╪═══════════╡\n",
       "│ 20240816 ┆ 1       ┆ null       ┆ EDUCATION; ┆ … ┆ 9.4786729 ┆ null      ┆ businessm ┆ https://b │\n",
       "│          ┆         ┆            ┆ WB_470_EDU ┆   ┆ 8578199,9 ┆           ┆ irror.com ┆ usinessmi │\n",
       "│          ┆         ┆            ┆ CATION;WB_ ┆   ┆ .95260663 ┆           ┆ .ph       ┆ rror.com. │\n",
       "│          ┆         ┆            ┆ …          ┆   ┆ 507…      ┆           ┆           ┆ ph/…      │\n",
       "│ 20240816 ┆ 1       ┆ null       ┆ null       ┆ … ┆ 5.9701492 ┆ null      ┆ businessm ┆ https://b │\n",
       "│          ┆         ┆            ┆            ┆   ┆ 5373134,6 ┆           ┆ irror.com ┆ usinessmi │\n",
       "│          ┆         ┆            ┆            ┆   ┆ .46766169 ┆           ┆ .ph       ┆ rror.com. │\n",
       "│          ┆         ┆            ┆            ┆   ┆ 154…      ┆           ┆           ┆ ph/…      │\n",
       "│ 20240816 ┆ 1       ┆ null       ┆ EDUCATION; ┆ … ┆ 1.7874875 ┆ 119306923 ┆ businessm ┆ https://b │\n",
       "│          ┆         ┆            ┆ SOC_POINTS ┆   ┆ 8689176,3 ┆ 3,1193069 ┆ irror.com ┆ usinessmi │\n",
       "│          ┆         ┆            ┆ OFINTEREST ┆   ┆ .37636544 ┆ 234,11930 ┆ .ph       ┆ rror.com. │\n",
       "│          ┆         ┆            ┆ …          ┆   ┆ 190…      ┆ 699…      ┆           ┆ ph/…      │\n",
       "│ 20240816 ┆ 1       ┆ null       ┆ EPU_ECONOM ┆ … ┆ -1.525423 ┆ null      ┆ businessm ┆ https://b │\n",
       "│          ┆         ┆            ┆ Y;EPU_ECON ┆   ┆ 72881356, ┆           ┆ irror.com ┆ usinessmi │\n",
       "│          ┆         ┆            ┆ OMY_HISTOR ┆   ┆ 2.2033898 ┆           ┆ .ph       ┆ rror.com. │\n",
       "│          ┆         ┆            ┆ …          ┆   ┆ 305…      ┆           ┆           ┆ ph/…      │\n",
       "│ 20240816 ┆ 1       ┆ null       ┆ null       ┆ … ┆ -1.217038 ┆ null      ┆ businessm ┆ https://b │\n",
       "│          ┆         ┆            ┆            ┆   ┆ 53955375, ┆           ┆ irror.com ┆ usinessmi │\n",
       "│          ┆         ┆            ┆            ┆   ┆ 4.5977011 ┆           ┆ .ph       ┆ rror.com. │\n",
       "│          ┆         ┆            ┆            ┆   ┆ 494…      ┆           ┆           ┆ ph/…      │\n",
       "│ …        ┆ …       ┆ …          ┆ …          ┆ … ┆ …         ┆ …         ┆ …         ┆ …         │\n",
       "│ 20240816 ┆ 1       ┆ null       ┆ EPU_ECONOM ┆ … ┆ -1.525423 ┆ null      ┆ businessm ┆ https://b │\n",
       "│          ┆         ┆            ┆ Y;EPU_ECON ┆   ┆ 72881356, ┆           ┆ irror.com ┆ usinessmi │\n",
       "│          ┆         ┆            ┆ OMY_HISTOR ┆   ┆ 2.2033898 ┆           ┆ .ph       ┆ rror.com. │\n",
       "│          ┆         ┆            ┆ …          ┆   ┆ 305…      ┆           ┆           ┆ ph/…      │\n",
       "│ 20240816 ┆ 1       ┆ WOUND#7##1 ┆ TAX_ETHNIC ┆ … ┆ -2.307692 ┆ 119305301 ┆ businessm ┆ https://b │\n",
       "│          ┆         ┆ #Thailand# ┆ ITY;TAX_ET ┆   ┆ 30769231, ┆ 3,1193053 ┆ irror.com ┆ usinessmi │\n",
       "│          ┆         ┆ TH#TH#15#1 ┆ HNICITY_AS ┆   ┆ 1.5384615 ┆ 014,11930 ┆ .ph       ┆ rror.com. │\n",
       "│          ┆         ┆ …          ┆ …          ┆   ┆ 384…      ┆ 534…      ┆           ┆ ph/…      │\n",
       "│ 20240816 ┆ 1       ┆ null       ┆ EPU_ECONOM ┆ … ┆ -1.525423 ┆ null      ┆ businessm ┆ https://b │\n",
       "│          ┆         ┆            ┆ Y;EPU_ECON ┆   ┆ 72881356, ┆           ┆ irror.com ┆ usinessmi │\n",
       "│          ┆         ┆            ┆ OMY_HISTOR ┆   ┆ 2.2033898 ┆           ┆ .ph       ┆ rror.com. │\n",
       "│          ┆         ┆            ┆ …          ┆   ┆ 305…      ┆           ┆           ┆ ph/…      │\n",
       "│ 20240816 ┆ 1       ┆ null       ┆ TOURISM;TA ┆ … ┆ 4.2105263 ┆ 119306918 ┆ businessm ┆ https://b │\n",
       "│          ┆         ┆            ┆ X_FNCACT;T ┆   ┆ 1578947,5 ┆ 5,1193070 ┆ irror.com ┆ usinessmi │\n",
       "│          ┆         ┆            ┆ AX_FNCACT_ ┆   ┆ .86466165 ┆ 501       ┆ .ph       ┆ rror.com. │\n",
       "│          ┆         ┆            ┆ …          ┆   ┆ 413…      ┆           ┆           ┆ ph/…      │\n",
       "│ 20240816 ┆ 1       ┆ null       ┆ EPU_ECONOM ┆ … ┆ -1.525423 ┆ null      ┆ businessm ┆ https://b │\n",
       "│          ┆         ┆            ┆ Y;EPU_ECON ┆   ┆ 72881356, ┆           ┆ irror.com ┆ usinessmi │\n",
       "│          ┆         ┆            ┆ OMY_HISTOR ┆   ┆ 2.2033898 ┆           ┆ .ph       ┆ rror.com. │\n",
       "│          ┆         ┆            ┆ …          ┆   ┆ 305…      ┆           ┆           ┆ ph/…      │\n",
       "└──────────┴─────────┴────────────┴────────────┴───┴───────────┴───────────┴───────────┴───────────┘"
      ]
     },
     "execution_count": 139,
     "metadata": {},
     "output_type": "execute_result"
    }
   ],
   "source": [
    "business_mirror_df= df.filter(pl.col(\"SOURCEURLS\").str.contains(\"businessmirror\"))\n",
    "business_mirror_df"
   ]
  },
  {
   "cell_type": "code",
   "execution_count": 144,
   "metadata": {},
   "outputs": [
    {
     "data": {
      "text/plain": [
       "'https://businessmirror.com.ph/2024/08/16/sm-foundation-msdc-boost-early-education-in-batangas-with-refurbished-day-care-centers/'"
      ]
     },
     "execution_count": 144,
     "metadata": {},
     "output_type": "execute_result"
    }
   ],
   "source": [
    "business_mirror_df[\"SOURCEURLS\"][0]"
   ]
  },
  {
   "cell_type": "code",
   "execution_count": 150,
   "metadata": {},
   "outputs": [],
   "source": [
    "def get_summary_bm(url):\n",
    "    try:\n",
    "        response = requests.get(url)\n",
    "        soup = BeautifulSoup(response.content, 'html.parser')\n",
    "        print(soup)\n",
    "        div_class = 'post-main'  \n",
    "        div_element = soup.find('div', class_=div_class)\n",
    "        return div_element.text if div_element else None\n",
    "    except Exception as e:\n",
    "        print(f\"An error occurred: {e}\")\n",
    "        return None"
   ]
  },
  {
   "cell_type": "code",
   "execution_count": 151,
   "metadata": {},
   "outputs": [
    {
     "name": "stderr",
     "output_type": "stream",
     "text": [
      "/tmp/ipykernel_5244/2996293294.py:1: MapWithoutReturnDtypeWarning: Calling `map_elements` without specifying `return_dtype` can lead to unpredictable results. Specify `return_dtype` to silence this warning.\n",
      "  text_business_mirror= business_mirror_df[\"SOURCEURLS\"].head(20).map_elements(get_summary_bm)\n"
     ]
    },
    {
     "name": "stdout",
     "output_type": "stream",
     "text": [
      "<html>\n",
      "<head><title>403 Forbidden</title></head>\n",
      "<body>\n",
      "<center><h1>403 Forbidden</h1></center>\n",
      "<hr/><center>nginx</center>\n",
      "</body>\n",
      "</html>\n",
      "\n",
      "<html>\n",
      "<head><title>403 Forbidden</title></head>\n",
      "<body>\n",
      "<center><h1>403 Forbidden</h1></center>\n",
      "<hr/><center>nginx</center>\n",
      "</body>\n",
      "</html>\n",
      "\n",
      "<html>\n",
      "<head><title>403 Forbidden</title></head>\n",
      "<body>\n",
      "<center><h1>403 Forbidden</h1></center>\n",
      "<hr/><center>nginx</center>\n",
      "</body>\n",
      "</html>\n",
      "\n",
      "<html>\n",
      "<head><title>403 Forbidden</title></head>\n",
      "<body>\n",
      "<center><h1>403 Forbidden</h1></center>\n",
      "<hr/><center>nginx</center>\n",
      "</body>\n",
      "</html>\n",
      "\n",
      "<html>\n",
      "<head><title>403 Forbidden</title></head>\n",
      "<body>\n",
      "<center><h1>403 Forbidden</h1></center>\n",
      "<hr/><center>nginx</center>\n",
      "</body>\n",
      "</html>\n",
      "\n",
      "<html>\n",
      "<head><title>403 Forbidden</title></head>\n",
      "<body>\n",
      "<center><h1>403 Forbidden</h1></center>\n",
      "<hr/><center>nginx</center>\n",
      "</body>\n",
      "</html>\n",
      "\n",
      "<html>\n",
      "<head><title>403 Forbidden</title></head>\n",
      "<body>\n",
      "<center><h1>403 Forbidden</h1></center>\n",
      "<hr/><center>nginx</center>\n",
      "</body>\n",
      "</html>\n",
      "\n",
      "<html>\n",
      "<head><title>403 Forbidden</title></head>\n",
      "<body>\n",
      "<center><h1>403 Forbidden</h1></center>\n",
      "<hr/><center>nginx</center>\n",
      "</body>\n",
      "</html>\n",
      "\n",
      "<html>\n",
      "<head><title>403 Forbidden</title></head>\n",
      "<body>\n",
      "<center><h1>403 Forbidden</h1></center>\n",
      "<hr/><center>nginx</center>\n",
      "</body>\n",
      "</html>\n",
      "\n",
      "<html>\n",
      "<head><title>403 Forbidden</title></head>\n",
      "<body>\n",
      "<center><h1>403 Forbidden</h1></center>\n",
      "<hr/><center>nginx</center>\n",
      "</body>\n",
      "</html>\n",
      "\n",
      "<html>\n",
      "<head><title>403 Forbidden</title></head>\n",
      "<body>\n",
      "<center><h1>403 Forbidden</h1></center>\n",
      "<hr/><center>nginx</center>\n",
      "</body>\n",
      "</html>\n",
      "\n",
      "<html>\n",
      "<head><title>403 Forbidden</title></head>\n",
      "<body>\n",
      "<center><h1>403 Forbidden</h1></center>\n",
      "<hr/><center>nginx</center>\n",
      "</body>\n",
      "</html>\n",
      "\n",
      "<html>\n",
      "<head><title>403 Forbidden</title></head>\n",
      "<body>\n",
      "<center><h1>403 Forbidden</h1></center>\n",
      "<hr/><center>nginx</center>\n",
      "</body>\n",
      "</html>\n",
      "\n",
      "<html>\n",
      "<head><title>403 Forbidden</title></head>\n",
      "<body>\n",
      "<center><h1>403 Forbidden</h1></center>\n",
      "<hr/><center>nginx</center>\n",
      "</body>\n",
      "</html>\n",
      "\n",
      "<html>\n",
      "<head><title>403 Forbidden</title></head>\n",
      "<body>\n",
      "<center><h1>403 Forbidden</h1></center>\n",
      "<hr/><center>nginx</center>\n",
      "</body>\n",
      "</html>\n",
      "\n",
      "<html>\n",
      "<head><title>403 Forbidden</title></head>\n",
      "<body>\n",
      "<center><h1>403 Forbidden</h1></center>\n",
      "<hr/><center>nginx</center>\n",
      "</body>\n",
      "</html>\n",
      "\n",
      "<html>\n",
      "<head><title>403 Forbidden</title></head>\n",
      "<body>\n",
      "<center><h1>403 Forbidden</h1></center>\n",
      "<hr/><center>nginx</center>\n",
      "</body>\n",
      "</html>\n",
      "\n",
      "<html>\n",
      "<head><title>403 Forbidden</title></head>\n",
      "<body>\n",
      "<center><h1>403 Forbidden</h1></center>\n",
      "<hr/><center>nginx</center>\n",
      "</body>\n",
      "</html>\n",
      "\n",
      "<html>\n",
      "<head><title>403 Forbidden</title></head>\n",
      "<body>\n",
      "<center><h1>403 Forbidden</h1></center>\n",
      "<hr/><center>nginx</center>\n",
      "</body>\n",
      "</html>\n",
      "\n",
      "<html>\n",
      "<head><title>403 Forbidden</title></head>\n",
      "<body>\n",
      "<center><h1>403 Forbidden</h1></center>\n",
      "<hr/><center>nginx</center>\n",
      "</body>\n",
      "</html>\n",
      "\n"
     ]
    }
   ],
   "source": [
    "text_business_mirror= business_mirror_df[\"SOURCEURLS\"].head(20).map_elements(get_summary_bm)"
   ]
  },
  {
   "cell_type": "code",
   "execution_count": 148,
   "metadata": {},
   "outputs": [
    {
     "data": {
      "text/html": [
       "<div><style>\n",
       ".dataframe > thead > tr,\n",
       ".dataframe > tbody > tr {\n",
       "  text-align: right;\n",
       "  white-space: pre-wrap;\n",
       "}\n",
       "</style>\n",
       "<small>shape: (20,)</small><table border=\"1\" class=\"dataframe\"><thead><tr><th>SOURCEURLS</th></tr><tr><td>str</td></tr></thead><tbody><tr><td>null</td></tr><tr><td>null</td></tr><tr><td>null</td></tr><tr><td>null</td></tr><tr><td>null</td></tr><tr><td>&hellip;</td></tr><tr><td>null</td></tr><tr><td>null</td></tr><tr><td>null</td></tr><tr><td>null</td></tr><tr><td>null</td></tr></tbody></table></div>"
      ],
      "text/plain": [
       "shape: (20,)\n",
       "Series: 'SOURCEURLS' [str]\n",
       "[\n",
       "\tnull\n",
       "\tnull\n",
       "\tnull\n",
       "\tnull\n",
       "\tnull\n",
       "\t…\n",
       "\tnull\n",
       "\tnull\n",
       "\tnull\n",
       "\tnull\n",
       "\tnull\n",
       "]"
      ]
     },
     "execution_count": 148,
     "metadata": {},
     "output_type": "execute_result"
    }
   ],
   "source": [
    "text_business_mirror"
   ]
  },
  {
   "cell_type": "code",
   "execution_count": 155,
   "metadata": {},
   "outputs": [
    {
     "data": {
      "text/html": [
       "<div><style>\n",
       ".dataframe > thead > tr,\n",
       ".dataframe > tbody > tr {\n",
       "  text-align: right;\n",
       "  white-space: pre-wrap;\n",
       "}\n",
       "</style>\n",
       "<small>shape: (166, 11)</small><table border=\"1\" class=\"dataframe\"><thead><tr><th>DATE</th><th>NUMARTS</th><th>COUNTS</th><th>THEMES</th><th>LOCATIONS</th><th>PERSONS</th><th>ORGANIZATIONS</th><th>TONE</th><th>CAMEOEVENTIDS</th><th>SOURCES</th><th>SOURCEURLS</th></tr><tr><td>i64</td><td>i64</td><td>str</td><td>str</td><td>str</td><td>str</td><td>str</td><td>str</td><td>str</td><td>str</td><td>str</td></tr></thead><tbody><tr><td>20240816</td><td>1</td><td>null</td><td>&quot;LEADER;TAX_FNCACT;TAX_FNCACT_P…</td><td>&quot;4#Istanbul, Istanbul, Turkey#T…</td><td>&quot;vik atal;maggie miller;najim m…</td><td>&quot;virginia chamber;group inc;oly…</td><td>&quot;8.26771653543307,8.66141732283…</td><td>null</td><td>&quot;menafn.com&quot;</td><td>&quot;https://menafn.com/1108560592/…</td></tr><tr><td>20240816</td><td>1</td><td>null</td><td>null</td><td>&quot;4#Rome, Lazio, Italy#IT#IT07#4…</td><td>&quot;rafer johnson;yang chuan-kwang…</td><td>&quot;united nations&quot;</td><td>&quot;3.55029585798817,5.62130177514…</td><td>null</td><td>&quot;menafn.com&quot;</td><td>&quot;https://menafn.com/1108560961/…</td></tr><tr><td>20240816</td><td>1</td><td>null</td><td>&quot;ECON_BITCOIN;LEADER;TAX_FNCACT…</td><td>&quot;1#United States#US#US#39.82817…</td><td>&quot;joe biden;tim walz;kamala harr…</td><td>&quot;exchange commission;democratic…</td><td>&quot;0.575373993095512,3.6823935558…</td><td>&quot;1192922517,1192919729,11929471…</td><td>&quot;menafn.com&quot;</td><td>&quot;https://menafn.com/1108559863/…</td></tr><tr><td>20240816</td><td>1</td><td>null</td><td>&quot;WB_135_TRANSPORT;WB_1803_TRANS…</td><td>&quot;1#Russia#RS#RS#60#100#RS;1#Kyr…</td><td>&quot;zara araz&quot;</td><td>&quot;georgia marabda-kartsakhi rail…</td><td>&quot;7.24191063174114,7.85824345146…</td><td>null</td><td>&quot;menafn.com&quot;</td><td>&quot;https://menafn.com/1108561303/…</td></tr><tr><td>20240816</td><td>1</td><td>&quot;KILL#73##1#Yemen#YM#YM#15.5#47…</td><td>&quot;TAX_FNCACT;TAX_FNCACT_LEADER;T…</td><td>&quot;1#United Kingdom#UK#UK#54#-4#U…</td><td>&quot;abdul-malik al-houthi&quot;</td><td>&quot;xinhua&quot;</td><td>&quot;-3.73831775700935,1.4018691588…</td><td>&quot;1192919099,1192919100,11929191…</td><td>&quot;menafn.com&quot;</td><td>&quot;https://menafn.com/1108561289/…</td></tr><tr><td>&hellip;</td><td>&hellip;</td><td>&hellip;</td><td>&hellip;</td><td>&hellip;</td><td>&hellip;</td><td>&hellip;</td><td>&hellip;</td><td>&hellip;</td><td>&hellip;</td><td>&hellip;</td></tr><tr><td>20240816</td><td>1</td><td>null</td><td>&quot;GENERAL_HEALTH;MEDICAL;WB_1331…</td><td>&quot;1#United States#US#US#39.82817…</td><td>null</td><td>&quot;ministry of commerce&quot;</td><td>&quot;0.245700245700246,1.4742014742…</td><td>&quot;1192964270,1192967611,11929645…</td><td>&quot;menafn.com&quot;</td><td>&quot;https://menafn.com/1108561367/…</td></tr><tr><td>20240816</td><td>1</td><td>null</td><td>&quot;GENERAL_HEALTH;MEDICAL;TAX_FNC…</td><td>&quot;4#Kolkata, West Bengal, India#…</td><td>&quot;amit malviya;sanjay roy&quot;</td><td>&quot;rg kar medical college;kolkata…</td><td>&quot;-15.5763239875389,0.3115264797…</td><td>&quot;1192925519,1192965861,11929659…</td><td>&quot;menafn.com&quot;</td><td>&quot;https://menafn.com/1108561335/…</td></tr><tr><td>20240816</td><td>1</td><td>null</td><td>null</td><td>&quot;1#India#IN#IN#20#77#IN;4#Paris…</td><td>&quot;sree bhai;harmanpreet singh;na…</td><td>&quot;olympics&quot;</td><td>&quot;2.09205020920502,3.55648535564…</td><td>null</td><td>&quot;menafn.com&quot;</td><td>&quot;https://menafn.com/1108561333/…</td></tr><tr><td>20240816</td><td>1</td><td>null</td><td>&quot;TAX_ETHNICITY;TAX_ETHNICITY_CH…</td><td>&quot;1#China#CH#CH#35#105#CH;1#Japa…</td><td>null</td><td>&quot;united nations;chinese academy…</td><td>&quot;-2.31481481481481,1.2962962962…</td><td>&quot;1192945111,1192945190,11929454…</td><td>&quot;menafn.com&quot;</td><td>&quot;https://menafn.com/1108558756/…</td></tr><tr><td>20240816</td><td>1</td><td>&quot;KILL#35##1#Spain#SP#SP#40#-4#S…</td><td>&quot;GENERAL_HEALTH;MEDICAL;UNGP_HE…</td><td>&quot;1#Italy#IT#IT#42.833333#12.833…</td><td>null</td><td>&quot;barcelona institute for global…</td><td>&quot;-2.94117647058824,2.9411764705…</td><td>null</td><td>&quot;menafn.com&quot;</td><td>&quot;https://menafn.com/1108561326/…</td></tr></tbody></table></div>"
      ],
      "text/plain": [
       "shape: (166, 11)\n",
       "┌──────────┬─────────┬────────────┬────────────┬───┬───────────┬───────────┬───────────┬───────────┐\n",
       "│ DATE     ┆ NUMARTS ┆ COUNTS     ┆ THEMES     ┆ … ┆ TONE      ┆ CAMEOEVEN ┆ SOURCES   ┆ SOURCEURL │\n",
       "│ ---      ┆ ---     ┆ ---        ┆ ---        ┆   ┆ ---       ┆ TIDS      ┆ ---       ┆ S         │\n",
       "│ i64      ┆ i64     ┆ str        ┆ str        ┆   ┆ str       ┆ ---       ┆ str       ┆ ---       │\n",
       "│          ┆         ┆            ┆            ┆   ┆           ┆ str       ┆           ┆ str       │\n",
       "╞══════════╪═════════╪════════════╪════════════╪═══╪═══════════╪═══════════╪═══════════╪═══════════╡\n",
       "│ 20240816 ┆ 1       ┆ null       ┆ LEADER;TAX ┆ … ┆ 8.2677165 ┆ null      ┆ menafn.co ┆ https://m │\n",
       "│          ┆         ┆            ┆ _FNCACT;TA ┆   ┆ 3543307,8 ┆           ┆ m         ┆ enafn.com │\n",
       "│          ┆         ┆            ┆ X_FNCACT_P ┆   ┆ .66141732 ┆           ┆           ┆ /11085605 │\n",
       "│          ┆         ┆            ┆ …          ┆   ┆ 283…      ┆           ┆           ┆ 92/…      │\n",
       "│ 20240816 ┆ 1       ┆ null       ┆ null       ┆ … ┆ 3.5502958 ┆ null      ┆ menafn.co ┆ https://m │\n",
       "│          ┆         ┆            ┆            ┆   ┆ 5798817,5 ┆           ┆ m         ┆ enafn.com │\n",
       "│          ┆         ┆            ┆            ┆   ┆ .62130177 ┆           ┆           ┆ /11085609 │\n",
       "│          ┆         ┆            ┆            ┆   ┆ 514…      ┆           ┆           ┆ 61/…      │\n",
       "│ 20240816 ┆ 1       ┆ null       ┆ ECON_BITCO ┆ … ┆ 0.5753739 ┆ 119292251 ┆ menafn.co ┆ https://m │\n",
       "│          ┆         ┆            ┆ IN;LEADER; ┆   ┆ 93095512, ┆ 7,1192919 ┆ m         ┆ enafn.com │\n",
       "│          ┆         ┆            ┆ TAX_FNCACT ┆   ┆ 3.6823935 ┆ 729,11929 ┆           ┆ /11085598 │\n",
       "│          ┆         ┆            ┆ …          ┆   ┆ 558…      ┆ 471…      ┆           ┆ 63/…      │\n",
       "│ 20240816 ┆ 1       ┆ null       ┆ WB_135_TRA ┆ … ┆ 7.2419106 ┆ null      ┆ menafn.co ┆ https://m │\n",
       "│          ┆         ┆            ┆ NSPORT;WB_ ┆   ┆ 3174114,7 ┆           ┆ m         ┆ enafn.com │\n",
       "│          ┆         ┆            ┆ 1803_TRANS ┆   ┆ .85824345 ┆           ┆           ┆ /11085613 │\n",
       "│          ┆         ┆            ┆ …          ┆   ┆ 146…      ┆           ┆           ┆ 03/…      │\n",
       "│ 20240816 ┆ 1       ┆ KILL#73##1 ┆ TAX_FNCACT ┆ … ┆ -3.738317 ┆ 119291909 ┆ menafn.co ┆ https://m │\n",
       "│          ┆         ┆ #Yemen#YM# ┆ ;TAX_FNCAC ┆   ┆ 75700935, ┆ 9,1192919 ┆ m         ┆ enafn.com │\n",
       "│          ┆         ┆ YM#15.5#47 ┆ T_LEADER;T ┆   ┆ 1.4018691 ┆ 100,11929 ┆           ┆ /11085612 │\n",
       "│          ┆         ┆ …          ┆ …          ┆   ┆ 588…      ┆ 191…      ┆           ┆ 89/…      │\n",
       "│ …        ┆ …       ┆ …          ┆ …          ┆ … ┆ …         ┆ …         ┆ …         ┆ …         │\n",
       "│ 20240816 ┆ 1       ┆ null       ┆ GENERAL_HE ┆ … ┆ 0.2457002 ┆ 119296427 ┆ menafn.co ┆ https://m │\n",
       "│          ┆         ┆            ┆ ALTH;MEDIC ┆   ┆ 45700246, ┆ 0,1192967 ┆ m         ┆ enafn.com │\n",
       "│          ┆         ┆            ┆ AL;WB_1331 ┆   ┆ 1.4742014 ┆ 611,11929 ┆           ┆ /11085613 │\n",
       "│          ┆         ┆            ┆ …          ┆   ┆ 742…      ┆ 645…      ┆           ┆ 67/…      │\n",
       "│ 20240816 ┆ 1       ┆ null       ┆ GENERAL_HE ┆ … ┆ -15.57632 ┆ 119292551 ┆ menafn.co ┆ https://m │\n",
       "│          ┆         ┆            ┆ ALTH;MEDIC ┆   ┆ 39875389, ┆ 9,1192965 ┆ m         ┆ enafn.com │\n",
       "│          ┆         ┆            ┆ AL;TAX_FNC ┆   ┆ 0.3115264 ┆ 861,11929 ┆           ┆ /11085613 │\n",
       "│          ┆         ┆            ┆ …          ┆   ┆ 797…      ┆ 659…      ┆           ┆ 35/…      │\n",
       "│ 20240816 ┆ 1       ┆ null       ┆ null       ┆ … ┆ 2.0920502 ┆ null      ┆ menafn.co ┆ https://m │\n",
       "│          ┆         ┆            ┆            ┆   ┆ 0920502,3 ┆           ┆ m         ┆ enafn.com │\n",
       "│          ┆         ┆            ┆            ┆   ┆ .55648535 ┆           ┆           ┆ /11085613 │\n",
       "│          ┆         ┆            ┆            ┆   ┆ 564…      ┆           ┆           ┆ 33/…      │\n",
       "│ 20240816 ┆ 1       ┆ null       ┆ TAX_ETHNIC ┆ … ┆ -2.314814 ┆ 119294511 ┆ menafn.co ┆ https://m │\n",
       "│          ┆         ┆            ┆ ITY;TAX_ET ┆   ┆ 81481481, ┆ 1,1192945 ┆ m         ┆ enafn.com │\n",
       "│          ┆         ┆            ┆ HNICITY_CH ┆   ┆ 1.2962962 ┆ 190,11929 ┆           ┆ /11085587 │\n",
       "│          ┆         ┆            ┆ …          ┆   ┆ 962…      ┆ 454…      ┆           ┆ 56/…      │\n",
       "│ 20240816 ┆ 1       ┆ KILL#35##1 ┆ GENERAL_HE ┆ … ┆ -2.941176 ┆ null      ┆ menafn.co ┆ https://m │\n",
       "│          ┆         ┆ #Spain#SP# ┆ ALTH;MEDIC ┆   ┆ 47058824, ┆           ┆ m         ┆ enafn.com │\n",
       "│          ┆         ┆ SP#40#-4#S ┆ AL;UNGP_HE ┆   ┆ 2.9411764 ┆           ┆           ┆ /11085613 │\n",
       "│          ┆         ┆ …          ┆ …          ┆   ┆ 705…      ┆           ┆           ┆ 26/…      │\n",
       "└──────────┴─────────┴────────────┴────────────┴───┴───────────┴───────────┴───────────┴───────────┘"
      ]
     },
     "execution_count": 155,
     "metadata": {},
     "output_type": "execute_result"
    }
   ],
   "source": [
    "menanf_df= df.filter(pl.col(\"SOURCEURLS\").str.contains(\"menafn\"))\n",
    "menanf_df"
   ]
  },
  {
   "cell_type": "code",
   "execution_count": 159,
   "metadata": {},
   "outputs": [
    {
     "name": "stderr",
     "output_type": "stream",
     "text": [
      "/tmp/ipykernel_5244/2281375417.py:1: MapWithoutReturnDtypeWarning: Calling `map_elements` without specifying `return_dtype` can lead to unpredictable results. Specify `return_dtype` to silence this warning.\n",
      "  text_menanf_df= menanf_df[\"SOURCEURLS\"].head(20).map_elements(multi_reader)\n"
     ]
    }
   ],
   "source": [
    "text_menanf_df= menanf_df[\"SOURCEURLS\"].head(20).map_elements(multi_reader)"
   ]
  },
  {
   "cell_type": "code",
   "execution_count": 158,
   "metadata": {},
   "outputs": [
    {
     "data": {
      "text/plain": [
       "'https://menafn.com/1108560592/PRA-Group-Leader-Wins-Silver-Stevie-Award-In-2024-International-Business-Awards'"
      ]
     },
     "execution_count": 158,
     "metadata": {},
     "output_type": "execute_result"
    }
   ],
   "source": [
    " menanf_df[\"SOURCEURLS\"][0]"
   ]
  },
  {
   "cell_type": "code",
   "execution_count": 161,
   "metadata": {},
   "outputs": [
    {
     "data": {
      "text/plain": [
       "'\\n\"I am humbled to receive this prestigious award and to be recognized among top business leaders worldwide. This truly is a great honor, not just for me, but also for my team, as our shared success is highlighted on the global stage,\" said Kersey.\\nKersey has more than twenty years of public affairs and government relations experience across various sectors. In her role at PRA Group, she leads public policy and communications efforts – internal and external global communications, branding, public and media relations, corporate philanthropy, community engagement and government relations. Kersey is a graduate of Virginia Tech and Old Dominion University. She serves on numerous executive and advisory boards, including the board of directors of Virginia FREE and the Virginia Chamber of Commerce.\\nThe International Business Awards are the world\\'s premier business awards program. All individuals and organizations worldwide – public and private, for-profit and non-profit, large and small – are eligible to submit nominations. The 2024 IBAs received entries from organizations in 62 nations and territories.\\nMore than 3,600 nominations from organizations of all sizes and in virtually every industry were submitted this year for consideration. Stevie Award winners were determined by the average scores of more than 300 executives worldwide who participated in the judging process in June and July.\\n\"Building a global brand of PRA is an extraordinary achievement which requires unique capabilities, imagination and a lot of knowledge and instinctive perception and communication skills,\" said one judge after reviewing Kersey\\'s nomination. \"Elizabeth Kersey seems to have influenced substantially all internal and external communication, and her work clearly leaves a mark in the history of the company.\"\\n\"The International Business Awards<br/>are highly competitive and it is wonderful to see Elizabeth\\'s work recognized among the very best, at the international level,\" said Vik Atal, president and chief executive officer (CEO) of PRA Group. \"I thank the judges for seeing what we at PRA Group get to see every day: that Elizabeth\\'s enduring commitment, public policy leadership and communications expertise are helping drive our company forward on these critically important fronts.\"\\nWinners will be celebrated during a gala banquet at the InterContinental Hotel in Istanbul, Türkiye on Oct. 11.\\n\"We\\'ve long considered The International Business Awards to be the \\'Olympics for the workplace,\\' and this year\\'s competition is the best-ever proof of that,\" said Stevie Awards President Maggie Miller. \"The winners have demonstrated that their organizations have set and achieved lofty goals. We congratulate them on their recognized achievements and look forward to celebrating them on stage in Istanbul on 11 October.\"\\nDetails about The International Business Awards and the lists of Stevie Award winners are available at  .\\n <b> About PRA Group<br/> </b> As a global leader in acquiring and collecting nonperforming loans, PRA Group, Inc. returns capital to banks and other creditors to help expand financial services for consumers in the Americas, Europe and Australia. With thousands of employees worldwide, PRA Group companies collaborate with customers to help them resolve their debt. For more information, please visit  .\\n <b> About the Stevie Awards<br/> </b> Stevie Awards are conferred in nine programs: the Asia-Pacific Stevie Awards, the German Stevie Awards, the Middle East &amp; North Africa Stevie Awards, The American Business Awards®, The International Business Awards®, the Stevie Awards for Women in Business, the Stevie Awards for Great Employers, the Stevie Awards for Sales &amp; Customer Service, and the Stevie Awards for Technology Excellence. Stevie Awards competitions receive more than 12,000 nominations each year from organizations in more than 70 nations. Honoring organizations of all types and sizes and the people behind them, the Stevies recognize outstanding performances in the workplace worldwide. Learn more about the Stevie Awards at  .\\n <b> News Media Contact:<br/> </b> Elizabeth Kersey<br/>Senior Vice President, Communications and Public Policy<br/>(757) 641-0558<br/>[email protected] \\n <b> Investor Contact: </b> <br/>Najim Mostamand, CFA<br/>Vice President, Investor Relations<br/>(757) 431-7913<br/>[email protected] \\nSOURCE PRA Group, Inc.\\nMENAFN15082024003732001241ID1108560592\\n\\n\"I am humbled to receive this prestigious award and to be recognized among top business leaders worldwide. This truly is a great honor, not just for me, but also for my team, as our shared success is highlighted on the global stage,\" said Kersey.\\n\"I am humbled to receive this prestigious award and to be recognized among top business leaders worldwide. This truly is a great honor, not just for me, but also for my team, as our shared success is highlighted on the global stage,\" said Kersey.\\nKersey has more than twenty years of public affairs and government relations experience across various sectors. In her role at PRA Group, she leads public policy and communications efforts – internal and external global communications, branding, public and media relations, corporate philanthropy, community engagement and government relations. Kersey is a graduate of Virginia Tech and Old Dominion University. She serves on numerous executive and advisory boards, including the board of directors of Virginia FREE and the Virginia Chamber of Commerce.\\nThe International Business Awards are the world\\'s premier business awards program. All individuals and organizations worldwide – public and private, for-profit and non-profit, large and small – are eligible to submit nominations. The 2024 IBAs received entries from organizations in 62 nations and territories.\\nMore than 3,600 nominations from organizations of all sizes and in virtually every industry were submitted this year for consideration. Stevie Award winners were determined by the average scores of more than 300 executives worldwide who participated in the judging process in June and July.\\n\"Building a global brand of PRA is an extraordinary achievement which requires unique capabilities, imagination and a lot of knowledge and instinctive perception and communication skills,\" said one judge after reviewing Kersey\\'s nomination. \"Elizabeth Kersey seems to have influenced substantially all internal and external communication, and her work clearly leaves a mark in the history of the company.\"\\n\"The International Business Awards<br/>are highly competitive and it is wonderful to see Elizabeth\\'s work recognized among the very best, at the international level,\" said Vik Atal, president and chief executive officer (CEO) of PRA Group. \"I thank the judges for seeing what we at PRA Group get to see every day: that Elizabeth\\'s enduring commitment, public policy leadership and communications expertise are helping drive our company forward on these critically important fronts.\"\\nWinners will be celebrated during a gala banquet at the InterContinental Hotel in Istanbul, Türkiye on Oct. 11.\\n\"We\\'ve long considered The International Business Awards to be the \\'Olympics for the workplace,\\' and this year\\'s competition is the best-ever proof of that,\" said Stevie Awards President Maggie Miller. \"The winners have demonstrated that their organizations have set and achieved lofty goals. We congratulate them on their recognized achievements and look forward to celebrating them on stage in Istanbul on 11 October.\"\\nDetails about The International Business Awards and the lists of Stevie Award winners are available at  .\\n <b> About PRA Group<br/> </b> As a global leader in acquiring and collecting nonperforming loans, PRA Group, Inc. returns capital to banks and other creditors to help expand financial services for consumers in the Americas, Europe and Australia. With thousands of employees worldwide, PRA Group companies collaborate with customers to help them resolve their debt. For more information, please visit  .\\n <b> About the Stevie Awards<br/> </b> Stevie Awards are conferred in nine programs: the Asia-Pacific Stevie Awards, the German Stevie Awards, the Middle East &amp; North Africa Stevie Awards, The American Business Awards®, The International Business Awards®, the Stevie Awards for Women in Business, the Stevie Awards for Great Employers, the Stevie Awards for Sales &amp; Customer Service, and the Stevie Awards for Technology Excellence. Stevie Awards competitions receive more than 12,000 nominations each year from organizations in more than 70 nations. Honoring organizations of all types and sizes and the people behind them, the Stevies recognize outstanding performances in the workplace worldwide. Learn more about the Stevie Awards at  .\\n <b> News Media Contact:<br/> </b> Elizabeth Kersey<br/>Senior Vice President, Communications and Public Policy<br/>(757) 641-0558<br/>[email protected] \\n <b> Investor Contact: </b> <br/>Najim Mostamand, CFA<br/>Vice President, Investor Relations<br/>(757) 431-7913<br/>[email protected] \\nSOURCE PRA Group, Inc.\\nMENAFN15082024003732001241ID1108560592\\nMENAFN15082024003732001241ID1108560592\\nTags\\nComments\\nCategory\\nDate\\n'"
      ]
     },
     "execution_count": 161,
     "metadata": {},
     "output_type": "execute_result"
    }
   ],
   "source": [
    "text_menanf_df[0]"
   ]
  },
  {
   "cell_type": "code",
   "execution_count": 162,
   "metadata": {},
   "outputs": [
    {
     "data": {
      "text/html": [
       "<div><style>\n",
       ".dataframe > thead > tr,\n",
       ".dataframe > tbody > tr {\n",
       "  text-align: right;\n",
       "  white-space: pre-wrap;\n",
       "}\n",
       "</style>\n",
       "<small>shape: (70, 11)</small><table border=\"1\" class=\"dataframe\"><thead><tr><th>DATE</th><th>NUMARTS</th><th>COUNTS</th><th>THEMES</th><th>LOCATIONS</th><th>PERSONS</th><th>ORGANIZATIONS</th><th>TONE</th><th>CAMEOEVENTIDS</th><th>SOURCES</th><th>SOURCEURLS</th></tr><tr><td>i64</td><td>i64</td><td>str</td><td>str</td><td>str</td><td>str</td><td>str</td><td>str</td><td>str</td><td>str</td><td>str</td></tr></thead><tbody><tr><td>20240816</td><td>1</td><td>null</td><td>&quot;ECON_STOCKMARKET;TAX_FNCACT;TA…</td><td>&quot;1#Mexico#MX#MX#23#-102#MX;3#Mi…</td><td>&quot;los angeles;inmobiliaria vesta&quot;</td><td>&quot;luxurban hotel;corphousing gro…</td><td>&quot;3.39256865912762,4.52342487883…</td><td>null</td><td>&quot;etfdailynews.com&quot;</td><td>&quot;https://www.etfdailynews.com/2…</td></tr><tr><td>20240816</td><td>1</td><td>null</td><td>&quot;ENV_MINING;ECON_STOCKMARKET;TA…</td><td>&quot;1#Mexico#MX#MX#23#-102#MX;1#Ca…</td><td>null</td><td>&quot;agnico eagle mines limited;zac…</td><td>&quot;2.62257696693273,2.73660205245…</td><td>null</td><td>&quot;etfdailynews.com&quot;</td><td>&quot;https://www.etfdailynews.com/2…</td></tr><tr><td>20240816</td><td>1</td><td>null</td><td>&quot;MANMADE_DISASTER_IMPLIED;EPU_E…</td><td>&quot;2#Louisiana, United States#US#…</td><td>&quot;robert w baird;zurcher kantona…</td><td>&quot;sumitomo mitsui trust holdings…</td><td>&quot;4.67005076142132,4.87309644670…</td><td>null</td><td>&quot;etfdailynews.com&quot;</td><td>&quot;https://www.etfdailynews.com/2…</td></tr><tr><td>20240816</td><td>1</td><td>null</td><td>&quot;TAX_ECON_PRICE;TAX_FNCACT;TAX_…</td><td>&quot;1#United States#US#US#39.82817…</td><td>&quot;raymond jame;raymond james;rog…</td><td>&quot;whitcomb hess inc;deuterium ca…</td><td>&quot;1.26728110599078,1.95852534562…</td><td>null</td><td>&quot;etfdailynews.com&quot;</td><td>&quot;https://www.etfdailynews.com/2…</td></tr><tr><td>20240816</td><td>1</td><td>null</td><td>&quot;TAX_ECON_PRICE;TAX_FNCACT;TAX_…</td><td>&quot;1#United States#US#US#39.82817…</td><td>&quot;robert w eddy;jeff desroches;r…</td><td>&quot;united states;kayne anderson r…</td><td>&quot;1.65700082850041,1.82270091135…</td><td>null</td><td>&quot;etfdailynews.com&quot;</td><td>&quot;https://www.etfdailynews.com/2…</td></tr><tr><td>&hellip;</td><td>&hellip;</td><td>&hellip;</td><td>&hellip;</td><td>&hellip;</td><td>&hellip;</td><td>&hellip;</td><td>&hellip;</td><td>&hellip;</td><td>&hellip;</td><td>&hellip;</td></tr><tr><td>20240816</td><td>1</td><td>null</td><td>&quot;TAX_ECON_PRICE;LEADER;TAX_FNCA…</td><td>&quot;1#United States#US#US#39.82817…</td><td>&quot;robert w baird;donald e bobo j…</td><td>&quot;barclays;goldman sachs group;s…</td><td>&quot;0.86848635235732,2.10918114143…</td><td>null</td><td>&quot;etfdailynews.com&quot;</td><td>&quot;https://www.etfdailynews.com/2…</td></tr><tr><td>20240816</td><td>1</td><td>null</td><td>&quot;ECON_STOCKMARKET;TAX_FNCACT;TA…</td><td>&quot;1#United States#US#US#39.82817…</td><td>null</td><td>&quot;origin materials company profi…</td><td>&quot;1.43312101910828,2.07006369426…</td><td>null</td><td>&quot;etfdailynews.com&quot;</td><td>&quot;https://www.etfdailynews.com/2…</td></tr><tr><td>20240816</td><td>1</td><td>null</td><td>&quot;TAX_FNCACT;TAX_FNCACT_ANALYST;…</td><td>&quot;1#Italy#IT#IT#42.833333#12.833…</td><td>null</td><td>&quot;john wood group;news ratings f…</td><td>&quot;3.65358592692828,4.73612990527…</td><td>&quot;1192965669,1192966321,11929663…</td><td>&quot;etfdailynews.com&quot;</td><td>&quot;https://www.etfdailynews.com/2…</td></tr><tr><td>20240816</td><td>1</td><td>null</td><td>&quot;WB_698_TRADE;TAX_FNCACT;TAX_FN…</td><td>&quot;1#United States#US#US#39.82817…</td><td>&quot;timothy patrick flynn;alice l …</td><td>&quot;royal bank;walmart inc;sam clu…</td><td>&quot;2.07650273224044,2.29508196721…</td><td>&quot;1192937938&quot;</td><td>&quot;etfdailynews.com&quot;</td><td>&quot;https://www.etfdailynews.com/2…</td></tr><tr><td>20240816</td><td>1</td><td>null</td><td>&quot;ECON_STOCKMARKET;ECON_HOUSING_…</td><td>&quot;4#Carnaby, East Riding Of York…</td><td>null</td><td>&quot;shopping centers;london stock …</td><td>&quot;4.51977401129943,4.89642184557…</td><td>null</td><td>&quot;etfdailynews.com&quot;</td><td>&quot;https://www.etfdailynews.com/2…</td></tr></tbody></table></div>"
      ],
      "text/plain": [
       "shape: (70, 11)\n",
       "┌──────────┬─────────┬────────┬────────────┬───┬────────────┬────────────┬────────────┬────────────┐\n",
       "│ DATE     ┆ NUMARTS ┆ COUNTS ┆ THEMES     ┆ … ┆ TONE       ┆ CAMEOEVENT ┆ SOURCES    ┆ SOURCEURLS │\n",
       "│ ---      ┆ ---     ┆ ---    ┆ ---        ┆   ┆ ---        ┆ IDS        ┆ ---        ┆ ---        │\n",
       "│ i64      ┆ i64     ┆ str    ┆ str        ┆   ┆ str        ┆ ---        ┆ str        ┆ str        │\n",
       "│          ┆         ┆        ┆            ┆   ┆            ┆ str        ┆            ┆            │\n",
       "╞══════════╪═════════╪════════╪════════════╪═══╪════════════╪════════════╪════════════╪════════════╡\n",
       "│ 20240816 ┆ 1       ┆ null   ┆ ECON_STOCK ┆ … ┆ 3.39256865 ┆ null       ┆ etfdailyne ┆ https://ww │\n",
       "│          ┆         ┆        ┆ MARKET;TAX ┆   ┆ 912762,4.5 ┆            ┆ ws.com     ┆ w.etfdaily │\n",
       "│          ┆         ┆        ┆ _FNCACT;TA ┆   ┆ 2342487883 ┆            ┆            ┆ news.com/2 │\n",
       "│          ┆         ┆        ┆ …          ┆   ┆ …          ┆            ┆            ┆ …          │\n",
       "│ 20240816 ┆ 1       ┆ null   ┆ ENV_MINING ┆ … ┆ 2.62257696 ┆ null       ┆ etfdailyne ┆ https://ww │\n",
       "│          ┆         ┆        ┆ ;ECON_STOC ┆   ┆ 693273,2.7 ┆            ┆ ws.com     ┆ w.etfdaily │\n",
       "│          ┆         ┆        ┆ KMARKET;TA ┆   ┆ 3660205245 ┆            ┆            ┆ news.com/2 │\n",
       "│          ┆         ┆        ┆ …          ┆   ┆ …          ┆            ┆            ┆ …          │\n",
       "│ 20240816 ┆ 1       ┆ null   ┆ MANMADE_DI ┆ … ┆ 4.67005076 ┆ null       ┆ etfdailyne ┆ https://ww │\n",
       "│          ┆         ┆        ┆ SASTER_IMP ┆   ┆ 142132,4.8 ┆            ┆ ws.com     ┆ w.etfdaily │\n",
       "│          ┆         ┆        ┆ LIED;EPU_E ┆   ┆ 7309644670 ┆            ┆            ┆ news.com/2 │\n",
       "│          ┆         ┆        ┆ …          ┆   ┆ …          ┆            ┆            ┆ …          │\n",
       "│ 20240816 ┆ 1       ┆ null   ┆ TAX_ECON_P ┆ … ┆ 1.26728110 ┆ null       ┆ etfdailyne ┆ https://ww │\n",
       "│          ┆         ┆        ┆ RICE;TAX_F ┆   ┆ 599078,1.9 ┆            ┆ ws.com     ┆ w.etfdaily │\n",
       "│          ┆         ┆        ┆ NCACT;TAX_ ┆   ┆ 5852534562 ┆            ┆            ┆ news.com/2 │\n",
       "│          ┆         ┆        ┆ …          ┆   ┆ …          ┆            ┆            ┆ …          │\n",
       "│ 20240816 ┆ 1       ┆ null   ┆ TAX_ECON_P ┆ … ┆ 1.65700082 ┆ null       ┆ etfdailyne ┆ https://ww │\n",
       "│          ┆         ┆        ┆ RICE;TAX_F ┆   ┆ 850041,1.8 ┆            ┆ ws.com     ┆ w.etfdaily │\n",
       "│          ┆         ┆        ┆ NCACT;TAX_ ┆   ┆ 2270091135 ┆            ┆            ┆ news.com/2 │\n",
       "│          ┆         ┆        ┆ …          ┆   ┆ …          ┆            ┆            ┆ …          │\n",
       "│ …        ┆ …       ┆ …      ┆ …          ┆ … ┆ …          ┆ …          ┆ …          ┆ …          │\n",
       "│ 20240816 ┆ 1       ┆ null   ┆ TAX_ECON_P ┆ … ┆ 0.86848635 ┆ null       ┆ etfdailyne ┆ https://ww │\n",
       "│          ┆         ┆        ┆ RICE;LEADE ┆   ┆ 235732,2.1 ┆            ┆ ws.com     ┆ w.etfdaily │\n",
       "│          ┆         ┆        ┆ R;TAX_FNCA ┆   ┆ 0918114143 ┆            ┆            ┆ news.com/2 │\n",
       "│          ┆         ┆        ┆ …          ┆   ┆ …          ┆            ┆            ┆ …          │\n",
       "│ 20240816 ┆ 1       ┆ null   ┆ ECON_STOCK ┆ … ┆ 1.43312101 ┆ null       ┆ etfdailyne ┆ https://ww │\n",
       "│          ┆         ┆        ┆ MARKET;TAX ┆   ┆ 910828,2.0 ┆            ┆ ws.com     ┆ w.etfdaily │\n",
       "│          ┆         ┆        ┆ _FNCACT;TA ┆   ┆ 7006369426 ┆            ┆            ┆ news.com/2 │\n",
       "│          ┆         ┆        ┆ …          ┆   ┆ …          ┆            ┆            ┆ …          │\n",
       "│ 20240816 ┆ 1       ┆ null   ┆ TAX_FNCACT ┆ … ┆ 3.65358592 ┆ 1192965669 ┆ etfdailyne ┆ https://ww │\n",
       "│          ┆         ┆        ┆ ;TAX_FNCAC ┆   ┆ 692828,4.7 ┆ ,119296632 ┆ ws.com     ┆ w.etfdaily │\n",
       "│          ┆         ┆        ┆ T_ANALYST; ┆   ┆ 3612990527 ┆ 1,11929663 ┆            ┆ news.com/2 │\n",
       "│          ┆         ┆        ┆ …          ┆   ┆ …          ┆ …          ┆            ┆ …          │\n",
       "│ 20240816 ┆ 1       ┆ null   ┆ WB_698_TRA ┆ … ┆ 2.07650273 ┆ 1192937938 ┆ etfdailyne ┆ https://ww │\n",
       "│          ┆         ┆        ┆ DE;TAX_FNC ┆   ┆ 224044,2.2 ┆            ┆ ws.com     ┆ w.etfdaily │\n",
       "│          ┆         ┆        ┆ ACT;TAX_FN ┆   ┆ 9508196721 ┆            ┆            ┆ news.com/2 │\n",
       "│          ┆         ┆        ┆ …          ┆   ┆ …          ┆            ┆            ┆ …          │\n",
       "│ 20240816 ┆ 1       ┆ null   ┆ ECON_STOCK ┆ … ┆ 4.51977401 ┆ null       ┆ etfdailyne ┆ https://ww │\n",
       "│          ┆         ┆        ┆ MARKET;ECO ┆   ┆ 129943,4.8 ┆            ┆ ws.com     ┆ w.etfdaily │\n",
       "│          ┆         ┆        ┆ N_HOUSING_ ┆   ┆ 9642184557 ┆            ┆            ┆ news.com/2 │\n",
       "│          ┆         ┆        ┆ …          ┆   ┆ …          ┆            ┆            ┆ …          │\n",
       "└──────────┴─────────┴────────┴────────────┴───┴────────────┴────────────┴────────────┴────────────┘"
      ]
     },
     "execution_count": 162,
     "metadata": {},
     "output_type": "execute_result"
    }
   ],
   "source": [
    "etf_daily_df= df.filter(pl.col(\"SOURCEURLS\").str.contains(\"etfdaily\"))\n",
    "etf_daily_df"
   ]
  },
  {
   "cell_type": "code",
   "execution_count": 171,
   "metadata": {},
   "outputs": [
    {
     "name": "stderr",
     "output_type": "stream",
     "text": [
      "/tmp/ipykernel_5244/194701670.py:1: MapWithoutReturnDtypeWarning: Calling `map_elements` without specifying `return_dtype` can lead to unpredictable results. Specify `return_dtype` to silence this warning.\n",
      "  text_etf_daily_df=etf_daily_df[\"SOURCEURLS\"].head(10).map_elements(multi_reader)\n"
     ]
    }
   ],
   "source": [
    "text_etf_daily_df=etf_daily_df[\"SOURCEURLS\"].head(10).map_elements(multi_reader)"
   ]
  },
  {
   "cell_type": "code",
   "execution_count": 173,
   "metadata": {},
   "outputs": [
    {
     "name": "stdout",
     "output_type": "stream",
     "text": [
      "Corporación Inmobiliaria Vesta (<a href=\"https://www.marketbeat.com/stocks/NYSE/VTMX/\">NYSE:VTMX</a> – <a href=\"https://www.marketbeat.com/arnreports/ReportTickerOptin.aspx?RegistrationCode=TickerHyperlink&amp;Prefix=NYSE&amp;Symbol=VTMX\" style=\"font-weight:normal;text-decoration:italic;color:green\">Get Free Report</a>) and LuxUrban Hotels (<a href=\"https://www.marketbeat.com/stocks/NASDAQ/LUXH/\">NASDAQ:LUXH</a> – <a href=\"https://www.marketbeat.com/arnreports/ReportTickerOptin.aspx?RegistrationCode=TickerHyperlink&amp;Prefix=NYSE&amp;Symbol=VTMX\" style=\"font-weight:normal;text-decoration:italic;color:green\">Get Free Report</a>) are both finance companies, but which is the superior stock? We will compare the two companies based on the strength of their dividends, risk, profitability, institutional ownership, earnings, analyst recommendations and valuation. \n",
      "This table compares Corporación Inmobiliaria Vesta and LuxUrban Hotels’ net margins, return on equity and return on assets.\n",
      "This table compares Corporación Inmobiliaria Vesta and LuxUrban Hotels’ top-line revenue, earnings per share and valuation.\n",
      "6.9% of Corporación Inmobiliaria Vesta shares are owned by institutional investors. Comparatively, 28.5% of LuxUrban Hotels shares are owned by institutional investors. 51.5% of LuxUrban Hotels shares are owned by company insiders. Strong institutional ownership is an indication that large money managers, hedge funds and endowments believe a company will outperform the market over the long term.\n",
      "This is a breakdown of current recommendations and price targets for Corporación Inmobiliaria Vesta and LuxUrban Hotels, as reported by MarketBeat. \n",
      "Corporación Inmobiliaria Vesta presently has a consensus price target of $40.00, suggesting a potential upside of 30.68%. LuxUrban Hotels has a consensus price target of $4.00, suggesting a potential upside of 5,371.96%. Given LuxUrban Hotels’ higher possible upside, analysts clearly believe LuxUrban Hotels is more favorable than Corporación Inmobiliaria Vesta.\n",
      "Corporación Inmobiliaria Vesta has a beta of 1.42, meaning that its stock price is 42% more volatile than the S&amp;P 500. Comparatively, LuxUrban Hotels has a beta of -1.37, meaning that its stock price is 237% less volatile than the S&amp;P 500. \n",
      "Corporación Inmobiliaria Vesta beats LuxUrban Hotels on 11 of the 14 factors compared between the two stocks.\n",
      " (<a href=\"https://www.marketbeat.com/arnreports/ReportTickerOptin.aspx?RegistrationCode=TickerHyperlink&amp;Prefix=NYSE&amp;Symbol=VTMX\" style=\"font-weight:normal;text-decoration:italic;color:green\">Get Free Report</a>)\n",
      " (<a href=\"https://www.marketbeat.com/arnreports/ReportTickerOptin.aspx?RegistrationCode=TickerHyperlink&amp;Prefix=NASDAQ&amp;Symbol=LUXH\" style=\"font-weight:normal;text-decoration:italic;color:green\">Get Free Report</a>)\n",
      "Brokerages Set OPENLANE, Inc. (NYSE:KAR) PT at $19.60\n",
      "Head to Head Comparison: Saul Centers (NYSE:BFS) &amp; Shaftesbury Capital (OTCMKTS:CCPPF)\n",
      "\n"
     ]
    }
   ],
   "source": [
    "print(text_etf_daily_df[0])"
   ]
  },
  {
   "cell_type": "code",
   "execution_count": 175,
   "metadata": {},
   "outputs": [
    {
     "data": {
      "text/html": [
       "<div><style>\n",
       ".dataframe > thead > tr,\n",
       ".dataframe > tbody > tr {\n",
       "  text-align: right;\n",
       "  white-space: pre-wrap;\n",
       "}\n",
       "</style>\n",
       "<small>shape: (666, 11)</small><table border=\"1\" class=\"dataframe\"><thead><tr><th>DATE</th><th>NUMARTS</th><th>COUNTS</th><th>THEMES</th><th>LOCATIONS</th><th>PERSONS</th><th>ORGANIZATIONS</th><th>TONE</th><th>CAMEOEVENTIDS</th><th>SOURCES</th><th>SOURCEURLS</th></tr><tr><td>i64</td><td>i64</td><td>str</td><td>str</td><td>str</td><td>str</td><td>str</td><td>str</td><td>str</td><td>str</td><td>str</td></tr></thead><tbody><tr><td>20240816</td><td>4</td><td>null</td><td>&quot;NATURAL_DISASTER;NATURAL_DISAS…</td><td>&quot;1#Puerto Rico#RQ#RQ#18.2359#-6…</td><td>&quot;alejandro granadillo&quot;</td><td>&quot;national hurricane centre in m…</td><td>&quot;-4.98442367601246,1.2461059190…</td><td>null</td><td>&quot;greenocktelegraph.co.uk;wharfe…</td><td>&quot;https://www.greenocktelegraph.…</td></tr><tr><td>20240816</td><td>1</td><td>null</td><td>&quot;LEADER;TAX_FNCACT;TAX_FNCACT_M…</td><td>&quot;4#Winsford, Somerset, United K…</td><td>&quot;cllr wayne fletcher&quot;</td><td>&quot;compass minerals;winsford town…</td><td>&quot;1.99004975124378,1.99004975124…</td><td>null</td><td>&quot;northwichguardian.co.uk&quot;</td><td>&quot;https://www.northwichguardian.…</td></tr><tr><td>20240816</td><td>1</td><td>null</td><td>&quot;GEN_HOLIDAY;TAX_FNCACT;TAX_FNC…</td><td>&quot;4#Morecambe Bay, Cumbria, Unit…</td><td>null</td><td>null</td><td>&quot;3.6036036036036,4.054054054054…</td><td>null</td><td>&quot;lancasterguardian.co.uk&quot;</td><td>&quot;https://www.lancasterguardian.…</td></tr><tr><td>20240816</td><td>1</td><td>null</td><td>&quot;TAX_FNCACT;TAX_FNCACT_AUTHOR;T…</td><td>&quot;1#Australia#AS#AS#-25#135#AS;4…</td><td>&quot;megan doherty;kelly canby;emma…</td><td>&quot;university of canberra emma ja…</td><td>&quot;3.52220520673813,5.28330781010…</td><td>null</td><td>&quot;mudgeeguardian.com.au&quot;</td><td>&quot;https://www.mudgeeguardian.com…</td></tr><tr><td>20240816</td><td>1</td><td>&quot;KILL#100##2#Rhode Island, Unit…</td><td>&quot;CRISISLEX_CRISISLEXREC;CRISISL…</td><td>&quot;2#Rhode Island, United States#…</td><td>&quot;jack russell jack russell;bret…</td><td>&quot;instagram;family fund&quot;</td><td>&quot;0.553505535055351,4.2435424354…</td><td>null</td><td>&quot;northwichguardian.co.uk&quot;</td><td>&quot;https://www.northwichguardian.…</td></tr><tr><td>&hellip;</td><td>&hellip;</td><td>&hellip;</td><td>&hellip;</td><td>&hellip;</td><td>&hellip;</td><td>&hellip;</td><td>&hellip;</td><td>&hellip;</td><td>&hellip;</td><td>&hellip;</td></tr><tr><td>20240816</td><td>1</td><td>null</td><td>&quot;SOC_GENERALCRIME;EPU_CATS_MIGR…</td><td>&quot;4#Llandeilo, Carmarthenshire, …</td><td>null</td><td>&quot;dyfed-powys police;facebook&quot;</td><td>&quot;-2.94117647058823,1.1764705882…</td><td>&quot;1192919590&quot;</td><td>&quot;southwalesguardian.co.uk&quot;</td><td>&quot;https://www.southwalesguardian…</td></tr><tr><td>20240816</td><td>1</td><td>null</td><td>&quot;TAX_FNCACT;TAX_FNCACT_WOMEN;MA…</td><td>&quot;4#Port-Of-Spain, Port-Of-Spain…</td><td>&quot;mary main&quot;</td><td>&quot;bank lim;st jude school&quot;</td><td>&quot;0.0679809653297078,0.951733514…</td><td>null</td><td>&quot;guardian.co.tt&quot;</td><td>&quot;https://www.guardian.co.tt/new…</td></tr><tr><td>20240816</td><td>1</td><td>null</td><td>&quot;TAX_FNCACT;TAX_FNCACT_GUARD;SO…</td><td>&quot;4#Hiroshima, Hiroshima, Japan#…</td><td>&quot;linden blue&quot;</td><td>&quot;atomics aeronautical systems i…</td><td>&quot;0.819672131147541,3.6885245901…</td><td>null</td><td>&quot;seapowermagazine.org&quot;</td><td>&quot;https://seapowermagazine.org/j…</td></tr><tr><td>20240816</td><td>2</td><td>null</td><td>&quot;PROTEST;EXTREMISM;TAX_FNCACT;T…</td><td>&quot;4#London, London, City Of, Uni…</td><td>&quot;rex william henry clark&quot;</td><td>&quot;westminster magistrate court&quot;</td><td>&quot;-9.4017094017094,0.42735042735…</td><td>&quot;1193035526,1193035527,11930362…</td><td>&quot;wiltshiretimes.co.uk;wimbledon…</td><td>&quot;https://www.wiltshiretimes.co.…</td></tr><tr><td>20240816</td><td>1</td><td>null</td><td>&quot;EPU_ECONOMY_HISTORIC;TAX_FNCAC…</td><td>&quot;4#Wilmslow, Borough Of Cheshir…</td><td>&quot;stockton heath&quot;</td><td>null</td><td>&quot;3,4,1,5,27,0&quot;</td><td>&quot;1192925777&quot;</td><td>&quot;warringtonguardian.co.uk&quot;</td><td>&quot;https://www.warringtonguardian…</td></tr></tbody></table></div>"
      ],
      "text/plain": [
       "shape: (666, 11)\n",
       "┌──────────┬─────────┬────────────┬────────────┬───┬───────────┬───────────┬───────────┬───────────┐\n",
       "│ DATE     ┆ NUMARTS ┆ COUNTS     ┆ THEMES     ┆ … ┆ TONE      ┆ CAMEOEVEN ┆ SOURCES   ┆ SOURCEURL │\n",
       "│ ---      ┆ ---     ┆ ---        ┆ ---        ┆   ┆ ---       ┆ TIDS      ┆ ---       ┆ S         │\n",
       "│ i64      ┆ i64     ┆ str        ┆ str        ┆   ┆ str       ┆ ---       ┆ str       ┆ ---       │\n",
       "│          ┆         ┆            ┆            ┆   ┆           ┆ str       ┆           ┆ str       │\n",
       "╞══════════╪═════════╪════════════╪════════════╪═══╪═══════════╪═══════════╪═══════════╪═══════════╡\n",
       "│ 20240816 ┆ 4       ┆ null       ┆ NATURAL_DI ┆ … ┆ -4.984423 ┆ null      ┆ greenockt ┆ https://w │\n",
       "│          ┆         ┆            ┆ SASTER;NAT ┆   ┆ 67601246, ┆           ┆ elegraph. ┆ ww.greeno │\n",
       "│          ┆         ┆            ┆ URAL_DISAS ┆   ┆ 1.2461059 ┆           ┆ co.uk;wha ┆ cktelegra │\n",
       "│          ┆         ┆            ┆ …          ┆   ┆ 190…      ┆           ┆ rfe…      ┆ ph.…      │\n",
       "│ 20240816 ┆ 1       ┆ null       ┆ LEADER;TAX ┆ … ┆ 1.9900497 ┆ null      ┆ northwich ┆ https://w │\n",
       "│          ┆         ┆            ┆ _FNCACT;TA ┆   ┆ 5124378,1 ┆           ┆ guardian. ┆ ww.northw │\n",
       "│          ┆         ┆            ┆ X_FNCACT_M ┆   ┆ .99004975 ┆           ┆ co.uk     ┆ ichguardi │\n",
       "│          ┆         ┆            ┆ …          ┆   ┆ 124…      ┆           ┆           ┆ an.…      │\n",
       "│ 20240816 ┆ 1       ┆ null       ┆ GEN_HOLIDA ┆ … ┆ 3.6036036 ┆ null      ┆ lancaster ┆ https://w │\n",
       "│          ┆         ┆            ┆ Y;TAX_FNCA ┆   ┆ 036036,4. ┆           ┆ guardian. ┆ ww.lancas │\n",
       "│          ┆         ┆            ┆ CT;TAX_FNC ┆   ┆ 054054054 ┆           ┆ co.uk     ┆ terguardi │\n",
       "│          ┆         ┆            ┆ …          ┆   ┆ 054…      ┆           ┆           ┆ an.…      │\n",
       "│ 20240816 ┆ 1       ┆ null       ┆ TAX_FNCACT ┆ … ┆ 3.5222052 ┆ null      ┆ mudgeegua ┆ https://w │\n",
       "│          ┆         ┆            ┆ ;TAX_FNCAC ┆   ┆ 0673813,5 ┆           ┆ rdian.com ┆ ww.mudgee │\n",
       "│          ┆         ┆            ┆ T_AUTHOR;T ┆   ┆ .28330781 ┆           ┆ .au       ┆ guardian. │\n",
       "│          ┆         ┆            ┆ …          ┆   ┆ 010…      ┆           ┆           ┆ com…      │\n",
       "│ 20240816 ┆ 1       ┆ KILL#100## ┆ CRISISLEX_ ┆ … ┆ 0.5535055 ┆ null      ┆ northwich ┆ https://w │\n",
       "│          ┆         ┆ 2#Rhode    ┆ CRISISLEXR ┆   ┆ 35055351, ┆           ┆ guardian. ┆ ww.northw │\n",
       "│          ┆         ┆ Island,    ┆ EC;CRISISL ┆   ┆ 4.2435424 ┆           ┆ co.uk     ┆ ichguardi │\n",
       "│          ┆         ┆ Unit…      ┆ …          ┆   ┆ 354…      ┆           ┆           ┆ an.…      │\n",
       "│ …        ┆ …       ┆ …          ┆ …          ┆ … ┆ …         ┆ …         ┆ …         ┆ …         │\n",
       "│ 20240816 ┆ 1       ┆ null       ┆ SOC_GENERA ┆ … ┆ -2.941176 ┆ 119291959 ┆ southwale ┆ https://w │\n",
       "│          ┆         ┆            ┆ LCRIME;EPU ┆   ┆ 47058823, ┆ 0         ┆ sguardian ┆ ww.southw │\n",
       "│          ┆         ┆            ┆ _CATS_MIGR ┆   ┆ 1.1764705 ┆           ┆ .co.uk    ┆ alesguard │\n",
       "│          ┆         ┆            ┆ …          ┆   ┆ 882…      ┆           ┆           ┆ ian…      │\n",
       "│ 20240816 ┆ 1       ┆ null       ┆ TAX_FNCACT ┆ … ┆ 0.0679809 ┆ null      ┆ guardian. ┆ https://w │\n",
       "│          ┆         ┆            ┆ ;TAX_FNCAC ┆   ┆ 653297078 ┆           ┆ co.tt     ┆ ww.guardi │\n",
       "│          ┆         ┆            ┆ T_WOMEN;MA ┆   ┆ ,0.951733 ┆           ┆           ┆ an.co.tt/ │\n",
       "│          ┆         ┆            ┆ …          ┆   ┆ 514…      ┆           ┆           ┆ new…      │\n",
       "│ 20240816 ┆ 1       ┆ null       ┆ TAX_FNCACT ┆ … ┆ 0.8196721 ┆ null      ┆ seapowerm ┆ https://s │\n",
       "│          ┆         ┆            ┆ ;TAX_FNCAC ┆   ┆ 31147541, ┆           ┆ agazine.o ┆ eapowerma │\n",
       "│          ┆         ┆            ┆ T_GUARD;SO ┆   ┆ 3.6885245 ┆           ┆ rg        ┆ gazine.or │\n",
       "│          ┆         ┆            ┆ …          ┆   ┆ 901…      ┆           ┆           ┆ g/j…      │\n",
       "│ 20240816 ┆ 2       ┆ null       ┆ PROTEST;EX ┆ … ┆ -9.401709 ┆ 119303552 ┆ wiltshire ┆ https://w │\n",
       "│          ┆         ┆            ┆ TREMISM;TA ┆   ┆ 4017094,0 ┆ 6,1193035 ┆ times.co. ┆ ww.wiltsh │\n",
       "│          ┆         ┆            ┆ X_FNCACT;T ┆   ┆ .42735042 ┆ 527,11930 ┆ uk;wimble ┆ iretimes. │\n",
       "│          ┆         ┆            ┆ …          ┆   ┆ 735…      ┆ 362…      ┆ don…      ┆ co.…      │\n",
       "│ 20240816 ┆ 1       ┆ null       ┆ EPU_ECONOM ┆ … ┆ 3,4,1,5,2 ┆ 119292577 ┆ warringto ┆ https://w │\n",
       "│          ┆         ┆            ┆ Y_HISTORIC ┆   ┆ 7,0       ┆ 7         ┆ nguardian ┆ ww.warrin │\n",
       "│          ┆         ┆            ┆ ;TAX_FNCAC ┆   ┆           ┆           ┆ .co.uk    ┆ gtonguard │\n",
       "│          ┆         ┆            ┆ …          ┆   ┆           ┆           ┆           ┆ ian…      │\n",
       "└──────────┴─────────┴────────────┴────────────┴───┴───────────┴───────────┴───────────┴───────────┘"
      ]
     },
     "execution_count": 175,
     "metadata": {},
     "output_type": "execute_result"
    }
   ],
   "source": [
    "guardian_df= df.filter(pl.col(\"SOURCEURLS\").str.contains(\"guardian\"))\n",
    "guardian_df"
   ]
  },
  {
   "cell_type": "code",
   "execution_count": null,
   "metadata": {},
   "outputs": [],
   "source": [
    "text_guardian_df=guardian_df[\"SOURCEURLS\"].head(10).map_elements(multi_reader)\n"
   ]
  },
  {
   "cell_type": "code",
   "execution_count": 178,
   "metadata": {},
   "outputs": [
    {
     "data": {
      "text/plain": [
       "'A hurricane warning was in effect for Bermuda with Ernesto expected to pass near or over the island Saturday.\\nThe storm was centred about 410 miles south-southwest of Bermuda late on Thursday with maximum sustained winds rising to 100 mph and the storm moving north-northeast at 14 miles per hour over open waters.\\n“I cannot stress enough how important it is for every resident to use this time to prepare. We have seen in the past the devastating effects of complacency,” said National Security Minister Michael Weeks.\\nErnesto was forecast to possibly reach Category 3 strength on Friday before weakening as it approaches Bermuda, where it was forecast to drop 15 to 30 centimetres of rain, with up to 38 centimetres in isolated areas.\\n“All of the guidance show this system as a large hurricane near Bermuda,” said the National Hurricane Centre in Miami.\\nErnesto is expected to pass near or east of Atlantic Canada on Monday.\\nOn Thursday, the storm was generating southern winds in Puerto Rico, which have a heating effect as opposed to the typical cooling trade winds that blow from the east.\\nMore than 290,000 people remained in the dark on Thursday evening after Ernesto swiped past Puerto Rico late on Tuesday as a tropical storm before strengthening into a hurricane. Up to 735,000 people were without power on Wednesday.\\nHundreds of thousands were also without water while the National Weather Service issued a heat advisory on Thursday warning of “dangerously hot and humid conditions.”\\nOfficials said they do not know when power will be fully restored as concerns grow about the health of many in Puerto Rico who cannot afford generators or solar panels on the island of 3.2 million people with a more than 40% poverty rate.\\nAs a subscriber, you are shown 80% less display advertising when reading our articles.\\nThose ads you do see are predominantly from local businesses promoting local services. \\nThese adverts enable local businesses to get in front of their target audience – the local community.\\n'"
      ]
     },
     "execution_count": 178,
     "metadata": {},
     "output_type": "execute_result"
    }
   ],
   "source": [
    "text_guardian_df[0]"
   ]
  },
  {
   "cell_type": "code",
   "execution_count": 3,
   "metadata": {},
   "outputs": [
    {
     "name": "stdout",
     "output_type": "stream",
     "text": [
      "Here is an example  in the text.\n"
     ]
    }
   ],
   "source": [
    "import re\n",
    "\n",
    "def remove_html_tags_and_content(text: str)->str:\n",
    "    \"\"\"\n",
    "    Remove HTML tags and their content from a given string.\n",
    "    \n",
    "    Args:\n",
    "    text (str): The input string containing HTML content.\n",
    "    \n",
    "    Returns:\n",
    "    str: The string with HTML tags and their content removed.\n",
    "    \"\"\"\n",
    "    pattern = re.compile(r'<[^>]*>.*?</[^>]*>', re.DOTALL)\n",
    "    clean_text = re.sub(pattern, '', text)\n",
    "    return clean_text\n",
    "\n",
    "input_string = 'Here is an example <a href=\"https://www.marketbeat.com/stocks/NASDAQ/EXC/\" rel=\"noopener\" target=\"_blank\">EXC stock</a> in the text.'\n",
    "cleaned_string = remove_html_tags_and_content(input_string)\n",
    "print(cleaned_string)\n",
    "\n"
   ]
  },
  {
   "cell_type": "code",
   "execution_count": null,
   "metadata": {},
   "outputs": [],
   "source": []
  }
 ],
 "metadata": {
  "kernelspec": {
   "display_name": "myenv",
   "language": "python",
   "name": "python3"
  },
  "language_info": {
   "codemirror_mode": {
    "name": "ipython",
    "version": 3
   },
   "file_extension": ".py",
   "mimetype": "text/x-python",
   "name": "python",
   "nbconvert_exporter": "python",
   "pygments_lexer": "ipython3",
   "version": "3.11.9"
  }
 },
 "nbformat": 4,
 "nbformat_minor": 2
}
